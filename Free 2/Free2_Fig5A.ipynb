{
  "nbformat": 4,
  "nbformat_minor": 0,
  "metadata": {
    "colab": {
      "name": "Free2_Fig5A.ipynb",
      "provenance": [],
      "collapsed_sections": [
        "c4gbp3feeIFB"
      ],
      "authorship_tag": "ABX9TyOiw5Uvm4+z73voF7ptzw7k",
      "include_colab_link": true
    },
    "kernelspec": {
      "name": "python3",
      "display_name": "Python 3"
    },
    "language_info": {
      "name": "python"
    }
  },
  "cells": [
    {
      "cell_type": "markdown",
      "metadata": {
        "id": "view-in-github",
        "colab_type": "text"
      },
      "source": [
        "<a href=\"https://colab.research.google.com/github/dong-gi-jang/binfo/blob/main/Free%202/Free2_Fig5A.ipynb\" target=\"_parent\"><img src=\"https://colab.research.google.com/assets/colab-badge.svg\" alt=\"Open In Colab\"/></a>"
      ]
    },
    {
      "cell_type": "markdown",
      "source": [
        "# Free 2\n",
        "## LIN28A is a suppressor of ER-associated translation in embryonic stem cells\n",
        "[위 논문](https://doi.org/10.1016/j.cell.2012.10.019)의 Fig.5A (GO enrichment analysis) 재현하기"
      ],
      "metadata": {
        "id": "JBOpusi9mQ3B"
      }
    },
    {
      "cell_type": "code",
      "execution_count": 1,
      "metadata": {
        "colab": {
          "base_uri": "https://localhost:8080/"
        },
        "id": "vFU2ssx2mMJJ",
        "outputId": "fef92963-772a-49ed-a4a7-91798a0689fa"
      },
      "outputs": [
        {
          "output_type": "stream",
          "name": "stdout",
          "text": [
            "Mounted at /content/drive\n"
          ]
        }
      ],
      "source": [
        "# Google Drive 마운트\n",
        "from google.colab import drive\n",
        "drive.mount('/content/drive')"
      ]
    },
    {
      "cell_type": "markdown",
      "source": [
        "## installation"
      ],
      "metadata": {
        "id": "8j31irwsVQfe"
      }
    },
    {
      "cell_type": "code",
      "source": [
        "!git clone https://github.com/hyeshik/colab-biolab.git\n",
        "!cd colab-biolab && bash tools/setup.sh\n",
        "exec(open('colab-biolab/tools/activate_conda.py').read())\n",
        "\n",
        "!conda install -y subread"
      ],
      "metadata": {
        "id": "w5GSfLFNnbEl"
      },
      "execution_count": null,
      "outputs": []
    },
    {
      "cell_type": "markdown",
      "source": [
        "## import dataset"
      ],
      "metadata": {
        "id": "ZkWtZqOsVTxd"
      }
    },
    {
      "cell_type": "markdown",
      "source": [
        "Subread featurecounts이용한 transcript별 read count 계산.\n",
        "\n",
        "multi-mapping도 고려해야 하는가?\n",
        " - ignore all : transcript level에서는 이건 안됨? complete exons would be ignored.[[1]](https://www.sciencedirect.com/science/article/pii/S2001037020303032)\n",
        "   - 그런데 기존 week1 read-counts.txt 파일은 gene level에서, 이렇게?\n",
        " - count once per alignment (-M)\n",
        " - equally split (-M --fraction)\n",
        "   - 그러나 truly expressed gene을 underestimate할 가능성"
      ],
      "metadata": {
        "id": "_llcrCkTr3x5"
      }
    },
    {
      "cell_type": "code",
      "source": [
        "%cd /content/drive/MyDrive/binfo1-datapack1/\n",
        "\n",
        "# run subread\n",
        "# to equally split,\n",
        "# !featureCounts -a gencode.gtf -o read-counts_es.txt -M --fraction *.bam \n",
        "\n",
        "# to ignore,\n",
        "# !featureCounts -a gencode.gtf -o read-counts.txt *.bam "
      ],
      "metadata": {
        "colab": {
          "base_uri": "https://localhost:8080/"
        },
        "id": "zT8j10yHrAkH",
        "outputId": "66af4fa9-b498-4d24-ba52-c2e50996ca69"
      },
      "execution_count": 2,
      "outputs": [
        {
          "output_type": "stream",
          "name": "stdout",
          "text": [
            "/content/drive/MyDrive/binfo1-datapack1\n"
          ]
        }
      ]
    },
    {
      "cell_type": "code",
      "source": [
        "# 우선 ignore 결과인 기존 week1 read-counts.txt 파일 가져와서 진행.\n",
        "import pandas as pd\n",
        "import numpy as np\n",
        "cnts = pd.read_csv('read-counts.txt', sep='\\t', comment='#', index_col=0)"
      ],
      "metadata": {
        "id": "nVKGI6jUs5qq"
      },
      "execution_count": 3,
      "outputs": []
    },
    {
      "cell_type": "markdown",
      "source": [
        "## read-counts matrix processing"
      ],
      "metadata": {
        "id": "xXV7hev-Dwi5"
      }
    },
    {
      "cell_type": "code",
      "source": [
        "# 각 컬럼의 sum (total assigned read count)으로 normalize?\n",
        "# 전체 bam파일 수준에서의 align reads 수로 normalize?\n",
        "\n",
        "# featurecounts 결과에서의 각 column의 total sum으로 normalize 시도\n",
        "cnts['log2_clip_enrichment'] = np.log2(   ( cnts['CLIP-35L33G.bam']/cnts['CLIP-35L33G.bam'].sum() )   /   ( cnts['RNA-control.bam']/cnts['RNA-control.bam'].sum() )   )\n",
        "cnts['log2_rden_change'] = np.log2(  \n",
        "    (   ( cnts['RPF-siLin28a.bam']/cnts['RPF-siLin28a.bam'].sum() ) / ( cnts['RNA-siLin28a.bam']/cnts['RNA-siLin28a.bam'].sum() )   )\n",
        "    /\n",
        "    (   ( cnts['RPF-siLuc.bam']/cnts['RPF-siLuc.bam'].sum() ) / ( cnts['RNA-siLuc.bam']/cnts['RNA-siLuc.bam'].sum() )   )   \n",
        "    )"
      ],
      "metadata": {
        "colab": {
          "base_uri": "https://localhost:8080/"
        },
        "id": "oxUueJb3kHPv",
        "outputId": "cadce0ad-625f-450b-899f-0e16a7ba6dbc"
      },
      "execution_count": 56,
      "outputs": [
        {
          "output_type": "stream",
          "name": "stderr",
          "text": [
            "/usr/local/lib/python3.7/dist-packages/pandas/core/arraylike.py:364: RuntimeWarning: divide by zero encountered in log2\n",
            "  result = getattr(ufunc, method)(*inputs, **kwargs)\n"
          ]
        }
      ]
    },
    {
      "cell_type": "code",
      "source": [
        "# Geneid(index) 마다 있는 점 뒤쪽 제거하여 우선은 gene level에서 보기\n",
        "import copy\n",
        "\n",
        "cnts_rmdot = copy.deepcopy(cnts)\n",
        "cnts_rmdot.index = cnts_rmdot.index.map(lambda p : p.split('.')[0])"
      ],
      "metadata": {
        "id": "ncIoLedEpTYc"
      },
      "execution_count": 64,
      "outputs": []
    },
    {
      "cell_type": "code",
      "source": [
        "# cutoff 정해, low abundant 제거하기\n",
        "# 논문 따라하려면 어떻게?\n",
        "# exclude transcripts with low ribosome occupancy(<80 raw reads in siLuc) 즉, RPF-siLuc >80\n",
        "rna_cutoff = 30\n",
        "ribo_cutoff = 80\n",
        "\n",
        "ribobool = cnts_rmdot['RPF-siLuc.bam'] > ribo_cutoff\n",
        "rnabool = cnts_rmdot['RNA-siLuc.bam'] > rna_cutoff\n",
        "lin28abool = cnts_rmdot['RNA-siLin28a.bam'] > rna_cutoff\n",
        "\n",
        "# clipbool = cnts_rmdot['RNA-control.bam'] > rna_cutoff\n",
        "\n",
        "cnts_cutoff = cnts_rmdot[ribobool & rnabool & lin28abool]"
      ],
      "metadata": {
        "id": "v8gO0t9NpWLh"
      },
      "execution_count": 60,
      "outputs": []
    },
    {
      "cell_type": "code",
      "source": [
        "# log2 처리 시 nan값, -inf값 포함 여부 확인\n",
        "print('nan # : ',len(cnts_cutoff[cnts_cutoff['log2_clip_enrichment'].isnull() | cnts_cutoff['log2_rden_change'].isnull()]))\n",
        "print('-inf # : ', len(cnts_cutoff[(cnts_cutoff['log2_clip_enrichment']==-np.inf) | (cnts_cutoff['log2_rden_change']==-np.inf) ]))"
      ],
      "metadata": {
        "colab": {
          "base_uri": "https://localhost:8080/"
        },
        "id": "NceqlnVrC8W2",
        "outputId": "151e293b-f4fe-402f-b171-9766a796f9f3"
      },
      "execution_count": 61,
      "outputs": [
        {
          "output_type": "stream",
          "name": "stdout",
          "text": [
            "nan # :  0\n",
            "-inf # :  4\n"
          ]
        }
      ]
    },
    {
      "cell_type": "code",
      "source": [
        "# -inf값 4개 있어서, 제거된 df 이용\n",
        "cnts_noinf = cnts_cutoff[cnts_cutoff['log2_clip_enrichment']!=-np.inf]"
      ],
      "metadata": {
        "id": "o9pQN-MdC8S_"
      },
      "execution_count": 62,
      "outputs": []
    },
    {
      "cell_type": "code",
      "source": [
        "# matrix에 포함된 gene 목록 추출\n",
        "raw_genelist= cnts_noinf.index.tolist()\n",
        "# 중복된 gene 여부 확인\n",
        "print(len(raw_genelist),len(set(raw_genelist)))"
      ],
      "metadata": {
        "colab": {
          "base_uri": "https://localhost:8080/"
        },
        "id": "BymCczpID2Ky",
        "outputId": "b161915d-2c84-4986-ecee-001e30faece9"
      },
      "execution_count": 65,
      "outputs": [
        {
          "output_type": "stream",
          "name": "stdout",
          "text": [
            "8070 8070\n"
          ]
        }
      ]
    },
    {
      "cell_type": "markdown",
      "source": [
        "## Identifier mapping"
      ],
      "metadata": {
        "id": "8hyDsOGyXc7I"
      }
    },
    {
      "cell_type": "code",
      "source": [
        "# EnsEMBL Gene ID를 gene symbol, uniprot accession으로 mapping 위해,\n",
        "!pip install gseapy"
      ],
      "metadata": {
        "id": "1QrL58yNstPO"
      },
      "execution_count": null,
      "outputs": []
    },
    {
      "cell_type": "code",
      "source": [
        "import gseapy as gp\n",
        "bm = gp.parser.Biomart()"
      ],
      "metadata": {
        "id": "Cnu1axiz5e2Z",
        "colab": {
          "base_uri": "https://localhost:8080/"
        },
        "outputId": "3008c8a7-e860-478b-c13d-0d7d3bf9c161"
      },
      "execution_count": 11,
      "outputs": [
        {
          "output_type": "stream",
          "name": "stdout",
          "text": [
            "Creating directory /root/.config/bioservices \n",
            "Creating directory /root/.cache/bioservices \n",
            "Welcome to Bioservices\n",
            "======================\n",
            "It looks like you do not have a configuration file.\n",
            "We are creating one with default values in /root/.config/bioservices/bioservices.cfg .\n",
            "Done\n"
          ]
        }
      ]
    },
    {
      "cell_type": "code",
      "source": [
        "# M.musculus dataset에 대해서 가져올 수 있는 attributes 목록 확인해보기\n",
        "attributetable = bm.get_attributes('mmusculus_gene_ensembl')\n",
        "attributetable"
      ],
      "metadata": {
        "id": "q6Kb34nvCLLN",
        "colab": {
          "base_uri": "https://localhost:8080/",
          "height": 423
        },
        "outputId": "a198c44a-6dfc-406d-b36b-523af747c846"
      },
      "execution_count": 14,
      "outputs": [
        {
          "output_type": "execute_result",
          "data": {
            "text/plain": [
              "                          Attribute                   Description\n",
              "0                   ensembl_gene_id                Gene stable ID\n",
              "1           ensembl_gene_id_version        Gene stable ID version\n",
              "2             ensembl_transcript_id          Transcript stable ID\n",
              "3     ensembl_transcript_id_version  Transcript stable ID version\n",
              "4                ensembl_peptide_id             Protein stable ID\n",
              "...                             ...                           ...\n",
              "2875                           cdna                cDNA sequences\n",
              "2876                         coding               Coding sequence\n",
              "2877                        peptide                       Peptide\n",
              "2878                 upstream_flank                upstream_flank\n",
              "2879               downstream_flank              downstream_flank\n",
              "\n",
              "[2880 rows x 2 columns]"
            ],
            "text/html": [
              "\n",
              "  <div id=\"df-a0357db5-d283-440e-97a6-b22cd26ba885\">\n",
              "    <div class=\"colab-df-container\">\n",
              "      <div>\n",
              "<style scoped>\n",
              "    .dataframe tbody tr th:only-of-type {\n",
              "        vertical-align: middle;\n",
              "    }\n",
              "\n",
              "    .dataframe tbody tr th {\n",
              "        vertical-align: top;\n",
              "    }\n",
              "\n",
              "    .dataframe thead th {\n",
              "        text-align: right;\n",
              "    }\n",
              "</style>\n",
              "<table border=\"1\" class=\"dataframe\">\n",
              "  <thead>\n",
              "    <tr style=\"text-align: right;\">\n",
              "      <th></th>\n",
              "      <th>Attribute</th>\n",
              "      <th>Description</th>\n",
              "    </tr>\n",
              "  </thead>\n",
              "  <tbody>\n",
              "    <tr>\n",
              "      <th>0</th>\n",
              "      <td>ensembl_gene_id</td>\n",
              "      <td>Gene stable ID</td>\n",
              "    </tr>\n",
              "    <tr>\n",
              "      <th>1</th>\n",
              "      <td>ensembl_gene_id_version</td>\n",
              "      <td>Gene stable ID version</td>\n",
              "    </tr>\n",
              "    <tr>\n",
              "      <th>2</th>\n",
              "      <td>ensembl_transcript_id</td>\n",
              "      <td>Transcript stable ID</td>\n",
              "    </tr>\n",
              "    <tr>\n",
              "      <th>3</th>\n",
              "      <td>ensembl_transcript_id_version</td>\n",
              "      <td>Transcript stable ID version</td>\n",
              "    </tr>\n",
              "    <tr>\n",
              "      <th>4</th>\n",
              "      <td>ensembl_peptide_id</td>\n",
              "      <td>Protein stable ID</td>\n",
              "    </tr>\n",
              "    <tr>\n",
              "      <th>...</th>\n",
              "      <td>...</td>\n",
              "      <td>...</td>\n",
              "    </tr>\n",
              "    <tr>\n",
              "      <th>2875</th>\n",
              "      <td>cdna</td>\n",
              "      <td>cDNA sequences</td>\n",
              "    </tr>\n",
              "    <tr>\n",
              "      <th>2876</th>\n",
              "      <td>coding</td>\n",
              "      <td>Coding sequence</td>\n",
              "    </tr>\n",
              "    <tr>\n",
              "      <th>2877</th>\n",
              "      <td>peptide</td>\n",
              "      <td>Peptide</td>\n",
              "    </tr>\n",
              "    <tr>\n",
              "      <th>2878</th>\n",
              "      <td>upstream_flank</td>\n",
              "      <td>upstream_flank</td>\n",
              "    </tr>\n",
              "    <tr>\n",
              "      <th>2879</th>\n",
              "      <td>downstream_flank</td>\n",
              "      <td>downstream_flank</td>\n",
              "    </tr>\n",
              "  </tbody>\n",
              "</table>\n",
              "<p>2880 rows × 2 columns</p>\n",
              "</div>\n",
              "      <button class=\"colab-df-convert\" onclick=\"convertToInteractive('df-a0357db5-d283-440e-97a6-b22cd26ba885')\"\n",
              "              title=\"Convert this dataframe to an interactive table.\"\n",
              "              style=\"display:none;\">\n",
              "        \n",
              "  <svg xmlns=\"http://www.w3.org/2000/svg\" height=\"24px\"viewBox=\"0 0 24 24\"\n",
              "       width=\"24px\">\n",
              "    <path d=\"M0 0h24v24H0V0z\" fill=\"none\"/>\n",
              "    <path d=\"M18.56 5.44l.94 2.06.94-2.06 2.06-.94-2.06-.94-.94-2.06-.94 2.06-2.06.94zm-11 1L8.5 8.5l.94-2.06 2.06-.94-2.06-.94L8.5 2.5l-.94 2.06-2.06.94zm10 10l.94 2.06.94-2.06 2.06-.94-2.06-.94-.94-2.06-.94 2.06-2.06.94z\"/><path d=\"M17.41 7.96l-1.37-1.37c-.4-.4-.92-.59-1.43-.59-.52 0-1.04.2-1.43.59L10.3 9.45l-7.72 7.72c-.78.78-.78 2.05 0 2.83L4 21.41c.39.39.9.59 1.41.59.51 0 1.02-.2 1.41-.59l7.78-7.78 2.81-2.81c.8-.78.8-2.07 0-2.86zM5.41 20L4 18.59l7.72-7.72 1.47 1.35L5.41 20z\"/>\n",
              "  </svg>\n",
              "      </button>\n",
              "      \n",
              "  <style>\n",
              "    .colab-df-container {\n",
              "      display:flex;\n",
              "      flex-wrap:wrap;\n",
              "      gap: 12px;\n",
              "    }\n",
              "\n",
              "    .colab-df-convert {\n",
              "      background-color: #E8F0FE;\n",
              "      border: none;\n",
              "      border-radius: 50%;\n",
              "      cursor: pointer;\n",
              "      display: none;\n",
              "      fill: #1967D2;\n",
              "      height: 32px;\n",
              "      padding: 0 0 0 0;\n",
              "      width: 32px;\n",
              "    }\n",
              "\n",
              "    .colab-df-convert:hover {\n",
              "      background-color: #E2EBFA;\n",
              "      box-shadow: 0px 1px 2px rgba(60, 64, 67, 0.3), 0px 1px 3px 1px rgba(60, 64, 67, 0.15);\n",
              "      fill: #174EA6;\n",
              "    }\n",
              "\n",
              "    [theme=dark] .colab-df-convert {\n",
              "      background-color: #3B4455;\n",
              "      fill: #D2E3FC;\n",
              "    }\n",
              "\n",
              "    [theme=dark] .colab-df-convert:hover {\n",
              "      background-color: #434B5C;\n",
              "      box-shadow: 0px 1px 3px 1px rgba(0, 0, 0, 0.15);\n",
              "      filter: drop-shadow(0px 1px 2px rgba(0, 0, 0, 0.3));\n",
              "      fill: #FFFFFF;\n",
              "    }\n",
              "  </style>\n",
              "\n",
              "      <script>\n",
              "        const buttonEl =\n",
              "          document.querySelector('#df-a0357db5-d283-440e-97a6-b22cd26ba885 button.colab-df-convert');\n",
              "        buttonEl.style.display =\n",
              "          google.colab.kernel.accessAllowed ? 'block' : 'none';\n",
              "\n",
              "        async function convertToInteractive(key) {\n",
              "          const element = document.querySelector('#df-a0357db5-d283-440e-97a6-b22cd26ba885');\n",
              "          const dataTable =\n",
              "            await google.colab.kernel.invokeFunction('convertToInteractive',\n",
              "                                                     [key], {});\n",
              "          if (!dataTable) return;\n",
              "\n",
              "          const docLinkHtml = 'Like what you see? Visit the ' +\n",
              "            '<a target=\"_blank\" href=https://colab.research.google.com/notebooks/data_table.ipynb>data table notebook</a>'\n",
              "            + ' to learn more about interactive tables.';\n",
              "          element.innerHTML = '';\n",
              "          dataTable['output_type'] = 'display_data';\n",
              "          await google.colab.output.renderOutput(dataTable, element);\n",
              "          const docLink = document.createElement('div');\n",
              "          docLink.innerHTML = docLinkHtml;\n",
              "          element.appendChild(docLink);\n",
              "        }\n",
              "      </script>\n",
              "    </div>\n",
              "  </div>\n",
              "  "
            ]
          },
          "metadata": {},
          "execution_count": 14
        }
      ]
    },
    {
      "cell_type": "code",
      "source": [
        "# GO term 관련 attribute 확인\n",
        "attributetable[attributetable['Description'].str.contains('GO')]"
      ],
      "metadata": {
        "colab": {
          "base_uri": "https://localhost:8080/",
          "height": 269
        },
        "id": "sLaDaTZ0EuB3",
        "outputId": "cfae7217-7574-4b96-bfd1-c5fe7aaeb504"
      },
      "execution_count": 15,
      "outputs": [
        {
          "output_type": "execute_result",
          "data": {
            "text/plain": [
              "                 Attribute              Description\n",
              "41                   go_id        GO term accession\n",
              "42               name_1006             GO term name\n",
              "43         definition_1006       GO term definition\n",
              "44         go_linkage_type    GO term evidence code\n",
              "45          namespace_1003                GO domain\n",
              "46    goslim_goa_accession  GOSlim GOA Accession(s)\n",
              "47  goslim_goa_description   GOSlim GOA Description"
            ],
            "text/html": [
              "\n",
              "  <div id=\"df-a38d3a8f-9f34-4514-b425-5f2aa19e8783\">\n",
              "    <div class=\"colab-df-container\">\n",
              "      <div>\n",
              "<style scoped>\n",
              "    .dataframe tbody tr th:only-of-type {\n",
              "        vertical-align: middle;\n",
              "    }\n",
              "\n",
              "    .dataframe tbody tr th {\n",
              "        vertical-align: top;\n",
              "    }\n",
              "\n",
              "    .dataframe thead th {\n",
              "        text-align: right;\n",
              "    }\n",
              "</style>\n",
              "<table border=\"1\" class=\"dataframe\">\n",
              "  <thead>\n",
              "    <tr style=\"text-align: right;\">\n",
              "      <th></th>\n",
              "      <th>Attribute</th>\n",
              "      <th>Description</th>\n",
              "    </tr>\n",
              "  </thead>\n",
              "  <tbody>\n",
              "    <tr>\n",
              "      <th>41</th>\n",
              "      <td>go_id</td>\n",
              "      <td>GO term accession</td>\n",
              "    </tr>\n",
              "    <tr>\n",
              "      <th>42</th>\n",
              "      <td>name_1006</td>\n",
              "      <td>GO term name</td>\n",
              "    </tr>\n",
              "    <tr>\n",
              "      <th>43</th>\n",
              "      <td>definition_1006</td>\n",
              "      <td>GO term definition</td>\n",
              "    </tr>\n",
              "    <tr>\n",
              "      <th>44</th>\n",
              "      <td>go_linkage_type</td>\n",
              "      <td>GO term evidence code</td>\n",
              "    </tr>\n",
              "    <tr>\n",
              "      <th>45</th>\n",
              "      <td>namespace_1003</td>\n",
              "      <td>GO domain</td>\n",
              "    </tr>\n",
              "    <tr>\n",
              "      <th>46</th>\n",
              "      <td>goslim_goa_accession</td>\n",
              "      <td>GOSlim GOA Accession(s)</td>\n",
              "    </tr>\n",
              "    <tr>\n",
              "      <th>47</th>\n",
              "      <td>goslim_goa_description</td>\n",
              "      <td>GOSlim GOA Description</td>\n",
              "    </tr>\n",
              "  </tbody>\n",
              "</table>\n",
              "</div>\n",
              "      <button class=\"colab-df-convert\" onclick=\"convertToInteractive('df-a38d3a8f-9f34-4514-b425-5f2aa19e8783')\"\n",
              "              title=\"Convert this dataframe to an interactive table.\"\n",
              "              style=\"display:none;\">\n",
              "        \n",
              "  <svg xmlns=\"http://www.w3.org/2000/svg\" height=\"24px\"viewBox=\"0 0 24 24\"\n",
              "       width=\"24px\">\n",
              "    <path d=\"M0 0h24v24H0V0z\" fill=\"none\"/>\n",
              "    <path d=\"M18.56 5.44l.94 2.06.94-2.06 2.06-.94-2.06-.94-.94-2.06-.94 2.06-2.06.94zm-11 1L8.5 8.5l.94-2.06 2.06-.94-2.06-.94L8.5 2.5l-.94 2.06-2.06.94zm10 10l.94 2.06.94-2.06 2.06-.94-2.06-.94-.94-2.06-.94 2.06-2.06.94z\"/><path d=\"M17.41 7.96l-1.37-1.37c-.4-.4-.92-.59-1.43-.59-.52 0-1.04.2-1.43.59L10.3 9.45l-7.72 7.72c-.78.78-.78 2.05 0 2.83L4 21.41c.39.39.9.59 1.41.59.51 0 1.02-.2 1.41-.59l7.78-7.78 2.81-2.81c.8-.78.8-2.07 0-2.86zM5.41 20L4 18.59l7.72-7.72 1.47 1.35L5.41 20z\"/>\n",
              "  </svg>\n",
              "      </button>\n",
              "      \n",
              "  <style>\n",
              "    .colab-df-container {\n",
              "      display:flex;\n",
              "      flex-wrap:wrap;\n",
              "      gap: 12px;\n",
              "    }\n",
              "\n",
              "    .colab-df-convert {\n",
              "      background-color: #E8F0FE;\n",
              "      border: none;\n",
              "      border-radius: 50%;\n",
              "      cursor: pointer;\n",
              "      display: none;\n",
              "      fill: #1967D2;\n",
              "      height: 32px;\n",
              "      padding: 0 0 0 0;\n",
              "      width: 32px;\n",
              "    }\n",
              "\n",
              "    .colab-df-convert:hover {\n",
              "      background-color: #E2EBFA;\n",
              "      box-shadow: 0px 1px 2px rgba(60, 64, 67, 0.3), 0px 1px 3px 1px rgba(60, 64, 67, 0.15);\n",
              "      fill: #174EA6;\n",
              "    }\n",
              "\n",
              "    [theme=dark] .colab-df-convert {\n",
              "      background-color: #3B4455;\n",
              "      fill: #D2E3FC;\n",
              "    }\n",
              "\n",
              "    [theme=dark] .colab-df-convert:hover {\n",
              "      background-color: #434B5C;\n",
              "      box-shadow: 0px 1px 3px 1px rgba(0, 0, 0, 0.15);\n",
              "      filter: drop-shadow(0px 1px 2px rgba(0, 0, 0, 0.3));\n",
              "      fill: #FFFFFF;\n",
              "    }\n",
              "  </style>\n",
              "\n",
              "      <script>\n",
              "        const buttonEl =\n",
              "          document.querySelector('#df-a38d3a8f-9f34-4514-b425-5f2aa19e8783 button.colab-df-convert');\n",
              "        buttonEl.style.display =\n",
              "          google.colab.kernel.accessAllowed ? 'block' : 'none';\n",
              "\n",
              "        async function convertToInteractive(key) {\n",
              "          const element = document.querySelector('#df-a38d3a8f-9f34-4514-b425-5f2aa19e8783');\n",
              "          const dataTable =\n",
              "            await google.colab.kernel.invokeFunction('convertToInteractive',\n",
              "                                                     [key], {});\n",
              "          if (!dataTable) return;\n",
              "\n",
              "          const docLinkHtml = 'Like what you see? Visit the ' +\n",
              "            '<a target=\"_blank\" href=https://colab.research.google.com/notebooks/data_table.ipynb>data table notebook</a>'\n",
              "            + ' to learn more about interactive tables.';\n",
              "          element.innerHTML = '';\n",
              "          dataTable['output_type'] = 'display_data';\n",
              "          await google.colab.output.renderOutput(dataTable, element);\n",
              "          const docLink = document.createElement('div');\n",
              "          docLink.innerHTML = docLinkHtml;\n",
              "          element.appendChild(docLink);\n",
              "        }\n",
              "      </script>\n",
              "    </div>\n",
              "  </div>\n",
              "  "
            ]
          },
          "metadata": {},
          "execution_count": 15
        }
      ]
    },
    {
      "cell_type": "code",
      "source": [
        "# GO id, GO domain, GO tern name 가져올 수 있음 확인. 이것 이용하여 GO:CC customize하여 처리할 예정.\n",
        "# ID 매핑 진행\n",
        "mapped =  bm.query(dataset='mmusculus_gene_ensembl',attributes=['ensembl_gene_id','external_gene_name','go_id','namespace_1003','name_1006'],filters={'ensembl_gene_id':raw_genelist})"
      ],
      "metadata": {
        "id": "LlDuILG0FoC2"
      },
      "execution_count": 66,
      "outputs": []
    },
    {
      "cell_type": "code",
      "source": [
        "mapped.shape"
      ],
      "metadata": {
        "colab": {
          "base_uri": "https://localhost:8080/"
        },
        "id": "sNd0sYSSF8hy",
        "outputId": "85a120d1-420d-4db5-b8da-1095e7c9e085"
      },
      "execution_count": 67,
      "outputs": [
        {
          "output_type": "execute_result",
          "data": {
            "text/plain": [
              "(488646, 5)"
            ]
          },
          "metadata": {},
          "execution_count": 67
        }
      ]
    },
    {
      "cell_type": "code",
      "source": [
        "# 생각보다 행의 값 전체가 중복되는 행들 많음. 제거.\n",
        "mapped_nodup = mapped.drop_duplicates(['ensembl_gene_id','external_gene_name','go_id','namespace_1003','name_1006'])\n",
        "mapped_nodup.shape"
      ],
      "metadata": {
        "colab": {
          "base_uri": "https://localhost:8080/"
        },
        "id": "sbZFfdsp6lCX",
        "outputId": "1d7c30dd-8120-4792-982e-755b941817d9"
      },
      "execution_count": 68,
      "outputs": [
        {
          "output_type": "execute_result",
          "data": {
            "text/plain": [
              "(165389, 5)"
            ]
          },
          "metadata": {},
          "execution_count": 68
        }
      ]
    },
    {
      "cell_type": "code",
      "source": [
        "# 넣어준 genelist 전부 mapping되었는지, 개수 한 번 확인\n",
        "len(set(mapped_nodup['ensembl_gene_id'].tolist()))"
      ],
      "metadata": {
        "colab": {
          "base_uri": "https://localhost:8080/"
        },
        "id": "ES9QDHC97DAo",
        "outputId": "460c66dc-a68d-44c5-d3f5-8a777c93be4c"
      },
      "execution_count": 69,
      "outputs": [
        {
          "output_type": "execute_result",
          "data": {
            "text/plain": [
              "8070"
            ]
          },
          "metadata": {},
          "execution_count": 69
        }
      ]
    },
    {
      "cell_type": "markdown",
      "source": [
        "## Define categorial terms"
      ],
      "metadata": {
        "id": "tYxa530i59RH"
      }
    },
    {
      "cell_type": "code",
      "source": [
        "# GO domain 별 table 분리\n",
        "GOCC = mapped_nodup[mapped_nodup['namespace_1003']=='cellular_component']\n",
        "GOMF = mapped_nodup[mapped_nodup['namespace_1003']=='molecular_function']\n",
        "GOBP = mapped_nodup[mapped_nodup['namespace_1003']=='biological_process']\n",
        "print('GOCC # : ', len(GOCC), '\\nGOMF # : ', len(GOMF), '\\nGOBP # : ', len(GOBP))"
      ],
      "metadata": {
        "colab": {
          "base_uri": "https://localhost:8080/"
        },
        "id": "eNzcS-zCulzi",
        "outputId": "5fb6b6e0-3a07-401c-fd55-fd081f1d70fb"
      },
      "execution_count": 76,
      "outputs": [
        {
          "output_type": "stream",
          "name": "stdout",
          "text": [
            "GOCC # :  49070 \n",
            "GOMF # :  38367 \n",
            "GOBP # :  70999\n"
          ]
        }
      ]
    },
    {
      "cell_type": "markdown",
      "source": [
        "- figure엔 mitochondrion 있지만, method엔 mitochondrion 안 써있음. 이유?\n",
        "- 논문에서는 GO:0031966(mitochondrial membrane)에 대한 각 term의 차집합을 이용함. 이유는?\n"
      ],
      "metadata": {
        "id": "GUSThni_vfV3"
      }
    },
    {
      "cell_type": "markdown",
      "source": [
        "## categorial term. 수정 필요. 이용할 지 말지도 결정"
      ],
      "metadata": {
        "id": "eGuX81Nb7LIb"
      }
    },
    {
      "cell_type": "code",
      "source": [
        "# 논문 method 참고, categorial term 설정. 전부 GO:CC 관련 term들. \n",
        "ccdict = {'mitochondrial_membrane':'GO:0031966',  \n",
        "          'nucleus':'GO:0005634', \n",
        "          'integral_component_of_membrane':'GO:0016021',\n",
        "          'cytoplasm':'GO:0005737',\n",
        "          'extracellular_region':'GO:0005576',\n",
        "          'cell_surface':'GO:0009986',\n",
        "          'Golgi_apparatus':'GO:0005794',\n",
        "          'endoplasmic_reticulum':'GO:0005783',\n",
        "          'mitochondrion':'GO:0005739'\n",
        "          }\n",
        "for i,j in ccdict.items():\n",
        "  globals()['gocc_{}'.format(i)] = GOCC[GOCC['go_id']==j]\n",
        "  globals()['gocc_{}_unique'.format(i)] = set(globals()['gocc_{}'.format(i)]['ensembl_gene_id'].tolist())"
      ],
      "metadata": {
        "id": "Y9QK6MMEaaOq"
      },
      "execution_count": 71,
      "outputs": []
    },
    {
      "cell_type": "code",
      "source": [
        "# mitochondrial membrane term과 각 term이 얼마나 겹치는 게 많은지부터 확인.\n",
        "cclist = list(ccdict)\n",
        "\n",
        "print('mitochondrial_membrane : ', len(gocc_mitochondrial_membrane_unique))\n",
        "\n",
        "for i in cclist:\n",
        "  if i!='mitochondrial_membrane':\n",
        "    print()\n",
        "    print(i,':', len(globals()['gocc_{}_unique'.format(i)]))\n",
        "    print('intersection :',len(globals()['gocc_{}_unique'.format(i)] & gocc_mitochondrial_membrane_unique))"
      ],
      "metadata": {
        "colab": {
          "base_uri": "https://localhost:8080/"
        },
        "id": "N9xxaU7lkVMI",
        "outputId": "5aa58e02-88d6-4d36-cf60-8daf699d9c5c"
      },
      "execution_count": 72,
      "outputs": [
        {
          "output_type": "stream",
          "name": "stdout",
          "text": [
            "mitochondrial_membrane :  116\n",
            "\n",
            "nucleus : 3461\n",
            "intersection : 26\n",
            "\n",
            "integral_component_of_membrane : 1680\n",
            "intersection : 76\n",
            "\n",
            "cytoplasm : 3605\n",
            "intersection : 29\n",
            "\n",
            "extracellular_region : 286\n",
            "intersection : 4\n",
            "\n",
            "cell_surface : 225\n",
            "intersection : 3\n",
            "\n",
            "Golgi_apparatus : 712\n",
            "intersection : 3\n",
            "\n",
            "endoplasmic_reticulum : 867\n",
            "intersection : 21\n",
            "\n",
            "mitochondrion : 1193\n",
            "intersection : 107\n"
          ]
        }
      ]
    },
    {
      "cell_type": "code",
      "source": [
        "# 각각의 customized GOCC term에 맞는 genelist 할당\n",
        "# nucleus - mito mem\n",
        "# integral mem - mito mem\n",
        "# cytoplasm - mito mem\n",
        "# ER associated : integral mem + extracell + surface + golgi + er - mito mem\n",
        "# non ER : total - ER associated - mito mem\n",
        "\n",
        "gocc_final_unique_nucleus = gocc_nucleus_unique - gocc_mitochondrial_membrane_unique\n",
        "gocc_final_unique_integral_component_of_membrane = gocc_integral_component_of_membrane_unique - gocc_mitochondrial_membrane_unique\n",
        "gocc_final_unique_cytoplasm = gocc_cytoplasm_unique - gocc_mitochondrial_membrane_unique\n",
        "gocc_final_unique_ER =  (gocc_integral_component_of_membrane_unique | gocc_extracellular_region_unique | gocc_cell_surface_unique | gocc_Golgi_apparatus_unique | gocc_endoplasmic_reticulum_unique) - gocc_mitochondrial_membrane_unique\n",
        "gocc_final_unique_nonER = (totalgenelist - gocc_final_unique_ER) - gocc_mitochondrial_membrane_unique\n"
      ],
      "metadata": {
        "id": "XhVumaRNsIOJ"
      },
      "execution_count": 73,
      "outputs": []
    },
    {
      "cell_type": "markdown",
      "source": [
        "## GOCC table 전체 그냥 이용하는 방법 \n",
        " - 이 방법에서는 GO CC MF BP 나눌 필요 없을 듯."
      ],
      "metadata": {
        "id": "d0iDGoIS7Ppi"
      }
    },
    {
      "cell_type": "code",
      "source": [
        "# 각 GO term별, match된 input dataset 내 gene 수 \n",
        "# 각 GO term을 구성하는 gene 정보를 가져오지 않았기 때문에, overlap은 계산할 수 없음. 단지 count만.\n",
        "# GO term 자체의 hierarchy 높을수록 구성 gene 수 많을 텐데.\n",
        "\n",
        "count={}\n",
        "lists = mapped_nodup['go_id'].tolist()\n",
        "for i in lists:\n",
        "    try: count[i] += 1\n",
        "    except: count[i]=1\n",
        "print(count)"
      ],
      "metadata": {
        "id": "CDziFXdk01zq",
        "colab": {
          "base_uri": "https://localhost:8080/"
        },
        "outputId": "d3f9feef-15ef-4fe9-dc25-a38244c84765"
      },
      "execution_count": 86,
      "outputs": [
        {
          "output_type": "stream",
          "name": "stdout",
          "text": [
            "{'GO:0005515': 3272, 'GO:0045202': 325, 'GO:0044877': 342, 'GO:0048872': 16, 'GO:0048854': 14, 'GO:0005737': 3605, 'GO:0003723': 669, 'GO:0016477': 141, 'GO:0031641': 16, 'GO:0051146': 9, 'GO:0016020': 2762, 'GO:0016021': 1680, 'GO:0030054': 364, 'GO:0046872': 1580, 'GO:0005886': 1461, 'GO:0005509': 201, 'GO:0032991': 511, 'GO:0007155': 166, 'GO:0016324': 152, 'GO:0042383': 49, 'GO:0098609': 81, 'GO:0005911': 120, 'GO:0030027': 117, 'GO:0007156': 30, 'GO:0016339': 5, 'GO:0043410': 75, 'GO:0009966': 25, 'GO:0009986': 225, 'GO:0005887': 220, 'GO:0043005': 213, 'GO:0099060': 3, 'GO:0014069': 167, 'GO:0098978': 196, 'GO:0098742': 7, 'GO:0007416': 19, 'GO:0099059': 7, 'GO:0016323': 107, 'GO:0019901': 318, 'GO:0030864': 35, 'GO:0050770': 14, 'GO:0048514': 13, 'GO:0045296': 21, 'GO:0016342': 8, 'GO:0090090': 65, 'GO:0042802': 936, 'GO:0007420': 108, 'GO:0014704': 27, 'GO:0019899': 280, 'GO:0008013': 57, 'GO:0005912': 85, 'GO:0030315': 18, 'GO:0032880': 59, 'GO:0072659': 83, 'GO:0021987': 46, 'GO:0051966': 7, 'GO:0035023': 14, 'GO:0005916': 9, 'GO:0014032': 11, 'GO:0044331': 4, 'GO:0097118': 1, 'GO:0007157': 14, 'GO:0050998': 11, 'GO:0044853': 13, 'GO:0016327': 12, 'GO:0050804': 29, 'GO:0070445': 2, 'GO:0019903': 66, 'GO:0060563': 6, 'GO:0045177': 52, 'GO:0021537': 10, 'GO:0060019': 3, 'GO:0090497': 2, 'GO:0045294': 7, 'GO:0045295': 7, 'GO:0003323': 5, 'GO:0007043': 8, 'GO:0010001': 6, 'GO:0097150': 17, 'GO:1902897': 3, 'GO:2000809': 3, nan: 6929, 'GO:0060395': 26, 'GO:0005634': 3461, 'GO:0016607': 304, 'GO:0045944': 570, 'GO:0003676': 395, 'GO:0003729': 167, 'GO:0002376': 151, 'GO:0005730': 659, 'GO:0005667': 126, 'GO:0045087': 140, 'GO:0000398': 128, 'GO:0030374': 40, 'GO:0016575': 35, 'GO:0098534': 5, 'GO:0002218': 21, 'GO:0046600': 6, 'GO:0015031': 442, 'GO:0006408': 4, 'GO:1990904': 133, 'GO:0005654': 2106, 'GO:0043025': 253, 'GO:0005813': 369, 'GO:0015643': 11, 'GO:0015030': 47, 'GO:0140262': 3, 'GO:0043489': 3, 'GO:0005637': 34, 'GO:0031965': 159, 'GO:0005882': 24, 'GO:0005635': 145, 'GO:1990837': 148, 'GO:0003690': 83, 'GO:0006998': 14, 'GO:0016363': 90, 'GO:0005652': 10, 'GO:0005638': 5, 'GO:0046330': 35, 'GO:0008432': 11, 'GO:0043274': 10, 'GO:0010971': 20, 'GO:1904609': 1, 'GO:0016787': 790, 'GO:0000049': 60, 'GO:0002161': 12, 'GO:0051499': 2, 'GO:0051500': 2, 'GO:0106105': 1, 'GO:0006399': 3, 'GO:0106074': 12, 'GO:0003674': 853, 'GO:0019827': 60, 'GO:0005524': 845, 'GO:0000166': 995, 'GO:0005694': 368, 'GO:0006281': 283, 'GO:0006974': 370, 'GO:0016887': 251, 'GO:0007049': 449, 'GO:0051301': 296, 'GO:0006310': 63, 'GO:0000724': 64, 'GO:0000781': 99, 'GO:0030915': 6, 'GO:0016605': 76, 'GO:0018393': 7, 'GO:0000775': 128, 'GO:0007059': 82, 'GO:0035861': 51, 'GO:0051984': 11, 'GO:0071459': 5, 'GO:0000722': 9, 'GO:0030261': 17, 'GO:0044772': 15, 'GO:0090398': 16, 'GO:0035061': 5, 'GO:0034184': 4, 'GO:0000803': 2, 'GO:0110165': 122, 'GO:0042632': 44, 'GO:0032367': 11, 'GO:0005615': 269, 'GO:0005783': 867, 'GO:0005576': 286, 'GO:0006629': 341, 'GO:0008202': 43, 'GO:0008203': 52, 'GO:0005764': 260, 'GO:0120009': 27, 'GO:0006869': 72, 'GO:0015485': 26, 'GO:0032934': 12, 'GO:0030301': 11, 'GO:0033344': 14, 'GO:0120020': 12, 'GO:0009615': 42, 'GO:0015918': 9, 'GO:0032366': 3, 'GO:0005739': 1193, 'GO:0051536': 49, 'GO:0016226': 20, 'GO:0051537': 15, 'GO:0005506': 42, 'GO:0051539': 35, 'GO:0106035': 5, 'GO:0005794': 712, 'GO:0034237': 14, 'GO:0034199': 2, 'GO:0016740': 960, 'GO:0016746': 91, 'GO:0016409': 12, 'GO:0019706': 14, 'GO:0006612': 23, 'GO:0018230': 10, 'GO:0055085': 164, 'GO:0015293': 36, 'GO:0015377': 5, 'GO:0022857': 68, 'GO:0006811': 175, 'GO:0071805': 21, 'GO:0006814': 32, 'GO:0046873': 11, 'GO:0035725': 22, 'GO:0008511': 1, 'GO:0008519': 3, 'GO:0051087': 77, 'GO:0051879': 31, 'GO:0006813': 22, 'GO:0006821': 19, 'GO:0006972': 4, 'GO:0007214': 4, 'GO:0007568': 79, 'GO:0010818': 2, 'GO:0030321': 3, 'GO:0045795': 1, 'GO:0070634': 1, 'GO:0072488': 2, 'GO:0098659': 1, 'GO:0150003': 3, 'GO:1990869': 9, 'GO:0005829': 2349, 'GO:0009925': 28, 'GO:0016328': 41, 'GO:0030659': 68, 'GO:0071944': 61, 'GO:1990830': 97, 'GO:0003677': 805, 'GO:0016055': 105, 'GO:0016567': 341, 'GO:0003697': 85, 'GO:0061630': 174, 'GO:0010792': 3, 'GO:0005525': 185, 'GO:0003924': 152, 'GO:0042803': 377, 'GO:0050821': 133, 'GO:0012505': 103, 'GO:0006886': 174, 'GO:0001779': 8, 'GO:0030183': 20, 'GO:0033077': 22, 'GO:0046578': 4, 'GO:1903059': 5, 'GO:0007165': 324, 'GO:0005201': 35, 'GO:0062023': 90, 'GO:0031012': 53, 'GO:0001890': 31, 'GO:0035108': 12, 'GO:0001527': 5, 'GO:0009653': 12, 'GO:0030326': 18, 'GO:0005179': 8, 'GO:0045669': 31, 'GO:0030501': 17, 'GO:1901163': 2, 'GO:0035583': 4, 'GO:0043010': 26, 'GO:0048048': 3, 'GO:0060346': 4, 'GO:0005743': 373, 'GO:0070469': 57, 'GO:0032981': 58, 'GO:0006979': 87, 'GO:0005747': 45, 'GO:0009060': 56, 'GO:0042776': 56, 'GO:0050790': 230, 'GO:0019888': 22, 'GO:0000159': 11, 'GO:0008285': 185, 'GO:0006470': 91, 'GO:0043161': 131, 'GO:0072542': 11, 'GO:0042771': 25, 'GO:0006977': 8, 'GO:0005923': 56, 'GO:0070160': 16, 'GO:0090557': 9, 'GO:0090559': 4, 'GO:0044291': 19, 'GO:0030674': 60, 'GO:0050839': 38, 'GO:0019904': 199, 'GO:1990782': 17, 'GO:0008022': 147, 'GO:0045216': 15, 'GO:0034109': 4, 'GO:1905605': 3, 'GO:0071847': 3, 'GO:0005921': 13, 'GO:0050892': 6, 'GO:0150105': 6, 'GO:2001205': 3, 'GO:0008201': 45, 'GO:0030154': 332, 'GO:0061484': 13, 'GO:0043066': 289, 'GO:0043542': 16, 'GO:0030510': 4, 'GO:0045446': 4, 'GO:0071260': 36, 'GO:0010629': 159, 'GO:0010628': 211, 'GO:0060070': 30, 'GO:0006468': 329, 'GO:2000738': 5, 'GO:0045667': 10, 'GO:0071300': 26, 'GO:0030424': 199, 'GO:0014043': 1, 'GO:2000740': 2, 'GO:0001837': 24, 'GO:0010977': 43, 'GO:0004672': 258, 'GO:0007399': 173, 'GO:0051128': 7, 'GO:0009968': 18, 'GO:0016301': 331, 'GO:0016310': 342, 'GO:0045121': 135, 'GO:0007163': 23, 'GO:0004674': 212, 'GO:0050321': 7, 'GO:0004712': 216, 'GO:0106310': 178, 'GO:0030426': 100, 'GO:0005975': 103, 'GO:0007010': 75, 'GO:0035556': 152, 'GO:0005977': 18, 'GO:0048511': 86, 'GO:0030425': 243, 'GO:0007623': 39, 'GO:0031333': 28, 'GO:0002020': 55, 'GO:0005178': 61, 'GO:0002039': 55, 'GO:2001223': 5, 'GO:0031334': 37, 'GO:0005874': 210, 'GO:0010043': 12, 'GO:0097192': 12, 'GO:0008286': 27, 'GO:0001954': 11, 'GO:0043547': 75, 'GO:0006983': 8, 'GO:0061629': 100, 'GO:0043065': 199, 'GO:0043525': 41, 'GO:0001558': 39, 'GO:0030010': 19, 'GO:0034452': 5, 'GO:0031175': 80, 'GO:0045732': 49, 'GO:0043197': 88, 'GO:0043198': 22, 'GO:0010975': 17, 'GO:0032091': 46, 'GO:0031625': 214, 'GO:0010508': 47, 'GO:0045724': 10, 'GO:1903566': 3, 'GO:0044297': 51, 'GO:0070507': 21, 'GO:0045444': 35, 'GO:0007409': 48, 'GO:0098696': 8, 'GO:0048814': 10, 'GO:0006611': 23, 'GO:0021766': 33, 'GO:0018107': 43, 'GO:0046777': 113, 'GO:0010800': 13, 'GO:1900181': 12, 'GO:0009887': 44, 'GO:0032092': 46, 'GO:0051059': 27, 'GO:1901216': 19, 'GO:2000171': 5, 'GO:0048168': 7, 'GO:0035255': 16, 'GO:0046825': 6, 'GO:0051093': 2, 'GO:2000463': 9, 'GO:1902042': 16, 'GO:0061049': 4, 'GO:0034236': 8, 'GO:0048471': 439, 'GO:0030011': 5, 'GO:0046827': 14, 'GO:0018105': 90, 'GO:0007520': 8, 'GO:0048661': 34, 'GO:1904646': 21, 'GO:1901215': 36, 'GO:0048156': 15, 'GO:0014902': 6, 'GO:0051001': 5, 'GO:0010614': 7, 'GO:0097284': 10, 'GO:0042752': 45, 'GO:0032886': 8, 'GO:0035372': 6, 'GO:2000573': 7, 'GO:0045597': 33, 'GO:0045773': 27, 'GO:0045672': 8, 'GO:0032436': 46, 'GO:1901030': 8, 'GO:0046849': 9, 'GO:0030877': 9, 'GO:1990909': 6, 'GO:0043407': 27, 'GO:0030516': 8, 'GO:0098685': 43, 'GO:2000727': 4, 'GO:0010822': 3, 'GO:0070885': 8, 'GO:0006349': 12, 'GO:0044027': 3, 'GO:0035729': 11, 'GO:0033690': 7, 'GO:0000320': 4, 'GO:0010918': 13, 'GO:0034392': 4, 'GO:2000300': 15, 'GO:0050774': 5, 'GO:0043227': 10, 'GO:0090290': 1, 'GO:1900271': 7, 'GO:0099159': 3, 'GO:1904886': 1, 'GO:0032007': 23, 'GO:0036016': 2, 'GO:0071385': 11, 'GO:0097191': 18, 'GO:1904781': 4, 'GO:0045887': 2, 'GO:0035733': 3, 'GO:1901984': 3, 'GO:0070840': 14, 'GO:0042981': 116, 'GO:0045886': 1, 'GO:0070059': 25, 'GO:0071109': 1, 'GO:0106027': 1, 'GO:0150101': 1, 'GO:1904339': 1, 'GO:1904780': 3, 'GO:1905240': 1, 'GO:0008150': 540, 'GO:0005777': 77, 'GO:0043524': 69, 'GO:0005768': 388, 'GO:0031410': 385, 'GO:0035091': 68, 'GO:0008289': 132, 'GO:0031901': 96, 'GO:0045892': 308, 'GO:0042147': 56, 'GO:0071364': 34, 'GO:0030512': 48, 'GO:0030904': 16, 'GO:0097422': 5, 'GO:0034713': 8, 'GO:0000776': 134, 'GO:0005815': 251, 'GO:0001764': 54, 'GO:0005856': 732, 'GO:0008017': 147, 'GO:0005819': 155, 'GO:0032154': 38, 'GO:0000132': 27, 'GO:0005871': 30, 'GO:0007020': 17, 'GO:0047496': 14, 'GO:0030900': 39, 'GO:0031616': 16, 'GO:0007405': 9, 'GO:0051303': 3, 'GO:0051298': 15, 'GO:0051642': 15, 'GO:0031023': 10, 'GO:0007100': 5, 'GO:0006412': 249, 'GO:0003735': 159, 'GO:0005762': 56, 'GO:0005840': 179, 'GO:0070180': 6, 'GO:0015934': 19, 'GO:0032543': 86, 'GO:0005085': 106, 'GO:0007264': 56, 'GO:0005096': 114, 'GO:0090630': 40, 'GO:0019900': 70, 'GO:0007160': 34, 'GO:0008284': 230, 'GO:0010717': 7, 'GO:0016601': 14, 'GO:0030335': 116, 'GO:0034622': 14, 'GO:0031234': 32, 'GO:0007018': 40, 'GO:0005938': 107, 'GO:0008569': 5, 'GO:0045505': 14, 'GO:0051959': 12, 'GO:0003341': 6, 'GO:0030286': 14, 'GO:0030175': 43, 'GO:0000278': 97, 'GO:0120162': 35, 'GO:0031122': 31, 'GO:0060236': 15, 'GO:1904115': 42, 'GO:0032388': 3, 'GO:0090235': 4, 'GO:1905832': 6, 'GO:0005868': 17, 'GO:0007097': 13, 'GO:0002177': 7, 'GO:0008090': 9, 'GO:0005881': 28, 'GO:0033962': 12, 'GO:0034063': 19, 'GO:0051293': 3, 'GO:0072382': 2, 'GO:0005925': 108, 'GO:0030017': 18, 'GO:0005869': 5, 'GO:0047485': 87, 'GO:0000922': 106, 'GO:0001725': 40, 'GO:0043202': 9, 'GO:0005543': 46, 'GO:1905573': 2, 'GO:1990764': 1, 'GO:0032040': 35, 'GO:0042254': 96, 'GO:0006364': 134, 'GO:0000447': 7, 'GO:0000480': 6, 'GO:0007569': 18, 'GO:0007605': 48, 'GO:0051881': 22, 'GO:0072593': 21, 'GO:0007283': 184, 'GO:0007566': 27, 'GO:0007626': 26, 'GO:0005507': 21, 'GO:0008270': 368, 'GO:0016491': 297, 'GO:0045859': 13, 'GO:0005758': 63, 'GO:0043085': 20, 'GO:0001819': 23, 'GO:0009408': 22, 'GO:0031267': 186, 'GO:0009410': 135, 'GO:0032930': 12, 'GO:0030141': 48, 'GO:0010033': 49, 'GO:0001895': 5, 'GO:0045471': 51, 'GO:0030346': 6, 'GO:0001541': 25, 'GO:0006879': 29, 'GO:0004784': 4, 'GO:0006801': 10, 'GO:0043087': 51, 'GO:0042554': 5, 'GO:0050665': 4, 'GO:0016209': 16, 'GO:0043209': 138, 'GO:0060088': 6, 'GO:0048678': 19, 'GO:0046716': 13, 'GO:0006749': 30, 'GO:0032839': 25, 'GO:0040014': 14, 'GO:0002262': 6, 'GO:0019226': 9, 'GO:0031045': 2, 'GO:0060047': 9, 'GO:0000303': 4, 'GO:0042542': 32, 'GO:0008217': 18, 'GO:0019430': 9, 'GO:0046688': 9, 'GO:0000302': 14, 'GO:0050766': 18, 'GO:0045541': 4, 'GO:0032287': 5, 'GO:0060052': 7, 'GO:0060087': 1, 'GO:0008089': 19, 'GO:0031667': 35, 'GO:0050728': 31, 'GO:1902177': 3, 'GO:0071466': 34, 'GO:0005681': 146, 'GO:0006397': 280, 'GO:0008380': 226, 'GO:0071013': 83, 'GO:0000974': 13, 'GO:0048306': 37, 'GO:0071007': 30, 'GO:0033120': 14, 'GO:0017070': 8, 'GO:0036002': 10, 'GO:0071006': 11, 'GO:0042307': 31, 'GO:0045292': 13, 'GO:0000287': 132, 'GO:0016799': 4, 'GO:0006464': 25, 'GO:0030955': 7, 'GO:0003875': 1, 'GO:0051725': 2, 'GO:0007004': 16, 'GO:0051082': 65, 'GO:0006457': 82, 'GO:0006986': 29, 'GO:0001934': 116, 'GO:0042470': 74, 'GO:0032728': 23, 'GO:0006809': 6, 'GO:0051020': 32, 'GO:0042826': 77, 'GO:0051973': 27, 'GO:0098586': 23, 'GO:0097110': 39, 'GO:0030911': 6, 'GO:0097718': 25, 'GO:0034605': 28, 'GO:0002230': 15, 'GO:0070182': 19, 'GO:0002134': 4, 'GO:0002135': 2, 'GO:0017098': 2, 'GO:0030235': 7, 'GO:0032564': 3, 'GO:0044183': 26, 'GO:0044325': 60, 'GO:0051022': 3, 'GO:0003009': 5, 'GO:0009409': 18, 'GO:0009651': 6, 'GO:0010592': 21, 'GO:0010659': 5, 'GO:0021955': 9, 'GO:0031396': 12, 'GO:0032273': 2, 'GO:0033138': 45, 'GO:0042026': 9, 'GO:0042220': 14, 'GO:0043627': 30, 'GO:0045040': 4, 'GO:0045429': 18, 'GO:0045585': 2, 'GO:0045793': 7, 'GO:0046677': 19, 'GO:0048675': 15, 'GO:0051131': 13, 'GO:0051897': 47, 'GO:0060452': 4, 'GO:1902949': 4, 'GO:1903364': 10, 'GO:1905323': 4, 'GO:0031526': 20, 'GO:0036126': 18, 'GO:0044294': 8, 'GO:0044295': 22, 'GO:0097226': 2, 'GO:0097524': 2, 'GO:0016757': 95, 'GO:0000139': 284, 'GO:0008109': 1, 'GO:0006486': 87, 'GO:0007179': 45, 'GO:0010608': 22, 'GO:0010718': 21, 'GO:0010812': 8, 'GO:0034116': 4, 'GO:0036438': 3, 'GO:0070374': 66, 'GO:0008375': 12, 'GO:0031966': 116, 'GO:0006355': 486, 'GO:1990269': 5, 'GO:2000805': 2, 'GO:0000028': 13, 'GO:0045182': 12, 'GO:0030218': 30, 'GO:0000122': 440, 'GO:0000462': 21, 'GO:0070181': 7, 'GO:0022627': 38, 'GO:0006417': 104, 'GO:0022626': 71, 'GO:0048027': 24, 'GO:0030490': 16, 'GO:0002181': 78, 'GO:0005337': 4, 'GO:1901642': 4, 'GO:0098793': 80, 'GO:0015858': 3, 'GO:0035344': 1, 'GO:0005326': 2, 'GO:0015211': 2, 'GO:0015213': 3, 'GO:0006836': 9, 'GO:0015860': 2, 'GO:0015862': 3, 'GO:0032238': 2, 'GO:0072531': 3, 'GO:0098810': 3, 'GO:0001504': 2, 'GO:0007595': 22, 'GO:0015853': 1, 'GO:0015854': 1, 'GO:0032869': 60, 'GO:0035364': 1, 'GO:0065008': 8, 'GO:0044030': 14, 'GO:0034080': 4, 'GO:0000785': 258, 'GO:0006783': 16, 'GO:0006839': 8, 'GO:0070453': 2, 'GO:0005789': 511, 'GO:0006914': 121, 'GO:0045070': 21, 'GO:1902902': 9, 'GO:1901097': 5, 'GO:0003682': 305, 'GO:0043021': 30, 'GO:0035064': 47, 'GO:0006325': 213, 'GO:0010369': 10, 'GO:0000792': 45, 'GO:0090734': 23, 'GO:0035097': 21, 'GO:0140297': 107, 'GO:0005721': 23, 'GO:0000118': 29, 'GO:0017053': 42, 'GO:0048146': 37, 'GO:0008283': 109, 'GO:0009897': 75, 'GO:0016064': 5, 'GO:0042609': 4, 'GO:0002286': 5, 'GO:0006955': 28, 'GO:0045893': 421, 'GO:0030890': 13, 'GO:0019221': 25, 'GO:0005770': 111, 'GO:0019882': 16, 'GO:0032755': 35, 'GO:0032757': 20, 'GO:0032722': 11, 'GO:1902166': 9, 'GO:0050731': 36, 'GO:0006952': 8, 'GO:0070206': 3, 'GO:0043123': 63, 'GO:0046598': 5, 'GO:0005771': 26, 'GO:0065003': 56, 'GO:0002250': 27, 'GO:0023026': 2, 'GO:0030336': 79, 'GO:0034341': 8, 'GO:0004896': 6, 'GO:0001540': 34, 'GO:0045059': 3, 'GO:0045582': 21, 'GO:0046597': 13, 'GO:0019886': 6, 'GO:0051085': 23, 'GO:0033674': 29, 'GO:0090023': 8, 'GO:0001516': 9, 'GO:0019955': 8, 'GO:0002606': 1, 'GO:0045581': 3, 'GO:0045060': 5, 'GO:0035718': 2, 'GO:0042289': 3, 'GO:0042658': 1, 'GO:0001961': 3, 'GO:0002792': 1, 'GO:0002821': 5, 'GO:0002830': 1, 'GO:0002906': 4, 'GO:0031394': 3, 'GO:0035691': 1, 'GO:0043518': 11, 'GO:0045089': 13, 'GO:0045657': 4, 'GO:0060907': 6, 'GO:2000343': 5, 'GO:2000448': 2, 'GO:0005773': 16, 'GO:0035692': 1, 'GO:0035693': 1, 'GO:0042613': 3, 'GO:0043565': 168, 'GO:0006357': 546, 'GO:0000978': 340, 'GO:0009267': 51, 'GO:0000976': 126, 'GO:0000981': 260, 'GO:0043231': 598, 'GO:0003700': 184, 'GO:0046983': 73, 'GO:0009725': 25, 'GO:0001227': 121, 'GO:0012507': 19, 'GO:0070888': 18, 'GO:0032933': 10, 'GO:0010886': 5, 'GO:0008593': 12, 'GO:1902895': 29, 'GO:0090370': 4, 'GO:0045542': 6, 'GO:0071404': 8, 'GO:0032937': 3, 'GO:0015630': 128, 'GO:0051010': 15, 'GO:0035371': 15, 'GO:0051225': 28, 'GO:0051233': 22, 'GO:0031110': 9, 'GO:0051549': 5, 'GO:0120183': 3, 'GO:1904825': 2, 'GO:0032014': 1, 'GO:0045839': 6, 'GO:0034501': 12, 'GO:0007089': 3, 'GO:0006122': 11, 'GO:0005750': 12, 'GO:0032204': 11, 'GO:0000902': 41, 'GO:2000020': 3, 'GO:0007548': 2, 'GO:0007281': 25, 'GO:0001228': 162, 'GO:0000977': 128, 'GO:0048599': 6, 'GO:0008584': 49, 'GO:0003006': 4, 'GO:0000987': 39, 'GO:0060008': 4, 'GO:0008354': 6, 'GO:0045840': 7, 'GO:0060009': 6, 'GO:0045835': 3, 'GO:0030238': 5, 'GO:0046661': 3, 'GO:0060903': 2, 'GO:1900107': 1, 'GO:0002176': 2, 'GO:0046982': 170, 'GO:0014029': 8, 'GO:0001650': 103, 'GO:0042790': 3, 'GO:0006888': 89, 'GO:0016192': 167, 'GO:0033116': 30, 'GO:0005793': 63, 'GO:0030134': 29, 'GO:0030173': 33, 'GO:0005575': 342, 'GO:0032729': 16, 'GO:0000209': 107, 'GO:0010468': 176, 'GO:0051092': 65, 'GO:0016925': 24, 'GO:0032720': 21, 'GO:0004842': 155, 'GO:0046596': 6, 'GO:0003713': 157, 'GO:0051091': 46, 'GO:0070534': 27, 'GO:0034314': 13, 'GO:0032703': 7, 'GO:0006469': 42, 'GO:0032897': 8, 'GO:0019789': 17, 'GO:0090281': 4, 'GO:0051127': 1, 'GO:0045814': 11, 'GO:0002820': 1, 'GO:0044790': 10, 'GO:0032790': 9, 'GO:0055072': 20, 'GO:0140359': 18, 'GO:0042626': 17, 'GO:1903427': 12, 'GO:0034755': 5, 'GO:0140481': 1, 'GO:0070455': 2, 'GO:0140466': 1, 'GO:1903331': 1, 'GO:0034045': 13, 'GO:0003925': 24, 'GO:0000045': 43, 'GO:0007030': 82, 'GO:0019068': 4, 'GO:1903020': 2, 'GO:2000785': 7, 'GO:0004653': 3, 'GO:0018243': 1, 'GO:0030246': 56, 'GO:0032580': 38, 'GO:0030145': 37, 'GO:0006493': 21, 'GO:0018242': 3, 'GO:0030030': 96, 'GO:0005814': 94, 'GO:0034453': 11, 'GO:0042995': 459, 'GO:0034451': 69, 'GO:0005929': 130, 'GO:0060271': 104, 'GO:0031514': 38, 'GO:0036064': 86, 'GO:0032418': 23, 'GO:0006260': 96, 'GO:0034613': 48, 'GO:0034067': 15, 'GO:0030137': 16, 'GO:0030001': 16, 'GO:0006829': 17, 'GO:0031258': 13, 'GO:0005385': 12, 'GO:0006882': 15, 'GO:0071577': 10, 'GO:0071578': 4, 'GO:0006099': 28, 'GO:0005759': 167, 'GO:0006103': 15, 'GO:0006734': 10, 'GO:0031072': 47, 'GO:0106077': 4, 'GO:0045252': 5, 'GO:0033512': 1, 'GO:0006104': 5, 'GO:0004149': 1, 'GO:0003352': 1, 'GO:0005684': 16, 'GO:0005686': 20, 'GO:0005689': 23, 'GO:0071005': 50, 'GO:0071011': 19, 'GO:0005769': 185, 'GO:0030176': 86, 'GO:0051117': 65, 'GO:0030968': 36, 'GO:0030433': 59, 'GO:0042288': 10, 'GO:0031648': 33, 'GO:0031398': 48, 'GO:0005047': 5, 'GO:1990381': 17, 'GO:0036503': 12, 'GO:0071712': 10, 'GO:0044322': 12, 'GO:0051787': 19, 'GO:0034620': 15, 'GO:0030970': 14, 'GO:0000839': 5, 'GO:0036513': 8, 'GO:0036502': 2, 'GO:0061668': 4, 'GO:0060548': 64, 'GO:0015431': 4, 'GO:0008559': 8, 'GO:0042910': 9, 'GO:0005324': 9, 'GO:0015562': 8, 'GO:0034040': 1, 'GO:0034634': 4, 'GO:0042887': 3, 'GO:0046943': 3, 'GO:0015911': 3, 'GO:0033700': 6, 'GO:0034775': 4, 'GO:0042908': 9, 'GO:0045332': 14, 'GO:0060326': 20, 'GO:0070633': 3, 'GO:0099039': 2, 'GO:0140115': 8, 'GO:1905039': 4, 'GO:1990961': 5, 'GO:1990962': 2, 'GO:0009235': 7, 'GO:0071716': 3, 'GO:0050729': 23, 'GO:0015420': 2, 'GO:0015889': 4, 'GO:0042382': 6, 'GO:0003730': 62, 'GO:0006915': 335, 'GO:0035855': 11, 'GO:0030220': 10, 'GO:0007611': 30, 'GO:0007599': 7, 'GO:0045600': 26, 'GO:0070889': 2, 'GO:1902164': 2, 'GO:0010609': 1, 'GO:0008298': 3, 'GO:2000765': 2, 'GO:0008033': 74, 'GO:0010950': 13, 'GO:0000502': 55, 'GO:0002098': 13, 'GO:0033588': 6, 'GO:0006368': 25, 'GO:0008023': 18, 'GO:0046425': 6, 'GO:0000993': 27, 'GO:0043248': 12, 'GO:0061133': 10, 'GO:0051028': 80, 'GO:0005643': 63, 'GO:0044615': 12, 'GO:0007099': 16, 'GO:0070390': 5, 'GO:0032391': 17, 'GO:0097729': 2, 'GO:0032465': 38, 'GO:0031683': 8, 'GO:0006289': 28, 'GO:0032795': 3, 'GO:0071942': 3, 'GO:0000226': 83, 'GO:0043029': 10, 'GO:0032147': 37, 'GO:0048536': 18, 'GO:0001782': 12, 'GO:0051900': 4, 'GO:0045579': 7, 'GO:0050864': 1, 'GO:0030865': 12, 'GO:0002759': 1, 'GO:0035303': 3, 'GO:0042552': 26, 'GO:0001501': 37, 'GO:0007338': 18, 'GO:0016798': 43, 'GO:0008152': 96, 'GO:0004553': 18, 'GO:0008360': 82, 'GO:0006874': 39, 'GO:0050885': 27, 'GO:0004563': 3, 'GO:0102148': 2, 'GO:0001669': 35, 'GO:0042582': 7, 'GO:0007040': 37, 'GO:0030203': 4, 'GO:0048477': 21, 'GO:0050905': 15, 'GO:0006689': 4, 'GO:0009313': 5, 'GO:0019953': 5, 'GO:0006687': 3, 'GO:0043615': 4, 'GO:0007341': 3, 'GO:0060473': 3, 'GO:0019915': 14, 'GO:0008049': 1, 'GO:0008654': 44, 'GO:0044267': 13, 'GO:0015929': 1, 'GO:0016231': 2, 'GO:0006044': 9, 'GO:1905379': 2, 'GO:1901135': 3, 'GO:0007044': 5, 'GO:0005154': 15, 'GO:0008305': 12, 'GO:0007229': 38, 'GO:0007159': 12, 'GO:0007613': 31, 'GO:0001525': 112, 'GO:0010811': 12, 'GO:0033627': 15, 'GO:0032587': 55, 'GO:0031589': 13, 'GO:1903672': 9, 'GO:0034113': 10, 'GO:2000811': 9, 'GO:0023035': 7, 'GO:0034674': 2, 'GO:0035987': 15, 'GO:0033631': 4, 'GO:0007565': 23, 'GO:0035313': 6, 'GO:0045765': 15, 'GO:0106245': 2, 'GO:0006659': 4, 'GO:0106258': 1, 'GO:0003824': 238, 'GO:0016791': 84, 'GO:0006796': 11, 'GO:0046856': 19, 'GO:0034595': 3, 'GO:0048488': 21, 'GO:0004439': 7, 'GO:0004438': 12, 'GO:0017124': 70, 'GO:0043812': 4, 'GO:0052658': 5, 'GO:1990175': 1, 'GO:0007612': 21, 'GO:0014015': 1, 'GO:0032526': 30, 'GO:0034097': 27, 'GO:0048260': 12, 'GO:1904980': 1, 'GO:0030132': 7, 'GO:0097060': 27, 'GO:0098688': 9, 'GO:0001942': 16, 'GO:0016616': 31, 'GO:0003854': 1, 'GO:0006694': 28, 'GO:0006695': 21, 'GO:0016126': 22, 'GO:0005811': 54, 'GO:0060716': 14, 'GO:0007224': 35, 'GO:0000252': 1, 'GO:0047012': 1, 'GO:0102175': 1, 'GO:0103066': 1, 'GO:0103067': 1, 'GO:0007417': 40, 'GO:0003743': 45, 'GO:0006413': 51, 'GO:0050852': 29, 'GO:0014003': 13, 'GO:0009749': 32, 'GO:0043434': 29, 'GO:0005851': 6, 'GO:0044237': 9, 'GO:0040029': 15, 'GO:0009048': 13, 'GO:0006306': 14, 'GO:0071514': 6, 'GO:0016584': 9, 'GO:0000793': 29, 'GO:0001221': 22, 'GO:0010216': 9, 'GO:0035065': 9, 'GO:0043035': 2, 'GO:0031060': 2, 'GO:0045071': 18, 'GO:0045824': 10, 'GO:0032480': 7, 'GO:0015074': 3, 'GO:0075713': 1, 'GO:0097726': 1, 'GO:0007084': 4, 'GO:0043229': 43, 'GO:0090501': 16, 'GO:0090502': 37, 'GO:0004518': 75, 'GO:0090305': 65, 'GO:0042645': 41, 'GO:0004526': 10, 'GO:0097745': 3, 'GO:0030678': 3, 'GO:0001682': 12, 'GO:0045111': 29, 'GO:0031624': 17, 'GO:0009311': 5, 'GO:0016052': 2, 'GO:0004557': 2, 'GO:0016139': 5, 'GO:0046477': 2, 'GO:0008456': 1, 'GO:0019377': 1, 'GO:0007088': 14, 'GO:0072687': 8, 'GO:0051603': 32, 'GO:0005839': 16, 'GO:0019773': 8, 'GO:0006511': 178, 'GO:0000932': 68, 'GO:0030016': 13, 'GO:0010498': 28, 'GO:0007519': 28, 'GO:0005844': 36, 'GO:0004386': 115, 'GO:0032508': 61, 'GO:0003678': 47, 'GO:0006270': 20, 'GO:0042555': 11, 'GO:0000727': 11, 'GO:0006268': 20, 'GO:0006271': 5, 'GO:0017116': 20, 'GO:1902975': 5, 'GO:0071162': 11, 'GO:0030174': 11, 'GO:0036444': 6, 'GO:0051560': 11, 'GO:1990246': 3, 'GO:0006816': 39, 'GO:0031305': 27, 'GO:0006851': 8, 'GO:0003714': 115, 'GO:0016251': 26, 'GO:0090575': 68, 'GO:0006366': 66, 'GO:0001091': 6, 'GO:0017025': 21, 'GO:0001046': 15, 'GO:0017054': 2, 'GO:0006298': 19, 'GO:0032300': 5, 'GO:0007130': 8, 'GO:0007140': 11, 'GO:0007144': 5, 'GO:0008104': 43, 'GO:0019237': 3, 'GO:0000794': 35, 'GO:0000795': 15, 'GO:0001673': 12, 'GO:0005712': 2, 'GO:0030983': 8, 'GO:0007517': 26, 'GO:0014842': 3, 'GO:0031062': 11, 'GO:2000288': 3, 'GO:0070403': 11, 'GO:0006631': 95, 'GO:0050104': 1, 'GO:0071356': 57, 'GO:0032496': 61, 'GO:0045746': 13, 'GO:0042127': 92, 'GO:0071345': 20, 'GO:0034142': 2, 'GO:0008139': 20, 'GO:0032088': 41, 'GO:0032495': 7, 'GO:0043330': 10, 'GO:0007249': 19, 'GO:0045638': 8, 'GO:0071407': 33, 'GO:0010875': 11, 'GO:0006606': 76, 'GO:0070431': 4, 'GO:0035994': 8, 'GO:0042994': 5, 'GO:0010745': 5, 'GO:0010888': 5, 'GO:0033209': 17, 'GO:0031663': 12, 'GO:0032270': 9, 'GO:0007253': 4, 'GO:0070427': 1, 'GO:0002315': 3, 'GO:0051491': 15, 'GO:0003998': 1, 'GO:0030036': 108, 'GO:0007266': 26, 'GO:0006939': 4, 'GO:0006996': 16, 'GO:0010825': 6, 'GO:0032956': 39, 'GO:0072518': 2, 'GO:0010595': 27, 'GO:0016525': 34, 'GO:0030866': 20, 'GO:0035509': 4, 'GO:0039694': 8, 'GO:0045019': 9, 'GO:0045616': 4, 'GO:0051496': 32, 'GO:0071394': 7, 'GO:0150033': 1, 'GO:1902004': 14, 'GO:1902961': 4, 'GO:1902966': 6, 'GO:1902993': 3, 'GO:1903140': 4, 'GO:1903347': 3, 'GO:0036464': 55, 'GO:0030509': 30, 'GO:0016604': 230, 'GO:0018095': 6, 'GO:0017134': 14, 'GO:0071539': 19, 'GO:0090307': 37, 'GO:1905515': 32, 'GO:0032695': 6, 'GO:0032733': 12, 'GO:0007080': 36, 'GO:0005136': 1, 'GO:0031393': 2, 'GO:0032815': 2, 'GO:0042531': 11, 'GO:0042532': 9, 'GO:0042976': 1, 'GO:0097546': 18, 'GO:0001701': 190, 'GO:0003007': 30, 'GO:0001570': 29, 'GO:0046332': 37, 'GO:0048844': 14, 'GO:0030521': 13, 'GO:0045747': 20, 'GO:0048589': 16, 'GO:0033233': 2, 'GO:0007296': 3, 'GO:0021852': 1, 'GO:1903508': 1, 'GO:0048660': 5, 'GO:0048538': 29, 'GO:0000723': 42, 'GO:0034511': 10, 'GO:0001933': 62, 'GO:0006303': 18, 'GO:2000773': 14, 'GO:0007507': 129, 'GO:0032993': 27, 'GO:0016233': 10, 'GO:0001756': 28, 'GO:0006302': 45, 'GO:0045727': 60, 'GO:0008630': 31, 'GO:0002638': 2, 'GO:0010332': 23, 'GO:0045648': 19, 'GO:0000460': 13, 'GO:0010212': 35, 'GO:0070418': 4, 'GO:0048639': 3, 'GO:0035234': 3, 'GO:0002326': 3, 'GO:0002360': 2, 'GO:0031571': 10, 'GO:0030098': 4, 'GO:0033152': 4, 'GO:0033151': 5, 'GO:0050678': 9, 'GO:0034462': 3, 'GO:0070419': 4, 'GO:0033153': 3, 'GO:0002328': 3, 'GO:0004677': 2, 'GO:0002684': 2, 'GO:0014823': 28, 'GO:0045621': 2, 'GO:1902036': 8, 'GO:1905221': 1, 'GO:2001034': 9, 'GO:2001229': 1, 'GO:0005958': 2, 'GO:0032732': 4, 'GO:0030658': 12, 'GO:0006890': 39, 'GO:0005801': 35, 'GO:0050714': 24, 'GO:0008320': 15, 'GO:0071806': 7, 'GO:1902960': 2, 'GO:0019905': 32, 'GO:0042589': 5, 'GO:0070765': 5, 'GO:0030667': 9, 'GO:0030140': 9, 'GO:0035964': 1, 'GO:0045055': 9, 'GO:0048199': 2, 'GO:0106272': 1, 'GO:0106273': 1, 'GO:1902003': 1, 'GO:0008168': 119, 'GO:0032259': 119, 'GO:0016279': 15, 'GO:0018022': 7, 'GO:0060576': 7, 'GO:0035914': 18, 'GO:0030033': 7, 'GO:0014816': 2, 'GO:0043403': 16, 'GO:0032534': 3, 'GO:0014908': 2, 'GO:0043426': 4, 'GO:0014901': 2, 'GO:0061586': 1, 'GO:0099156': 1, 'GO:1901653': 9, 'GO:0006259': 18, 'GO:0004519': 41, 'GO:0008821': 3, 'GO:0000737': 5, 'GO:0000712': 10, 'GO:0031297': 28, 'GO:0033687': 4, 'GO:0031573': 12, 'GO:1905347': 2, 'GO:0048476': 4, 'GO:0072429': 4, 'GO:0048257': 1, 'GO:0043596': 13, 'GO:0019276': 2, 'GO:0001888': 1, 'GO:0005539': 7, 'GO:0035248': 1, 'GO:0047237': 1, 'GO:0005049': 9, 'GO:0051168': 14, 'GO:0051169': 4, 'GO:0030198': 46, 'GO:0005788': 64, 'GO:0003756': 14, 'GO:0015035': 16, 'GO:0000931': 6, 'GO:0005741': 117, 'GO:0016763': 6, 'GO:0006400': 18, 'GO:0101030': 3, 'GO:0008479': 2, 'GO:1990234': 9, 'GO:0006139': 24, 'GO:0031532': 33, 'GO:0031252': 52, 'GO:0042641': 9, 'GO:0031032': 17, 'GO:0035264': 59, 'GO:0006338': 128, 'GO:0042393': 111, 'GO:0140658': 29, 'GO:0000779': 14, 'GO:0006334': 38, 'GO:0006336': 11, 'GO:0072711': 10, 'GO:0000228': 22, 'GO:0072520': 13, 'GO:0030330': 14, 'GO:0070087': 5, 'GO:0099115': 2, 'GO:0000212': 5, 'GO:0070192': 4, 'GO:0035128': 1, 'GO:0015616': 5, 'GO:0010571': 5, 'GO:0032206': 15, 'GO:0070198': 10, 'GO:1900112': 1, 'GO:1901581': 1, 'GO:1901582': 1, 'GO:1904908': 2, 'GO:0051607': 80, 'GO:0060337': 8, 'GO:0004905': 2, 'GO:0035455': 8, 'GO:0035456': 7, 'GO:0019962': 2, 'GO:0006401': 21, 'GO:0032299': 3, 'GO:0072686': 92, 'GO:0000940': 12, 'GO:0005876': 28, 'GO:0030133': 27, 'GO:0060173': 20, 'GO:0001649': 34, 'GO:2000051': 3, 'GO:0050680': 26, 'GO:0002062': 14, 'GO:0042073': 17, 'GO:0030992': 11, 'GO:0097731': 7, 'GO:0060349': 8, 'GO:0097500': 2, 'GO:0001958': 11, 'GO:0035630': 3, 'GO:0003417': 4, 'GO:0003418': 3, 'GO:0061975': 2, 'GO:0035720': 10, 'GO:0030324': 51, 'GO:0071456': 65, 'GO:0001892': 18, 'GO:0007005': 71, 'GO:0010467': 44, 'GO:0043129': 9, 'GO:0030097': 40, 'GO:0002027': 11, 'GO:0001666': 89, 'GO:0042789': 41, 'GO:0001974': 16, 'GO:0048469': 9, 'GO:0001223': 27, 'GO:0007601': 26, 'GO:0050897': 4, 'GO:0042421': 2, 'GO:0043619': 5, 'GO:0042415': 4, 'GO:0048625': 1, 'GO:1903181': 3, 'GO:2000434': 5, 'GO:0042277': 40, 'GO:0045095': 3, 'GO:0051219': 29, 'GO:0005847': 18, 'GO:0045104': 11, 'GO:1904424': 2, 'GO:0002088': 11, 'GO:0007169': 34, 'GO:0008543': 18, 'GO:0044344': 17, 'GO:0003281': 25, 'GO:0070307': 3, 'GO:0070372': 18, 'GO:0005068': 2, 'GO:0005104': 4, 'GO:0001759': 4, 'GO:2000726': 2, 'GO:1904707': 16, 'GO:0001702': 14, 'GO:0060527': 2, 'GO:0005168': 5, 'GO:0008595': 4, 'GO:0046619': 1, 'GO:0005761': 20, 'GO:0006506': 22, 'GO:0016780': 9, 'GO:0051377': 4, 'GO:0051726': 160, 'GO:0070577': 20, 'GO:0040008': 47, 'GO:0043967': 32, 'GO:0140030': 3, 'GO:0016573': 52, 'GO:0035267': 18, 'GO:0043968': 17, 'GO:0000786': 41, 'GO:1905168': 34, 'GO:0043486': 11, 'GO:2000779': 22, 'GO:0030165': 55, 'GO:0045184': 20, 'GO:0006120': 22, 'GO:0015095': 9, 'GO:1903830': 9, 'GO:0050890': 16, 'GO:0006487': 39, 'GO:0008250': 13, 'GO:0018279': 14, 'GO:0015693': 7, 'GO:0016874': 99, 'GO:0004812': 37, 'GO:0006418': 31, 'GO:0004831': 2, 'GO:0006437': 2, 'GO:0072545': 1, 'GO:0043039': 12, 'GO:0070184': 1, 'GO:0048617': 7, 'GO:0061140': 2, 'GO:1901249': 2, 'GO:1901250': 2, 'GO:0048513': 12, 'GO:1901857': 6, 'GO:0032731': 18, 'GO:0035457': 7, 'GO:0042110': 18, 'GO:0050730': 6, 'GO:0004904': 1, 'GO:0018345': 14, 'GO:0019705': 4, 'GO:0140439': 5, 'GO:0043086': 56, 'GO:0004864': 19, 'GO:0016829': 67, 'GO:0016831': 10, 'GO:0001822': 70, 'GO:0006596': 7, 'GO:0006595': 6, 'GO:0004586': 2, 'GO:0033387': 2, 'GO:0009446': 1, 'GO:0042176': 15, 'GO:1901564': 7, 'GO:0032511': 10, 'GO:0061608': 15, 'GO:0042564': 8, 'GO:0006607': 9, 'GO:0022900': 22, 'GO:0005746': 7, 'GO:1902600': 55, 'GO:0006119': 16, 'GO:0045277': 7, 'GO:0004129': 9, 'GO:0005751': 20, 'GO:0004527': 36, 'GO:0008081': 13, 'GO:0003906': 7, 'GO:0008311': 2, 'GO:0006284': 26, 'GO:0006396': 77, 'GO:0003963': 1, 'GO:0019752': 12, 'GO:0060041': 29, 'GO:0008233': 193, 'GO:0008234': 76, 'GO:0006508': 217, 'GO:0004843': 59, 'GO:0030163': 30, 'GO:0043130': 77, 'GO:0007628': 20, 'GO:0016579': 53, 'GO:0042755': 6, 'GO:0101005': 7, 'GO:0006446': 21, 'GO:0001732': 14, 'GO:0001731': 12, 'GO:0005092': 10, 'GO:0071074': 3, 'GO:0004721': 75, 'GO:0004722': 47, 'GO:0106306': 41, 'GO:0106307': 40, 'GO:0043169': 9, 'GO:0000165': 47, 'GO:0007178': 10, 'GO:1905551': 2, 'GO:0005854': 2, 'GO:0042788': 32, 'GO:0003779': 192, 'GO:0007009': 11, 'GO:0003785': 11, 'GO:0005102': 120, 'GO:0015629': 128, 'GO:0090149': 2, 'GO:0022011': 10, 'GO:0021554': 7, 'GO:0016358': 19, 'GO:0000422': 24, 'GO:0021702': 8, 'GO:0031987': 5, 'GO:0000266': 11, 'GO:0048936': 3, 'GO:0061564': 10, 'GO:0008535': 6, 'GO:0042407': 14, 'GO:0055091': 10, 'GO:0001735': 2, 'GO:0016670': 2, 'GO:0030328': 2, 'GO:0030327': 3, 'GO:0000774': 10, 'GO:0030150': 16, 'GO:0001405': 4, 'GO:1902018': 10, 'GO:0070848': 8, 'GO:0033596': 3, 'GO:0012501': 18, 'GO:0006897': 123, 'GO:0051259': 14, 'GO:0030672': 31, 'GO:0030742': 12, 'GO:0005905': 45, 'GO:2001244': 20, 'GO:0016559': 6, 'GO:0061003': 19, 'GO:0010821': 14, 'GO:0005903': 38, 'GO:0030276': 18, 'GO:0001836': 14, 'GO:0090200': 17, 'GO:0061025': 24, 'GO:0010637': 8, 'GO:0043653': 8, 'GO:0090141': 15, 'GO:0098835': 6, 'GO:1904666': 1, 'GO:0070266': 12, 'GO:0048312': 8, 'GO:0099503': 3, 'GO:1900244': 6, 'GO:0070584': 24, 'GO:0070585': 5, 'GO:1903146': 8, 'GO:0003374': 2, 'GO:0036466': 2, 'GO:2000302': 3, 'GO:1900063': 3, 'GO:0099073': 2, 'GO:0051433': 1, 'GO:1903578': 2, 'GO:1904579': 2, 'GO:0071396': 3, 'GO:0090650': 8, 'GO:1905395': 2, 'GO:1990910': 3, 'GO:0070822': 4, 'GO:1902459': 38, 'GO:1902455': 17, 'GO:0016580': 20, 'GO:0050660': 38, 'GO:0140042': 8, 'GO:0071949': 21, 'GO:0006725': 2, 'GO:0004506': 1, 'GO:0004497': 13, 'GO:0009083': 11, 'GO:0005947': 4, 'GO:0016407': 13, 'GO:0031405': 2, 'GO:0043754': 1, 'GO:0035331': 9, 'GO:0036289': 6, 'GO:0043023': 13, 'GO:1904751': 5, 'GO:1902680': 1, 'GO:0000055': 7, 'GO:0050896': 32, 'GO:0009881': 2, 'GO:0018298': 2, 'GO:0006094': 12, 'GO:0019902': 34, 'GO:0016922': 34, 'GO:0032922': 36, 'GO:2000323': 5, 'GO:0006975': 7, 'GO:0045721': 7, 'GO:0043153': 16, 'GO:0042593': 51, 'GO:0042754': 5, 'GO:0032868': 32, 'GO:0031397': 37, 'GO:0045744': 4, 'GO:0009416': 10, 'GO:0033762': 9, 'GO:2000001': 15, 'GO:2000850': 2, 'GO:0004402': 25, 'GO:0071333': 34, 'GO:0022008': 37, 'GO:0003712': 93, 'GO:0006978': 10, 'GO:0042149': 36, 'GO:0007286': 43, 'GO:0021915': 31, 'GO:0045591': 5, 'GO:0061733': 6, 'GO:0006473': 10, 'GO:0018394': 5, 'GO:0045663': 24, 'GO:0071392': 19, 'GO:1901985': 7, 'GO:1905691': 5, 'GO:0062033': 2, 'GO:0042753': 7, 'GO:0000812': 11, 'GO:0010867': 11, 'GO:0043998': 2, 'GO:0043999': 1, 'GO:0046972': 2, 'GO:0140064': 1, 'GO:0140065': 2, 'GO:0043977': 2, 'GO:0043984': 11, 'GO:1902425': 8, 'GO:0032777': 3, 'GO:0097431': 30, 'GO:1900051': 1, 'GO:1902275': 9, 'GO:0006352': 23, 'GO:0003899': 31, 'GO:0006367': 28, 'GO:0005665': 12, 'GO:0030880': 3, 'GO:0000288': 9, 'GO:0031369': 22, 'GO:0045948': 10, 'GO:0034402': 2, 'GO:0031990': 2, 'GO:0008080': 17, 'GO:0007064': 15, 'GO:0010485': 9, 'GO:0006474': 7, 'GO:0004596': 7, 'GO:0031415': 5, 'GO:0052858': 1, 'GO:0034087': 2, 'GO:0071962': 2, 'GO:0051056': 11, 'GO:0044528': 8, 'GO:0033617': 17, 'GO:0070131': 13, 'GO:0000963': 5, 'GO:0035770': 14, 'GO:0010976': 80, 'GO:0071203': 9, 'GO:0006887': 43, 'GO:0006909': 29, 'GO:0016197': 40, 'GO:0001556': 15, 'GO:0030041': 16, 'GO:0031503': 13, 'GO:0007032': 32, 'GO:0097494': 3, 'GO:0040038': 4, 'GO:0051125': 1, 'GO:0140285': 3, 'GO:0043933': 2, 'GO:0090306': 4, 'GO:0034315': 7, 'GO:0009058': 23, 'GO:0016742': 2, 'GO:0004637': 1, 'GO:0004641': 1, 'GO:0006189': 6, 'GO:0009113': 4, 'GO:0006164': 17, 'GO:0006177': 9, 'GO:0044208': 7, 'GO:0097294': 8, 'GO:0010035': 18, 'GO:0046654': 3, 'GO:0006544': 5, 'GO:0009156': 6, 'GO:0004644': 1, 'GO:0003360': 4, 'GO:0021549': 27, 'GO:0046084': 1, 'GO:0031124': 16, 'GO:0005581': 9, 'GO:0006378': 24, 'GO:0005765': 162, 'GO:0005802': 116, 'GO:0006622': 19, 'GO:0007041': 14, 'GO:0033299': 5, 'GO:1905394': 7, 'GO:0007098': 30, 'GO:0051011': 12, 'GO:1990498': 11, 'GO:0070652': 7, 'GO:0031996': 7, 'GO:0005537': 8, 'GO:0006465': 10, 'GO:0007042': 12, 'GO:0070085': 16, 'GO:1904426': 1, 'GO:0005775': 1, 'GO:0031146': 27, 'GO:0019005': 33, 'GO:0000086': 27, 'GO:0071222': 59, 'GO:0009617': 32, 'GO:0006954': 74, 'GO:0071354': 7, 'GO:0046627': 20, 'GO:0042177': 24, 'GO:0099527': 8, 'GO:0006351': 60, 'GO:0071159': 4, 'GO:0042301': 4, 'GO:0070301': 46, 'GO:0042805': 11, 'GO:0070555': 17, 'GO:0031490': 47, 'GO:1901224': 27, 'GO:1902894': 12, 'GO:1901223': 13, 'GO:0010224': 5, 'GO:0000979': 16, 'GO:0035924': 17, 'GO:2001237': 24, 'GO:0001889': 55, 'GO:0007218': 9, 'GO:0071347': 26, 'GO:0050727': 32, 'GO:1901222': 7, 'GO:0140296': 8, 'GO:0032735': 10, 'GO:0050862': 9, 'GO:0032332': 5, 'GO:0071316': 3, 'GO:1901522': 2, 'GO:1904996': 6, 'GO:0070498': 9, 'GO:0071223': 3, 'GO:1904385': 11, 'GO:2000630': 3, 'GO:0071224': 1, 'GO:0071532': 4, 'GO:0002357': 5, 'GO:0014040': 2, 'GO:0033234': 7, 'GO:0038061': 7, 'GO:0043620': 2, 'GO:0035525': 1, 'GO:0048863': 23, 'GO:0045787': 26, 'GO:0043154': 37, 'GO:0001568': 28, 'GO:0051865': 47, 'GO:0060411': 7, 'GO:1902254': 7, 'GO:1904754': 9, 'GO:0010955': 7, 'GO:0061663': 3, 'GO:0042975': 11, 'GO:0071480': 24, 'GO:0003170': 7, 'GO:0045931': 22, 'GO:0003181': 6, 'GO:0003203': 6, 'GO:0003283': 3, 'GO:0034504': 25, 'GO:1990000': 6, 'GO:0072717': 4, 'GO:0008097': 13, 'GO:0033612': 2, 'GO:0051149': 9, 'GO:1901797': 4, 'GO:1990785': 3, 'GO:0071425': 10, 'GO:0007219': 45, 'GO:0030851': 7, 'GO:0046638': 5, 'GO:0032301': 2, 'GO:0016446': 8, 'GO:0006301': 8, 'GO:0008094': 28, 'GO:0051096': 7, 'GO:0003684': 40, 'GO:0008340': 15, 'GO:0010165': 15, 'GO:0032357': 6, 'GO:0000400': 13, 'GO:0032405': 4, 'GO:0043531': 29, 'GO:0019724': 3, 'GO:0043570': 3, 'GO:0045910': 10, 'GO:0045190': 12, 'GO:0006312': 3, 'GO:0032139': 3, 'GO:0071168': 12, 'GO:0002204': 2, 'GO:0016447': 4, 'GO:0032137': 3, 'GO:0032142': 3, 'GO:0032143': 2, 'GO:0032181': 2, 'GO:0048298': 4, 'GO:0048304': 4, 'GO:0032302': 2, 'GO:0071902': 37, 'GO:0043539': 26, 'GO:0043015': 20, 'GO:0051321': 56, 'GO:0000923': 5, 'GO:0000930': 8, 'GO:0008275': 3, 'GO:0005827': 5, 'GO:0001772': 20, 'GO:0032266': 26, 'GO:0032456': 34, 'GO:1904719': 1, 'GO:0008333': 32, 'GO:1903609': 1, 'GO:0099638': 4, 'GO:0061951': 5, 'GO:0030111': 10, 'GO:0006644': 18, 'GO:0008195': 3, 'GO:0006672': 15, 'GO:0070971': 20, 'GO:0060020': 8, 'GO:0042577': 4, 'GO:0046839': 4, 'GO:0006670': 5, 'GO:0042392': 3, 'GO:0106235': 3, 'GO:1902068': 1, 'GO:0044328': 1, 'GO:0044329': 1, 'GO:0044330': 1, 'GO:0004126': 3, 'GO:0061676': 8, 'GO:0009972': 3, 'GO:0070383': 2, 'GO:0047844': 2, 'GO:0010972': 7, 'GO:0045786': 21, 'GO:0004725': 41, 'GO:0016311': 73, 'GO:0035335': 40, 'GO:0034394': 20, 'GO:0001750': 19, 'GO:0010839': 7, 'GO:0034644': 49, 'GO:0048041': 15, 'GO:0034614': 19, 'GO:0031256': 3, 'GO:0009411': 34, 'GO:0097193': 13, 'GO:0016973': 14, 'GO:0050684': 11, 'GO:0010793': 6, 'GO:0090239': 2, 'GO:2001253': 1, 'GO:0048188': 11, 'GO:0006807': 24, 'GO:0043170': 6, 'GO:0044238': 22, 'GO:0080182': 17, 'GO:0042800': 14, 'GO:0051568': 17, 'GO:0072357': 7, 'GO:0120099': 6, 'GO:1900087': 30, 'GO:0098536': 3, 'GO:0046601': 5, 'GO:0016772': 8, 'GO:0016779': 57, 'GO:0016024': 10, 'GO:0004605': 3, 'GO:0006661': 12, 'GO:0006006': 33, 'GO:0070371': 14, 'GO:0050679': 28, 'GO:0001783': 9, 'GO:0051276': 34, 'GO:0000082': 39, 'GO:0051782': 6, 'GO:0050910': 5, 'GO:0048705': 23, 'GO:0016485': 37, 'GO:0007346': 33, 'GO:0006919': 42, 'GO:0043473': 23, 'GO:0043280': 31, 'GO:2001022': 11, 'GO:0010564': 8, 'GO:0006865': 24, 'GO:0014911': 13, 'GO:0000791': 50, 'GO:0048147': 19, 'GO:0090571': 3, 'GO:2001235': 22, 'GO:0009314': 18, 'GO:0043388': 18, 'GO:0042474': 7, 'GO:0045821': 8, 'GO:2001171': 12, 'GO:0002904': 4, 'GO:0043279': 7, 'GO:0044336': 2, 'GO:0044337': 1, 'GO:0001658': 14, 'GO:0001866': 1, 'GO:0002053': 8, 'GO:0002082': 10, 'GO:0006848': 1, 'GO:0007007': 9, 'GO:0019087': 1, 'GO:0032986': 2, 'GO:0045656': 3, 'GO:0046325': 7, 'GO:0046722': 1, 'GO:0060252': 10, 'GO:0060261': 50, 'GO:0090096': 1, 'GO:1902255': 5, 'GO:1903862': 2, 'GO:1904672': 3, 'GO:1905643': 2, 'GO:0071943': 2, 'GO:0009611': 34, 'GO:0021854': 4, 'GO:0030728': 3, 'GO:0032355': 49, 'GO:0036120': 15, 'GO:0044752': 3, 'GO:0045023': 2, 'GO:0071322': 4, 'GO:0071346': 29, 'GO:0071378': 1, 'GO:0071391': 9, 'GO:0071409': 3, 'GO:0071464': 3, 'GO:0097421': 22, 'GO:1903841': 2, 'GO:1904586': 2, 'GO:1904620': 1, 'GO:1904628': 6, 'GO:1990646': 1, 'GO:1990858': 3, 'GO:1990859': 3, 'GO:0001726': 73, 'GO:2001238': 15, 'GO:0061041': 3, 'GO:0006931': 2, 'GO:0001825': 20, 'GO:0032545': 2, 'GO:0034456': 2, 'GO:0004197': 36, 'GO:0000151': 68, 'GO:0035246': 7, 'GO:0016274': 8, 'GO:0005669': 28, 'GO:1901990': 7, 'GO:0043138': 12, 'GO:1990841': 45, 'GO:0006283': 7, 'GO:0006362': 5, 'GO:0033683': 5, 'GO:0009650': 7, 'GO:0035315': 3, 'GO:0000439': 10, 'GO:0005675': 12, 'GO:0048568': 29, 'GO:0006265': 7, 'GO:0000717': 2, 'GO:0000112': 1, 'GO:0097550': 8, 'GO:0030308': 70, 'GO:0043484': 56, 'GO:0000281': 48, 'GO:0048024': 14, 'GO:0050733': 6, 'GO:0030307': 63, 'GO:0003724': 59, 'GO:0003725': 47, 'GO:0034458': 4, 'GO:0000958': 3, 'GO:0016817': 1, 'GO:0000962': 3, 'GO:0000965': 2, 'GO:0035945': 1, 'GO:0035946': 1, 'GO:2000827': 1, 'GO:0045025': 2, 'GO:0031201': 24, 'GO:0005483': 2, 'GO:0006913': 55, 'GO:0004111': 2, 'GO:0046314': 2, 'GO:0030644': 4, 'GO:0001618': 13, 'GO:0046718': 30, 'GO:0005198': 38, 'GO:0070830': 18, 'GO:0016338': 5, 'GO:0015914': 25, 'GO:0140326': 11, 'GO:0005215': 19, 'GO:0055037': 72, 'GO:1990531': 6, 'GO:0010831': 6, 'GO:0090555': 4, 'GO:0090556': 6, 'GO:0140346': 3, 'GO:0140331': 4, 'GO:0003727': 27, 'GO:0051880': 7, 'GO:0071919': 1, 'GO:2000767': 14, 'GO:0004128': 4, 'GO:0016208': 8, 'GO:0051287': 31, 'GO:0050421': 3, 'GO:1903958': 2, 'GO:0016602': 6, 'GO:0030032': 22, 'GO:0051015': 107, 'GO:0043507': 22, 'GO:0046847': 10, 'GO:0030035': 3, 'GO:0045995': 39, 'GO:0043966': 47, 'GO:0044154': 18, 'GO:0090043': 13, 'GO:0004860': 17, 'GO:0031063': 14, 'GO:0051302': 18, 'GO:0140672': 14, 'GO:0016070': 15, 'GO:0030422': 7, 'GO:1902555': 2, 'GO:0016246': 8, 'GO:0010008': 136, 'GO:0030906': 3, 'GO:0006896': 7, 'GO:0000463': 13, 'GO:0015379': 4, 'GO:0015698': 14, 'GO:0007268': 30, 'GO:1902476': 14, 'GO:1990573': 10, 'GO:0006884': 9, 'GO:0055064': 5, 'GO:0055075': 4, 'GO:0055001': 8, 'GO:0055010': 9, 'GO:0008138': 19, 'GO:0043409': 21, 'GO:0008330': 5, 'GO:0017017': 6, 'GO:0060420': 2, 'GO:0070373': 43, 'GO:0030317': 19, 'GO:0007288': 8, 'GO:0009566': 21, 'GO:0015631': 40, 'GO:0070740': 4, 'GO:0031982': 75, 'GO:0001510': 22, 'GO:0070062': 45, 'GO:0030488': 25, 'GO:0080009': 13, 'GO:0016428': 2, 'GO:0062152': 1, 'GO:0048820': 7, 'GO:0036416': 1, 'GO:0033313': 1, 'GO:2000736': 17, 'GO:0033391': 6, 'GO:0006406': 40, 'GO:0072006': 6, 'GO:0017056': 20, 'GO:0031080': 10, 'GO:0031727': 1, 'GO:0006935': 17, 'GO:0048246': 3, 'GO:0042985': 6, 'GO:0002317': 2, 'GO:0071363': 40, 'GO:0030837': 16, 'GO:0042989': 6, 'GO:0032420': 16, 'GO:0005884': 50, 'GO:0005080': 34, 'GO:0030042': 9, 'GO:0051016': 12, 'GO:0010591': 9, 'GO:0005546': 28, 'GO:0032532': 3, 'GO:0005778': 36, 'GO:0007031': 17, 'GO:0016558': 9, 'GO:0006625': 8, 'GO:0060152': 2, 'GO:0010873': 3, 'GO:0010879': 1, 'GO:0070508': 3, 'GO:0070859': 2, 'GO:0048873': 15, 'GO:0000800': 9, 'GO:0098505': 11, 'GO:0034502': 4, 'GO:0005662': 10, 'GO:0043047': 5, 'GO:0048593': 14, 'GO:0008053': 15, 'GO:0010667': 16, 'GO:0060253': 6, 'GO:0090201': 15, 'GO:0046326': 20, 'GO:0043394': 8, 'GO:0046580': 15, 'GO:0048662': 16, 'GO:0006626': 16, 'GO:0046628': 13, 'GO:1904706': 13, 'GO:0035563': 8, 'GO:0007006': 5, 'GO:1905461': 6, 'GO:0090258': 3, 'GO:0010729': 4, 'GO:2000386': 3, 'GO:1903428': 11, 'GO:2000866': 2, 'GO:0045792': 10, 'GO:0060299': 1, 'GO:0034497': 11, 'GO:0051646': 5, 'GO:0061734': 4, 'GO:2000872': 1, 'GO:0031306': 2, 'GO:0008092': 49, 'GO:0032874': 9, 'GO:0090316': 21, 'GO:0090051': 8, 'GO:1903588': 3, 'GO:0043406': 30, 'GO:0044319': 13, 'GO:0051683': 8, 'GO:0090168': 4, 'GO:1903358': 10, 'GO:0036481': 2, 'GO:0090443': 4, 'GO:0003158': 4, 'GO:0034773': 8, 'GO:1901838': 10, 'GO:0033140': 3, 'GO:1990889': 2, 'GO:0005885': 9, 'GO:0030833': 22, 'GO:0005200': 39, 'GO:0031941': 21, 'GO:0061850': 1, 'GO:0070294': 1, 'GO:0005642': 6, 'GO:0010824': 15, 'GO:0032434': 11, 'GO:0000056': 7, 'GO:0000054': 5, 'GO:0052629': 4, 'GO:0052866': 3, 'GO:0106018': 1, 'GO:0045197': 12, 'GO:0060996': 11, 'GO:0061512': 19, 'GO:0007173': 21, 'GO:0050807': 12, 'GO:0045176': 11, 'GO:0099175': 13, 'GO:0006471': 11, 'GO:2000377': 18, 'GO:0031584': 5, 'GO:0051213': 44, 'GO:0016705': 17, 'GO:0031418': 11, 'GO:0008544': 20, 'GO:0030867': 9, 'GO:0008475': 3, 'GO:1902494': 17, 'GO:0008198': 15, 'GO:0017185': 7, 'GO:0031519': 17, 'GO:0009952': 36, 'GO:0036353': 5, 'GO:0048706': 12, 'GO:0048704': 11, 'GO:2001234': 20, 'GO:0001739': 4, 'GO:0035102': 8, 'GO:0048478': 8, 'GO:0007095': 30, 'GO:0005657': 22, 'GO:0000077': 28, 'GO:0033260': 3, 'GO:0030894': 1, 'GO:0035198': 28, 'GO:0019843': 39, 'GO:0062176': 4, 'GO:0045945': 15, 'GO:0030515': 19, 'GO:0110016': 8, 'GO:0097322': 7, 'GO:0002735': 5, 'GO:0035066': 18, 'GO:0045943': 18, 'GO:0030117': 22, 'GO:0030663': 15, 'GO:0030126': 11, 'GO:0009306': 22, 'GO:0072384': 7, 'GO:0006891': 21, 'GO:0055038': 47, 'GO:0061462': 13, 'GO:0031647': 72, 'GO:1902430': 12, 'GO:0043001': 18, 'GO:0051641': 3, 'GO:0016592': 35, 'GO:0070847': 25, 'GO:0032968': 44, 'GO:0051123': 42, 'GO:0005901': 37, 'GO:0072584': 3, 'GO:0070300': 11, 'GO:0070836': 1, 'GO:0097320': 6, 'GO:0045806': 7, 'GO:0036010': 8, 'GO:0019898': 31, 'GO:0030100': 15, 'GO:0048858': 4, 'GO:0048714': 12, 'GO:0004407': 15, 'GO:0007492': 19, 'GO:0043124': 22, 'GO:0030182': 50, 'GO:0043922': 8, 'GO:0016581': 11, 'GO:0019213': 6, 'GO:0001222': 29, 'GO:0060766': 11, 'GO:0006346': 8, 'GO:2000273': 5, 'GO:2001243': 22, 'GO:0033558': 8, 'GO:0035851': 2, 'GO:0006476': 10, 'GO:0009913': 4, 'GO:0042475': 23, 'GO:0042733': 31, 'GO:0052548': 5, 'GO:0060789': 2, 'GO:0061029': 4, 'GO:0061198': 2, 'GO:0070932': 10, 'GO:0070933': 7, 'GO:0042659': 10, 'GO:0016853': 84, 'GO:0003916': 5, 'GO:0003917': 3, 'GO:0140225': 1, 'GO:0044281': 13, 'GO:0004485': 2, 'GO:0015936': 4, 'GO:0002169': 2, 'GO:1905202': 2, 'GO:0006552': 5, 'GO:0006388': 8, 'GO:0017166': 8, 'GO:0072669': 7, 'GO:0003972': 1, 'GO:0008452': 1, 'GO:0016886': 1, 'GO:0000971': 1, 'GO:0046854': 26, 'GO:0010506': 39, 'GO:0005776': 52, 'GO:2000786': 12, 'GO:0046488': 15, 'GO:0016307': 5, 'GO:0016308': 5, 'GO:0016309': 2, 'GO:0061909': 6, 'GO:0090217': 2, 'GO:1902635': 2, 'GO:0090140': 7, 'GO:0050870': 10, 'GO:2000114': 11, 'GO:0030334': 54, 'GO:0071219': 3, 'GO:0050920': 3, 'GO:0051058': 4, 'GO:0001916': 6, 'GO:0023030': 1, 'GO:2000568': 1, 'GO:0048583': 6, 'GO:0050853': 9, 'GO:0003823': 5, 'GO:0004713': 59, 'GO:0004715': 23, 'GO:1990405': 5, 'GO:0051209': 17, 'GO:0030139': 40, 'GO:0000242': 16, 'GO:0001784': 26, 'GO:0030217': 19, 'GO:0042169': 24, 'GO:0042608': 5, 'GO:0042610': 4, 'GO:0007166': 43, 'GO:0045589': 6, 'GO:0009612': 19, 'GO:0018108': 64, 'GO:0043548': 11, 'GO:0016004': 3, 'GO:0099091': 3, 'GO:0045588': 4, 'GO:0050856': 5, 'GO:0010038': 5, 'GO:0070474': 1, 'GO:1903039': 2, 'GO:0038083': 9, 'GO:0038094': 1, 'GO:0005697': 21, 'GO:0032211': 19, 'GO:1904816': 3, 'GO:0060348': 39, 'GO:0007052': 36, 'GO:0003431': 1, 'GO:0003351': 2, 'GO:0120197': 2, 'GO:0035082': 5, 'GO:0120222': 3, 'GO:0002395': 1, 'GO:0030178': 21, 'GO:0007026': 18, 'GO:0019887': 8, 'GO:0007094': 31, 'GO:0010942': 35, 'GO:0031274': 6, 'GO:0045736': 15, 'GO:0051988': 7, 'GO:1902807': 9, 'GO:2000134': 22, 'GO:0005852': 13, 'GO:0002183': 15, 'GO:0016282': 15, 'GO:0033290': 13, 'GO:0071541': 8, 'GO:1990756': 22, 'GO:1903204': 9, 'GO:1903599': 4, 'GO:0040012': 1, 'GO:1903208': 3, 'GO:1990037': 3, 'GO:0045620': 1, 'GO:0097409': 1, 'GO:0097414': 1, 'GO:0097462': 1, 'GO:1990038': 1, 'GO:0018142': 1, 'GO:0045830': 9, 'GO:0097681': 1, 'GO:0005680': 22, 'GO:0007091': 5, 'GO:0031145': 16, 'GO:0045842': 8, 'GO:0070979': 24, 'GO:0004222': 36, 'GO:0008237': 52, 'GO:0004175': 38, 'GO:0006518': 5, 'GO:0006627': 4, 'GO:0034220': 37, 'GO:0005247': 7, 'GO:0015297': 28, 'GO:0015108': 4, 'GO:0031492': 11, 'GO:0030496': 140, 'GO:0060339': 12, 'GO:0002191': 5, 'GO:0062073': 2, 'GO:0008494': 8, 'GO:0044611': 3, 'GO:0006405': 13, 'GO:0086014': 2, 'GO:0036228': 2, 'GO:0000972': 4, 'GO:1900149': 2, 'GO:0048103': 6, 'GO:0048588': 2, 'GO:0006614': 10, 'GO:0048500': 6, 'GO:0008312': 6, 'GO:0005786': 6, 'GO:0043022': 54, 'GO:0097730': 10, 'GO:0071782': 13, 'GO:0015036': 5, 'GO:0045836': 3, 'GO:0007147': 2, 'GO:0070935': 8, 'GO:0034976': 58, 'GO:0032392': 2, 'GO:0009378': 4, 'GO:1990814': 5, 'GO:0036310': 5, 'GO:0033036': 2, 'GO:0071702': 4, 'GO:0030991': 6, 'GO:0035721': 10, 'GO:0010634': 18, 'GO:0050921': 10, 'GO:0016576': 5, 'GO:0033137': 16, 'GO:0051894': 19, 'GO:0045927': 4, 'GO:2000048': 7, 'GO:0035970': 9, 'GO:0033192': 3, 'GO:0070262': 9, 'GO:0044387': 5, 'GO:0051224': 6, 'GO:0030974': 2, 'GO:0015234': 2, 'GO:0048701': 16, 'GO:0060325': 14, 'GO:0040018': 15, 'GO:0042471': 3, 'GO:1990414': 7, 'GO:0035136': 3, 'GO:0003151': 21, 'GO:0042634': 3, 'GO:0035115': 5, 'GO:0048557': 5, 'GO:2001224': 12, 'GO:0061038': 2, 'GO:0031065': 13, 'GO:0048592': 2, 'GO:0034088': 3, 'GO:0048638': 1, 'GO:0045778': 6, 'GO:0071481': 9, 'GO:0048703': 2, 'GO:0061010': 1, 'GO:0032039': 17, 'GO:0036033': 4, 'GO:0035261': 1, 'GO:0048565': 8, 'GO:0061780': 1, 'GO:0071169': 6, 'GO:0071921': 2, 'GO:0032116': 2, 'GO:0090694': 2, 'GO:0005641': 8, 'GO:0005309': 1, 'GO:0099055': 17, 'GO:0071705': 2, 'GO:0015220': 4, 'GO:0005308': 1, 'GO:0015881': 1, 'GO:0015871': 6, 'GO:1990403': 11, 'GO:0019787': 3, 'GO:0044804': 5, 'GO:0016236': 31, 'GO:0050765': 11, 'GO:1902017': 14, 'GO:0019776': 1, 'GO:0019777': 1, 'GO:0000153': 1, 'GO:0004945': 1, 'GO:0038166': 3, 'GO:0047750': 2, 'GO:0016125': 6, 'GO:0035025': 11, 'GO:0032006': 17, 'GO:0030506': 9, 'GO:0032794': 14, 'GO:0009636': 37, 'GO:0021983': 14, 'GO:0022408': 11, 'GO:0034332': 12, 'GO:0071285': 7, 'GO:0071681': 5, 'GO:0099576': 5, 'GO:0009898': 35, 'GO:0016600': 7, 'GO:0043296': 16, 'GO:0098794': 79, 'GO:0030514': 25, 'GO:0008083': 31, 'GO:0005125': 20, 'GO:0001654': 16, 'GO:0002021': 8, 'GO:0010453': 3, 'GO:0045662': 8, 'GO:0010862': 19, 'GO:0032525': 5, 'GO:0007498': 15, 'GO:0090009': 4, 'GO:0030903': 7, 'GO:0048859': 3, 'GO:0045605': 2, 'GO:0034470': 4, 'GO:0006144': 5, 'GO:0009117': 18, 'GO:0003920': 2, 'GO:1902560': 2, 'GO:0032264': 6, 'GO:0006163': 4, 'GO:0008514': 10, 'GO:0015172': 3, 'GO:0015179': 10, 'GO:0006835': 3, 'GO:0021545': 3, 'GO:0016597': 18, 'GO:0015813': 7, 'GO:0005313': 5, 'GO:0005314': 1, 'GO:0015175': 6, 'GO:0015501': 1, 'GO:0015804': 9, 'GO:0098712': 3, 'GO:0098796': 2, 'GO:0050806': 6, 'GO:0070779': 2, 'GO:0006883': 9, 'GO:0048667': 7, 'GO:0016595': 5, 'GO:0043200': 15, 'GO:0071314': 3, 'GO:0009449': 1, 'GO:0051938': 1, 'GO:0140009': 3, 'GO:0031223': 1, 'GO:0043490': 4, 'GO:0015800': 3, 'GO:0015807': 10, 'GO:1902475': 10, 'GO:0007015': 65, 'GO:0043433': 44, 'GO:2000042': 10, 'GO:0010719': 15, 'GO:0010944': 5, 'GO:0042276': 5, 'GO:0016035': 2, 'GO:2000678': 3, 'GO:1904667': 11, 'GO:0042772': 1, 'GO:0002208': 1, 'GO:0043247': 4, 'GO:0000421': 34, 'GO:0031902': 89, 'GO:0044754': 10, 'GO:0030670': 23, 'GO:0031088': 3, 'GO:0006605': 26, 'GO:1905146': 10, 'GO:0072594': 4, 'GO:0061684': 6, 'GO:0061740': 3, 'GO:0097352': 30, 'GO:0097637': 1, 'GO:1990836': 2, 'GO:0061742': 1, 'GO:0006353': 8, 'GO:0043204': 69, 'GO:0030018': 51, 'GO:0000387': 20, 'GO:0034719': 14, 'GO:0007019': 12, 'GO:0097504': 8, 'GO:0032797': 8, 'GO:0071933': 7, 'GO:0008076': 6, 'GO:0030427': 4, 'GO:0048812': 36, 'GO:0002102': 21, 'GO:0030863': 17, 'GO:0048870': 21, 'GO:0006898': 30, 'GO:0098885': 7, 'GO:1990023': 11, 'GO:0030838': 26, 'GO:0098871': 7, 'GO:0005522': 7, 'GO:0006930': 4, 'GO:0070064': 18, 'GO:0045987': 5, 'GO:0060491': 3, 'GO:0097062': 6, 'GO:0097581': 2, 'GO:0004019': 1, 'GO:0006167': 4, 'GO:0006531': 4, 'GO:0014074': 6, 'GO:0046040': 3, 'GO:0060359': 2, 'GO:0071257': 5, 'GO:0044209': 6, 'GO:0015986': 13, 'GO:0046933': 12, 'GO:0006754': 16, 'GO:0045261': 6, 'GO:0046034': 30, 'GO:0005753': 15, 'GO:0008553': 3, 'GO:0000275': 5, 'GO:0004459': 2, 'GO:0006089': 4, 'GO:0004457': 2, 'GO:0019674': 6, 'GO:0006090': 7, 'GO:0019244': 2, 'GO:1990204': 3, 'GO:0051260': 44, 'GO:0001832': 8, 'GO:0001711': 7, 'GO:0051571': 22, 'GO:0016593': 7, 'GO:0045211': 52, 'GO:0098839': 11, 'GO:0004714': 18, 'GO:0005003': 5, 'GO:0045785': 26, 'GO:0031594': 34, 'GO:0043679': 24, 'GO:0007162': 25, 'GO:0061001': 9, 'GO:0050775': 19, 'GO:0043235': 62, 'GO:0007411': 65, 'GO:0048681': 8, 'GO:0099056': 17, 'GO:0046875': 15, 'GO:0048013': 14, 'GO:0005005': 5, 'GO:0008347': 5, 'GO:0005004': 1, 'GO:0090102': 11, 'GO:1900272': 5, 'GO:0042731': 3, 'GO:1905244': 5, 'GO:0098883': 2, 'GO:1903051': 1, 'GO:0072178': 1, 'GO:0008045': 10, 'GO:0097155': 2, 'GO:1900038': 3, 'GO:0097161': 1, 'GO:0021957': 3, 'GO:0048710': 2, 'GO:0061098': 15, 'GO:0097156': 1, 'GO:0097485': 5, 'GO:0106030': 1, 'GO:2001108': 2, 'GO:0007204': 34, 'GO:0070973': 5, 'GO:0097038': 8, 'GO:0032471': 7, 'GO:0044233': 14, 'GO:0035584': 6, 'GO:0051561': 6, 'GO:0030136': 47, 'GO:1903071': 5, 'GO:1904154': 3, 'GO:0046966': 23, 'GO:0097067': 8, 'GO:0005740': 12, 'GO:0020037': 33, 'GO:0048039': 6, 'GO:0006121': 5, 'GO:0008177': 3, 'GO:0005749': 4, 'GO:0050433': 1, 'GO:0004046': 3, 'GO:0006520': 12, 'GO:1990050': 6, 'GO:0022904': 20, 'GO:0010259': 12, 'GO:0061458': 4, 'GO:0006936': 16, 'GO:0072359': 11, 'GO:0014898': 5, 'GO:0016529': 25, 'GO:0033017': 13, 'GO:0005388': 6, 'GO:0032469': 13, 'GO:0044548': 9, 'GO:1900121': 6, 'GO:0034599': 55, 'GO:0012506': 16, 'GO:0070588': 35, 'GO:0015662': 3, 'GO:1990456': 7, 'GO:0006937': 3, 'GO:0070296': 1, 'GO:0010882': 5, 'GO:0033292': 2, 'GO:0002026': 8, 'GO:0006984': 1, 'GO:0014883': 1, 'GO:0032470': 2, 'GO:0045822': 2, 'GO:1903233': 2, 'GO:0031775': 1, 'GO:0086039': 1, 'GO:0016240': 7, 'GO:0055119': 2, 'GO:0086036': 5, 'GO:0098909': 2, 'GO:0140056': 5, 'GO:1903515': 2, 'GO:1990036': 2, 'GO:0014801': 1, 'GO:0061831': 2, 'GO:0097470': 3, 'GO:0120025': 6, 'GO:0090534': 1, 'GO:0050750': 16, 'GO:0005790': 20, 'GO:0033018': 4, 'GO:0071318': 3, 'GO:0031247': 2, 'GO:0043666': 9, 'GO:0034663': 8, 'GO:0090110': 12, 'GO:0030127': 13, 'GO:0090114': 5, 'GO:0006635': 40, 'GO:0030497': 6, 'GO:0005779': 10, 'GO:0043217': 3, 'GO:0000038': 9, 'GO:0055089': 9, 'GO:0055092': 3, 'GO:0042760': 5, 'GO:0047617': 8, 'GO:0015910': 3, 'GO:0032000': 4, 'GO:0015607': 1, 'GO:0015916': 1, 'GO:0031998': 3, 'GO:0036113': 1, 'GO:0042758': 2, 'GO:1900016': 11, 'GO:1900407': 4, 'GO:1990535': 8, 'GO:2001280': 1, 'GO:0008146': 7, 'GO:0051923': 3, 'GO:0006790': 4, 'GO:0140059': 5, 'GO:0021510': 17, 'GO:0035251': 2, 'GO:0035252': 4, 'GO:0046527': 5, 'GO:0140561': 2, 'GO:0140562': 2, 'GO:0003707': 6, 'GO:0005496': 7, 'GO:0043401': 7, 'GO:0030522': 14, 'GO:0004879': 17, 'GO:2000035': 5, 'GO:0048839': 17, 'GO:0008134': 20, 'GO:0045725': 3, 'GO:0045494': 18, 'GO:2000737': 14, 'GO:0001831': 3, 'GO:0043697': 3, 'GO:0001834': 2, 'GO:0017145': 9, 'GO:0071931': 2, 'GO:0090282': 1, 'GO:0010265': 2, 'GO:0045899': 4, 'GO:0031461': 13, 'GO:0001401': 4, 'GO:0033108': 5, 'GO:0019867': 1, 'GO:0003755': 27, 'GO:0000413': 27, 'GO:0034450': 11, 'GO:0055088': 23, 'GO:0038024': 6, 'GO:0042953': 9, 'GO:0010638': 3, 'GO:0032368': 3, 'GO:0001671': 21, 'GO:0032781': 17, 'GO:0034446': 30, 'GO:0030031': 7, 'GO:0071963': 1, 'GO:1900017': 6, 'GO:0060135': 7, 'GO:0019079': 4, 'GO:0030682': 1, 'GO:0075506': 2, 'GO:1903902': 3, 'GO:0043657': 3, 'GO:0005791': 40, 'GO:0060541': 1, 'GO:0042472': 16, 'GO:0051387': 2, 'GO:0010801': 15, 'GO:0045595': 9, 'GO:1900747': 4, 'GO:1990752': 4, 'GO:0040037': 9, 'GO:0060425': 14, 'GO:0034260': 18, 'GO:0045165': 17, 'GO:0048754': 16, 'GO:0060449': 3, 'GO:0060437': 1, 'GO:1902747': 3, 'GO:0031345': 4, 'GO:0007275': 22, 'GO:0007339': 14, 'GO:0045596': 34, 'GO:0010454': 1, 'GO:0001714': 3, 'GO:0001710': 2, 'GO:0001010': 2, 'GO:0008406': 6, 'GO:0009880': 8, 'GO:0042664': 1, 'GO:0009825': 1, 'GO:0014070': 65, 'GO:0036018': 1, 'GO:0042246': 9, 'GO:0072752': 4, 'GO:0051638': 1, 'GO:1902745': 1, 'GO:2000813': 1, 'GO:0031529': 9, 'GO:1900026': 25, 'GO:0046415': 1, 'GO:0044354': 6, 'GO:0044351': 5, 'GO:0051639': 7, 'GO:0008143': 18, 'GO:0000381': 38, 'GO:0008266': 16, 'GO:0035591': 13, 'GO:0046831': 1, 'GO:0046833': 5, 'GO:0070618': 1, 'GO:0006779': 8, 'GO:0004325': 1, 'GO:0046501': 3, 'GO:0097177': 5, 'GO:0032217': 2, 'GO:0032218': 2, 'GO:0048193': 13, 'GO:0030008': 12, 'GO:0099022': 12, 'GO:0006901': 8, 'GO:1990071': 8, 'GO:1990380': 11, 'GO:0061578': 6, 'GO:0071108': 20, 'GO:0070646': 3, 'GO:0070536': 18, 'GO:0090503': 28, 'GO:0000175': 22, 'GO:0008190': 7, 'GO:0101031': 19, 'GO:0071218': 7, 'GO:0045171': 57, 'GO:0003777': 29, 'GO:0001578': 21, 'GO:0061952': 15, 'GO:0003774': 38, 'GO:0072332': 18, 'GO:0010389': 6, 'GO:0009259': 2, 'GO:0005158': 15, 'GO:0034122': 10, 'GO:0010594': 3, 'GO:0043304': 4, 'GO:0004676': 1, 'GO:0010518': 3, 'GO:0019722': 16, 'GO:0032148': 11, 'GO:0043122': 18, 'GO:0043536': 18, 'GO:0045766': 47, 'GO:0051281': 8, 'GO:1903078': 32, 'GO:1905564': 10, 'GO:2000352': 13, 'GO:0016788': 13, 'GO:0044260': 6, 'GO:0030057': 12, 'GO:0035145': 17, 'GO:0046907': 19, 'GO:0001841': 13, 'GO:0004379': 2, 'GO:0006499': 4, 'GO:0018008': 2, 'GO:0051292': 9, 'GO:0034399': 15, 'GO:0043495': 8, 'GO:0046832': 2, 'GO:0042405': 10, 'GO:1990875': 1, 'GO:0070122': 10, 'GO:0140492': 10, 'GO:0005682': 14, 'GO:0046540': 30, 'GO:0030532': 8, 'GO:0070530': 17, 'GO:0030623': 2, 'GO:0000244': 10, 'GO:0030620': 5, 'GO:0097157': 7, 'GO:0030619': 7, 'GO:0008643': 16, 'GO:0005355': 3, 'GO:1904659': 5, 'GO:0002080': 7, 'GO:0005536': 7, 'GO:0015149': 2, 'GO:0015749': 2, 'GO:0033300': 4, 'GO:0055056': 2, 'GO:0046323': 5, 'GO:0070837': 4, 'GO:0004826': 4, 'GO:0006432': 4, 'GO:0051290': 9, 'GO:0009328': 2, 'GO:0030071': 27, 'GO:0006086': 5, 'GO:0045254': 6, 'GO:0061732': 7, 'GO:0034604': 5, 'GO:0005967': 6, 'GO:0004742': 1, 'GO:0030523': 1, 'GO:0017148': 67, 'GO:0002526': 4, 'GO:0030225': 4, 'GO:0004694': 4, 'GO:0010998': 3, 'GO:0140467': 5, 'GO:0140468': 4, 'GO:0010999': 1, 'GO:0046984': 1, 'GO:0046986': 1, 'GO:1990641': 1, 'GO:0004448': 5, 'GO:0004449': 3, 'GO:0006102': 6, 'GO:0005962': 3, 'GO:0045926': 7, 'GO:0004298': 10, 'GO:0019774': 8, 'GO:0001530': 9, 'GO:0002862': 4, 'GO:0008374': 12, 'GO:0003841': 7, 'GO:0047184': 5, 'GO:0036151': 7, 'GO:2001246': 1, 'GO:0047159': 1, 'GO:0047191': 1, 'GO:0047192': 2, 'GO:0050200': 1, 'GO:0001937': 11, 'GO:0045454': 22, 'GO:0033622': 5, 'GO:0010596': 8, 'GO:0030695': 6, 'GO:0004816': 1, 'GO:0006421': 1, 'GO:0031728': 1, 'GO:0005784': 5, 'GO:0019003': 49, 'GO:0045335': 45, 'GO:0008021': 81, 'GO:0043195': 16, 'GO:0045022': 21, 'GO:0045921': 9, 'GO:0098842': 1, 'GO:0051489': 10, 'GO:0036477': 7, 'GO:0098993': 11, 'GO:0098559': 3, 'GO:0150093': 6, 'GO:0032009': 5, 'GO:2000286': 2, 'GO:0036465': 5, 'GO:0051036': 6, 'GO:0019001': 7, 'GO:0048169': 11, 'GO:0030665': 13, 'GO:0030125': 5, 'GO:0080008': 21, 'GO:0035518': 15, 'GO:0070914': 7, 'GO:0031465': 4, 'GO:0031464': 11, 'GO:0014909': 4, 'GO:0061842': 1, 'GO:0006282': 44, 'GO:0031672': 10, 'GO:0031674': 8, 'GO:0004145': 2, 'GO:0000123': 25, 'GO:0004468': 3, 'GO:0010835': 5, 'GO:0018076': 3, 'GO:2000233': 2, 'GO:0045722': 13, 'GO:0043970': 2, 'GO:0004861': 6, 'GO:0035521': 22, 'GO:0035522': 26, 'GO:0000124': 19, 'GO:0072383': 3, 'GO:0032438': 11, 'GO:0035459': 2, 'GO:0061000': 6, 'GO:0001786': 19, 'GO:1903527': 3, 'GO:0031253': 10, 'GO:0005547': 26, 'GO:0071803': 8, 'GO:0097225': 14, 'GO:0097228': 7, 'GO:0120316': 2, 'GO:0008589': 9, 'GO:0035735': 6, 'GO:0015078': 15, 'GO:0046961': 16, 'GO:0033177': 4, 'GO:0033179': 7, 'GO:0005774': 13, 'GO:0030177': 17, 'GO:0007035': 8, 'GO:0000220': 7, 'GO:0016471': 11, 'GO:1904093': 3, 'GO:0099061': 11, 'GO:1902414': 9, 'GO:0098686': 11, 'GO:0002089': 6, 'GO:0060042': 4, 'GO:0005244': 15, 'GO:0034765': 17, 'GO:0005245': 7, 'GO:0005262': 19, 'GO:0005891': 3, 'GO:0007528': 19, 'GO:1902514': 1, 'GO:0008331': 2, 'GO:1901385': 5, 'GO:0045933': 4, 'GO:1990454': 2, 'GO:0010457': 9, 'GO:0000070': 28, 'GO:0045143': 6, 'GO:0051177': 3, 'GO:0008608': 12, 'GO:0045132': 6, 'GO:0031011': 15, 'GO:0006275': 42, 'GO:0033044': 17, 'GO:0042766': 19, 'GO:0060382': 15, 'GO:0045739': 37, 'GO:1904507': 13, 'GO:0097255': 4, 'GO:0120293': 8, 'GO:0071339': 27, 'GO:0090263': 53, 'GO:0010756': 6, 'GO:1990062': 10, 'GO:2000269': 3, 'GO:0001094': 9, 'GO:0000492': 9, 'GO:0017101': 12, 'GO:0060510': 2, 'GO:0060090': 47, 'GO:1903632': 1, 'GO:0042635': 2, 'GO:2000648': 10, 'GO:0000333': 1, 'GO:0003720': 6, 'GO:2001240': 10, 'GO:0003721': 1, 'GO:0003964': 1, 'GO:0070200': 6, 'GO:0090399': 10, 'GO:0051000': 10, 'GO:0071897': 21, 'GO:0003968': 1, 'GO:0042162': 26, 'GO:0070034': 17, 'GO:0098680': 1, 'GO:0001172': 1, 'GO:0006278': 3, 'GO:0022616': 1, 'GO:0046686': 21, 'GO:0062103': 1, 'GO:1903620': 1, 'GO:1903704': 1, 'GO:1990572': 1, 'GO:0031379': 1, 'GO:0061617': 8, 'GO:0032212': 25, 'GO:0031848': 3, 'GO:0048239': 2, 'GO:0050764': 5, 'GO:0010521': 6, 'GO:0017151': 5, 'GO:0061821': 4, 'GO:1905773': 3, 'GO:1990955': 2, 'GO:0032202': 4, 'GO:0032210': 4, 'GO:0051974': 11, 'GO:0060383': 2, 'GO:0061820': 8, 'GO:1905774': 2, 'GO:1905776': 3, 'GO:2001032': 6, 'GO:0070187': 7, 'GO:0000783': 7, 'GO:0031047': 36, 'GO:0001662': 12, 'GO:0044026': 2, 'GO:2000143': 1, 'GO:0010529': 7, 'GO:0043046': 7, 'GO:0005518': 28, 'GO:0030574': 10, 'GO:0043621': 38, 'GO:0006590': 4, 'GO:0010466': 20, 'GO:1904090': 2, 'GO:0046697': 14, 'GO:0030984': 3, 'GO:0030855': 33, 'GO:0008119': 1, 'GO:0008757': 17, 'GO:1904047': 13, 'GO:0006805': 10, 'GO:0004521': 18, 'GO:0000479': 3, 'GO:0075522': 12, 'GO:0007186': 73, 'GO:0019236': 1, 'GO:0000349': 2, 'GO:0000438': 3, 'GO:0000379': 3, 'GO:0000214': 4, 'GO:0000184': 29, 'GO:0006479': 23, 'GO:1990825': 12, 'GO:0002184': 3, 'GO:0018444': 3, 'GO:0006449': 6, 'GO:0003747': 5, 'GO:0006415': 5, 'GO:0008079': 1, 'GO:0016149': 1, 'GO:2000177': 9, 'GO:0006376': 11, 'GO:0033119': 5, 'GO:0071230': 33, 'GO:0009791': 45, 'GO:0050769': 20, 'GO:0055013': 8, 'GO:0008361': 16, 'GO:0038202': 10, 'GO:0035176': 10, 'GO:0001932': 37, 'GO:0007584': 31, 'GO:0099524': 18, 'GO:0048738': 9, 'GO:0008542': 25, 'GO:0060999': 17, 'GO:0051647': 4, 'GO:0034198': 36, 'GO:0005979': 5, 'GO:0019228': 4, 'GO:0060048': 15, 'GO:0031932': 9, 'GO:0016242': 9, 'GO:0048255': 21, 'GO:0014042': 2, 'GO:0010507': 26, 'GO:0061051': 7, 'GO:0001938': 24, 'GO:0006112': 2, 'GO:0048266': 5, 'GO:0071233': 9, 'GO:0007616': 20, 'GO:0050882': 6, 'GO:0043278': 10, 'GO:1904193': 2, 'GO:0002296': 3, 'GO:0046889': 8, 'GO:1904058': 2, 'GO:0051896': 8, 'GO:1990253': 11, 'GO:0031929': 15, 'GO:0003179': 3, 'GO:0045670': 5, 'GO:1904000': 1, 'GO:1904056': 2, 'GO:1903691': 3, 'GO:0031669': 12, 'GO:0006109': 1, 'GO:0099547': 1, 'GO:0031931': 8, 'GO:0090335': 3, 'GO:0001002': 3, 'GO:0001003': 3, 'GO:0001006': 5, 'GO:0032095': 2, 'GO:0001156': 3, 'GO:0006207': 5, 'GO:0014736': 1, 'GO:0043610': 1, 'GO:0055006': 1, 'GO:1904059': 1, 'GO:1904197': 1, 'GO:1904206': 1, 'GO:1904213': 1, 'GO:0071470': 7, 'GO:1905857': 2, 'GO:0045646': 4, 'GO:0045647': 4, 'GO:1902037': 4, 'GO:1903707': 2, 'GO:0004888': 28, 'GO:0005216': 15, 'GO:0005230': 2, 'GO:0022848': 2, 'GO:0060078': 4, 'GO:0060079': 6, 'GO:0030594': 2, 'GO:1904315': 4, 'GO:0042391': 15, 'GO:0050877': 10, 'GO:0005892': 2, 'GO:0098981': 4, 'GO:0032715': 13, 'GO:0007271': 1, 'GO:0032279': 7, 'GO:0032094': 8, 'GO:0008179': 7, 'GO:0042734': 19, 'GO:0008306': 18, 'GO:0042113': 8, 'GO:0035094': 13, 'GO:0035095': 1, 'GO:0095500': 4, 'GO:0015464': 1, 'GO:0042166': 1, 'GO:1905144': 2, 'GO:0060112': 1, 'GO:0097061': 3, 'GO:1900273': 12, 'GO:0048149': 4, 'GO:0030673': 5, 'GO:1904645': 5, 'GO:0032691': 9, 'GO:0050808': 30, 'GO:0098690': 2, 'GO:0001988': 1, 'GO:0014061': 1, 'GO:0032225': 2, 'GO:0042698': 2, 'GO:0017081': 2, 'GO:0032222': 2, 'GO:0050893': 1, 'GO:0051247': 9, 'GO:0051823': 1, 'GO:0098815': 4, 'GO:1901214': 10, 'GO:1905906': 3, 'GO:1905920': 2, 'GO:1905923': 1, 'GO:2001023': 1, 'GO:0099065': 2, 'GO:0006616': 7, 'GO:0031204': 7, 'GO:0007029': 27, 'GO:0006620': 11, 'GO:0045048': 7, 'GO:0005048': 3, 'GO:0006613': 3, 'GO:0039019': 1, 'GO:0008610': 19, 'GO:0004311': 3, 'GO:0004310': 1, 'GO:0016765': 6, 'GO:0051996': 1, 'GO:0008299': 8, 'GO:0045338': 1, 'GO:0045599': 24, 'GO:0071549': 19, 'GO:0071560': 32, 'GO:0031536': 5, 'GO:0043491': 14, 'GO:0042306': 6, 'GO:0030879': 17, 'GO:0005160': 7, 'GO:0035295': 3, 'GO:0051781': 15, 'GO:0050832': 5, 'GO:0042060': 44, 'GO:0005902': 39, 'GO:0002244': 43, 'GO:0030316': 16, 'GO:0070166': 6, 'GO:0017015': 13, 'GO:0035307': 23, 'GO:0043552': 10, 'GO:0032740': 5, 'GO:0031100': 17, 'GO:0001657': 16, 'GO:0032801': 12, 'GO:1903077': 14, 'GO:0050868': 6, 'GO:0002028': 8, 'GO:0048286': 19, 'GO:0005114': 3, 'GO:0071479': 31, 'GO:0016202': 4, 'GO:0001763': 4, 'GO:0042130': 15, 'GO:0051280': 1, 'GO:2000679': 7, 'GO:0032700': 3, 'GO:0032570': 17, 'GO:1903911': 2, 'GO:0030279': 12, 'GO:0060744': 3, 'GO:0060762': 3, 'GO:0003180': 6, 'GO:0048535': 9, 'GO:0060389': 5, 'GO:0072540': 3, 'GO:0043117': 4, 'GO:0060435': 1, 'GO:0043011': 5, 'GO:2000249': 9, 'GO:0060391': 10, 'GO:0043537': 7, 'GO:0030214': 3, 'GO:1900182': 23, 'GO:0010763': 9, 'GO:0071677': 2, 'GO:0090190': 7, 'GO:0048642': 3, 'GO:0051098': 5, 'GO:0007406': 5, 'GO:1903799': 7, 'GO:1903800': 8, 'GO:0001775': 7, 'GO:0002069': 1, 'GO:0002513': 2, 'GO:0032943': 1, 'GO:0042482': 1, 'GO:0045066': 1, 'GO:0051101': 4, 'GO:0051152': 3, 'GO:0060751': 1, 'GO:0061035': 3, 'GO:0061448': 2, 'GO:0070306': 7, 'GO:0034714': 1, 'GO:0001843': 64, 'GO:0002362': 1, 'GO:0002460': 1, 'GO:0007182': 5, 'GO:0007183': 5, 'GO:0007435': 4, 'GO:0010936': 3, 'GO:0014008': 1, 'GO:0031293': 10, 'GO:0032667': 1, 'GO:0032829': 1, 'GO:0032967': 12, 'GO:0033280': 7, 'GO:0034616': 5, 'GO:0035902': 9, 'GO:0043932': 1, 'GO:0045918': 2, 'GO:0050777': 4, 'GO:0060364': 2, 'GO:0060390': 4, 'GO:0060965': 3, 'GO:0070168': 3, 'GO:0070723': 5, 'GO:0085029': 4, 'GO:1900126': 3, 'GO:1901666': 2, 'GO:1902074': 1, 'GO:1904894': 2, 'GO:1905313': 1, 'GO:1990314': 11, 'GO:1990402': 3, 'GO:0070021': 3, 'GO:0099126': 1, 'GO:0072562': 2, 'GO:0018344': 5, 'GO:0005968': 3, 'GO:0048484': 2, 'GO:0001560': 2, 'GO:0030544': 31, 'GO:0016018': 10, 'GO:0061077': 28, 'GO:0030331': 25, 'GO:0071492': 4, 'GO:0034389': 12, 'GO:0005528': 5, 'GO:0002953': 1, 'GO:0043034': 10, 'GO:0060538': 3, 'GO:0033592': 6, 'GO:2000637': 11, 'GO:0043488': 23, 'GO:0044326': 4, 'GO:1902737': 2, 'GO:0060170': 21, 'GO:0005484': 20, 'GO:0006906': 18, 'GO:0016082': 5, 'GO:0031629': 6, 'GO:0098693': 4, 'GO:0020018': 2, 'GO:0022625': 53, 'GO:1990932': 2, 'GO:0050773': 7, 'GO:2000404': 3, 'GO:1903977': 1, 'GO:0030971': 36, 'GO:0007389': 17, 'GO:0001655': 6, 'GO:0098761': 15, 'GO:1904888': 8, 'GO:0060017': 2, 'GO:0033628': 6, 'GO:0048384': 10, 'GO:0071774': 2, 'GO:0086100': 5, 'GO:0038026': 4, 'GO:0002685': 3, 'GO:0035685': 2, 'GO:0060465': 1, 'GO:0098749': 2, 'GO:1904393': 1, 'GO:0098890': 4, 'GO:1905274': 6, 'GO:0060124': 5, 'GO:0097440': 10, 'GO:0019209': 5, 'GO:0097708': 9, 'GO:2001288': 2, 'GO:0044305': 7, 'GO:0098833': 1, 'GO:0150007': 1, 'GO:1901387': 7, 'GO:0000137': 5, 'GO:0005797': 13, 'GO:0000138': 7, 'GO:0090285': 2, 'GO:0005548': 5, 'GO:0120019': 5, 'GO:0008525': 3, 'GO:0008526': 6, 'GO:0031210': 15, 'GO:0000062': 18, 'GO:0070540': 1, 'GO:0000956': 15, 'GO:0008408': 12, 'GO:0000178': 16, 'GO:0000467': 8, 'GO:0000176': 14, 'GO:0004532': 4, 'GO:0071028': 11, 'GO:0071034': 4, 'GO:0071035': 6, 'GO:0071036': 1, 'GO:0071037': 1, 'GO:0071038': 6, 'GO:0071039': 1, 'GO:0071040': 1, 'GO:0071044': 9, 'GO:0071048': 1, 'GO:0071051': 6, 'GO:1904872': 4, 'GO:0035327': 16, 'GO:0000177': 13, 'GO:0101019': 9, 'GO:0045880': 18, 'GO:0019518': 1, 'GO:0006567': 1, 'GO:0008743': 1, 'GO:0010827': 4, 'GO:0070673': 1, 'GO:0120193': 3, 'GO:0004342': 2, 'GO:0006043': 2, 'GO:0006046': 3, 'GO:0019262': 6, 'GO:0042742': 24, 'GO:0140311': 5, 'GO:0060546': 10, 'GO:0051220': 6, 'GO:0071797': 4, 'GO:0097039': 3, 'GO:0061827': 3, 'GO:0090084': 4, 'GO:0097201': 3, 'GO:0043292': 8, 'GO:0032467': 22, 'GO:0017022': 16, 'GO:0014047': 2, 'GO:0048167': 20, 'GO:0048023': 4, 'GO:0032435': 26, 'GO:0030511': 17, 'GO:1902570': 7, 'GO:0090069': 3, 'GO:1904744': 1, 'GO:0008295': 1, 'GO:0004766': 1, 'GO:0001967': 8, 'GO:0016560': 3, 'GO:0021795': 4, 'GO:0000268': 3, 'GO:0001561': 4, 'GO:1990429': 3, 'GO:0099575': 2, 'GO:0009055': 19, 'GO:0048038': 6, 'GO:0033539': 10, 'GO:0004174': 2, 'GO:0017133': 3, 'GO:0015229': 2, 'GO:0015081': 3, 'GO:0008520': 2, 'GO:0015882': 2, 'GO:0070904': 2, 'GO:0060670': 6, 'GO:0032878': 3, 'GO:0015820': 3, 'GO:0016332': 3, 'GO:0045159': 3, 'GO:0050708': 7, 'GO:0051294': 5, 'GO:0048806': 3, 'GO:1900208': 2, 'GO:0098800': 2, 'GO:0099617': 4, 'GO:0017080': 7, 'GO:2000649': 4, 'GO:0042921': 5, 'GO:0035259': 12, 'GO:0006713': 1, 'GO:0086010': 1, 'GO:0000083': 12, 'GO:0070988': 3, 'GO:1900222': 5, 'GO:0050709': 8, 'GO:0060282': 1, 'GO:0008398': 1, 'GO:0033488': 1, 'GO:0003689': 8, 'GO:0008156': 10, 'GO:0042325': 10, 'GO:0033314': 9, 'GO:0031389': 1, 'GO:0030199': 22, 'GO:0032963': 7, 'GO:0007034': 13, 'GO:0099023': 2, 'GO:0043687': 6, 'GO:0099092': 10, 'GO:1900242': 7, 'GO:0031697': 2, 'GO:0016191': 3, 'GO:0016504': 7, 'GO:0010952': 7, 'GO:1900025': 9, 'GO:2000146': 7, 'GO:0001968': 14, 'GO:0005604': 50, 'GO:0070051': 2, 'GO:0072378': 2, 'GO:2000647': 1, 'GO:0071953': 1, 'GO:0071635': 2, 'GO:1904237': 3, 'GO:1904188': 1, 'GO:0031497': 8, 'GO:0006335': 8, 'GO:0033186': 3, 'GO:0046604': 3, 'GO:0031468': 15, 'GO:0051898': 24, 'GO:0004445': 5, 'GO:0052659': 3, 'GO:0051497': 18, 'GO:0097178': 8, 'GO:0045869': 9, 'GO:0046855': 10, 'GO:0035810': 3, 'GO:0090315': 5, 'GO:0051926': 3, 'GO:0071320': 21, 'GO:0032870': 12, 'GO:0045719': 3, 'GO:0034485': 5, 'GO:0010829': 2, 'GO:0005000': 1, 'GO:0016312': 2, 'GO:0034594': 1, 'GO:0046030': 1, 'GO:0035305': 2, 'GO:2000466': 1, 'GO:2001153': 1, 'GO:0006999': 8, 'GO:0007129': 12, 'GO:0051664': 1, 'GO:0070762': 1, 'GO:0032510': 5, 'GO:0031053': 9, 'GO:0009982': 9, 'GO:0001522': 12, 'GO:0009451': 9, 'GO:0031119': 4, 'GO:0070878': 7, 'GO:0106029': 2, 'GO:0061628': 3, 'GO:0042692': 8, 'GO:0062072': 2, 'GO:1903912': 5, 'GO:0070417': 8, 'GO:0034975': 4, 'GO:0036494': 1, 'GO:0048018': 9, 'GO:0060669': 4, 'GO:0042592': 3, 'GO:0001944': 20, 'GO:0072205': 5, 'GO:1902262': 4, 'GO:0005109': 13, 'GO:0003338': 3, 'GO:0051145': 6, 'GO:0060428': 5, 'GO:0060710': 4, 'GO:0021871': 2, 'GO:0045879': 16, 'GO:0060484': 6, 'GO:0060535': 1, 'GO:0032364': 4, 'GO:0048864': 3, 'GO:0060033': 2, 'GO:1902379': 1, 'GO:1904938': 4, 'GO:0022009': 4, 'GO:0021846': 4, 'GO:0050768': 19, 'GO:0060482': 1, 'GO:0060560': 2, 'GO:0072053': 2, 'GO:0072054': 2, 'GO:0072060': 1, 'GO:0072061': 3, 'GO:0072207': 1, 'GO:0072236': 1, 'GO:0032536': 1, 'GO:0036516': 1, 'GO:0060429': 5, 'GO:0048144': 1, 'GO:0061180': 2, 'GO:0072089': 5, 'GO:0001824': 20, 'GO:0009263': 2, 'GO:0004748': 2, 'GO:0009185': 2, 'GO:0009265': 2, 'GO:0005971': 2, 'GO:0009262': 1, 'GO:0008199': 5, 'GO:0006206': 2, 'GO:0055086': 1, 'GO:0030170': 25, 'GO:0006665': 30, 'GO:0046513': 17, 'GO:0017059': 3, 'GO:0060612': 30, 'GO:0030148': 16, 'GO:0006686': 8, 'GO:0046511': 2, 'GO:0046512': 9, 'GO:1904504': 4, 'GO:0004758': 3, 'GO:0034657': 5, 'GO:0009063': 3, 'GO:0045251': 2, 'GO:0034204': 7, 'GO:0032585': 18, 'GO:0140345': 2, 'GO:0006855': 4, 'GO:0005319': 8, 'GO:0097208': 5, 'GO:0046470': 5, 'GO:1902995': 3, 'GO:2001140': 4, 'GO:0070925': 6, 'GO:0042599': 2, 'GO:0046890': 4, 'GO:0097233': 1, 'GO:0046471': 5, 'GO:0032464': 2, 'GO:0046618': 1, 'GO:0051384': 23, 'GO:0150172': 1, 'GO:0097232': 1, 'GO:0015144': 1, 'GO:0034219': 2, 'GO:0000961': 2, 'GO:0004652': 7, 'GO:0043631': 6, 'GO:0031123': 10, 'GO:0030258': 4, 'GO:0032330': 5, 'GO:0036152': 3, 'GO:0106262': 3, 'GO:0106263': 3, 'GO:0036150': 3, 'GO:1903924': 1, 'GO:0000276': 8, 'GO:0000274': 2, 'GO:0051402': 29, 'GO:1990001': 2, 'GO:0043027': 10, 'GO:0120283': 2, 'GO:0060785': 2, 'GO:0010804': 8, 'GO:0097340': 2, 'GO:1902530': 1, 'GO:0075525': 5, 'GO:0002188': 2, 'GO:0043614': 2, 'GO:0071540': 2, 'GO:0006702': 2, 'GO:0035116': 11, 'GO:0042974': 17, 'GO:0030216': 22, 'GO:0060335': 1, 'GO:0030224': 9, 'GO:0071383': 7, 'GO:0045618': 7, 'GO:0048821': 14, 'GO:0030518': 3, 'GO:0035162': 5, 'GO:0033598': 7, 'GO:2000347': 5, 'GO:0050693': 3, 'GO:0003222': 10, 'GO:0070318': 6, 'GO:0033148': 7, 'GO:0060745': 1, 'GO:0060750': 2, 'GO:0035050': 9, 'GO:2001141': 2, 'GO:0042809': 7, 'GO:0035357': 6, 'GO:0048822': 2, 'GO:0045665': 33, 'GO:0070562': 3, 'GO:0002154': 1, 'GO:0003406': 2, 'GO:0005112': 14, 'GO:0050681': 22, 'GO:0014010': 3, 'GO:0043923': 14, 'GO:0048026': 17, 'GO:0048385': 1, 'GO:0070564': 3, 'GO:0008024': 7, 'GO:0071141': 5, 'GO:0016272': 7, 'GO:1905907': 9, 'GO:0008016': 4, 'GO:0090303': 11, 'GO:0030297': 2, 'GO:0045741': 3, 'GO:0038134': 2, 'GO:0038135': 2, 'GO:0051545': 1, 'GO:0031507': 13, 'GO:0035098': 14, 'GO:0051019': 17, 'GO:0043392': 14, 'GO:0016811': 14, 'GO:0035601': 5, 'GO:0010460': 4, 'GO:0034979': 4, 'GO:0043422': 13, 'GO:1904179': 6, 'GO:0051574': 4, 'GO:0060125': 2, 'GO:0014858': 1, 'GO:0010906': 14, 'GO:2000481': 3, 'GO:0000012': 7, 'GO:0042311': 19, 'GO:2000774': 6, 'GO:0097009': 17, 'GO:0001678': 14, 'GO:0014068': 27, 'GO:0043425': 15, 'GO:0043398': 4, 'GO:1902237': 5, 'GO:0035356': 4, 'GO:0045348': 3, 'GO:2000270': 6, 'GO:0000183': 4, 'GO:0046015': 3, 'GO:0033553': 3, 'GO:0061773': 2, 'GO:0005677': 7, 'GO:0035774': 16, 'GO:0090400': 2, 'GO:0016239': 19, 'GO:0042326': 9, 'GO:0033210': 6, 'GO:0090312': 4, 'GO:0001542': 4, 'GO:0000720': 4, 'GO:1902176': 8, 'GO:2000480': 3, 'GO:1990254': 2, 'GO:0044321': 6, 'GO:0000731': 9, 'GO:0046969': 2, 'GO:0061647': 2, 'GO:1990619': 2, 'GO:0010883': 6, 'GO:0017136': 4, 'GO:0032071': 2, 'GO:0034983': 5, 'GO:0051097': 1, 'GO:0071441': 1, 'GO:0071900': 3, 'GO:2000619': 4, 'GO:2000655': 1, 'GO:2000757': 5, 'GO:0070857': 1, 'GO:0042595': 1, 'GO:0106231': 2, 'GO:0106230': 2, 'GO:2000111': 1, 'GO:0006642': 3, 'GO:0034391': 2, 'GO:0035358': 1, 'GO:0050872': 7, 'GO:1900113': 6, 'GO:2000614': 1, 'GO:2000641': 8, 'GO:0032509': 9, 'GO:2000825': 3, 'GO:0016180': 13, 'GO:0048741': 9, 'GO:0033173': 4, 'GO:0002931': 26, 'GO:0007614': 4, 'GO:0051151': 5, 'GO:0008597': 3, 'GO:0018024': 21, 'GO:0034968': 18, 'GO:0046974': 4, 'GO:0006333': 9, 'GO:0051567': 4, 'GO:0015012': 11, 'GO:0007062': 15, 'GO:0008278': 7, 'GO:0034991': 6, 'GO:0000027': 21, 'GO:0004601': 13, 'GO:0098869': 36, 'GO:0030099': 10, 'GO:0051920': 7, 'GO:0001893': 9, 'GO:0042744': 9, 'GO:0033673': 9, 'GO:0008379': 7, 'GO:0018171': 3, 'GO:0006610': 3, 'GO:0031463': 26, 'GO:0001533': 10, 'GO:0004165': 2, 'GO:0004300': 6, 'GO:0016863': 2, 'GO:0004525': 3, 'GO:0016075': 12, 'GO:0070125': 4, 'GO:0070884': 2, 'GO:0006970': 10, 'GO:0060291': 14, 'GO:0004867': 16, 'GO:0010951': 32, 'GO:0030414': 20, 'GO:0030195': 5, 'GO:0045861': 9, 'GO:0060384': 7, 'GO:0014067': 6, 'GO:0007596': 17, 'GO:0031091': 4, 'GO:0032940': 4, 'GO:0042628': 1, 'GO:0048711': 7, 'GO:0090331': 4, 'GO:0031232': 5, 'GO:0050974': 1, 'GO:0010544': 3, 'GO:0033363': 3, 'GO:0048505': 3, 'GO:0010766': 5, 'GO:0021683': 1, 'GO:0061108': 1, 'GO:0010757': 3, 'GO:0061110': 1, 'GO:0004177': 21, 'GO:0008236': 27, 'GO:0008239': 6, 'GO:0031593': 27, 'GO:0008540': 12, 'GO:0022624': 17, 'GO:0048813': 26, 'GO:0098974': 15, 'GO:1905606': 7, 'GO:0098942': 3, 'GO:0021522': 12, 'GO:0048666': 25, 'GO:0010890': 5, 'GO:0031493': 9, 'GO:0070742': 8, 'GO:0035067': 7, 'GO:0106153': 1, 'GO:0006116': 2, 'GO:0070995': 5, 'GO:0042373': 4, 'GO:1903363': 5, 'GO:0003955': 2, 'GO:0009743': 4, 'GO:0014075': 4, 'GO:0033574': 13, 'GO:0051602': 15, 'GO:0071248': 1, 'GO:1901698': 1, 'GO:1904772': 5, 'GO:1904844': 1, 'GO:1904880': 1, 'GO:0008753': 1, 'GO:0050136': 1, 'GO:0006743': 2, 'GO:0042360': 1, 'GO:0006857': 2, 'GO:0016248': 1, 'GO:0015833': 3, 'GO:0071916': 2, 'GO:0140206': 2, 'GO:0051956': 2, 'GO:0015333': 2, 'GO:0005427': 1, 'GO:0035673': 1, 'GO:0071786': 10, 'GO:0031209': 10, 'GO:0002153': 2, 'GO:0005831': 1, 'GO:0008180': 24, 'GO:0046328': 8, 'GO:0019784': 3, 'GO:0000338': 10, 'GO:1903894': 1, 'GO:1990182': 4, 'GO:0000469': 3, 'GO:0042274': 21, 'GO:0030688': 12, 'GO:0044093': 2, 'GO:0106261': 1, 'GO:0002926': 2, 'GO:0008607': 2, 'GO:0051598': 2, 'GO:0030896': 3, 'GO:0008853': 2, 'GO:0005607': 2, 'GO:0006546': 2, 'GO:0016594': 4, 'GO:0019464': 3, 'GO:0004375': 1, 'GO:0070280': 2, 'GO:0036255': 1, 'GO:1903442': 1, 'GO:0005960': 2, 'GO:0006633': 38, 'GO:0015721': 6, 'GO:0005782': 15, 'GO:0006699': 4, 'GO:1903512': 1, 'GO:2000278': 9, 'GO:0030332': 20, 'GO:0070936': 42, 'GO:0031208': 2, 'GO:0006513': 35, 'GO:0071630': 1, 'GO:0043149': 7, 'GO:0007369': 21, 'GO:0035024': 14, 'GO:1901992': 2, 'GO:0044346': 2, 'GO:0072576': 3, 'GO:0048208': 16, 'GO:0040016': 8, 'GO:0004930': 32, 'GO:0042249': 2, 'GO:0048105': 2, 'GO:0060488': 2, 'GO:0060489': 2, 'GO:0060490': 2, 'GO:0090179': 9, 'GO:0090251': 1, 'GO:0001736': 9, 'GO:0005044': 5, 'GO:0070207': 7, 'GO:0030666': 2, 'GO:0070287': 1, 'GO:0001835': 18, 'GO:0008137': 16, 'GO:0035658': 2, 'GO:0015459': 11, 'GO:0019870': 3, 'GO:0019871': 4, 'GO:0003254': 3, 'GO:0060306': 3, 'GO:1901016': 5, 'GO:1901017': 3, 'GO:1901380': 2, 'GO:1902305': 4, 'GO:1902306': 2, 'GO:1903861': 13, 'GO:2000009': 6, 'GO:2000650': 2, 'GO:0010765': 8, 'GO:0003085': 5, 'GO:2001259': 3, 'GO:2000810': 7, 'GO:0035497': 9, 'GO:0009794': 1, 'GO:0022617': 6, 'GO:0031581': 4, 'GO:0005606': 3, 'GO:0071163': 2, 'GO:2000104': 2, 'GO:0004708': 9, 'GO:0032873': 7, 'GO:0016574': 10, 'GO:0098779': 4, 'GO:0018023': 6, 'GO:0032760': 35, 'GO:0042799': 4, 'GO:0018026': 9, 'GO:0044648': 5, 'GO:0071863': 1, 'GO:0097692': 7, 'GO:0001741': 12, 'GO:0034421': 3, 'GO:0034244': 11, 'GO:0051304': 4, 'GO:0072757': 4, 'GO:0016591': 7, 'GO:2000147': 11, 'GO:0120163': 23, 'GO:0051289': 29, 'GO:0016290': 8, 'GO:0102991': 6, 'GO:0008324': 10, 'GO:0006812': 27, 'GO:0006824': 3, 'GO:0098655': 20, 'GO:0001774': 5, 'GO:0016235': 21, 'GO:0031018': 5, 'GO:2000060': 11, 'GO:0061518': 2, 'GO:0042583': 3, 'GO:0017038': 2, 'GO:1900221': 3, 'GO:1902998': 2, 'GO:0034366': 1, 'GO:0097418': 4, 'GO:1902230': 12, 'GO:1903573': 5, 'GO:0140597': 2, 'GO:0002434': 1, 'GO:0032286': 3, 'GO:0051788': 2, 'GO:1902847': 1, 'GO:1905892': 1, 'GO:1905895': 1, 'GO:0099020': 1, 'GO:0001917': 23, 'GO:0004385': 3, 'GO:0019673': 2, 'GO:0046939': 3, 'GO:0034436': 3, 'GO:0006185': 1, 'GO:0046037': 5, 'GO:0046054': 1, 'GO:0046060': 3, 'GO:0046711': 1, 'GO:0046710': 3, 'GO:0004090': 5, 'GO:0070402': 11, 'GO:0000253': 3, 'GO:0042376': 2, 'GO:0140157': 1, 'GO:0052472': 2, 'GO:0043651': 4, 'GO:0019233': 14, 'GO:0045777': 6, 'GO:0019439': 2, 'GO:0090181': 7, 'GO:0004301': 3, 'GO:0033885': 1, 'GO:0052642': 2, 'GO:0002539': 1, 'GO:0046272': 1, 'GO:0097176': 2, 'GO:0008327': 14, 'GO:0044729': 2, 'GO:0010390': 10, 'GO:0071353': 15, 'GO:0003688': 15, 'GO:0005664': 8, 'GO:1905775': 2, 'GO:0045668': 25, 'GO:0008344': 21, 'GO:0019216': 18, 'GO:2000045': 44, 'GO:0021772': 6, 'GO:0001656': 8, 'GO:0048468': 11, 'GO:0002521': 4, 'GO:0045578': 2, 'GO:0043353': 4, 'GO:0045475': 5, 'GO:0045651': 5, 'GO:0048541': 3, 'GO:0140416': 12, 'GO:0003149': 5, 'GO:0048715': 8, 'GO:0048663': 8, 'GO:0045664': 12, 'GO:0001966': 2, 'GO:0003166': 1, 'GO:0009649': 2, 'GO:0051148': 6, 'GO:0060749': 6, 'GO:0061030': 2, 'GO:0061031': 1, 'GO:1904797': 2, 'GO:0071556': 8, 'GO:0004190': 12, 'GO:0042500': 7, 'GO:0033619': 9, 'GO:0071458': 5, 'GO:1904211': 2, 'GO:0031090': 12, 'GO:0004693': 19, 'GO:0000307': 28, 'GO:0070816': 9, 'GO:0008353': 11, 'GO:0043405': 7, 'GO:0002944': 2, 'GO:0019908': 3, 'GO:0003993': 5, 'GO:0004446': 1, 'GO:0030351': 1, 'GO:0030352': 1, 'GO:0034417': 1, 'GO:0052745': 3, 'GO:0052826': 1, 'GO:0008781': 1, 'GO:0006054': 1, 'GO:0099149': 10, 'GO:0002092': 12, 'GO:0140567': 2, 'GO:0051967': 4, 'GO:0140570': 1, 'GO:0008300': 1, 'GO:0008111': 1, 'GO:0008206': 5, 'GO:0001664': 22, 'GO:0008277': 12, 'GO:0002903': 5, 'GO:0050861': 3, 'GO:1903615': 1, 'GO:0001975': 6, 'GO:0003300': 4, 'GO:0031000': 4, 'GO:0045862': 18, 'GO:0055093': 9, 'GO:0070828': 2, 'GO:1902437': 2, 'GO:1903351': 7, 'GO:0006895': 11, 'GO:0008373': 2, 'GO:0097503': 2, 'GO:0006491': 10, 'GO:0003828': 2, 'GO:1990452': 2, 'GO:0036297': 22, 'GO:0043240': 12, 'GO:0007276': 11, 'GO:0032008': 28, 'GO:0021895': 6, 'GO:0044255': 17, 'GO:0005052': 1, 'GO:0033328': 2, 'GO:0016561': 3, 'GO:0045046': 4, 'GO:0051262': 12, 'GO:0071361': 6, 'GO:0036294': 2, 'GO:0060044': 5, 'GO:0045666': 37, 'GO:0048008': 21, 'GO:0016314': 1, 'GO:0014065': 12, 'GO:0005161': 7, 'GO:0010997': 8, 'GO:0051717': 1, 'GO:0051800': 1, 'GO:0051548': 1, 'GO:0051895': 10, 'GO:1903690': 2, 'GO:1903984': 1, 'GO:1904668': 8, 'GO:0010666': 10, 'GO:0048679': 8, 'GO:0060292': 6, 'GO:0060074': 2, 'GO:0060997': 7, 'GO:0002902': 1, 'GO:0031642': 8, 'GO:0032228': 6, 'GO:0033032': 1, 'GO:0060736': 3, 'GO:0007270': 6, 'GO:0021542': 4, 'GO:0030534': 8, 'GO:0032535': 1, 'GO:0033555': 2, 'GO:0042711': 1, 'GO:0044320': 5, 'GO:0046621': 8, 'GO:0048853': 3, 'GO:0050771': 10, 'GO:0060024': 2, 'GO:0060134': 4, 'GO:0060179': 5, 'GO:0060341': 5, 'GO:0061002': 3, 'GO:0090071': 2, 'GO:0090344': 5, 'GO:0090394': 4, 'GO:0097105': 2, 'GO:0097107': 1, 'GO:2000272': 6, 'GO:2000808': 1, 'GO:0035749': 5, 'GO:0043220': 9, 'GO:0008637': 18, 'GO:1900452': 2, 'GO:0051434': 4, 'GO:0051400': 4, 'GO:0046902': 10, 'GO:0097136': 5, 'GO:1902236': 15, 'GO:1900118': 2, 'GO:0097371': 9, 'GO:0071312': 3, 'GO:1901029': 6, 'GO:0009605': 1, 'GO:0019050': 1, 'GO:0046898': 1, 'GO:0071839': 1, 'GO:0097143': 2, 'GO:0007131': 14, 'GO:0007141': 12, 'GO:0004829': 3, 'GO:0006435': 3, 'GO:0060040': 1, 'GO:0060223': 1, 'GO:0060226': 1, 'GO:1902870': 1, 'GO:0099003': 10, 'GO:0031083': 11, 'GO:0098967': 4, 'GO:0043249': 9, 'GO:0070776': 8, 'GO:0036409': 2, 'GO:0050793': 10, 'GO:1903706': 8, 'GO:0044232': 10, 'GO:0006701': 2, 'GO:0099044': 2, 'GO:0140284': 4, 'GO:1901991': 3, 'GO:1903852': 2, 'GO:0032592': 10, 'GO:0048487': 27, 'GO:0036250': 1, 'GO:0044721': 1, 'GO:1902511': 1, 'GO:0006309': 4, 'GO:0070242': 5, 'GO:0060703': 1, 'GO:0032076': 1, 'GO:0001111': 1, 'GO:0051053': 1, 'GO:0007171': 2, 'GO:0070851': 6, 'GO:0031954': 11, 'GO:0140684': 3, 'GO:0032452': 11, 'GO:0033169': 8, 'GO:0032454': 8, 'GO:0051864': 7, 'GO:0070544': 7, 'GO:0016577': 4, 'GO:0016627': 20, 'GO:0003995': 9, 'GO:0051791': 3, 'GO:0001676': 12, 'GO:0070991': 3, 'GO:0004466': 4, 'GO:0017099': 3, 'GO:0070527': 7, 'GO:0060068': 5, 'GO:0030168': 10, 'GO:0043277': 11, 'GO:0021885': 1, 'GO:0051250': 2, 'GO:0070050': 10, 'GO:0019894': 26, 'GO:0042988': 2, 'GO:0035249': 10, 'GO:0098982': 25, 'GO:0051965': 14, 'GO:1902474': 2, 'GO:0051932': 6, 'GO:0005516': 72, 'GO:0016459': 21, 'GO:0000146': 12, 'GO:0030050': 9, 'GO:0060171': 2, 'GO:0032421': 3, 'GO:1900748': 2, 'GO:0090314': 18, 'GO:1900078': 4, 'GO:0038089': 3, 'GO:0048771': 4, 'GO:0016042': 42, 'GO:0004771': 1, 'GO:0016298': 6, 'GO:0010761': 11, 'GO:0060021': 32, 'GO:0008585': 14, 'GO:0030325': 13, 'GO:0048644': 3, 'GO:0060613': 5, 'GO:0004523': 4, 'GO:0000407': 21, 'GO:0061709': 11, 'GO:0044805': 4, 'GO:0120013': 4, 'GO:0034727': 5, 'GO:0008652': 21, 'GO:0009086': 7, 'GO:0019509': 5, 'GO:0010309': 1, 'GO:0006555': 3, 'GO:0038023': 35, 'GO:0070613': 9, 'GO:0001886': 8, 'GO:0048845': 6, 'GO:1903849': 3, 'GO:0001569': 16, 'GO:0045602': 6, 'GO:0060354': 2, 'GO:0050661': 16, 'GO:0006098': 7, 'GO:0031406': 9, 'GO:0006739': 8, 'GO:0019322': 2, 'GO:0009051': 4, 'GO:0046177': 1, 'GO:0004616': 1, 'GO:0019521': 1, 'GO:1990090': 28, 'GO:1901741': 4, 'GO:0034383': 6, 'GO:2001137': 3, 'GO:0120036': 2, 'GO:0031095': 2, 'GO:0047690': 2, 'GO:0023051': 5, 'GO:0050860': 12, 'GO:0030155': 22, 'GO:0043393': 14, 'GO:0002669': 2, 'GO:0007175': 7, 'GO:2000583': 3, 'GO:0018193': 2, 'GO:0046642': 2, 'GO:0051592': 28, 'GO:1902527': 5, 'GO:0035019': 21, 'GO:0030295': 19, 'GO:0005880': 2, 'GO:0005818': 2, 'GO:0043203': 6, 'GO:0070938': 5, 'GO:0070201': 9, 'GO:0008574': 11, 'GO:0050699': 16, 'GO:2001222': 6, 'GO:1903438': 2, 'GO:0005544': 14, 'GO:0050819': 2, 'GO:0017046': 2, 'GO:0097211': 2, 'GO:1901317': 1, 'GO:1902721': 1, 'GO:0072563': 2, 'GO:0061045': 5, 'GO:0035020': 8, 'GO:0071732': 12, 'GO:0030159': 11, 'GO:0005159': 5, 'GO:0045953': 3, 'GO:1901652': 5, 'GO:0045309': 2, 'GO:0001878': 3, 'GO:0035728': 2, 'GO:0061847': 1, 'GO:1902531': 5, 'GO:0051310': 10, 'GO:0090234': 3, 'GO:1905342': 4, 'GO:1990072': 10, 'GO:0032687': 1, 'GO:0099560': 6, 'GO:0035374': 5, 'GO:0043395': 7, 'GO:0022038': 7, 'GO:0030517': 12, 'GO:0032688': 8, 'GO:0034164': 1, 'GO:0048671': 2, 'GO:0099151': 2, 'GO:0030285': 12, 'GO:1904779': 1, 'GO:0007051': 12, 'GO:0033566': 2, 'GO:0003857': 4, 'GO:0008709': 1, 'GO:0030283': 1, 'GO:0044594': 4, 'GO:0047015': 1, 'GO:0047035': 1, 'GO:0106281': 1, 'GO:0106282': 1, 'GO:0106283': 1, 'GO:0006550': 5, 'GO:0008207': 1, 'GO:0008209': 7, 'GO:0008210': 7, 'GO:0062173': 1, 'GO:0070901': 3, 'GO:1990180': 3, 'GO:0043527': 4, 'GO:0070273': 15, 'GO:0009101': 5, 'GO:0090161': 10, 'GO:0031985': 8, 'GO:0045053': 5, 'GO:0050901': 7, 'GO:0060352': 2, 'GO:0048194': 3, 'GO:0090164': 2, 'GO:0006398': 6, 'GO:0071204': 5, 'GO:0071207': 1, 'GO:0017154': 7, 'GO:0071526': 16, 'GO:0050772': 19, 'GO:1902287': 6, 'GO:0002116': 5, 'GO:1990138': 14, 'GO:0014910': 3, 'GO:0060666': 1, 'GO:0004467': 8, 'GO:0042178': 6, 'GO:0044539': 6, 'GO:0047676': 7, 'GO:0015908': 13, 'GO:0050197': 2, 'GO:0070251': 2, 'GO:0019432': 8, 'GO:0033211': 7, 'GO:0090434': 3, 'GO:0010747': 2, 'GO:0034201': 2, 'GO:0035338': 8, 'GO:0035984': 2, 'GO:0070734': 5, 'GO:0098532': 4, 'GO:1902808': 8, 'GO:0050767': 19, 'GO:1900006': 11, 'GO:0045120': 11, 'GO:0042054': 16, 'GO:0070314': 7, 'GO:0016571': 19, 'GO:0048387': 4, 'GO:0014834': 2, 'GO:0051154': 2, 'GO:0021695': 6, 'GO:0014013': 2, 'GO:0031509': 7, 'GO:0036333': 2, 'GO:0046976': 5, 'GO:0106222': 6, 'GO:0071707': 3, 'GO:0051480': 12, 'GO:0099072': 8, 'GO:0005246': 7, 'GO:0035308': 9, 'GO:0090724': 5, 'GO:1901020': 5, 'GO:0050815': 4, 'GO:1902309': 2, 'GO:1905913': 4, 'GO:0033204': 9, 'GO:0000172': 8, 'GO:0005655': 6, 'GO:0030681': 9, 'GO:0010494': 61, 'GO:0044818': 16, 'GO:0070876': 4, 'GO:0050290': 1, 'GO:0046475': 2, 'GO:0004767': 4, 'GO:0006685': 4, 'GO:0005640': 15, 'GO:0001503': 28, 'GO:0003309': 3, 'GO:0044665': 7, 'GO:0001776': 4, 'GO:0000403': 4, 'GO:0070412': 17, 'GO:0032925': 2, 'GO:0046329': 15, 'GO:0061469': 6, 'GO:0002051': 3, 'GO:0002076': 6, 'GO:0001216': 7, 'GO:0071559': 4, 'GO:0071375': 11, 'GO:0006402': 21, 'GO:0061014': 14, 'GO:0035458': 11, 'GO:0043457': 4, 'GO:0034046': 7, 'GO:2000772': 10, 'GO:0035928': 3, 'GO:0000964': 2, 'GO:2000627': 2, 'GO:0004654': 1, 'GO:0000957': 1, 'GO:0035927': 1, 'GO:0051591': 13, 'GO:0060416': 5, 'GO:0071042': 4, 'GO:0097222': 1, 'GO:0097386': 7, 'GO:0004356': 1, 'GO:0006542': 1, 'GO:0006536': 9, 'GO:0032024': 19, 'GO:0051968': 5, 'GO:0045503': 5, 'GO:0019676': 2, 'GO:1903670': 3, 'GO:1904749': 2, 'GO:1990189': 3, 'GO:1990190': 2, 'GO:0017198': 2, 'GO:0018002': 2, 'GO:2000719': 1, 'GO:0043981': 15, 'GO:0043982': 15, 'GO:1900095': 11, 'GO:0044545': 9, 'GO:0044666': 10, 'GO:0051572': 5, 'GO:0043588': 26, 'GO:0002269': 1, 'GO:0006959': 7, 'GO:0023019': 7, 'GO:0001768': 3, 'GO:0042119': 5, 'GO:0002344': 1, 'GO:0097400': 6, 'GO:0042092': 2, 'GO:0072538': 5, 'GO:1990959': 1, 'GO:0097398': 2, 'GO:0110012': 2, 'GO:0002334': 1, 'GO:0002447': 1, 'GO:0038173': 1, 'GO:0070254': 1, 'GO:0035925': 17, 'GO:0034427': 9, 'GO:0043928': 9, 'GO:0034475': 7, 'GO:0034473': 3, 'GO:0034476': 3, 'GO:0060045': 11, 'GO:0090166': 6, 'GO:0045740': 26, 'GO:0035173': 3, 'GO:0097472': 3, 'GO:0010243': 20, 'GO:0016572': 13, 'GO:0055015': 4, 'GO:1905448': 3, 'GO:0097125': 2, 'GO:0004821': 2, 'GO:0006427': 2, 'GO:0005672': 3, 'GO:0006656': 8, 'GO:0097006': 3, 'GO:0045797': 2, 'GO:1905885': 2, 'GO:0071617': 4, 'GO:0090158': 4, 'GO:0034378': 1, 'GO:0034379': 5, 'GO:0036335': 3, 'GO:0045540': 4, 'GO:1901310': 1, 'GO:0004252': 31, 'GO:0010954': 5, 'GO:0048515': 3, 'GO:0051047': 2, 'GO:0070097': 5, 'GO:0010642': 6, 'GO:0042059': 13, 'GO:0043116': 8, 'GO:0050918': 12, 'GO:0030234': 18, 'GO:0035226': 1, 'GO:0006750': 5, 'GO:0097746': 7, 'GO:0006534': 2, 'GO:0035229': 1, 'GO:0004357': 2, 'GO:0051409': 4, 'GO:0071372': 4, 'GO:0097069': 2, 'GO:0017109': 2, 'GO:0070037': 1, 'GO:0070475': 3, 'GO:0017126': 2, 'GO:0016229': 1, 'GO:0004303': 6, 'GO:0072582': 3, 'GO:0006710': 2, 'GO:0034645': 6, 'GO:0045930': 13, 'GO:2000628': 3, 'GO:0050830': 17, 'GO:0010586': 9, 'GO:0031054': 10, 'GO:0050829': 13, 'GO:0070877': 2, 'GO:0030289': 5, 'GO:0033128': 4, 'GO:0047631': 4, 'GO:0046032': 1, 'GO:0046709': 1, 'GO:0016538': 21, 'GO:0000079': 24, 'GO:0097124': 2, 'GO:0001939': 7, 'GO:0001940': 5, 'GO:0007265': 35, 'GO:0044843': 1, 'GO:0071373': 1, 'GO:0035615': 12, 'GO:0005930': 40, 'GO:0035869': 23, 'GO:0004095': 3, 'GO:0006641': 17, 'GO:0050796': 13, 'GO:0031307': 15, 'GO:0009437': 6, 'GO:1990698': 2, 'GO:0010876': 3, 'GO:0046320': 2, 'GO:0071398': 13, 'GO:0030948': 9, 'GO:0036324': 3, 'GO:0060038': 8, 'GO:0055012': 3, 'GO:0001972': 4, 'GO:0048856': 20, 'GO:0050692': 3, 'GO:0009755': 13, 'GO:0045994': 1, 'GO:0061032': 2, 'GO:0044323': 3, 'GO:0070644': 2, 'GO:0060687': 3, 'GO:0001162': 7, 'GO:0060528': 2, 'GO:0002157': 1, 'GO:0055007': 16, 'GO:0060485': 4, 'GO:0060978': 3, 'GO:0008541': 9, 'GO:0005838': 10, 'GO:0045742': 10, 'GO:0031981': 14, 'GO:0006261': 20, 'GO:0008622': 4, 'GO:0006105': 6, 'GO:0000104': 2, 'GO:0062069': 1, 'GO:0007189': 14, 'GO:0090129': 6, 'GO:0016524': 1, 'GO:0035299': 1, 'GO:0032958': 5, 'GO:0052746': 2, 'GO:0004857': 16, 'GO:0050121': 1, 'GO:0017076': 4, 'GO:0006051': 1, 'GO:0007154': 19, 'GO:0032290': 2, 'GO:0061450': 1, 'GO:0031994': 10, 'GO:0038132': 5, 'GO:0035878': 3, 'GO:0043589': 6, 'GO:0030056': 7, 'GO:0048333': 8, 'GO:1901844': 1, 'GO:0010459': 2, 'GO:0051924': 9, 'GO:0086004': 4, 'GO:0060315': 6, 'GO:1901841': 2, 'GO:1901077': 1, 'GO:0042584': 6, 'GO:0055118': 2, 'GO:0044390': 6, 'GO:0044257': 10, 'GO:0050873': 10, 'GO:0005504': 14, 'GO:0015909': 5, 'GO:2001245': 1, 'GO:0036041': 2, 'GO:0050543': 1, 'GO:0070538': 2, 'GO:0032365': 2, 'GO:0071073': 2, 'GO:0140214': 1, 'GO:0016528': 5, 'GO:0090162': 8, 'GO:0140374': 7, 'GO:0000423': 14, 'GO:0046625': 2, 'GO:0048786': 15, 'GO:0033147': 12, 'GO:0033600': 4, 'GO:0033218': 1, 'GO:0002639': 8, 'GO:0007202': 3, 'GO:0039529': 6, 'GO:1904959': 5, 'GO:1990051': 3, 'GO:0035632': 2, 'GO:0055074': 10, 'GO:0030593': 12, 'GO:0030282': 13, 'GO:0031214': 6, 'GO:0034418': 3, 'GO:0045780': 9, 'GO:0071498': 9, 'GO:0072044': 2, 'GO:0050840': 12, 'GO:0048545': 11, 'GO:0030643': 3, 'GO:0003950': 8, 'GO:1990404': 6, 'GO:1904355': 12, 'GO:1904357': 6, 'GO:0070212': 5, 'GO:0070213': 5, 'GO:0015349': 3, 'GO:0015173': 3, 'GO:0015801': 1, 'GO:0070327': 3, 'GO:0070460': 1, 'GO:0000149': 27, 'GO:0032588': 24, 'GO:0048278': 8, 'GO:0016189': 3, 'GO:0034647': 3, 'GO:0034721': 3, 'GO:0034720': 6, 'GO:0032453': 5, 'GO:0032479': 2, 'GO:0032727': 12, 'GO:0060340': 8, 'GO:0044565': 2, 'GO:1904417': 4, 'GO:2000622': 4, 'GO:1990501': 3, 'GO:0007292': 6, 'GO:0005732': 6, 'GO:0034457': 3, 'GO:0006782': 7, 'GO:0033014': 3, 'GO:0046685': 5, 'GO:0004655': 1, 'GO:1904854': 1, 'GO:0009635': 2, 'GO:0010039': 9, 'GO:0010044': 3, 'GO:0010266': 2, 'GO:0010269': 7, 'GO:0010288': 16, 'GO:0032025': 5, 'GO:0033197': 8, 'GO:0033273': 2, 'GO:0046689': 3, 'GO:0051597': 4, 'GO:0070541': 1, 'GO:0070542': 15, 'GO:0071284': 2, 'GO:1901799': 8, 'GO:0070006': 16, 'GO:0019885': 4, 'GO:0008235': 3, 'GO:0006509': 15, 'GO:0005164': 8, 'GO:0005138': 4, 'GO:0043171': 7, 'GO:0031462': 18, 'GO:0140627': 7, 'GO:0010828': 3, 'GO:0065002': 1, 'GO:0031340': 3, 'GO:0038028': 2, 'GO:0006383': 10, 'GO:0000127': 5, 'GO:1901673': 16, 'GO:0098789': 12, 'GO:0071920': 2, 'GO:0035435': 8, 'GO:0031226': 7, 'GO:0000822': 3, 'GO:0015114': 2, 'GO:0006817': 5, 'GO:0016036': 2, 'GO:0071711': 8, 'GO:0016684': 5, 'GO:0019806': 1, 'GO:0043237': 4, 'GO:0070831': 4, 'GO:0010737': 5, 'GO:0048240': 5, 'GO:0061136': 15, 'GO:0001707': 16, 'GO:0031588': 7, 'GO:1901621': 5, 'GO:0071374': 3, 'GO:1990044': 3, 'GO:0004679': 5, 'GO:0004691': 3, 'GO:0048792': 1, 'GO:0051447': 3, 'GO:0005952': 4, 'GO:0005787': 5, 'GO:0051216': 21, 'GO:0036342': 11, 'GO:0043508': 8, 'GO:0032502': 6, 'GO:0017147': 12, 'GO:0008047': 22, 'GO:0060028': 4, 'GO:0090175': 4, 'GO:0002063': 8, 'GO:0090244': 2, 'GO:0042662': 1, 'GO:0003214': 4, 'GO:0031668': 9, 'GO:0048546': 6, 'GO:0046546': 2, 'GO:0050732': 10, 'GO:2000041': 2, 'GO:0061056': 1, 'GO:0061185': 1, 'GO:1904956': 2, 'GO:0003953': 3, 'GO:0001817': 8, 'GO:0002224': 8, 'GO:0002755': 4, 'GO:0035325': 5, 'GO:0038187': 2, 'GO:0042497': 1, 'GO:0042834': 2, 'GO:0071723': 1, 'GO:0002237': 3, 'GO:0006691': 4, 'GO:0007252': 7, 'GO:0032289': 3, 'GO:0032493': 1, 'GO:0034123': 1, 'GO:0034134': 2, 'GO:0038124': 1, 'GO:0042495': 1, 'GO:0042496': 1, 'GO:0046209': 1, 'GO:0071726': 1, 'GO:0071727': 1, 'GO:1903974': 1, 'GO:1904466': 2, 'GO:0035354': 1, 'GO:0035355': 1, 'GO:0051017': 20, 'GO:0006892': 9, 'GO:0033572': 6, 'GO:0030048': 9, 'GO:0000290': 9, 'GO:1903608': 7, 'GO:0031087': 3, 'GO:0110156': 2, 'GO:0035596': 2, 'GO:1990145': 1, 'GO:0035600': 2, 'GO:0035598': 1, 'GO:0061712': 1, 'GO:0016810': 9, 'GO:0014049': 1, 'GO:0048489': 11, 'GO:0008135': 8, 'GO:0043024': 16, 'GO:0070124': 2, 'GO:0030976': 5, 'GO:0048029': 10, 'GO:0046166': 2, 'GO:0004802': 1, 'GO:0009052': 3, 'GO:0046390': 2, 'GO:0017150': 3, 'GO:0002943': 3, 'GO:0070345': 3, 'GO:0010917': 8, 'GO:0005521': 12, 'GO:0035694': 3, 'GO:0043067': 5, 'GO:0097345': 6, 'GO:0035794': 3, 'GO:1903214': 4, 'GO:0001675': 8, 'GO:0051721': 29, 'GO:0043254': 10, 'GO:0019046': 2, 'GO:0072657': 12, 'GO:0006688': 4, 'GO:0010908': 1, 'GO:0048539': 5, 'GO:0061178': 8, 'GO:0042813': 7, 'GO:0060603': 6, 'GO:0042074': 7, 'GO:0071901': 9, 'GO:0061304': 3, 'GO:0060444': 9, 'GO:0060764': 1, 'GO:0061299': 2, 'GO:0035426': 2, 'GO:0110135': 1, 'GO:0006007': 1, 'GO:0015026': 7, 'GO:0071936': 2, 'GO:0071889': 22, 'GO:1904263': 17, 'GO:0097484': 8, 'GO:0051018': 10, 'GO:2000601': 8, 'GO:0098939': 2, 'GO:0051388': 5, 'GO:1990416': 5, 'GO:0072673': 5, 'GO:0046474': 7, 'GO:0005795': 25, 'GO:0051493': 13, 'GO:0051453': 13, 'GO:1901096': 6, 'GO:0035235': 5, 'GO:0001508': 3, 'GO:0010762': 9, 'GO:0120146': 5, 'GO:1903826': 7, 'GO:0042987': 13, 'GO:0061024': 15, 'GO:0048172': 6, 'GO:0048549': 5, 'GO:0090160': 9, 'GO:0051861': 2, 'GO:1903076': 14, 'GO:0090385': 6, 'GO:0046836': 2, 'GO:0009992': 2, 'GO:0042998': 5, 'GO:0044857': 4, 'GO:0042133': 1, 'GO:0016243': 2, 'GO:0035752': 1, 'GO:0036359': 2, 'GO:0090384': 1, 'GO:0106049': 1, 'GO:1900079': 1, 'GO:1905162': 1, 'GO:0016405': 4, 'GO:0042759': 5, 'GO:0004305': 3, 'GO:0006646': 7, 'GO:0004474': 1, 'GO:0047777': 1, 'GO:0106064': 1, 'GO:0106121': 1, 'GO:1990116': 6, 'GO:0072344': 8, 'GO:1990112': 3, 'GO:0140708': 1, 'GO:0030507': 18, 'GO:0022409': 10, 'GO:0032433': 12, 'GO:0060002': 2, 'GO:0030705': 12, 'GO:0031527': 12, 'GO:0030575': 1, 'GO:0033327': 6, 'GO:0045131': 1, 'GO:0089701': 5, 'GO:0050810': 4, 'GO:0031386': 11, 'GO:0019941': 7, 'GO:0016773': 12, 'GO:0046835': 10, 'GO:0006012': 5, 'GO:0004335': 2, 'GO:0005534': 3, 'GO:0033499': 3, 'GO:0061623': 2, 'GO:0019402': 1, 'GO:0008458': 2, 'GO:0030020': 5, 'GO:0048407': 5, 'GO:0032964': 5, 'GO:0045112': 1, 'GO:0097435': 6, 'GO:1903225': 1, 'GO:0005588': 1, 'GO:0035989': 2, 'GO:0005592': 3, 'GO:0006997': 20, 'GO:0000939': 4, 'GO:0031508': 4, 'GO:0090230': 2, 'GO:1902340': 2, 'GO:0043987': 4, 'GO:2000751': 3, 'GO:0001740': 4, 'GO:0000828': 3, 'GO:0008440': 2, 'GO:0045577': 5, 'GO:0046703': 5, 'GO:0042267': 7, 'GO:0005001': 2, 'GO:0140031': 4, 'GO:0051279': 6, 'GO:0033630': 8, 'GO:0042105': 1, 'GO:0002924': 1, 'GO:0033277': 2, 'GO:0033007': 3, 'GO:1905867': 3, 'GO:0006950': 5, 'GO:0005978': 7, 'GO:0060086': 2, 'GO:0045598': 9, 'GO:1903979': 3, 'GO:0034144': 2, 'GO:0042749': 1, 'GO:0061889': 2, 'GO:0150079': 2, 'GO:2000489': 1, 'GO:0009303': 11, 'GO:0007143': 9, 'GO:0000938': 5, 'GO:1990745': 5, 'GO:0005176': 2, 'GO:0046579': 9, 'GO:0071638': 5, 'GO:0070433': 1, 'GO:0099572': 3, 'GO:0008626': 1, 'GO:0032783': 3, 'GO:0004176': 8, 'GO:0006515': 12, 'GO:0009368': 2, 'GO:1902445': 3, 'GO:0004336': 1, 'GO:0006683': 2, 'GO:0019211': 6, 'GO:0001096': 2, 'GO:0005674': 2, 'GO:1903892': 2, 'GO:1990440': 6, 'GO:0071913': 1, 'GO:0006843': 1, 'GO:0032437': 5, 'GO:0099534': 1, 'GO:0099509': 4, 'GO:0010989': 3, 'GO:0061158': 12, 'GO:0004657': 1, 'GO:0006560': 1, 'GO:0006562': 1, 'GO:0010133': 1, 'GO:0006744': 14, 'GO:0021692': 2, 'GO:0003973': 1, 'GO:0047545': 1, 'GO:0009072': 2, 'GO:0006559': 2, 'GO:0006572': 1, 'GO:0004334': 1, 'GO:0006527': 3, 'GO:1902000': 1, 'GO:0002528': 1, 'GO:0070016': 7, 'GO:0072201': 3, 'GO:1990711': 2, 'GO:0060633': 2, 'GO:0050884': 5, 'GO:0044265': 3, 'GO:0050881': 3, 'GO:0001306': 3, 'GO:0097001': 7, 'GO:0021523': 2, 'GO:0051935': 1, 'GO:1901888': 6, 'GO:2000049': 5, 'GO:0071896': 5, 'GO:1902396': 5, 'GO:0071253': 5, 'GO:0046581': 4, 'GO:0034334': 4, 'GO:0071000': 2, 'GO:2000250': 1, 'GO:0008934': 3, 'GO:0052832': 3, 'GO:0052833': 3, 'GO:0052834': 3, 'GO:0006021': 3, 'GO:0006020': 2, 'GO:0007017': 25, 'GO:0060013': 2, 'GO:0016540': 9, 'GO:0021675': 5, 'GO:0034982': 7, 'GO:0005745': 3, 'GO:0009447': 1, 'GO:0046208': 1, 'GO:0019809': 1, 'GO:0032918': 1, 'GO:0006598': 1, 'GO:2000303': 3, 'GO:0004697': 7, 'GO:0004698': 6, 'GO:0042100': 5, 'GO:0034351': 3, 'GO:0004699': 1, 'GO:0023021': 3, 'GO:2000304': 5, 'GO:0070976': 1, 'GO:0043560': 7, 'GO:0032079': 4, 'GO:0051490': 3, 'GO:0071447': 4, 'GO:1900163': 1, 'GO:2000753': 1, 'GO:2000755': 1, 'GO:0036019': 3, 'GO:1990715': 4, 'GO:2000766': 1, 'GO:1905538': 4, 'GO:0009888': 20, 'GO:0043083': 5, 'GO:0001755': 14, 'GO:0060445': 6, 'GO:0001738': 5, 'GO:0043259': 2, 'GO:0016331': 6, 'GO:0005610': 2, 'GO:0035196': 14, 'GO:1900246': 6, 'GO:0061157': 12, 'GO:0051983': 9, 'GO:0016441': 6, 'GO:0032784': 7, 'GO:0044609': 2, 'GO:0072112': 5, 'GO:0034508': 3, 'GO:0000145': 12, 'GO:0090543': 25, 'GO:0006893': 17, 'GO:2000535': 3, 'GO:0006904': 16, 'GO:0090148': 24, 'GO:0090522': 9, 'GO:0120206': 1, 'GO:0120200': 2, 'GO:1903546': 2, 'GO:1903621': 1, 'GO:0070461': 5, 'GO:0004756': 1, 'GO:0016260': 1, 'GO:0051090': 9, 'GO:2000251': 10, 'GO:0071801': 1, 'GO:0097190': 21, 'GO:0097202': 11, 'GO:0043293': 2, 'GO:0008635': 4, 'GO:1902510': 2, 'GO:0008656': 8, 'GO:0052689': 17, 'GO:0006637': 11, 'GO:0046459': 1, 'GO:0003986': 3, 'GO:0070012': 4, 'GO:0006111': 10, 'GO:1902809': 1, 'GO:0018401': 7, 'GO:0022417': 5, 'GO:2000255': 1, 'GO:0031113': 8, 'GO:0016462': 8, 'GO:0004427': 4, 'GO:0004309': 1, 'GO:0060255': 6, 'GO:0043414': 3, 'GO:0090304': 8, 'GO:0036396': 8, 'GO:1901533': 1, 'GO:0021861': 4, 'GO:0016422': 3, 'GO:0042063': 4, 'GO:0016043': 18, 'GO:0071420': 1, 'GO:0048244': 1, 'GO:0006720': 1, 'GO:0019606': 1, 'GO:0097089': 2, 'GO:0070772': 1, 'GO:0000306': 1, 'GO:0033106': 6, 'GO:0050776': 13, 'GO:0016709': 4, 'GO:0016174': 4, 'GO:1990026': 1, 'GO:0019417': 1, 'GO:1903305': 1, 'GO:0044249': 9, 'GO:0019284': 3, 'GO:0046523': 1, 'GO:0033601': 5, 'GO:0051930': 6, 'GO:0098826': 4, 'GO:0007413': 11, 'GO:0045687': 4, 'GO:0060317': 5, 'GO:0070571': 2, 'GO:0035441': 2, 'GO:0034165': 3, 'GO:0033603': 1, 'GO:0071787': 4, 'GO:2000172': 1, 'GO:1990809': 3, 'GO:0021801': 3, 'GO:0051960': 2, 'GO:0090156': 5, 'GO:0120078': 1, 'GO:1905552': 2, 'GO:1905580': 1, 'GO:2001213': 1, 'GO:0035022': 5, 'GO:0002523': 3, 'GO:1905653': 2, 'GO:1902624': 1, 'GO:1905523': 2, 'GO:0030215': 5, 'GO:0045499': 8, 'GO:0050919': 17, 'GO:0043931': 5, 'GO:0010693': 1, 'GO:0031344': 1, 'GO:0048672': 2, 'GO:0048843': 7, 'GO:0070486': 1, 'GO:1900220': 2, 'GO:1905704': 1, 'GO:0051604': 13, 'GO:0006096': 20, 'GO:0004807': 1, 'GO:0008929': 1, 'GO:0019242': 2, 'GO:0019563': 5, 'GO:0019682': 2, 'GO:0008484': 5, 'GO:0003094': 7, 'GO:0030201': 2, 'GO:0008449': 3, 'GO:0032836': 6, 'GO:0030513': 20, 'GO:0048010': 9, 'GO:0010575': 10, 'GO:0035860': 2, 'GO:0001502': 8, 'GO:0004065': 4, 'GO:0040036': 1, 'GO:0014846': 2, 'GO:0036022': 2, 'GO:0060686': 2, 'GO:0097677': 3, 'GO:0004726': 4, 'GO:1902202': 2, 'GO:0070104': 2, 'GO:0045650': 1, 'GO:0050922': 2, 'GO:0060336': 3, 'GO:0061099': 10, 'GO:1902206': 1, 'GO:1902215': 1, 'GO:1902227': 1, 'GO:1902233': 1, 'GO:1903899': 2, 'GO:2000587': 2, 'GO:0016747': 10, 'GO:1904121': 2, 'GO:0010893': 1, 'GO:0031315': 4, 'GO:0036042': 3, 'GO:0003988': 5, 'GO:0033814': 1, 'GO:0050632': 1, 'GO:0050633': 3, 'GO:0032385': 1, 'GO:0032959': 3, 'GO:0045940': 1, 'GO:1901373': 1, 'GO:1904109': 3, 'GO:0071071': 2, 'GO:0036195': 2, 'GO:0032507': 2, 'GO:0005742': 7, 'GO:1904591': 3, 'GO:0061052': 7, 'GO:0097068': 2, 'GO:0001891': 13, 'GO:0042538': 2, 'GO:0004084': 2, 'GO:0009081': 2, 'GO:0008483': 12, 'GO:0050048': 2, 'GO:0052654': 2, 'GO:0052655': 2, 'GO:0052656': 2, 'GO:0009082': 2, 'GO:0009098': 2, 'GO:0009099': 3, 'GO:0006528': 1, 'GO:0006541': 13, 'GO:0006107': 8, 'GO:0050152': 1, 'GO:0106008': 1, 'GO:0032680': 5, 'GO:0099041': 5, 'GO:1905820': 8, 'GO:0000796': 8, 'GO:0007076': 13, 'GO:0051309': 3, 'GO:0051306': 4, 'GO:0010032': 5, 'GO:1905821': 7, 'GO:0046599': 9, 'GO:0046605': 7, 'GO:0090222': 1, 'GO:0120098': 3, 'GO:0019815': 1, 'GO:0032725': 3, 'GO:0071639': 4, 'GO:0019370': 3, 'GO:0038063': 4, 'GO:0002696': 1, 'GO:0050778': 2, 'GO:0043306': 3, 'GO:0002281': 4, 'GO:0050850': 6, 'GO:0002283': 1, 'GO:0046641': 3, 'GO:0010803': 8, 'GO:0051712': 1, 'GO:0042101': 3, 'GO:0090330': 2, 'GO:0031623': 20, 'GO:0032753': 4, 'GO:0032481': 11, 'GO:0001820': 1, 'GO:0032752': 1, 'GO:0002554': 1, 'GO:0010543': 2, 'GO:0038156': 1, 'GO:0043366': 2, 'GO:0007167': 2, 'GO:0016170': 1, 'GO:0001945': 3, 'GO:0002223': 2, 'GO:0002366': 1, 'GO:0032928': 1, 'GO:0043313': 1, 'GO:0071226': 1, 'GO:0090237': 1, 'GO:1990167': 1, 'GO:0061649': 4, 'GO:0035616': 2, 'GO:0035520': 6, 'GO:1905035': 2, 'GO:0050291': 4, 'GO:0016410': 5, 'GO:1900148': 1, 'GO:1905045': 1, 'GO:0006907': 3, 'GO:0031314': 11, 'GO:0006370': 5, 'GO:0004482': 1, 'GO:0106005': 2, 'GO:0005845': 9, 'GO:0031533': 2, 'GO:0031298': 3, 'GO:0097214': 3, 'GO:0140036': 4, 'GO:1903265': 6, 'GO:0002720': 7, 'GO:0012502': 1, 'GO:0032689': 8, 'GO:0046007': 6, 'GO:0050869': 2, 'GO:0140646': 1, 'GO:1903052': 4, 'GO:2000646': 4, 'GO:0043523': 13, 'GO:0004620': 12, 'GO:0006684': 1, 'GO:0030149': 2, 'GO:0071704': 15, 'GO:0014066': 3, 'GO:1900364': 8, 'GO:0043276': 8, 'GO:0004869': 10, 'GO:2000675': 3, 'GO:0010859': 1, 'GO:0007343': 1, 'GO:0120170': 3, 'GO:0016939': 3, 'GO:0036372': 2, 'GO:0098971': 4, 'GO:0007368': 30, 'GO:0016486': 4, 'GO:0007354': 2, 'GO:0048406': 5, 'GO:0009100': 6, 'GO:0032902': 1, 'GO:0048635': 1, 'GO:0045109': 10, 'GO:0007289': 7, 'GO:0001920': 2, 'GO:2000179': 14, 'GO:0001155': 1, 'GO:0010807': 2, 'GO:0070044': 1, 'GO:0035494': 2, 'GO:0032984': 4, 'GO:0034214': 7, 'GO:0051562': 1, 'GO:1900069': 2, 'GO:0006875': 3, 'GO:0099093': 2, 'GO:0015369': 1, 'GO:0032474': 2, 'GO:0045737': 20, 'GO:1904117': 2, 'GO:0043281': 5, 'GO:0008625': 14, 'GO:0004435': 6, 'GO:0048015': 14, 'GO:0004629': 2, 'GO:0007200': 5, 'GO:0032835': 3, 'GO:0006651': 5, 'GO:0017041': 1, 'GO:0052692': 1, 'GO:0046479': 1, 'GO:0016936': 2, 'GO:0045860': 30, 'GO:0007172': 1, 'GO:0007254': 16, 'GO:0051893': 13, 'GO:0010759': 6, 'GO:0060396': 4, 'GO:0010613': 10, 'GO:0010632': 4, 'GO:0120041': 3, 'GO:0051964': 1, 'GO:1900024': 3, 'GO:0051239': 3, 'GO:0003960': 1, 'GO:0032541': 6, 'GO:0070886': 13, 'GO:0032237': 5, 'GO:0140268': 7, 'GO:0004791': 3, 'GO:0047134': 4, 'GO:0033615': 7, 'GO:0036462': 3, 'GO:0036463': 1, 'GO:0045569': 2, 'GO:0043652': 6, 'GO:0004602': 9, 'GO:0004096': 2, 'GO:0009826': 3, 'GO:0014839': 3, 'GO:0000917': 1, 'GO:0051666': 1, 'GO:0046651': 5, 'GO:0045039': 8, 'GO:0042721': 5, 'GO:0140318': 4, 'GO:0030943': 3, 'GO:0005254': 15, 'GO:0015299': 9, 'GO:0003014': 7, 'GO:0032713': 1, 'GO:0032410': 5, 'GO:0002829': 3, 'GO:0048302': 2, 'GO:0045619': 2, 'GO:0048294': 1, 'GO:0002761': 1, 'GO:0003918': 2, 'GO:0030263': 2, 'GO:0008301': 6, 'GO:0000819': 2, 'GO:0006266': 4, 'GO:0045870': 2, 'GO:1905463': 1, 'GO:0009330': 1, 'GO:0017119': 10, 'GO:1902162': 1, 'GO:0061817': 4, 'GO:0031227': 4, 'GO:0008429': 8, 'GO:0019838': 26, 'GO:0005520': 5, 'GO:0043568': 4, 'GO:0031995': 5, 'GO:0043567': 4, 'GO:0044342': 4, 'GO:1990130': 5, 'GO:1904262': 13, 'GO:0045333': 16, 'GO:0015183': 6, 'GO:0015810': 4, 'GO:0070778': 4, 'GO:0015171': 13, 'GO:0003333': 9, 'GO:0031109': 1, 'GO:0004883': 1, 'GO:0043402': 2, 'GO:0048280': 7, 'GO:0030070': 1, 'GO:0060628': 5, 'GO:0042175': 3, 'GO:0009268': 5, 'GO:0004098': 1, 'GO:2000780': 4, 'GO:1901315': 3, 'GO:0031435': 15, 'GO:0014002': 5, 'GO:0030539': 5, 'GO:1900020': 3, 'GO:1905517': 1, 'GO:0008176': 2, 'GO:0106004': 2, 'GO:0036265': 2, 'GO:0017110': 4, 'GO:0009191': 3, 'GO:0044715': 1, 'GO:0044716': 1, 'GO:0019303': 1, 'GO:0006753': 2, 'GO:0019693': 4, 'GO:1990966': 3, 'GO:0019144': 1, 'GO:0034774': 1, 'GO:0010157': 2, 'GO:0031016': 7, 'GO:0043043': 2, 'GO:0004823': 2, 'GO:0006429': 2, 'GO:0004819': 2, 'GO:0006425': 2, 'GO:1904649': 1, 'GO:0035339': 3, 'GO:0032021': 4, 'GO:0036284': 1, 'GO:0042795': 9, 'GO:0098662': 4, 'GO:0005381': 4, 'GO:0071421': 4, 'GO:0098739': 3, 'GO:0045745': 4, 'GO:0006826': 9, 'GO:0005384': 3, 'GO:0033212': 2, 'GO:0015093': 3, 'GO:0010817': 4, 'GO:0015086': 2, 'GO:0015296': 1, 'GO:0051344': 2, 'GO:0055071': 1, 'GO:0070574': 3, 'GO:1901981': 10, 'GO:2001271': 2, 'GO:0035872': 1, 'GO:2000374': 1, 'GO:0097573': 4, 'GO:0004362': 2, 'GO:0045838': 3, 'GO:2000651': 5, 'GO:0060355': 3, 'GO:0019153': 3, 'GO:1901299': 2, 'GO:0015038': 1, 'GO:0006730': 15, 'GO:0015075': 5, 'GO:0015194': 5, 'GO:0015825': 5, 'GO:0042942': 1, 'GO:1990542': 4, 'GO:0022889': 2, 'GO:0140300': 2, 'GO:0042945': 1, 'GO:0019166': 3, 'GO:0004415': 2, 'GO:0060586': 2, 'GO:0031225': 24, 'GO:0005540': 6, 'GO:0046658': 7, 'GO:0019064': 4, 'GO:0006027': 1, 'GO:0031362': 4, 'GO:0042117': 4, 'GO:0030294': 1, 'GO:0033906': 1, 'GO:0050431': 11, 'GO:0010764': 3, 'GO:0070295': 3, 'GO:0071493': 5, 'GO:0046626': 5, 'GO:1904637': 3, 'GO:0097128': 2, 'GO:0097129': 3, 'GO:0097130': 2, 'GO:0050994': 1, 'GO:0042780': 2, 'GO:0070063': 18, 'GO:0048025': 19, 'GO:0046784': 8, 'GO:0000346': 11, 'GO:0000445': 6, 'GO:0042775': 11, 'GO:0045820': 8, 'GO:1902108': 4, 'GO:0035701': 2, 'GO:0071478': 3, 'GO:1902231': 7, 'GO:0090152': 2, 'GO:0010635': 1, 'GO:0010324': 6, 'GO:0022615': 3, 'GO:0070676': 1, 'GO:2000642': 2, 'GO:0000002': 8, 'GO:1903426': 3, 'GO:0006390': 8, 'GO:0015218': 2, 'GO:0006864': 2, 'GO:0031930': 2, 'GO:0034551': 7, 'GO:1990519': 2, 'GO:0005666': 16, 'GO:0017005': 1, 'GO:0000808': 6, 'GO:0016624': 5, 'GO:0004591': 3, 'GO:0006091': 6, 'GO:0008594': 3, 'GO:0044770': 5, 'GO:0004711': 4, 'GO:0006384': 6, 'GO:0004463': 1, 'GO:0045148': 1, 'GO:0060509': 4, 'GO:0009435': 3, 'GO:0004514': 2, 'GO:0019363': 3, 'GO:1901363': 8, 'GO:0051770': 9, 'GO:0014916': 2, 'GO:0047280': 1, 'GO:0004345': 2, 'GO:0016614': 3, 'GO:0017057': 2, 'GO:2000064': 1, 'GO:0047934': 1, 'GO:0047935': 1, 'GO:0047936': 1, 'GO:0019637': 2, 'GO:0097305': 2, 'GO:0034205': 8, 'GO:0005883': 4, 'GO:0031115': 10, 'GO:0036402': 6, 'GO:1901800': 12, 'GO:0010387': 3, 'GO:0051443': 16, 'GO:1903026': 1, 'GO:0097027': 5, 'GO:1903955': 4, 'GO:0010992': 3, 'GO:1903378': 3, 'GO:0050816': 3, 'GO:0090049': 1, 'GO:0031048': 3, 'GO:1902369': 1, 'GO:1901998': 27, 'GO:0031681': 7, 'GO:1904851': 10, 'GO:0005832': 8, 'GO:0051693': 12, 'GO:0008091': 4, 'GO:0031430': 10, 'GO:0032743': 11, 'GO:0071709': 3, 'GO:0031005': 6, 'GO:0051764': 6, 'GO:0070382': 4, 'GO:0060441': 11, 'GO:0021897': 2, 'GO:0019002': 1, 'GO:0030275': 5, 'GO:0038002': 1, 'GO:0005212': 2, 'GO:0005391': 6, 'GO:0010248': 8, 'GO:0004109': 1, 'GO:0017085': 3, 'GO:0097427': 4, 'GO:2001020': 10, 'GO:0035253': 8, 'GO:0097014': 2, 'GO:0005685': 17, 'GO:0005687': 10, 'GO:0005683': 7, 'GO:0034709': 11, 'GO:0034715': 6, 'GO:0010880': 6, 'GO:0034704': 6, 'GO:0031432': 3, 'GO:0060314': 5, 'GO:0005513': 4, 'GO:0055117': 6, 'GO:0060316': 4, 'GO:0031279': 4, 'GO:0019855': 6, 'GO:0032516': 11, 'GO:0010856': 4, 'GO:0031800': 5, 'GO:0031997': 3, 'GO:0002834': 4, 'GO:0051343': 4, 'GO:0098901': 4, 'GO:1901842': 3, 'GO:1904094': 4, 'GO:1990722': 4, 'GO:0050848': 7, 'GO:1905665': 6, 'GO:0008287': 5, 'GO:1901386': 6, 'GO:1905949': 5, 'GO:0005955': 6, 'GO:0010569': 12, 'GO:0004704': 2, 'GO:0016884': 3, 'GO:0050567': 3, 'GO:0070681': 3, 'GO:0030956': 3, 'GO:0090266': 6, 'GO:0042273': 28, 'GO:0097250': 6, 'GO:0008219': 18, 'GO:0034612': 12, 'GO:0060545': 3, 'GO:0005123': 7, 'GO:0010940': 8, 'GO:0031264': 2, 'GO:0097342': 1, 'GO:0043068': 4, 'GO:0070513': 2, 'GO:0097527': 2, 'GO:0042327': 15, 'GO:1905206': 2, 'GO:0004706': 2, 'GO:1901026': 2, 'GO:0070105': 1, 'GO:0070231': 4, 'GO:0070926': 1, 'GO:0097300': 5, 'GO:0097343': 1, 'GO:0071310': 18, 'GO:0005796': 10, 'GO:1903108': 2, 'GO:0043314': 1, 'GO:0002692': 1, 'GO:0043114': 2, 'GO:0060313': 1, 'GO:0016442': 12, 'GO:0050072': 2, 'GO:0004534': 4, 'GO:0045047': 11, 'GO:0019082': 2, 'GO:0001409': 2, 'GO:0005347': 3, 'GO:0015217': 2, 'GO:0015867': 4, 'GO:0015866': 3, 'GO:1904669': 2, 'GO:1903790': 2, 'GO:0030123': 8, 'GO:1902774': 14, 'GO:0034058': 6, 'GO:0030897': 10, 'GO:1902501': 2, 'GO:0016706': 13, 'GO:0004659': 10, 'GO:0008318': 5, 'GO:0018342': 6, 'GO:0036094': 7, 'GO:0051771': 5, 'GO:0004662': 2, 'GO:0004661': 2, 'GO:0005953': 2, 'GO:0017162': 8, 'GO:0046886': 3, 'GO:0033235': 10, 'GO:0034751': 4, 'GO:0004809': 2, 'GO:1903561': 4, 'GO:0022604': 21, 'GO:0071598': 4, 'GO:2000969': 1, 'GO:0110077': 3, 'GO:0098845': 2, 'GO:0046676': 10, 'GO:0019217': 6, 'GO:0003062': 1, 'GO:0032810': 2, 'GO:0045723': 5, 'GO:0033993': 8, 'GO:0004332': 2, 'GO:0006941': 2, 'GO:0070061': 3, 'GO:0006000': 1, 'GO:0030388': 6, 'GO:0035686': 3, 'GO:0061615': 4, 'GO:0005639': 5, 'GO:0071763': 6, 'GO:0035473': 3, 'GO:0055102': 2, 'GO:0034098': 7, 'GO:0031953': 5, 'GO:0032966': 5, 'GO:0031098': 5, 'GO:1903243': 5, 'GO:0060426': 3, 'GO:0071474': 3, 'GO:0045340': 5, 'GO:0051899': 4, 'GO:0016570': 18, 'GO:0060765': 8, 'GO:1903136': 4, 'GO:0051444': 11, 'GO:0030073': 9, 'GO:0046826': 5, 'GO:0110095': 4, 'GO:0001963': 2, 'GO:1903206': 6, 'GO:0060081': 3, 'GO:0042743': 3, 'GO:0010273': 4, 'GO:1901671': 3, 'GO:1903202': 2, 'GO:2001268': 5, 'GO:0033182': 2, 'GO:1905259': 2, 'GO:0044388': 5, 'GO:1903377': 3, 'GO:0016532': 2, 'GO:1903135': 3, 'GO:0050787': 1, 'GO:1903094': 2, 'GO:2000157': 2, 'GO:0051583': 1, 'GO:0019826': 3, 'GO:0036470': 1, 'GO:0036478': 1, 'GO:0036524': 1, 'GO:1990422': 1, 'GO:0002866': 1, 'GO:0006517': 5, 'GO:0019249': 1, 'GO:0033864': 5, 'GO:0036471': 1, 'GO:0036526': 1, 'GO:0036527': 1, 'GO:0036528': 1, 'GO:0036529': 1, 'GO:0036530': 1, 'GO:0036531': 1, 'GO:0046295': 1, 'GO:0061727': 1, 'GO:0070994': 1, 'GO:0106044': 1, 'GO:0106045': 1, 'GO:0106046': 1, 'GO:0140041': 1, 'GO:1902958': 2, 'GO:1903122': 1, 'GO:1903168': 1, 'GO:1903178': 1, 'GO:1903189': 1, 'GO:1903190': 1, 'GO:1903197': 1, 'GO:1903200': 1, 'GO:1903384': 1, 'GO:1904782': 2, 'GO:1905516': 1, 'GO:2000277': 2, 'GO:0140090': 2, 'GO:0090435': 5, 'GO:2000234': 10, 'GO:0000179': 2, 'GO:0008649': 4, 'GO:0000154': 3, 'GO:0031167': 9, 'GO:0052909': 1, 'GO:0004181': 2, 'GO:0004180': 7, 'GO:0001681': 1, 'GO:0002682': 2, 'GO:0106330': 1, 'GO:0106331': 1, 'GO:1902936': 3, 'GO:0032911': 3, 'GO:0097213': 1, 'GO:1905166': 2, 'GO:1905671': 3, 'GO:0097487': 2, 'GO:0016620': 11, 'GO:0006561': 4, 'GO:0055129': 5, 'GO:0004350': 1, 'GO:0019240': 2, 'GO:0009266': 1, 'GO:0004349': 1, 'GO:0006592': 1, 'GO:0031261': 2, 'GO:1902977': 1, 'GO:0007028': 3, 'GO:0002070': 6, 'GO:0007431': 1, 'GO:0051044': 7, 'GO:0004416': 2, 'GO:0019243': 3, 'GO:0032402': 10, 'GO:0043297': 7, 'GO:0097539': 5, 'GO:0000109': 4, 'GO:1990731': 1, 'GO:0140612': 2, 'GO:0010996': 5, 'GO:0000111': 1, 'GO:0030550': 1, 'GO:0035265': 5, 'GO:0033130': 5, 'GO:0048242': 1, 'GO:0019538': 9, 'GO:0005879': 2, 'GO:0051258': 6, 'GO:0010842': 3, 'GO:1903445': 2, 'GO:0097499': 2, 'GO:1990173': 2, 'GO:0014033': 6, 'GO:0001712': 2, 'GO:0030061': 9, 'GO:0097749': 3, 'GO:0071816': 15, 'GO:0032977': 12, 'GO:0045050': 8, 'GO:0072546': 8, 'GO:1900745': 13, 'GO:0032780': 7, 'GO:0001952': 6, 'GO:0051492': 7, 'GO:0042030': 5, 'GO:0006407': 2, 'GO:0043379': 1, 'GO:0015935': 22, 'GO:0039536': 4, 'GO:0036501': 2, 'GO:0036435': 8, 'GO:0140680': 2, 'GO:0045322': 6, 'GO:0048596': 7, 'GO:0030901': 9, 'GO:0030902': 5, 'GO:0006482': 6, 'GO:0021555': 3, 'GO:0021592': 2, 'GO:0021670': 9, 'GO:0021678': 4, 'GO:0021993': 1, 'GO:2000178': 6, 'GO:0016432': 2, 'GO:0042058': 6, 'GO:0007260': 2, 'GO:0008157': 15, 'GO:0070102': 9, 'GO:0036006': 1, 'GO:0036119': 2, 'GO:0038095': 1, 'GO:0038109': 2, 'GO:0050904': 2, 'GO:0070628': 15, 'GO:0021930': 4, 'GO:0080129': 1, 'GO:0005736': 12, 'GO:0035329': 11, 'GO:0010738': 3, 'GO:0043030': 3, 'GO:0034137': 4, 'GO:0004736': 1, 'GO:0019074': 2, 'GO:0019076': 11, 'GO:0044794': 5, 'GO:0001947': 25, 'GO:0009953': 16, 'GO:0070986': 6, 'GO:0010226': 4, 'GO:0021532': 6, 'GO:0021830': 1, 'GO:0021943': 3, 'GO:0018812': 3, 'GO:0106386': 1, 'GO:0016508': 2, 'GO:0033989': 1, 'GO:0036111': 1, 'GO:0036112': 1, 'GO:0043418': 3, 'GO:0042730': 2, 'GO:0006878': 13, 'GO:0019829': 7, 'GO:0140581': 2, 'GO:0006825': 7, 'GO:0071280': 13, 'GO:0055070': 3, 'GO:0060003': 3, 'GO:0051208': 2, 'GO:0005375': 5, 'GO:0015677': 3, 'GO:0043682': 2, 'GO:0015680': 1, 'GO:0035434': 4, 'GO:0045925': 2, 'GO:0046965': 10, 'GO:2000324': 2, 'GO:1904017': 3, 'GO:0033142': 5, 'GO:1900076': 4, 'GO:0033129': 7, 'GO:0043988': 2, 'GO:0043990': 1, 'GO:1903450': 3, 'GO:0030686': 8, 'GO:0098797': 8, 'GO:0031528': 15, 'GO:0015734': 3, 'GO:0005368': 2, 'GO:0005369': 1, 'GO:0015185': 3, 'GO:0022858': 2, 'GO:0030977': 1, 'GO:0032328': 3, 'GO:0051939': 3, 'GO:0089718': 5, 'GO:0004559': 5, 'GO:0006013': 7, 'GO:0007585': 6, 'GO:0007033': 8, 'GO:0004572': 1, 'GO:0015923': 2, 'GO:0045214': 15, 'GO:0016010': 6, 'GO:0008307': 10, 'GO:0060706': 3, 'GO:1990357': 4, 'GO:0061337': 4, 'GO:0033135': 4, 'GO:0033270': 8, 'GO:0033268': 6, 'GO:0043194': 7, 'GO:0021952': 4, 'GO:0022414': 3, 'GO:0045162': 3, 'GO:0070852': 3, 'GO:0023052': 9, 'GO:0050667': 4, 'GO:0019346': 5, 'GO:0019344': 3, 'GO:0004121': 1, 'GO:0004123': 1, 'GO:0016846': 2, 'GO:0044540': 1, 'GO:0080146': 1, 'GO:0018272': 1, 'GO:0019343': 2, 'GO:0044524': 1, 'GO:0070814': 3, 'GO:1904831': 1, 'GO:0051569': 6, 'GO:0048665': 2, 'GO:0048148': 2, 'GO:0010424': 3, 'GO:0018027': 5, 'GO:0051570': 1, 'GO:0036166': 1, 'GO:0060992': 4, 'GO:0071586': 2, 'GO:0080120': 1, 'GO:0008238': 2, 'GO:0005093': 2, 'GO:1903565': 1, 'GO:0060178': 2, 'GO:0071360': 10, 'GO:0001928': 1, 'GO:1904153': 5, 'GO:0042562': 4, 'GO:0033144': 4, 'GO:1901164': 4, 'GO:2000510': 3, 'GO:0042824': 6, 'GO:0040020': 4, 'GO:0044194': 5, 'GO:0002502': 3, 'GO:0140294': 2, 'GO:0010990': 1, 'GO:0018312': 3, 'GO:0018424': 1, 'GO:0030592': 2, 'GO:0032042': 4, 'GO:0036211': 1, 'GO:0043504': 5, 'GO:0051901': 4, 'GO:0071294': 7, 'GO:1903376': 1, 'GO:1903518': 2, 'GO:1904044': 3, 'GO:1904762': 1, 'GO:2001170': 3, 'GO:0003997': 1, 'GO:0033540': 1, 'GO:0006693': 14, 'GO:0009062': 6, 'GO:0019395': 8, 'GO:0016401': 2, 'GO:0140493': 1, 'GO:1903205': 2, 'GO:0005798': 10, 'GO:1903373': 4, 'GO:0048386': 4, 'GO:0043232': 9, 'GO:0034988': 1, 'GO:0043113': 12, 'GO:0097368': 4, 'GO:1901381': 1, 'GO:0032233': 5, 'GO:2001046': 7, 'GO:0031852': 1, 'GO:0032432': 4, 'GO:0007195': 1, 'GO:0031523': 4, 'GO:0016479': 3, 'GO:0032231': 2, 'GO:0048680': 5, 'GO:0090042': 3, 'GO:1905000': 1, 'GO:1905031': 1, 'GO:0007597': 1, 'GO:0010572': 2, 'GO:1990779': 1, 'GO:0001778': 16, 'GO:0005828': 15, 'GO:0045324': 7, 'GO:0039702': 12, 'GO:0043162': 23, 'GO:0046761': 11, 'GO:0071985': 16, 'GO:1904930': 9, 'GO:0000815': 8, 'GO:0036258': 12, 'GO:0051469': 9, 'GO:0061763': 9, 'GO:1990879': 3, 'GO:0120103': 7, 'GO:2001256': 6, 'GO:0040015': 9, 'GO:2000118': 2, 'GO:0046885': 1, 'GO:0005171': 1, 'GO:0055105': 1, 'GO:0009954': 6, 'GO:2000345': 2, 'GO:0007418': 2, 'GO:0021696': 2, 'GO:0021938': 3, 'GO:0060032': 2, 'GO:0030850': 6, 'GO:1990787': 4, 'GO:1990788': 4, 'GO:0043167': 1, 'GO:0016892': 1, 'GO:0019239': 4, 'GO:0046914': 4, 'GO:0120241': 1, 'GO:0120242': 1, 'GO:0120243': 1, 'GO:1901565': 1, 'GO:0010863': 3, 'GO:0051353': 5, 'GO:0030942': 3, 'GO:0016078': 1, 'GO:0090422': 1, 'GO:0008292': 1, 'GO:0061526': 1, 'GO:0032475': 1, 'GO:0035675': 1, 'GO:0000801': 3, 'GO:0051660': 7, 'GO:0017075': 6, 'GO:0017156': 6, 'GO:0035493': 3, 'GO:0001921': 10, 'GO:1903531': 1, 'GO:0004361': 1, 'GO:0006568': 2, 'GO:0046949': 1, 'GO:0070130': 1, 'GO:0044829': 6, 'GO:0035627': 6, 'GO:0070972': 6, 'GO:0044828': 4, 'GO:0033149': 3, 'GO:0005545': 10, 'GO:1904778': 5, 'GO:1904478': 1, 'GO:1904960': 4, 'GO:1990247': 10, 'GO:0051252': 6, 'GO:0070934': 11, 'GO:0004308': 1, 'GO:0052794': 1, 'GO:0052795': 1, 'GO:0052796': 1, 'GO:0016997': 1, 'GO:2000291': 2, 'GO:1902043': 6, 'GO:0060800': 2, 'GO:0043408': 19, 'GO:0003157': 4, 'GO:0060215': 2, 'GO:0008269': 1, 'GO:0046426': 8, 'GO:0046935': 4, 'GO:0005942': 5, 'GO:0043551': 8, 'GO:0005131': 3, 'GO:1990226': 9, 'GO:1902466': 1, 'GO:0005688': 8, 'GO:0120115': 7, 'GO:1990726': 5, 'GO:0032012': 6, 'GO:0051451': 6, 'GO:0044314': 5, 'GO:0085020': 6, 'GO:0004531': 1, 'GO:0004520': 6, 'GO:0006308': 2, 'GO:0001965': 16, 'GO:0035567': 6, 'GO:0003383': 4, 'GO:0043529': 3, 'GO:0001964': 3, 'GO:0071599': 3, 'GO:0000298': 1, 'GO:0008486': 1, 'GO:0034431': 1, 'GO:0034432': 1, 'GO:0052840': 1, 'GO:0052842': 1, 'GO:0071543': 1, 'GO:1901907': 1, 'GO:1901909': 1, 'GO:1901911': 1, 'GO:0015180': 4, 'GO:1904273': 2, 'GO:0015190': 4, 'GO:0015823': 2, 'GO:0015827': 1, 'GO:0098713': 2, 'GO:1903801': 2, 'GO:0044225': 1, 'GO:1990184': 2, 'GO:0016234': 15, 'GO:0017157': 11, 'GO:0048311': 5, 'GO:0098957': 3, 'GO:0031587': 3, 'GO:1902857': 7, 'GO:0048403': 2, 'GO:0021979': 1, 'GO:0032230': 5, 'GO:0032901': 1, 'GO:0048011': 14, 'GO:0090261': 5, 'GO:1902513': 5, 'GO:0099523': 10, 'GO:0051179': 11, 'GO:0098958': 1, 'GO:0008046': 4, 'GO:0016199': 2, 'GO:0035385': 4, 'GO:0002042': 10, 'GO:0021836': 2, 'GO:0050925': 1, 'GO:0070100': 3, 'GO:0006123': 13, 'GO:0032489': 4, 'GO:1900753': 1, 'GO:1905475': 3, 'GO:0099026': 3, 'GO:0050982': 2, 'GO:0098911': 6, 'GO:0086073': 4, 'GO:0086091': 7, 'GO:0002159': 2, 'GO:0106006': 2, 'GO:0071665': 1, 'GO:0004832': 2, 'GO:0006438': 2, 'GO:0098535': 3, 'GO:0060707': 10, 'GO:0060828': 17, 'GO:0004630': 3, 'GO:0045145': 3, 'GO:1900015': 4, 'GO:0001818': 12, 'GO:2000515': 1, 'GO:2000562': 1, 'GO:0060077': 6, 'GO:0042581': 6, 'GO:0006911': 10, 'GO:0097401': 1, 'GO:0072320': 4, 'GO:0045794': 2, 'GO:0003382': 11, 'GO:0000904': 4, 'GO:0048318': 5, 'GO:0048339': 9, 'GO:0001839': 1, 'GO:0007509': 1, 'GO:0007398': 7, 'GO:0048319': 1, 'GO:0031404': 3, 'GO:0001913': 4, 'GO:0016505': 2, 'GO:1903980': 1, 'GO:0043921': 1, 'GO:1903169': 3, 'GO:0004738': 1, 'GO:0004739': 2, 'GO:0051481': 5, 'GO:0015085': 4, 'GO:1905056': 1, 'GO:1990034': 2, 'GO:0032591': 4, 'GO:0032809': 7, 'GO:0032590': 7, 'GO:0003056': 2, 'GO:0003407': 7, 'GO:0051928': 11, 'GO:0071305': 3, 'GO:0071386': 2, 'GO:1901660': 2, 'GO:0008240': 2, 'GO:0045453': 11, 'GO:0035727': 4, 'GO:0035909': 9, 'GO:0018208': 1, 'GO:0016868': 5, 'GO:0004082': 2, 'GO:0004619': 2, 'GO:0002468': 1, 'GO:0043014': 18, 'GO:2000010': 12, 'GO:0042098': 12, 'GO:0043553': 4, 'GO:0070682': 3, 'GO:0097050': 2, 'GO:0034498': 6, 'GO:0009922': 5, 'GO:0102756': 5, 'GO:0019367': 5, 'GO:0042761': 8, 'GO:0006636': 10, 'GO:0034626': 5, 'GO:0102336': 1, 'GO:0034625': 5, 'GO:0031643': 10, 'GO:0051008': 1, 'GO:0042719': 3, 'GO:0046695': 3, 'GO:0033276': 14, 'GO:2000623': 5, 'GO:1900152': 9, 'GO:0060213': 10, 'GO:1900153': 10, 'GO:0106002': 5, 'GO:1990124': 8, 'GO:0072583': 19, 'GO:0030122': 6, 'GO:0098884': 5, 'GO:0015711': 6, 'GO:0015232': 4, 'GO:0015216': 2, 'GO:0070730': 2, 'GO:0098838': 3, 'GO:0035351': 1, 'GO:0015865': 1, 'GO:0070731': 1, 'GO:0031491': 23, 'GO:0032184': 4, 'GO:0090169': 2, 'GO:2000584': 1, 'GO:2000791': 1, 'GO:0008308': 4, 'GO:0015288': 5, 'GO:0098656': 14, 'GO:0046930': 12, 'GO:0010833': 5, 'GO:0003691': 8, 'GO:0015186': 4, 'GO:0006868': 4, 'GO:0010585': 1, 'GO:1903803': 1, 'GO:0031262': 4, 'GO:0031617': 9, 'GO:0042272': 3, 'GO:0035148': 7, 'GO:0003016': 10, 'GO:0002553': 2, 'GO:0010941': 4, 'GO:0008039': 1, 'GO:0090128': 2, 'GO:0001514': 4, 'GO:0032584': 5, 'GO:0034707': 12, 'GO:0048708': 4, 'GO:0015248': 6, 'GO:0016403': 2, 'GO:0000052': 3, 'GO:0006525': 2, 'GO:0030677': 5, 'GO:0000171': 2, 'GO:1905267': 1, 'GO:0060324': 11, 'GO:0060463': 2, 'GO:0045617': 2, 'GO:0030323': 2, 'GO:0003208': 4, 'GO:0001161': 1, 'GO:0034329': 5, 'GO:0060672': 3, 'GO:0061713': 4, 'GO:0060487': 4, 'GO:0090132': 1, 'GO:0038066': 6, 'GO:0040019': 7, 'GO:0048520': 1, 'GO:0009008': 3, 'GO:0003886': 3, 'GO:0043045': 6, 'GO:0051719': 2, 'GO:0090116': 4, 'GO:0051718': 2, 'GO:0051573': 5, 'GO:0032776': 4, 'GO:0033189': 8, 'GO:0071455': 3, 'GO:0004675': 8, 'GO:0002029': 3, 'GO:0030549': 2, 'GO:0008430': 4, 'GO:0031665': 2, 'GO:0010310': 2, 'GO:0045321': 2, 'GO:0030194': 6, 'GO:0002536': 1, 'GO:0047372': 4, 'GO:0098734': 1, 'GO:0008474': 9, 'GO:0006660': 2, 'GO:0052651': 3, 'GO:1905344': 3, 'GO:0005763': 31, 'GO:0060122': 13, 'GO:0003413': 3, 'GO:0002079': 1, 'GO:0002081': 2, 'GO:0008253': 5, 'GO:0006166': 4, 'GO:0042417': 5, 'GO:0032263': 8, 'GO:0021954': 9, 'GO:0007625': 4, 'GO:0021756': 5, 'GO:0046083': 2, 'GO:0046100': 1, 'GO:0004422': 1, 'GO:0052657': 1, 'GO:0006178': 1, 'GO:0043103': 2, 'GO:0045964': 1, 'GO:0046038': 4, 'GO:0003905': 1, 'GO:0008725': 1, 'GO:0043916': 1, 'GO:0052821': 1, 'GO:0052822': 1, 'GO:0060071': 6, 'GO:1904948': 4, 'GO:0090103': 10, 'GO:0038031': 3, 'GO:0003148': 10, 'GO:0022603': 1, 'GO:0005956': 2, 'GO:0061154': 6, 'GO:0032927': 6, 'GO:0099170': 2, 'GO:0080163': 1, 'GO:2000252': 2, 'GO:0014050': 1, 'GO:0014054': 2, 'GO:0001692': 1, 'GO:0008437': 1, 'GO:0051412': 3, 'GO:0097428': 7, 'GO:0097361': 5, 'GO:0071817': 5, 'GO:0004735': 3, 'GO:0014707': 1, 'GO:0060539': 3, 'GO:0099645': 4, 'GO:0090063': 5, 'GO:0001771': 4, 'GO:0106015': 3, 'GO:0099171': 2, 'GO:0098879': 1, 'GO:0001957': 3, 'GO:0032013': 1, 'GO:0061743': 3, 'GO:0098880': 3, 'GO:0010646': 4, 'GO:0035640': 2, 'GO:0010810': 1, 'GO:0051345': 2, 'GO:0019956': 3, 'GO:0051731': 2, 'GO:0000448': 3, 'GO:0030131': 8, 'GO:0051649': 5, 'GO:0006900': 11, 'GO:0071593': 2, 'GO:2000401': 2, 'GO:0005227': 4, 'GO:0008381': 4, 'GO:1990760': 2, 'GO:1990907': 10, 'GO:0043538': 1, 'GO:0140101': 1, 'GO:0097194': 9, 'GO:0031489': 9, 'GO:1904425': 1, 'GO:0051155': 2, 'GO:0003878': 1, 'GO:0046912': 2, 'GO:0006085': 5, 'GO:0006101': 5, 'GO:0006084': 7, 'GO:1905778': 2, 'GO:1905839': 2, 'GO:0045141': 5, 'GO:1904792': 1, 'GO:1904850': 1, 'GO:1904911': 1, 'GO:0045636': 1, 'GO:0048070': 3, 'GO:0003229': 2, 'GO:0090673': 2, 'GO:1903671': 6, 'GO:0043199': 3, 'GO:0031224': 3, 'GO:0004430': 3, 'GO:0035651': 1, 'GO:0002561': 1, 'GO:0035838': 1, 'GO:0046785': 7, 'GO:0031116': 19, 'GO:0051315': 11, 'GO:1902888': 1, 'GO:0030981': 2, 'GO:1905721': 1, 'GO:1903033': 1, 'GO:0005875': 18, 'GO:0032049': 8, 'GO:0035965': 4, 'GO:0032048': 2, 'GO:0048137': 1, 'GO:1900210': 2, 'GO:1990275': 1, 'GO:0070531': 7, 'GO:0070537': 8, 'GO:0003881': 1, 'GO:0043178': 1, 'GO:0019992': 4, 'GO:0046341': 1, 'GO:0004359': 2, 'GO:0002087': 1, 'GO:0006543': 3, 'GO:0006537': 3, 'GO:0090461': 1, 'GO:0048709': 12, 'GO:0031143': 8, 'GO:0035748': 8, 'GO:0004113': 1, 'GO:0030551': 1, 'GO:0009214': 1, 'GO:0009165': 8, 'GO:0004749': 5, 'GO:0097264': 4, 'GO:0071277': 25, 'GO:0010447': 3, 'GO:0090026': 8, 'GO:0006624': 3, 'GO:1901185': 1, 'GO:2001028': 3, 'GO:0046324': 4, 'GO:0019318': 3, 'GO:0004340': 2, 'GO:0004396': 2, 'GO:0008865': 2, 'GO:0019158': 2, 'GO:0006002': 10, 'GO:0035795': 2, 'GO:0051156': 6, 'GO:0072655': 6, 'GO:0072656': 4, 'GO:1904925': 4, 'GO:2000378': 15, 'GO:0030101': 2, 'GO:0002474': 4, 'GO:0071818': 3, 'GO:0061857': 2, 'GO:1904294': 4, 'GO:1904378': 2, 'GO:0002429': 1, 'GO:0000301': 9, 'GO:2001241': 9, 'GO:0043303': 3, 'GO:0045576': 2, 'GO:1901899': 1, 'GO:0045907': 15, 'GO:1900738': 1, 'GO:0043950': 4, 'GO:0002551': 3, 'GO:0098992': 3, 'GO:0033366': 1, 'GO:0033604': 1, 'GO:0086030': 1, 'GO:2000707': 1, 'GO:0038127': 3, 'GO:0010669': 7, 'GO:0086082': 1, 'GO:0046629': 1, 'GO:0060054': 3, 'GO:0086067': 1, 'GO:0086072': 1, 'GO:0098904': 2, 'GO:0030641': 4, 'GO:0033176': 2, 'GO:0036295': 7, 'GO:0036035': 4, 'GO:0098591': 4, 'GO:0005295': 2, 'GO:0080135': 2, 'GO:0031460': 1, 'GO:0061631': 26, 'GO:0006369': 6, 'GO:0021860': 7, 'GO:0032482': 5, 'GO:1901031': 2, 'GO:0036091': 4, 'GO:0070728': 5, 'GO:0070328': 9, 'GO:2000479': 2, 'GO:0032542': 2, 'GO:1902010': 1, 'GO:1990316': 7, 'GO:1901987': 1, 'GO:0031431': 1, 'GO:0060363': 4, 'GO:0010894': 3, 'GO:0045717': 10, 'GO:0008142': 2, 'GO:0006991': 3, 'GO:0036316': 2, 'GO:0004067': 1, 'GO:0033345': 1, 'GO:0008798': 1, 'GO:0010991': 3, 'GO:0005010': 1, 'GO:0043559': 3, 'GO:0003230': 1, 'GO:0010656': 4, 'GO:0043243': 5, 'GO:0044849': 9, 'GO:0045056': 5, 'GO:0048009': 4, 'GO:0051054': 4, 'GO:0071393': 3, 'GO:0090031': 2, 'GO:0097242': 6, 'GO:1902065': 5, 'GO:1903944': 2, 'GO:1904045': 3, 'GO:0035867': 3, 'GO:1902911': 1, 'GO:0030687': 23, 'GO:1902412': 2, 'GO:0032133': 5, 'GO:0051257': 2, 'GO:1990385': 1, 'GO:0051256': 8, 'GO:0090267': 11, 'GO:1901970': 4, 'GO:1903490': 5, 'GO:0019065': 5, 'GO:0048268': 12, 'GO:0032484': 2, 'GO:0042982': 6, 'GO:0007220': 7, 'GO:0090527': 4, 'GO:0014731': 3, 'GO:1901731': 3, 'GO:0035585': 1, 'GO:0070560': 1, 'GO:0060065': 2, 'GO:0048729': 3, 'GO:0070411': 10, 'GO:0071144': 5, 'GO:0060412': 16, 'GO:0048382': 6, 'GO:0033686': 1, 'GO:0046881': 3, 'GO:0032444': 3, 'GO:0072133': 1, 'GO:0072134': 1, 'GO:0032909': 3, 'GO:0062009': 3, 'GO:0048733': 6, 'GO:0003198': 4, 'GO:0036302': 5, 'GO:2000617': 5, 'GO:0051797': 2, 'GO:0061040': 1, 'GO:0003190': 1, 'GO:0003220': 1, 'GO:0003251': 1, 'GO:0003279': 8, 'GO:0042118': 6, 'GO:0060956': 2, 'GO:1905305': 1, 'GO:0006880': 1, 'GO:0004322': 2, 'GO:0060547': 3, 'GO:0071682': 1, 'GO:0006248': 2, 'GO:0006249': 3, 'GO:0046050': 3, 'GO:0046074': 3, 'GO:0046079': 3, 'GO:0019482': 1, 'GO:0006208': 1, 'GO:0002058': 1, 'GO:0006210': 2, 'GO:0006212': 1, 'GO:0019860': 2, 'GO:0002059': 1, 'GO:0004157': 1, 'GO:0004471': 1, 'GO:0004470': 1, 'GO:0004473': 1, 'GO:0008948': 1, 'GO:0006108': 5, 'GO:1902031': 1, 'GO:1903232': 12, 'GO:0031085': 2, 'GO:0021612': 2, 'GO:0021637': 1, 'GO:0021785': 2, 'GO:0051495': 4, 'GO:0051457': 13, 'GO:0000245': 13, 'GO:0008186': 3, 'GO:0032786': 11, 'GO:0043008': 10, 'GO:0010501': 6, 'GO:0030621': 7, 'GO:2000002': 5, 'GO:0032486': 7, 'GO:0090050': 7, 'GO:0071866': 2, 'GO:0043983': 8, 'GO:0005111': 1, 'GO:0005105': 2, 'GO:0000408': 3, 'GO:0070525': 2, 'GO:0010385': 5, 'GO:0000375': 6, 'GO:0090594': 1, 'GO:0035904': 15, 'GO:0060976': 20, 'GO:0006766': 1, 'GO:0030492': 1, 'GO:0003139': 5, 'GO:0003223': 5, 'GO:0020028': 1, 'GO:0045807': 16, 'GO:0046879': 2, 'GO:0060982': 7, 'GO:0061156': 4, 'GO:0061642': 1, 'GO:0070447': 2, 'GO:0140058': 2, 'GO:0140077': 1, 'GO:1904447': 4, 'GO:0031904': 3, 'GO:0046874': 1, 'GO:0034213': 1, 'GO:0007190': 3, 'GO:0090150': 7, 'GO:0090151': 1, 'GO:2000011': 1, 'GO:0061087': 3, 'GO:0046975': 7, 'GO:0000414': 1, 'GO:0010452': 6, 'GO:1903025': 2, 'GO:0061575': 7, 'GO:0007512': 6, 'GO:0021591': 10, 'GO:0070516': 4, 'GO:0019907': 3, 'GO:0070985': 3, 'GO:0045263': 7, 'GO:1900139': 1, 'GO:0032307': 2, 'GO:0045653': 3, 'GO:0071542': 5, 'GO:0090554': 5, 'GO:2001225': 2, 'GO:0099038': 2, 'GO:0140328': 4, 'GO:0014045': 1, 'GO:0047484': 1, 'GO:0061843': 1, 'GO:0099040': 2, 'GO:1901529': 1, 'GO:0034708': 1, 'GO:0014706': 1, 'GO:0004069': 2, 'GO:0006114': 2, 'GO:0006532': 2, 'GO:0019550': 2, 'GO:0019551': 2, 'GO:0004609': 1, 'GO:0047801': 1, 'GO:0006533': 2, 'GO:0043648': 3, 'GO:0051902': 3, 'GO:0060290': 2, 'GO:1990267': 1, 'GO:0061844': 10, 'GO:0019732': 2, 'GO:0045580': 3, 'GO:0070234': 1, 'GO:0097035': 4, 'GO:0046039': 11, 'GO:0072539': 1, 'GO:0004382': 3, 'GO:0017111': 5, 'GO:0045134': 3, 'GO:0009134': 2, 'GO:0043273': 2, 'GO:0009203': 1, 'GO:0006254': 1, 'GO:0006256': 1, 'GO:0034656': 1, 'GO:0046052': 1, 'GO:0016628': 8, 'GO:0050613': 2, 'GO:0030223': 4, 'GO:1902083': 4, 'GO:1900408': 1, 'GO:0004768': 4, 'GO:0016717': 5, 'GO:0016213': 2, 'GO:0034515': 2, 'GO:0043268': 4, 'GO:0019369': 6, 'GO:0062076': 1, 'GO:1990635': 5, 'GO:1904550': 1, 'GO:0007342': 3, 'GO:0051271': 5, 'GO:0014905': 4, 'GO:1905521': 2, 'GO:0030913': 5, 'GO:0035036': 2, 'GO:0048185': 7, 'GO:0034333': 8, 'GO:0060394': 5, 'GO:0002725': 1, 'GO:0060373': 3, 'GO:1902731': 2, 'GO:1903043': 1, 'GO:2000317': 1, 'GO:2000320': 3, 'GO:0019731': 8, 'GO:0034361': 8, 'GO:0034364': 7, 'GO:0050803': 2, 'GO:0007193': 8, 'GO:0034362': 7, 'GO:0034363': 3, 'GO:1900454': 2, 'GO:1990761': 2, 'GO:0034185': 9, 'GO:0050786': 3, 'GO:0042056': 9, 'GO:0030546': 2, 'GO:1903048': 1, 'GO:2000406': 6, 'GO:0008088': 4, 'GO:0016322': 3, 'GO:0010469': 4, 'GO:0048143': 3, 'GO:0090647': 6, 'GO:1900122': 2, 'GO:0097449': 5, 'GO:1902951': 4, 'GO:1990777': 2, 'GO:0014005': 2, 'GO:1904022': 1, 'GO:0044304': 3, 'GO:0007176': 3, 'GO:0007617': 3, 'GO:0048669': 2, 'GO:0051124': 2, 'GO:0051563': 2, 'GO:0051425': 3, 'GO:0002265': 3, 'GO:0034121': 1, 'GO:0061903': 1, 'GO:0071287': 5, 'GO:0071874': 1, 'GO:1902950': 3, 'GO:1903223': 2, 'GO:1903523': 1, 'GO:1904472': 1, 'GO:1905893': 1, 'GO:1905896': 1, 'GO:1905898': 1, 'GO:1905908': 2, 'GO:1905945': 1, 'GO:0070381': 3, 'GO:0106003': 2, 'GO:1990812': 3, 'GO:0019212': 5, 'GO:0003872': 3, 'GO:0070095': 3, 'GO:0061621': 8, 'GO:0005945': 3, 'GO:0008409': 8, 'GO:0017108': 5, 'GO:0043137': 3, 'GO:0048256': 2, 'GO:0045876': 4, 'GO:0060039': 5, 'GO:0070410': 7, 'GO:0007352': 2, 'GO:0001706': 4, 'GO:0032924': 8, 'GO:0048340': 3, 'GO:0038092': 6, 'GO:0071142': 1, 'GO:1900224': 1, 'GO:0016578': 8, 'GO:0010484': 6, 'GO:2000036': 10, 'GO:0031346': 1, 'GO:0022037': 1, 'GO:0050863': 4, 'GO:0071929': 1, 'GO:0043997': 1, 'GO:0106078': 1, 'GO:0106228': 1, 'GO:0106229': 1, 'GO:0106227': 1, 'GO:1903010': 2, 'GO:0033263': 6, 'GO:0071439': 5, 'GO:0035751': 3, 'GO:0032400': 5, 'GO:0000494': 2, 'GO:0035562': 7, 'GO:1905382': 3, 'GO:0036093': 1, 'GO:1904871': 2, 'GO:1990438': 1, 'GO:0120259': 3, 'GO:0046466': 1, 'GO:0007379': 2, 'GO:0061086': 3, 'GO:0033554': 2, 'GO:0061298': 3, 'GO:0014850': 5, 'GO:0002052': 12, 'GO:0006110': 6, 'GO:0010573': 2, 'GO:0045906': 3, 'GO:0030949': 5, 'GO:1903715': 8, 'GO:0030502': 3, 'GO:0070244': 5, 'GO:0070243': 3, 'GO:0001922': 2, 'GO:0061419': 6, 'GO:0042541': 2, 'GO:0019896': 8, 'GO:0060574': 2, 'GO:0070101': 1, 'GO:0061072': 3, 'GO:2001054': 1, 'GO:0021502': 1, 'GO:0097411': 3, 'GO:0002248': 3, 'GO:0051541': 1, 'GO:1902416': 4, 'GO:0031638': 5, 'GO:0042406': 7, 'GO:0035090': 1, 'GO:0061665': 7, 'GO:0042796': 8, 'GO:0019185': 3, 'GO:0071819': 2, 'GO:0061179': 7, 'GO:0060347': 6, 'GO:0004865': 3, 'GO:0035999': 7, 'GO:0070129': 7, 'GO:0046653': 6, 'GO:0034340': 4, 'GO:0004372': 2, 'GO:0019264': 2, 'GO:0046655': 5, 'GO:0070552': 5, 'GO:0000900': 9, 'GO:0008732': 2, 'GO:0070905': 2, 'GO:0006545': 3, 'GO:0006563': 5, 'GO:0006565': 3, 'GO:0006564': 4, 'GO:0031597': 6, 'GO:0048227': 6, 'GO:0043004': 1, 'GO:0010360': 2, 'GO:0098837': 4, 'GO:0008384': 2, 'GO:1990459': 8, 'GO:0071276': 15, 'GO:0035268': 1, 'GO:0038084': 7, 'GO:0045547': 2, 'GO:0006489': 2, 'GO:1904423': 2, 'GO:0019408': 2, 'GO:0032383': 2, 'GO:0140223': 2, 'GO:0043624': 1, 'GO:0061635': 8, 'GO:0044309': 1, 'GO:0099634': 1, 'GO:0031906': 2, 'GO:0055131': 2, 'GO:0140545': 2, 'GO:0098684': 4, 'GO:0061738': 3, 'GO:0031686': 1, 'GO:0072318': 3, 'GO:1904593': 1, 'GO:1990833': 1, 'GO:0007608': 8, 'GO:0010045': 1, 'GO:0042594': 16, 'GO:0044743': 1, 'GO:0044788': 1, 'GO:1902904': 1, 'GO:1904592': 1, 'GO:1904764': 1, 'GO:1990832': 1, 'GO:1990834': 2, 'GO:0045901': 2, 'GO:0140014': 1, 'GO:1903142': 5, 'GO:0020027': 3, 'GO:0008290': 4, 'GO:1903393': 2, 'GO:0061640': 7, 'GO:0005940': 5, 'GO:0032153': 5, 'GO:0031105': 6, 'GO:0007056': 1, 'GO:0051311': 1, 'GO:0046931': 10, 'GO:0002199': 5, 'GO:0051014': 8, 'GO:0030239': 3, 'GO:0008154': 9, 'GO:0071014': 8, 'GO:0061632': 1, 'GO:2000271': 5, 'GO:0060076': 9, 'GO:0061830': 3, 'GO:0008356': 3, 'GO:0016344': 3, 'GO:0033206': 2, 'GO:0051653': 4, 'GO:0061825': 3, 'GO:0061851': 2, 'GO:0061828': 1, 'GO:0043519': 2, 'GO:1904171': 1, 'GO:0061832': 1, 'GO:0016881': 2, 'GO:0061418': 2, 'GO:0000117': 1, 'GO:0022405': 5, 'GO:0015937': 10, 'GO:0004594': 4, 'GO:0019842': 2, 'GO:1905502': 2, 'GO:0016460': 5, 'GO:0071625': 3, 'GO:0097513': 3, 'GO:0004814': 3, 'GO:0006420': 3, 'GO:0034618': 3, 'GO:0000959': 1, 'GO:0002175': 2, 'GO:1990227': 1, 'GO:0044224': 3, 'GO:0071205': 3, 'GO:0051267': 1, 'GO:0060443': 2, 'GO:1902170': 1, 'GO:0048295': 1, 'GO:0007259': 8, 'GO:0060397': 2, 'GO:0035771': 2, 'GO:0090087': 1, 'GO:1990229': 9, 'GO:0035330': 3, 'GO:0140260': 2, 'GO:0045903': 4, 'GO:0070900': 1, 'GO:0035597': 1, 'GO:1903895': 5, 'GO:0060307': 6, 'GO:0086005': 4, 'GO:0003117': 1, 'GO:1903966': 2, 'GO:0032896': 2, 'GO:0018293': 1, 'GO:0034553': 3, 'GO:0061436': 13, 'GO:0070495': 2, 'GO:1905098': 5, 'GO:0000995': 4, 'GO:0070106': 1, 'GO:0042102': 17, 'GO:0070120': 2, 'GO:0004897': 2, 'GO:0070110': 1, 'GO:0005896': 1, 'GO:0048861': 2, 'GO:0004915': 1, 'GO:0019981': 1, 'GO:0038154': 1, 'GO:0004924': 2, 'GO:0004923': 2, 'GO:0005127': 2, 'GO:0038165': 2, 'GO:0004921': 1, 'GO:0019970': 1, 'GO:0005900': 1, 'GO:0005267': 6, 'GO:0022841': 3, 'GO:0030322': 3, 'GO:0005249': 2, 'GO:0060075': 3, 'GO:0097623': 1, 'GO:0016790': 5, 'GO:0051792': 3, 'GO:0036114': 2, 'GO:0036116': 1, 'GO:1900535': 1, 'GO:0000493': 2, 'GO:0090669': 4, 'GO:1904358': 5, 'GO:0097542': 6, 'GO:0060972': 5, 'GO:0021508': 2, 'GO:0071139': 4, 'GO:0031422': 3, 'GO:0036038': 10, 'GO:0043517': 6, 'GO:0034454': 6, 'GO:0031301': 2, 'GO:0030660': 8, 'GO:0001894': 13, 'GO:0071773': 9, 'GO:0060351': 3, 'GO:0006029': 4, 'GO:0060272': 2, 'GO:0097065': 3, 'GO:0060174': 4, 'GO:0005585': 1, 'GO:0004775': 3, 'GO:0004776': 3, 'GO:0042709': 2, 'GO:0004774': 1, 'GO:0044806': 5, 'GO:0001069': 3, 'GO:0050658': 3, 'GO:1905663': 2, 'GO:1990428': 2, 'GO:0043252': 3, 'GO:0110142': 6, 'GO:0039552': 2, 'GO:0035845': 3, 'GO:0031076': 7, 'GO:0070358': 2, 'GO:0001018': 3, 'GO:0034246': 3, 'GO:0006391': 2, 'GO:0005744': 6, 'GO:0005134': 1, 'GO:0035035': 14, 'GO:0004535': 12, 'GO:0019178': 1, 'GO:0102757': 1, 'GO:0009991': 1, 'GO:0051650': 5, 'GO:0007250': 6, 'GO:1990450': 2, 'GO:0008385': 4, 'GO:0001667': 4, 'GO:0006231': 6, 'GO:1904482': 1, 'GO:0046632': 5, 'GO:0099577': 1, 'GO:0043139': 7, 'GO:0006264': 8, 'GO:0097602': 15, 'GO:0071987': 4, 'GO:0051702': 4, 'GO:0046726': 3, 'GO:0003954': 11, 'GO:1901006': 1, 'GO:0004571': 6, 'GO:1904382': 5, 'GO:0061793': 1, 'GO:0097043': 3, 'GO:0030718': 3, 'GO:0001829': 15, 'GO:0071837': 4, 'GO:0045955': 5, 'GO:0070974': 1, 'GO:0009786': 1, 'GO:0006949': 2, 'GO:0004806': 5, 'GO:0004465': 2, 'GO:0008970': 4, 'GO:0052739': 3, 'GO:0052740': 3, 'GO:0019433': 5, 'GO:0042627': 4, 'GO:0034372': 2, 'GO:0071813': 4, 'GO:0017129': 2, 'GO:0010744': 3, 'GO:0031670': 3, 'GO:0034371': 1, 'GO:0055096': 1, 'GO:1900077': 4, 'GO:1904515': 2, 'GO:0110078': 3, 'GO:0070209': 3, 'GO:0001998': 2, 'GO:0002033': 1, 'GO:0006741': 4, 'GO:0006740': 1, 'GO:0010734': 1, 'GO:1904879': 1, 'GO:0032275': 2, 'GO:2000845': 2, 'GO:0035137': 3, 'GO:0021891': 1, 'GO:0033342': 1, 'GO:0072709': 2, 'GO:0045900': 1, 'GO:0005964': 3, 'GO:0000221': 8, 'GO:0033180': 4, 'GO:0032485': 2, 'GO:0007093': 4, 'GO:0000217': 2, 'GO:0062037': 1, 'GO:0010845': 2, 'GO:0003896': 1, 'GO:0006269': 5, 'GO:0032553': 1, 'GO:0005658': 4, 'GO:0034513': 5, 'GO:0031429': 5, 'GO:0001651': 5, 'GO:0000454': 4, 'GO:0090661': 4, 'GO:0043069': 11, 'GO:0032785': 2, 'GO:0032044': 2, 'GO:1990757': 3, 'GO:0004623': 8, 'GO:0050482': 5, 'GO:0008641': 8, 'GO:0019781': 2, 'GO:0045116': 11, 'GO:0032446': 8, 'GO:0007113': 2, 'GO:0035278': 7, 'GO:0046427': 9, 'GO:0002318': 3, 'GO:0050673': 7, 'GO:0002327': 3, 'GO:0048066': 6, 'GO:0038093': 1, 'GO:0002320': 2, 'GO:0002573': 2, 'GO:0005020': 1, 'GO:0002732': 2, 'GO:0030318': 7, 'GO:0032765': 1, 'GO:0038162': 1, 'GO:0048170': 3, 'GO:0060374': 1, 'GO:0097324': 1, 'GO:0097326': 1, 'GO:0120072': 1, 'GO:1904251': 2, 'GO:1904343': 1, 'GO:1904349': 1, 'GO:1905065': 2, 'GO:0043586': 5, 'GO:0006658': 5, 'GO:0044091': 3, 'GO:1904219': 2, 'GO:1904222': 2, 'GO:0003887': 11, 'GO:0051575': 6, 'GO:0034061': 2, 'GO:0006287': 6, 'GO:0006015': 4, 'GO:0046101': 3, 'GO:0002189': 4, 'GO:0034990': 3, 'GO:0045841': 3, 'GO:0043532': 3, 'GO:0006933': 2, 'GO:0030228': 2, 'GO:0045259': 3, 'GO:0090336': 8, 'GO:0006081': 2, 'GO:0004029': 5, 'GO:0008106': 3, 'GO:0004028': 2, 'GO:0018479': 1, 'GO:0004030': 1, 'GO:0070269': 4, 'GO:0097200': 3, 'GO:0097153': 4, 'GO:0002525': 1, 'GO:0046670': 1, 'GO:0072734': 2, 'GO:0008303': 3, 'GO:0070573': 3, 'GO:0016805': 4, 'GO:0103046': 1, 'GO:0006953': 7, 'GO:0001659': 7, 'GO:1904685': 1, 'GO:2000635': 1, 'GO:0031730': 3, 'GO:0060259': 2, 'GO:0010730': 3, 'GO:0001754': 1, 'GO:1902728': 1, 'GO:1905618': 7, 'GO:0018738': 1, 'GO:0046294': 2, 'GO:1901856': 2, 'GO:1903751': 1, 'GO:0009386': 1, 'GO:0002093': 3, 'GO:0021747': 2, 'GO:0090178': 1, 'GO:1901301': 1, 'GO:0017069': 11, 'GO:1903654': 3, 'GO:1903655': 3, 'GO:0070691': 2, 'GO:0042297': 1, 'GO:1905289': 1, 'GO:1905337': 3, 'GO:0042221': 2, 'GO:1990258': 3, 'GO:0033979': 2, 'GO:0090666': 5, 'GO:1904874': 4, 'GO:0000455': 5, 'GO:1990481': 5, 'GO:0031118': 3, 'GO:0031120': 3, 'GO:0000495': 2, 'GO:0045671': 9, 'GO:1903825': 2, 'GO:0005298': 1, 'GO:0015824': 3, 'GO:0051223': 8, 'GO:0032053': 3, 'GO:0044782': 11, 'GO:0010524': 6, 'GO:0070265': 1, 'GO:0102166': 1, 'GO:0102167': 1, 'GO:0102571': 1, 'GO:0010616': 1, 'GO:0031343': 1, 'GO:0060051': 1, 'GO:0060689': 1, 'GO:0032347': 1, 'GO:0004488': 3, 'GO:0004329': 2, 'GO:0004486': 1, 'GO:0004477': 2, 'GO:0000105': 1, 'GO:0009152': 2, 'GO:0001780': 3, 'GO:0061053': 4, 'GO:0009257': 2, 'GO:0004487': 2, 'GO:0009069': 1, 'GO:0009070': 1, 'GO:0006760': 3, 'GO:0035189': 2, 'GO:1990086': 1, 'GO:0071930': 2, 'GO:0000810': 1, 'GO:0031499': 4, 'GO:0001953': 9, 'GO:0046577': 1, 'GO:0050061': 1, 'GO:0052814': 1, 'GO:0007422': 6, 'GO:0033306': 2, 'GO:0046458': 1, 'GO:0043878': 4, 'GO:0006714': 1, 'GO:0046292': 1, 'GO:0014873': 1, 'GO:0002115': 4, 'GO:1900119': 7, 'GO:0006361': 3, 'GO:0006363': 2, 'GO:0042134': 4, 'GO:0006488': 10, 'GO:0003865': 1, 'GO:0047751': 1, 'GO:0019348': 3, 'GO:0102389': 1, 'GO:0016095': 1, 'GO:1901576': 4, 'GO:0006574': 4, 'GO:0008442': 1, 'GO:0070997': 4, 'GO:0015385': 4, 'GO:0015386': 4, 'GO:0098719': 4, 'GO:0006885': 4, 'GO:0071468': 3, 'GO:0098735': 1, 'GO:0071872': 3, 'GO:1902533': 5, 'GO:0045760': 4, 'GO:0086092': 1, 'GO:0071236': 5, 'GO:0086003': 1, 'GO:1903281': 2, 'GO:0090533': 1, 'GO:0036376': 6, 'GO:2001269': 2, 'GO:0097165': 5, 'GO:0061005': 3, 'GO:0060994': 1, 'GO:1905103': 5, 'GO:0031303': 2, 'GO:0090022': 2, 'GO:0051147': 3, 'GO:0019086': 2, 'GO:0019085': 1, 'GO:0032468': 2, 'GO:0032472': 2, 'GO:0097197': 7, 'GO:0036148': 1, 'GO:0099078': 3, 'GO:0062196': 3, 'GO:0098574': 5, 'GO:0042886': 2, 'GO:0015695': 1, 'GO:0061459': 5, 'GO:0097638': 4, 'GO:0089720': 2, 'GO:0071359': 3, 'GO:1990786': 2, 'GO:0039534': 3, 'GO:2000816': 1, 'GO:0031390': 7, 'GO:1900264': 13, 'GO:0035368': 6, 'GO:2000232': 4, 'GO:0043236': 17, 'GO:0044547': 3, 'GO:1990631': 1, 'GO:0106068': 4, 'GO:1990723': 2, 'GO:0044614': 3, 'GO:0033133': 2, 'GO:0001708': 10, 'GO:0001830': 1, 'GO:0019897': 15, 'GO:0006924': 4, 'GO:0106137': 1, 'GO:0005133': 1, 'GO:0071340': 6, 'GO:0106034': 2, 'GO:0044571': 5, 'GO:0010574': 1, 'GO:0099173': 5, 'GO:0090361': 1, 'GO:1903940': 1, 'GO:2001236': 4, 'GO:0031579': 4, 'GO:0022407': 6, 'GO:0031290': 4, 'GO:0048702': 4, 'GO:0021904': 9, 'GO:0021914': 1, 'GO:0021953': 2, 'GO:0060434': 1, 'GO:0060831': 6, 'GO:0061548': 1, 'GO:0120160': 2, 'GO:0004797': 1, 'GO:0009157': 3, 'GO:0046104': 1, 'GO:0051371': 6, 'GO:0061061': 4, 'GO:0000386': 1, 'GO:0030628': 5, 'GO:0000380': 23, 'GO:0000389': 1, 'GO:0032774': 2, 'GO:0004392': 2, 'GO:0006788': 2, 'GO:0042167': 4, 'GO:0060218': 10, 'GO:0098887': 5, 'GO:0099152': 2, 'GO:0099158': 1, 'GO:0098998': 1, 'GO:0120015': 3, 'GO:1904411': 2, 'GO:0098560': 2, 'GO:0036071': 2, 'GO:0043112': 1, 'GO:0008424': 1, 'GO:0046921': 1, 'GO:0033578': 2, 'GO:0046368': 1, 'GO:1990935': 3, 'GO:0034693': 1, 'GO:0030274': 4, 'GO:0043549': 2, 'GO:0009948': 9, 'GO:0060322': 9, 'GO:0022607': 1, 'GO:0034243': 5, 'GO:0043973': 1, 'GO:0046985': 4, 'GO:0060319': 2, 'GO:0043951': 5, 'GO:0000289': 8, 'GO:0031251': 2, 'GO:0010606': 5, 'GO:0031442': 7, 'GO:0033523': 7, 'GO:0002011': 8, 'GO:0032288': 5, 'GO:0043219': 6, 'GO:0048699': 9, 'GO:0035750': 1, 'GO:0007602': 2, 'GO:0050953': 2, 'GO:0005095': 2, 'GO:0047555': 1, 'GO:0007127': 6, 'GO:0031021': 3, 'GO:1990713': 1, 'GO:0036499': 5, 'GO:2000676': 2, 'GO:0043558': 2, 'GO:0032057': 2, 'GO:1990737': 3, 'GO:0097451': 2, 'GO:0005850': 6, 'GO:0044207': 1, 'GO:2000781': 29, 'GO:0004550': 11, 'GO:0019205': 5, 'GO:0004127': 2, 'GO:0009041': 2, 'GO:0033862': 1, 'GO:0036430': 1, 'GO:0036431': 1, 'GO:0006165': 11, 'GO:0006221': 6, 'GO:0006225': 4, 'GO:0009142': 5, 'GO:0046940': 7, 'GO:0031440': 3, 'GO:2001033': 5, 'GO:0016514': 20, 'GO:0070603': 4, 'GO:0035060': 10, 'GO:0006337': 13, 'GO:0030520': 8, 'GO:0001704': 2, 'GO:0003205': 2, 'GO:0003408': 1, 'GO:0060674': 7, 'GO:0071564': 12, 'GO:0071565': 11, 'GO:0070316': 18, 'GO:2000819': 21, 'GO:0140092': 8, 'GO:0008444': 2, 'GO:0006655': 4, 'GO:0046339': 7, 'GO:0050687': 9, 'GO:0035519': 4, 'GO:0044389': 15, 'GO:0045236': 1, 'GO:1990763': 3, 'GO:0090085': 1, 'GO:0004136': 3, 'GO:0004138': 2, 'GO:0019136': 2, 'GO:0046070': 1, 'GO:0046122': 1, 'GO:0106383': 3, 'GO:0106385': 1, 'GO:0004707': 9, 'GO:0060761': 3, 'GO:0071499': 6, 'GO:0034115': 4, 'GO:0036003': 5, 'GO:0070375': 1, 'GO:0106388': 1, 'GO:0004656': 3, 'GO:0016222': 3, 'GO:0019511': 4, 'GO:0043032': 3, 'GO:0030135': 2, 'GO:0045041': 4, 'GO:0008035': 4, 'GO:0046696': 1, 'GO:0042588': 3, 'GO:0034186': 3, 'GO:0002842': 3, 'GO:0034514': 2, 'GO:0048291': 1, 'GO:0043291': 3, 'GO:0051452': 2, 'GO:0000152': 6, 'GO:1902358': 5, 'GO:0015116': 5, 'GO:0015141': 4, 'GO:0015117': 3, 'GO:0015131': 3, 'GO:0015140': 3, 'GO:0008272': 6, 'GO:0015709': 3, 'GO:0015729': 4, 'GO:0071422': 4, 'GO:0071423': 3, 'GO:1902356': 3, 'GO:0008158': 3, 'GO:0016241': 10, 'GO:0006995': 8, 'GO:0010040': 4, 'GO:0007000': 5, 'GO:0001093': 3, 'GO:0034512': 2, 'GO:0062064': 2, 'GO:0062065': 1, 'GO:0031428': 6, 'GO:0043374': 2, 'GO:2000316': 2, 'GO:0015292': 1, 'GO:0019208': 5, 'GO:0046822': 3, 'GO:0035507': 1, 'GO:0035508': 1, 'GO:0005726': 7, 'GO:0070761': 7, 'GO:0019869': 4, 'GO:0048243': 1, 'GO:0030166': 10, 'GO:0006024': 9, 'GO:0003831': 4, 'GO:0008378': 6, 'GO:0046525': 1, 'GO:0080025': 18, 'GO:0098791': 2, 'GO:0002263': 1, 'GO:0048205': 4, 'GO:0061162': 2, 'GO:0097111': 1, 'GO:1903409': 2, 'GO:1903420': 1, 'GO:2000008': 3, 'GO:0035175': 1, 'GO:0072354': 2, 'GO:0072355': 1, 'GO:0120187': 2, 'GO:0001881': 5, 'GO:2001311': 2, 'GO:0045054': 3, 'GO:0070509': 6, 'GO:0016603': 2, 'GO:0017186': 2, 'GO:0046403': 1, 'GO:0046404': 3, 'GO:0098506': 1, 'GO:0010836': 3, 'GO:0051103': 2, 'GO:0004140': 3, 'GO:0004595': 1, 'GO:0002467': 3, 'GO:0002268': 2, 'GO:0033257': 2, 'GO:0030366': 1, 'GO:0006777': 3, 'GO:0019008': 2, 'GO:0002035': 1, 'GO:0071264': 2, 'GO:0071494': 4, 'GO:0072755': 1, 'GO:0140469': 2, 'GO:0007021': 5, 'GO:0016589': 5, 'GO:1904949': 7, 'GO:0070370': 2, 'GO:0045661': 3, 'GO:0060712': 4, 'GO:0010837': 3, 'GO:0031086': 1, 'GO:1902172': 1, 'GO:1904582': 2, 'GO:0003342': 1, 'GO:0071472': 1, 'GO:0072091': 6, 'GO:0097403': 1, 'GO:0097720': 2, 'GO:0001915': 2, 'GO:0001946': 7, 'GO:0004723': 1, 'GO:0023057': 1, 'GO:0004648': 1, 'GO:0005519': 3, 'GO:0099186': 1, 'GO:0036344': 3, 'GO:0032127': 2, 'GO:1990441': 3, 'GO:0010523': 2, 'GO:1903298': 6, 'GO:0060698': 2, 'GO:0060702': 2, 'GO:0071596': 3, 'GO:0004020': 1, 'GO:0004781': 1, 'GO:0000103': 1, 'GO:0050428': 1, 'GO:0009336': 1, 'GO:1990046': 2, 'GO:0008193': 1, 'GO:0099116': 1, 'GO:0003944': 1, 'GO:0071535': 2, 'GO:0061656': 1, 'GO:1903755': 1, 'GO:1990356': 1, 'GO:0030128': 1, 'GO:0042308': 10, 'GO:0071569': 6, 'GO:0033146': 7, 'GO:1990592': 5, 'GO:2000491': 3, 'GO:0072574': 3, 'GO:0140007': 3, 'GO:0002314': 2, 'GO:0045815': 8, 'GO:1902882': 1, 'GO:1902884': 1, 'GO:1902883': 1, 'GO:1902750': 1, 'GO:0030291': 7, 'GO:0000182': 4, 'GO:1901837': 3, 'GO:0007549': 1, 'GO:1903226': 1, 'GO:1904815': 1, 'GO:1902532': 1, 'GO:0015165': 3, 'GO:0090481': 3, 'GO:0005459': 3, 'GO:0072334': 3, 'GO:2001165': 1, 'GO:0002945': 2, 'GO:0042476': 11, 'GO:0038027': 5, 'GO:0036089': 3, 'GO:1904753': 4, 'GO:0045198': 11, 'GO:0003100': 1, 'GO:0060193': 2, 'GO:0097498': 1, 'GO:1902766': 2, 'GO:1903673': 1, 'GO:1904695': 1, 'GO:0002363': 1, 'GO:0033688': 1, 'GO:0061383': 1, 'GO:0090324': 3, 'GO:0032767': 3, 'GO:0048608': 3, 'GO:0006463': 1, 'GO:0031111': 2, 'GO:0002040': 15, 'GO:0032466': 7, 'GO:0001217': 8, 'GO:0032877': 2, 'GO:0060718': 6, 'GO:0070365': 6, 'GO:0007624': 1, 'GO:0050900': 11, 'GO:0007267': 9, 'GO:0070094': 1, 'GO:0032559': 2, 'GO:0005754': 1, 'GO:0097020': 1, 'GO:0052856': 1, 'GO:0010874': 4, 'GO:0031580': 1, 'GO:0046496': 2, 'GO:0052857': 1, 'GO:0060711': 5, 'GO:0070139': 3, 'GO:0016926': 7, 'GO:0009950': 5, 'GO:0051246': 7, 'GO:0070140': 6, 'GO:0032875': 1, 'GO:0097149': 3, 'GO:0000915': 3, 'GO:1902957': 1, 'GO:0035726': 4, 'GO:0033028': 2, 'GO:0035517': 2, 'GO:0061519': 1, 'GO:0002574': 1, 'GO:0043363': 1, 'GO:0070661': 2, 'GO:1902945': 4, 'GO:1990518': 3, 'GO:1902969': 1, 'GO:0038203': 4, 'GO:0120230': 1, 'GO:0000709': 1, 'GO:0010774': 1, 'GO:0120231': 1, 'GO:2000299': 2, 'GO:1900034': 3, 'GO:0004815': 2, 'GO:0006422': 2, 'GO:0070856': 1, 'GO:0043584': 2, 'GO:0060820': 1, 'GO:0098699': 1, 'GO:0099140': 2, 'GO:1902440': 1, 'GO:1990811': 1, 'GO:0016586': 12, 'GO:0140288': 11, 'GO:0007057': 4, 'GO:0008315': 2, 'GO:0051383': 6, 'GO:0140483': 1, 'GO:0140506': 2, 'GO:0032979': 4, 'GO:0051204': 4, 'GO:0021796': 2, 'GO:0038062': 1, 'GO:0043583': 7, 'GO:0010715': 1, 'GO:0061302': 1, 'GO:0007274': 5, 'GO:0048133': 2, 'GO:2000059': 11, 'GO:0021513': 3, 'GO:0021775': 3, 'GO:0021776': 3, 'GO:0006958': 2, 'GO:0030449': 4, 'GO:0031664': 2, 'GO:1903659': 3, 'GO:0002456': 4, 'GO:0045959': 2, 'GO:0002726': 6, 'GO:2000563': 2, 'GO:0045916': 3, 'GO:0030450': 1, 'GO:2000516': 1, 'GO:0060537': 3, 'GO:0000340': 10, 'GO:0016281': 7, 'GO:0008531': 1, 'GO:0006771': 1, 'GO:0009231': 1, 'GO:0009398': 1, 'GO:1903441': 5, 'GO:0042461': 1, 'GO:0031957': 5, 'GO:0060136': 8, 'GO:0035336': 4, 'GO:0004615': 2, 'GO:0009298': 4, 'GO:0035003': 3, 'GO:0120192': 4, 'GO:0043186': 6, 'GO:0003987': 2, 'GO:0050218': 2, 'GO:0019413': 2, 'GO:0019542': 2, 'GO:0016878': 3, 'GO:0030835': 5, 'GO:0030299': 2, 'GO:0051661': 6, 'GO:0051684': 3, 'GO:0048019': 2, 'GO:0002091': 5, 'GO:0048237': 1, 'GO:0070326': 2, 'GO:0010916': 2, 'GO:0048259': 2, 'GO:0005542': 6, 'GO:0031103': 8, 'GO:0004146': 1, 'GO:0051871': 1, 'GO:0006729': 3, 'GO:0031427': 1, 'GO:0046452': 2, 'GO:2000121': 2, 'GO:0016556': 3, 'GO:0030891': 5, 'GO:1901796': 9, 'GO:0000466': 4, 'GO:0070545': 3, 'GO:0003091': 3, 'GO:0019207': 3, 'GO:0002437': 6, 'GO:0035622': 1, 'GO:0010838': 4, 'GO:2001204': 1, 'GO:1990705': 2, 'GO:0072015': 9, 'GO:0001709': 5, 'GO:0061073': 4, 'GO:0003184': 6, 'GO:0060413': 3, 'GO:0071228': 3, 'GO:0072014': 1, 'GO:0072104': 3, 'GO:1901537': 5, 'GO:1905279': 3, 'GO:0004363': 1, 'GO:0043295': 8, 'GO:0004198': 5, 'GO:0090541': 2, 'GO:0010225': 8, 'GO:0006403': 3, 'GO:0034696': 1, 'GO:0031017': 3, 'GO:0060267': 2, 'GO:0005009': 1, 'GO:0010560': 1, 'GO:0043423': 2, 'GO:0051446': 1, 'GO:2000194': 1, 'GO:0060417': 1, 'GO:0005899': 1, 'GO:0043262': 2, 'GO:0004081': 2, 'GO:0015966': 3, 'GO:0006426': 1, 'GO:0004820': 1, 'GO:0070150': 1, 'GO:0016300': 2, 'GO:0052665': 1, 'GO:0006241': 7, 'GO:0003883': 2, 'GO:0044210': 2, 'GO:0019856': 3, 'GO:0097268': 2, 'GO:1902512': 5, 'GO:1904528': 4, 'GO:0009299': 3, 'GO:0061770': 1, 'GO:0098847': 2, 'GO:0061408': 1, 'GO:0072738': 2, 'GO:1900365': 2, 'GO:1903936': 4, 'GO:0035865': 3, 'GO:1904843': 1, 'GO:1904845': 2, 'GO:1990911': 1, 'GO:0030735': 1, 'GO:0035498': 1, 'GO:0098632': 8, 'GO:0070593': 4, 'GO:0035879': 3, 'GO:1990817': 2, 'GO:0097108': 3, 'GO:1902732': 3, 'GO:0008191': 4, 'GO:0004866': 9, 'GO:0090204': 2, 'GO:0140343': 1, 'GO:0010891': 2, 'GO:0036449': 7, 'GO:0042572': 9, 'GO:0046486': 5, 'GO:1901738': 1, 'GO:0004144': 1, 'GO:0006640': 1, 'GO:0046321': 3, 'GO:0050252': 1, 'GO:0003846': 2, 'GO:1902224': 1, 'GO:1903998': 1, 'GO:1904729': 1, 'GO:0004830': 1, 'GO:0006436': 1, 'GO:0019210': 2, 'GO:0009597': 4, 'GO:0050483': 2, 'GO:0000255': 5, 'GO:0006204': 3, 'GO:0046055': 4, 'GO:0046085': 3, 'GO:0050146': 1, 'GO:0050484': 1, 'GO:0006202': 1, 'GO:0000291': 3, 'GO:0062124': 1, 'GO:2000758': 3, 'GO:2000369': 7, 'GO:0001520': 4, 'GO:0006850': 2, 'GO:0050833': 2, 'GO:0004044': 1, 'GO:0009168': 4, 'GO:1904231': 2, 'GO:0052735': 3, 'GO:0034472': 8, 'GO:0072697': 2, 'GO:0010826': 5, 'GO:0003711': 3, 'GO:1902916': 4, 'GO:0033503': 4, 'GO:0071894': 3, 'GO:2001168': 4, 'GO:0031401': 3, 'GO:0019933': 7, 'GO:0110148': 4, 'GO:1990589': 3, 'GO:1990590': 2, 'GO:0030121': 6, 'GO:0016182': 3, 'GO:0060155': 13, 'GO:1901300': 5, 'GO:0048668': 2, 'GO:0043242': 2, 'GO:0070842': 3, 'GO:0042903': 2, 'GO:0070846': 1, 'GO:0035967': 1, 'GO:0070845': 1, 'GO:0004859': 3, 'GO:0019834': 2, 'GO:0002548': 4, 'GO:0032717': 6, 'GO:0018149': 4, 'GO:0046883': 1, 'GO:1900138': 1, 'GO:0045627': 2, 'GO:0045629': 3, 'GO:0045920': 4, 'GO:0007187': 1, 'GO:0042629': 2, 'GO:0036121': 2, 'GO:0032652': 1, 'GO:0033031': 2, 'GO:0070459': 2, 'GO:0071621': 2, 'GO:0097350': 4, 'GO:0031313': 7, 'GO:0004639': 1, 'GO:0004638': 1, 'GO:0043727': 1, 'GO:1905599': 3, 'GO:0010988': 2, 'GO:0042335': 1, 'GO:0031069': 11, 'GO:0045684': 2, 'GO:0070268': 1, 'GO:0004108': 1, 'GO:0036440': 1, 'GO:0051006': 2, 'GO:0034382': 3, 'GO:0090207': 6, 'GO:0071344': 2, 'GO:0030857': 4, 'GO:0048752': 3, 'GO:0048598': 12, 'GO:0051150': 2, 'GO:0033081': 4, 'GO:0010464': 1, 'GO:0043226': 7, 'GO:1990049': 4, 'GO:0099609': 2, 'GO:0099641': 5, 'GO:0035617': 3, 'GO:1905152': 1, 'GO:0017196': 5, 'GO:0019222': 6, 'GO:0051754': 3, 'GO:0010789': 1, 'GO:2000711': 1, 'GO:0030892': 1, 'GO:0070126': 2, 'GO:0002094': 2, 'GO:0016094': 1, 'GO:0016151': 2, 'GO:0006778': 3, 'GO:0046870': 2, 'GO:0045178': 6, 'GO:0006828': 2, 'GO:0046915': 1, 'GO:0015087': 1, 'GO:0015094': 1, 'GO:0015099': 1, 'GO:0015100': 1, 'GO:0015295': 3, 'GO:0022890': 2, 'GO:0000041': 1, 'GO:0010042': 7, 'GO:0015675': 1, 'GO:0015676': 1, 'GO:0015692': 1, 'GO:0035444': 1, 'GO:0098705': 2, 'GO:0070826': 1, 'GO:1900260': 1, 'GO:0048745': 8, 'GO:0071895': 2, 'GO:0045298': 3, 'GO:1902175': 2, 'GO:0035973': 5, 'GO:0019215': 4, 'GO:0034140': 2, 'GO:1901340': 1, 'GO:0097526': 5, 'GO:0030622': 3, 'GO:0070990': 2, 'GO:0071166': 1, 'GO:0005690': 2, 'GO:0002151': 6, 'GO:0030371': 11, 'GO:0035197': 6, 'GO:0035613': 11, 'GO:0044830': 3, 'GO:0060964': 3, 'GO:0060998': 2, 'GO:0098908': 1, 'GO:1901254': 1, 'GO:1902373': 1, 'GO:0005135': 1, 'GO:1901525': 5, 'GO:2000379': 16, 'GO:0005128': 1, 'GO:0045637': 2, 'GO:0031391': 3, 'GO:0005663': 5, 'GO:0000818': 3, 'GO:0043522': 8, 'GO:0000444': 4, 'GO:0044779': 1, 'GO:0031419': 6, 'GO:0008705': 1, 'GO:0042558': 1, 'GO:0008172': 1, 'GO:0032593': 4, 'GO:0051021': 1, 'GO:0030859': 3, 'GO:0045200': 2, 'GO:0097051': 3, 'GO:1903361': 3, 'GO:2001178': 1, 'GO:0032798': 2, 'GO:0097196': 1, 'GO:0009383': 2, 'GO:0042256': 6, 'GO:0050811': 7, 'GO:0030957': 7, 'GO:0004364': 10, 'GO:0045174': 1, 'GO:0050610': 1, 'GO:0019852': 3, 'GO:0019853': 2, 'GO:0071243': 5, 'GO:0045137': 1, 'GO:0002329': 3, 'GO:0060043': 3, 'GO:0042116': 5, 'GO:0098582': 2, 'GO:0098900': 1, 'GO:0032745': 1, 'GO:0061470': 2, 'GO:1901509': 1, 'GO:2000341': 2, 'GO:0032651': 2, 'GO:0021517': 3, 'GO:0032655': 3, 'GO:0045655': 1, 'GO:1900424': 1, 'GO:1901256': 1, 'GO:0000308': 1, 'GO:0003858': 2, 'GO:0019290': 1, 'GO:0042168': 4, 'GO:0070169': 2, 'GO:1990948': 8, 'GO:1905322': 3, 'GO:0016050': 9, 'GO:0032876': 1, 'GO:2001021': 1, 'GO:0000347': 5, 'GO:0000018': 3, 'GO:0048297': 1, 'GO:0043843': 1, 'GO:2000543': 2, 'GO:0008200': 1, 'GO:0030292': 3, 'GO:1990630': 2, 'GO:0004822': 2, 'GO:0006428': 2, 'GO:2000643': 7, 'GO:0019828': 4, 'GO:0032060': 4, 'GO:0090521': 4, 'GO:0035306': 3, 'GO:1900223': 3, 'GO:0010922': 4, 'GO:0032970': 3, 'GO:0022614': 4, 'GO:0110061': 1, 'GO:1902992': 3, 'GO:1905205': 1, 'GO:1990776': 3, 'GO:0032059': 6, 'GO:0070060': 1, 'GO:0010815': 3, 'GO:0072534': 1, 'GO:0098966': 1, 'GO:0090068': 1, 'GO:1900037': 3, 'GO:1904292': 1, 'GO:0045003': 2, 'GO:0035166': 3, 'GO:0032205': 4, 'GO:0006296': 3, 'GO:0000014': 6, 'GO:1990599': 3, 'GO:0000710': 1, 'GO:0006295': 2, 'GO:0009744': 2, 'GO:0061819': 3, 'GO:0090656': 3, 'GO:1904431': 2, 'GO:1905765': 3, 'GO:0070522': 4, 'GO:0000110': 2, 'GO:0008441': 2, 'GO:0004441': 1, 'GO:1903028': 2, 'GO:0008509': 5, 'GO:0006820': 8, 'GO:0005452': 5, 'GO:0015301': 5, 'GO:0008510': 2, 'GO:0015701': 4, 'GO:0050801': 4, 'GO:0032280': 2, 'GO:0015106': 3, 'GO:0097457': 2, 'GO:0000243': 4, 'GO:1990446': 7, 'GO:0090498': 3, 'GO:0000470': 12, 'GO:0033010': 7, 'GO:1900425': 1, 'GO:0061428': 3, 'GO:0045843': 4, 'GO:0044242': 3, 'GO:0048012': 5, 'GO:1900226': 2, 'GO:0046970': 1, 'GO:0051987': 3, 'GO:0061433': 1, 'GO:0070446': 1, 'GO:1900195': 2, 'GO:2000777': 2, 'GO:0097456': 1, 'GO:1904674': 1, 'GO:0060644': 3, 'GO:1904677': 1, 'GO:2000103': 1, 'GO:0009994': 2, 'GO:0001545': 2, 'GO:0004683': 7, 'GO:0009931': 3, 'GO:0032675': 2, 'GO:0048007': 2, 'GO:0051138': 2, 'GO:0048490': 8, 'GO:0098773': 1, 'GO:0035654': 3, 'GO:0008127': 1, 'GO:0031117': 3, 'GO:0035063': 1, 'GO:1903432': 5, 'GO:1902751': 6, 'GO:1903008': 2, 'GO:0004827': 2, 'GO:0006433': 2, 'GO:0097452': 4, 'GO:0004818': 2, 'GO:0006424': 2, 'GO:0140212': 1, 'GO:0016444': 1, 'GO:0008064': 5, 'GO:0033633': 2, 'GO:0060754': 4, 'GO:0097413': 3, 'GO:0050435': 7, 'GO:0040011': 2, 'GO:0002038': 2, 'GO:0016080': 2, 'GO:0021870': 1, 'GO:0035282': 3, 'GO:0050820': 2, 'GO:0006272': 3, 'GO:0006297': 3, 'GO:0045004': 2, 'GO:0008310': 2, 'GO:0030296': 6, 'GO:0043125': 3, 'GO:0051048': 1, 'GO:0003197': 6, 'GO:0014037': 4, 'GO:0038143': 2, 'GO:0055025': 2, 'GO:0038131': 1, 'GO:0001865': 2, 'GO:0006678': 2, 'GO:0060742': 3, 'GO:1905576': 1, 'GO:1903575': 3, 'GO:0060073': 1, 'GO:0090659': 2, 'GO:0003335': 1, 'GO:0006643': 1, 'GO:0006664': 1, 'GO:0070841': 1, 'GO:0030882': 1, 'GO:1905574': 1, 'GO:1905575': 1, 'GO:1905577': 1, 'GO:1903771': 1, 'GO:1905572': 1, 'GO:0017176': 3, 'GO:0000506': 4, 'GO:0061700': 8, 'GO:0045345': 1, 'GO:0051135': 1, 'GO:0030893': 4, 'GO:0061775': 1, 'GO:0110011': 4, 'GO:0098637': 5, 'GO:0021849': 3, 'GO:0099150': 1, 'GO:0006072': 5, 'GO:0004370': 2, 'GO:0006071': 5, 'GO:0046167': 2, 'GO:0006910': 4, 'GO:2000353': 8, 'GO:0034393': 3, 'GO:1905064': 2, 'GO:0060940': 1, 'GO:1904761': 3, 'GO:0047017': 1, 'GO:1901897': 2, 'GO:0005954': 2, 'GO:0061088': 2, 'GO:0061090': 1, 'GO:1903302': 1, 'GO:1903926': 3, 'GO:0106363': 1, 'GO:1901255': 1, 'GO:1905768': 1, 'GO:0004567': 1, 'GO:0016079': 3, 'GO:0048284': 3, 'GO:0016230': 1, 'GO:0048787': 2, 'GO:1902041': 5, 'GO:0032589': 2, 'GO:0043311': 2, 'GO:0000322': 3, 'GO:0016081': 2, 'GO:0045844': 2, 'GO:0051272': 6, 'GO:0010587': 6, 'GO:0110008': 1, 'GO:1900114': 1, 'GO:0090343': 2, 'GO:1900180': 4, 'GO:0030951': 4, 'GO:1904178': 1, 'GO:1990683': 1, 'GO:0007530': 2, 'GO:0032448': 1, 'GO:0050682': 1, 'GO:0002532': 3, 'GO:0003847': 5, 'GO:0047498': 2, 'GO:0046473': 3, 'GO:2000344': 1, 'GO:0010884': 7, 'GO:0034374': 5, 'GO:0032308': 3, 'GO:0034638': 6, 'GO:0046337': 1, 'GO:0090238': 3, 'GO:0062234': 2, 'GO:0051977': 1, 'GO:0001188': 8, 'GO:2000142': 2, 'GO:0001042': 2, 'GO:0001164': 7, 'GO:0001181': 4, 'GO:0042171': 3, 'GO:0003681': 2, 'GO:0004769': 2, 'GO:0000247': 1, 'GO:0002162': 8, 'GO:0090136': 8, 'GO:0002009': 8, 'GO:1904702': 1, 'GO:0005915': 6, 'GO:0090636': 1, 'GO:0090637': 1, 'GO:0016818': 9, 'GO:0045951': 1, 'GO:0019725': 4, 'GO:0047497': 6, 'GO:0045217': 4, 'GO:0032682': 3, 'GO:0061028': 12, 'GO:0051482': 6, 'GO:0034141': 4, 'GO:0034145': 4, 'GO:0050927': 3, 'GO:0015057': 2, 'GO:0070493': 3, 'GO:0060100': 4, 'GO:0030836': 6, 'GO:0002690': 2, 'GO:0003104': 3, 'GO:0030193': 4, 'GO:0070963': 1, 'GO:0097029': 1, 'GO:1900135': 1, 'GO:0071986': 6, 'GO:0150116': 1, 'GO:0001734': 2, 'GO:0008173': 10, 'GO:1903679': 3, 'GO:1990744': 1, 'GO:1901165': 5, 'GO:0017002': 3, 'GO:0034711': 4, 'GO:0048179': 5, 'GO:0016361': 3, 'GO:0008418': 2, 'GO:0032506': 3, 'GO:0005826': 3, 'GO:0001931': 7, 'GO:0043534': 4, 'GO:0032796': 1, 'GO:1903923': 1, 'GO:1903919': 1, 'GO:1905684': 1, 'GO:0051295': 2, 'GO:0060471': 1, 'GO:0035195': 10, 'GO:0045652': 4, 'GO:0042304': 2, 'GO:1902626': 1, 'GO:0004000': 4, 'GO:0006154': 3, 'GO:0046103': 3, 'GO:0062154': 1, 'GO:0004649': 2, 'GO:0016045': 1, 'GO:0047658': 2, 'GO:0009225': 1, 'GO:0031056': 4, 'GO:0016830': 4, 'GO:0014860': 1, 'GO:0035767': 5, 'GO:0071376': 1, 'GO:0008113': 1, 'GO:0033743': 3, 'GO:0031595': 3, 'GO:0004709': 7, 'GO:0019100': 1, 'GO:0048263': 2, 'GO:1904322': 4, 'GO:2000173': 1, 'GO:1990829': 3, 'GO:1902165': 1, 'GO:0098808': 2, 'GO:0010956': 1, 'GO:1900127': 1, 'GO:1904630': 1, 'GO:1904632': 1, 'GO:0098556': 4, 'GO:0031511': 2, 'GO:0000395': 5, 'GO:0097100': 5, 'GO:1903507': 3, 'GO:0035021': 2, 'GO:0019103': 2, 'GO:0006273': 1, 'GO:0046622': 4, 'GO:1902219': 1, 'GO:0060713': 2, 'GO:0002155': 2, 'GO:0000435': 1, 'GO:0023041': 1, 'GO:0044306': 7, 'GO:0015696': 1, 'GO:0031403': 2, 'GO:0005980': 4, 'GO:0004558': 1, 'GO:0090599': 2, 'GO:0032450': 1, 'GO:0002086': 1, 'GO:0000023': 1, 'GO:0043181': 1, 'GO:0008115': 1, 'GO:0050031': 1, 'GO:0033514': 1, 'GO:0000164': 7, 'GO:0099578': 3, 'GO:1902415': 2, 'GO:1904570': 1, 'GO:1904574': 1, 'GO:0003416': 4, 'GO:0004366': 3, 'GO:0102420': 3, 'GO:0006654': 11, 'GO:0042104': 7, 'GO:0006650': 4, 'GO:0070236': 1, 'GO:0032281': 8, 'GO:0006497': 10, 'GO:0061355': 1, 'GO:0045234': 1, 'GO:0030118': 5, 'GO:0061309': 2, 'GO:0061009': 2, 'GO:2000227': 1, 'GO:0072282': 2, 'GO:0061626': 6, 'GO:2000978': 2, 'GO:0021984': 2, 'GO:0035910': 2, 'GO:0021575': 1, 'GO:0003266': 2, 'GO:0021557': 2, 'GO:0021558': 1, 'GO:0045608': 2, 'GO:0046331': 2, 'GO:0060164': 1, 'GO:0061106': 1, 'GO:1905934': 1, 'GO:0071820': 1, 'GO:0003143': 5, 'GO:0045977': 1, 'GO:0060675': 1, 'GO:0072012': 2, 'GO:0072049': 1, 'GO:0072050': 1, 'GO:0072141': 1, 'GO:0097066': 4, 'GO:0097084': 2, 'GO:2000974': 2, 'GO:2000981': 1, 'GO:0002950': 3, 'GO:0033188': 3, 'GO:0047493': 3, 'GO:1905373': 2, 'GO:0008568': 3, 'GO:0051013': 5, 'GO:0010458': 11, 'GO:0051228': 2, 'GO:0015594': 1, 'GO:0015847': 1, 'GO:0010636': 4, 'GO:0140438': 1, 'GO:0031114': 3, 'GO:0044307': 5, 'GO:0150001': 2, 'GO:1903829': 7, 'GO:0099642': 1, 'GO:1901588': 1, 'GO:0008093': 2, 'GO:1902817': 4, 'GO:0045504': 5, 'GO:0036157': 3, 'GO:0010970': 2, 'GO:0004663': 3, 'GO:0045213': 3, 'GO:0030548': 2, 'GO:0004660': 2, 'GO:0018343': 3, 'GO:0005965': 2, 'GO:0090044': 1, 'GO:0090045': 2, 'GO:0032272': 1, 'GO:0032298': 2, 'GO:0031453': 3, 'GO:0000805': 3, 'GO:0000806': 2, 'GO:0097123': 1, 'GO:0097134': 2, 'GO:0097135': 1, 'GO:0006049': 1, 'GO:0003827': 1, 'GO:0009301': 3, 'GO:0004143': 4, 'GO:0007205': 5, 'GO:0003951': 7, 'GO:0046834': 5, 'GO:0008171': 4, 'GO:0008175': 2, 'GO:0009020': 1, 'GO:0052666': 1, 'GO:0002128': 1, 'GO:1905604': 2, 'GO:0097441': 5, 'GO:0060988': 1, 'GO:0002090': 5, 'GO:0097753': 2, 'GO:0099050': 1, 'GO:0004740': 3, 'GO:0047323': 1, 'GO:0006621': 6, 'GO:1902035': 2, 'GO:0009838': 6, 'GO:0044878': 4, 'GO:0090611': 5, 'GO:0042157': 5, 'GO:0042158': 3, 'GO:0042159': 5, 'GO:0071379': 1, 'GO:0031983': 1, 'GO:0034359': 1, 'GO:0014012': 4, 'GO:0060588': 1, 'GO:2000098': 2, 'GO:2000405': 2, 'GO:0050780': 2, 'GO:0098919': 2, 'GO:0099562': 3, 'GO:0030953': 10, 'GO:0001935': 12, 'GO:0060022': 2, 'GO:0097016': 2, 'GO:0097025': 3, 'GO:0031434': 9, 'GO:0043622': 3, 'GO:1903753': 4, 'GO:0030432': 2, 'GO:0097120': 3, 'GO:1902473': 2, 'GO:1903286': 1, 'GO:1903760': 1, 'GO:1903764': 1, 'GO:0072487': 2, 'GO:0043995': 1, 'GO:0043996': 1, 'GO:0051403': 7, 'GO:0035033': 3, 'GO:2000017': 3, 'GO:0031281': 3, 'GO:0034352': 2, 'GO:1901485': 5, 'GO:1902595': 2, 'GO:0007258': 3, 'GO:0061833': 4, 'GO:0004705': 2, 'GO:1904809': 1, 'GO:0046500': 1, 'GO:1905460': 2, 'GO:0090309': 7, 'GO:1905931': 1, 'GO:2000620': 2, 'GO:0031436': 2, 'GO:0070532': 4, 'GO:0070533': 5, 'GO:0043009': 4, 'GO:0070512': 1, 'GO:1990391': 11, 'GO:0035825': 7, 'GO:0110025': 6, 'GO:0090155': 3, 'GO:1900060': 2, 'GO:0062104': 1, 'GO:0009414': 4, 'GO:0005021': 2, 'GO:0090037': 6, 'GO:0060312': 3, 'GO:0010633': 5, 'GO:0035646': 7, 'GO:1901379': 2, 'GO:0048757': 1, 'GO:0050931': 1, 'GO:1900746': 3, 'GO:0097152': 1, 'GO:0042412': 2, 'GO:0019452': 2, 'GO:0019530': 3, 'GO:0004068': 1, 'GO:0004782': 1, 'GO:0019449': 1, 'GO:0004719': 3, 'GO:0031102': 2, 'GO:0097629': 3, 'GO:0097632': 2, 'GO:0097635': 2, 'GO:0030014': 13, 'GO:0070966': 3, 'GO:0005041': 3, 'GO:0019534': 2, 'GO:0071397': 8, 'GO:1990851': 1, 'GO:0051354': 3, 'GO:0051205': 2, 'GO:0004810': 1, 'GO:0009022': 1, 'GO:0016437': 1, 'GO:0052927': 1, 'GO:0052928': 1, 'GO:0052929': 1, 'GO:0001680': 1, 'GO:0030015': 6, 'GO:0015174': 6, 'GO:0000821': 1, 'GO:1990822': 3, 'GO:0004103': 1, 'GO:0006657': 4, 'GO:0004104': 1, 'GO:0033265': 1, 'GO:0006580': 2, 'GO:0019695': 1, 'GO:0010907': 3, 'GO:1904024': 3, 'GO:0010626': 2, 'GO:0032926': 3, 'GO:0072678': 2, 'GO:0003366': 1, 'GO:0034669': 1, 'GO:0097367': 2, 'GO:0006048': 5, 'GO:0004360': 2, 'GO:0006047': 3, 'GO:1901137': 2, 'GO:0048273': 3, 'GO:0045204': 1, 'GO:0033365': 15, 'GO:0002158': 1, 'GO:0007039': 1, 'GO:0010155': 1, 'GO:0010272': 1, 'GO:0035709': 1, 'GO:0035711': 2, 'GO:0044691': 2, 'GO:0045851': 1, 'GO:0090383': 2, 'GO:0097188': 1, 'GO:0060740': 3, 'GO:0048732': 1, 'GO:0070384': 1, 'GO:0032331': 6, 'GO:0002068': 3, 'GO:0060534': 3, 'GO:0061037': 2, 'GO:0003430': 1, 'GO:0005846': 3, 'GO:0000339': 6, 'GO:0008334': 2, 'GO:0034518': 2, 'GO:1901409': 2, 'GO:0034766': 1, 'GO:0035641': 6, 'GO:1902607': 1, 'GO:0045103': 1, 'GO:0071225': 4, 'GO:1900147': 1, 'GO:0045098': 4, 'GO:0060993': 4, 'GO:0072307': 2, 'GO:0048762': 6, 'GO:0003015': 3, 'GO:0035988': 6, 'GO:0097094': 4, 'GO:0003985': 5, 'GO:0043325': 13, 'GO:0016051': 4, 'GO:0009247': 2, 'GO:0001574': 1, 'GO:0060840': 4, 'GO:0048566': 4, 'GO:0060594': 1, 'GO:0021819': 7, 'GO:0048646': 5, 'GO:0007442': 2, 'GO:0021544': 1, 'GO:0021798': 2, 'GO:0021543': 1, 'GO:0120223': 1, 'GO:0021631': 2, 'GO:0046639': 1, 'GO:1901620': 3, 'GO:0022018': 1, 'GO:0060366': 1, 'GO:0060367': 1, 'GO:0060873': 1, 'GO:0060875': 1, 'GO:0018158': 2, 'GO:0120147': 1, 'GO:1903543': 13, 'GO:1903553': 4, 'GO:0048627': 2, 'GO:0055002': 2, 'GO:0033522': 4, 'GO:0036351': 1, 'GO:0036352': 1, 'GO:0070535': 1, 'GO:1902389': 3, 'GO:1902387': 3, 'GO:1902388': 3, 'GO:0035621': 1, 'GO:0120017': 2, 'GO:0120012': 1, 'GO:0004352': 1, 'GO:0004353': 1, 'GO:0004354': 1, 'GO:0016639': 1, 'GO:0006538': 1, 'GO:0072350': 1, 'GO:0120216': 1, 'GO:1905799': 2, 'GO:0004105': 2, 'GO:0042587': 4, 'GO:0052905': 3, 'GO:0009019': 4, 'GO:0002939': 3, 'GO:0043328': 5, 'GO:1903551': 3, 'GO:0033565': 2, 'GO:0008469': 4, 'GO:0035243': 4, 'GO:0044020': 3, 'GO:0018216': 7, 'GO:0019918': 4, 'GO:0043985': 5, 'GO:1904992': 1, 'GO:0045179': 4, 'GO:0070528': 5, 'GO:0051346': 3, 'GO:0051222': 3, 'GO:0032754': 3, 'GO:0032736': 4, 'GO:2000553': 2, 'GO:0045630': 2, 'GO:0098972': 1, 'GO:0032185': 1, 'GO:0045922': 1, 'GO:1904861': 3, 'GO:1904862': 2, 'GO:0044327': 4, 'GO:0003363': 1, 'GO:0021816': 1, 'GO:0048643': 5, 'GO:0004420': 1, 'GO:0120225': 2, 'GO:0010664': 3, 'GO:0031328': 2, 'GO:0106217': 1, 'GO:0048368': 3, 'GO:0009719': 1, 'GO:0036122': 5, 'GO:0003183': 5, 'GO:0098821': 3, 'GO:0003186': 2, 'GO:0014912': 8, 'GO:0003215': 4, 'GO:0048378': 2, 'GO:0061312': 3, 'GO:0035912': 4, 'GO:0001880': 1, 'GO:0003272': 2, 'GO:0021998': 1, 'GO:0032915': 2, 'GO:0048352': 1, 'GO:0060896': 1, 'GO:0060914': 2, 'GO:0005025': 3, 'GO:0003161': 2, 'GO:0003171': 1, 'GO:0060928': 2, 'GO:1904414': 1, 'GO:1905285': 1, 'GO:0019825': 2, 'GO:0008631': 11, 'GO:0003032': 1, 'GO:0003069': 1, 'GO:0048773': 1, 'GO:0001315': 1, 'GO:0033591': 3, 'GO:0034021': 1, 'GO:0035900': 2, 'GO:1902631': 2, 'GO:1905932': 1, 'GO:1901407': 2, 'GO:0031755': 2, 'GO:0051665': 1, 'GO:0051707': 3, 'GO:0061702': 3, 'GO:0032090': 1, 'GO:0072558': 1, 'GO:2001242': 3, 'GO:0005523': 4, 'GO:0070700': 4, 'GO:0072559': 3, 'GO:0097169': 2, 'GO:2001056': 4, 'GO:0001773': 3, 'GO:0017024': 1, 'GO:0002277': 1, 'GO:0002588': 1, 'GO:0002221': 3, 'GO:0007231': 2, 'GO:0001826': 3, 'GO:2000653': 6, 'GO:2001162': 2, 'GO:0050560': 1, 'GO:0070145': 1, 'GO:0031666': 3, 'GO:1900044': 1, 'GO:1902498': 1, 'GO:0036004': 1, 'GO:0010510': 2, 'GO:0071667': 1, 'GO:1903934': 5, 'GO:0090135': 3, 'GO:0034316': 3, 'GO:0071672': 4, 'GO:1902463': 2, 'GO:2000394': 4, 'GO:2000393': 2, 'GO:0004032': 4, 'GO:0047655': 2, 'GO:0047956': 2, 'GO:0044597': 2, 'GO:0044598': 2, 'GO:0046185': 2, 'GO:0047939': 1, 'GO:0047941': 1, 'GO:1990002': 1, 'GO:0042840': 1, 'GO:0019726': 1, 'GO:0034684': 2, 'GO:0006222': 2, 'GO:0044205': 3, 'GO:0004588': 1, 'GO:0004590': 1, 'GO:0030219': 3, 'GO:0060216': 5, 'GO:0033194': 5, 'GO:1904828': 1, 'GO:0000225': 1, 'GO:0004408': 1, 'GO:0018063': 1, 'GO:0006968': 3, 'GO:0090382': 6, 'GO:0061574': 3, 'GO:0034101': 7, 'GO:0032872': 7, 'GO:0070939': 3, 'GO:0042770': 9, 'GO:2000210': 5, 'GO:1903416': 1, 'GO:0044773': 2, 'GO:0010770': 1, 'GO:0032451': 3, 'GO:0033787': 1, 'GO:0002309': 2, 'GO:0022605': 1, 'GO:0000076': 6, 'GO:1902806': 5, 'GO:0007096': 3, 'GO:0048102': 8, 'GO:1904030': 3, 'GO:1905179': 2, 'GO:0060770': 2, 'GO:1902746': 1, 'GO:0016482': 2, 'GO:0097011': 3, 'GO:0099104': 1, 'GO:0003376': 6, 'GO:0034405': 3, 'GO:1903721': 4, 'GO:0032929': 2, 'GO:0071380': 5, 'GO:1903038': 4, 'GO:0070141': 2, 'GO:0060709': 1, 'GO:0010748': 1, 'GO:0031999': 3, 'GO:0035655': 1, 'GO:0110099': 2, 'GO:0140052': 3, 'GO:1990418': 2, 'GO:2000402': 3, 'GO:0045271': 2, 'GO:1990390': 2, 'GO:0019964': 1, 'GO:0004703': 2, 'GO:0047696': 2, 'GO:0106072': 1, 'GO:2000117': 3, 'GO:0045988': 1, 'GO:0033605': 1, 'GO:0031851': 1, 'GO:0007217': 1, 'GO:0042699': 3, 'GO:0003108': 1, 'GO:1901081': 1, 'GO:0031850': 1, 'GO:0010661': 1, 'GO:0021888': 1, 'GO:0004022': 1, 'GO:0004024': 1, 'GO:0006068': 3, 'GO:0006069': 1, 'GO:0051775': 3, 'GO:0001523': 3, 'GO:0018455': 2, 'GO:0018119': 1, 'GO:0018467': 1, 'GO:0051903': 1, 'GO:0106321': 1, 'GO:0106322': 1, 'GO:0010430': 1, 'GO:0030500': 6, 'GO:0044289': 1, 'GO:0004089': 3, 'GO:0016836': 3, 'GO:0043516': 6, 'GO:0042255': 7, 'GO:0009967': 5, 'GO:1990928': 4, 'GO:0004560': 2, 'GO:0006004': 5, 'GO:0015928': 1, 'GO:0031417': 3, 'GO:0048659': 1, 'GO:0070084': 2, 'GO:0071286': 2, 'GO:0010961': 2, 'GO:0061768': 1, 'GO:0030853': 4, 'GO:0045779': 6, 'GO:0030889': 8, 'GO:0045659': 1, 'GO:0030487': 1, 'GO:0045061': 1, 'GO:0042492': 3, 'GO:0009912': 3, 'GO:1990134': 1, 'GO:0004419': 1, 'GO:0016833': 1, 'GO:0046951': 1, 'GO:0019388': 2, 'GO:0003974': 1, 'GO:0003978': 1, 'GO:0008768': 2, 'GO:2000052': 3, 'GO:0048512': 2, 'GO:0046923': 3, 'GO:0005046': 3, 'GO:0004622': 8, 'GO:0046464': 4, 'GO:0002084': 8, 'GO:0044070': 2, 'GO:0015670': 1, 'GO:0032849': 1, 'GO:0046903': 2, 'GO:0004064': 2, 'GO:2001150': 1, 'GO:1905454': 1, 'GO:0005834': 12, 'GO:0042622': 3, 'GO:0007603': 1, 'GO:0047391': 2, 'GO:0050909': 1, 'GO:0034728': 3, 'GO:0045191': 1, 'GO:1902499': 2, 'GO:0031370': 1, 'GO:0048210': 1, 'GO:0098969': 2, 'GO:2000310': 1, 'GO:0071955': 2, 'GO:1904247': 1, 'GO:1990565': 2, 'GO:0060334': 2, 'GO:0060338': 2, 'GO:0035418': 3, 'GO:0099564': 1, 'GO:1905232': 2, 'GO:0061845': 1, 'GO:0061846': 1, 'GO:0045654': 4, 'GO:0097598': 1, 'GO:0061956': 1, 'GO:0019104': 6, 'GO:0034039': 2, 'GO:0000701': 2, 'GO:0032407': 6, 'GO:0035485': 1, 'GO:0060056': 2, 'GO:1903238': 2, 'GO:0110158': 2, 'GO:0051351': 2, 'GO:0014841': 1, 'GO:0000836': 2, 'GO:0070449': 4, 'GO:2000279': 8, 'GO:0090027': 2, 'GO:0055059': 1, 'GO:0071802': 1, 'GO:1990968': 1, 'GO:1990969': 1, 'GO:0090277': 1, 'GO:0061689': 3, 'GO:0070506': 2, 'GO:1904274': 2, 'GO:0051286': 4, 'GO:0022612': 2, 'GO:1902115': 4, 'GO:0070489': 1, 'GO:0045604': 2, 'GO:0072750': 2, 'GO:1901707': 1, 'GO:0008681': 1, 'GO:0016712': 2, 'GO:0106364': 1, 'GO:0005042': 1, 'GO:0038007': 2, 'GO:0033564': 2, 'GO:0071922': 2, 'GO:0008476': 2, 'GO:0006478': 2, 'GO:0060468': 1, 'GO:0051697': 2, 'GO:0004853': 1, 'GO:0046502': 1, 'GO:0000390': 2, 'GO:0071008': 2, 'GO:0015870': 1, 'GO:0001553': 4, 'GO:0008117': 1, 'GO:0048496': 3, 'GO:0015747': 2, 'GO:0019389': 1, 'GO:0051593': 5, 'GO:0097744': 1, 'GO:1904479': 1, 'GO:1904612': 1, 'GO:0030870': 4, 'GO:0016320': 2, 'GO:0007527': 1, 'GO:0001016': 1, 'GO:0072541': 1, 'GO:0016480': 2, 'GO:2001057': 1, 'GO:0004491': 1, 'GO:0018478': 1, 'GO:0006573': 2, 'GO:0102662': 1, 'GO:0019484': 1, 'GO:0019859': 1, 'GO:0035666': 1, 'GO:0030278': 7, 'GO:0030478': 3, 'GO:2000370': 5, 'GO:0045010': 3, 'GO:1903526': 2, 'GO:0033504': 2, 'GO:0098588': 1, 'GO:0032045': 7, 'GO:0060323': 3, 'GO:0032914': 1, 'GO:0002003': 1, 'GO:0021903': 1, 'GO:0048069': 2, 'GO:0021626': 1, 'GO:0050436': 1, 'GO:1901388': 2, 'GO:0038045': 1, 'GO:2000672': 4, 'GO:0032957': 4, 'GO:0003073': 4, 'GO:0031161': 2, 'GO:0043208': 2, 'GO:0021812': 1, 'GO:0043256': 3, 'GO:0043257': 1, 'GO:0098780': 6, 'GO:1905719': 6, 'GO:0044753': 1, 'GO:0061912': 1, 'GO:0070342': 1, 'GO:0070883': 6, 'GO:0046782': 1, 'GO:0090065': 1, 'GO:1903798': 1, 'GO:0070578': 6, 'GO:0061351': 7, 'GO:0030423': 4, 'GO:0035087': 4, 'GO:0035280': 6, 'GO:0050689': 2, 'GO:0098792': 4, 'GO:0061739': 3, 'GO:0039689': 3, 'GO:0034274': 4, 'GO:0036020': 4, 'GO:0006501': 4, 'GO:0016237': 2, 'GO:0120095': 1, 'GO:0009957': 3, 'GO:0045606': 4, 'GO:0042633': 1, 'GO:0005119': 2, 'GO:1900186': 2, 'GO:2001287': 1, 'GO:1904530': 1, 'GO:0014829': 1, 'GO:0031034': 1, 'GO:0035470': 3, 'GO:0050930': 4, 'GO:0005172': 4, 'GO:0043183': 3, 'GO:0043616': 4, 'GO:0060037': 7, 'GO:0071679': 5, 'GO:0072203': 2, 'GO:0005113': 2, 'GO:0021997': 2, 'GO:0045947': 8, 'GO:0001758': 3, 'GO:0016655': 3, 'GO:0052650': 5, 'GO:0042574': 3, 'GO:0042180': 2, 'GO:0016668': 3, 'GO:0043159': 1, 'GO:0004148': 1, 'GO:0043544': 1, 'GO:0009106': 1, 'GO:0051068': 1, 'GO:1902952': 3, 'GO:0043691': 5, 'GO:0045088': 8, 'GO:0019934': 3, 'GO:0007263': 2, 'GO:0060228': 1, 'GO:0006707': 3, 'GO:0051651': 1, 'GO:0090209': 2, 'GO:0097113': 1, 'GO:0097114': 1, 'GO:0046848': 1, 'GO:0046911': 1, 'GO:0010877': 1, 'GO:0032269': 4, 'GO:0032805': 2, 'GO:0034375': 5, 'GO:0034380': 3, 'GO:0034384': 3, 'GO:0034447': 2, 'GO:0051055': 2, 'GO:0061771': 2, 'GO:0071830': 1, 'GO:0071831': 1, 'GO:1901627': 1, 'GO:1901631': 2, 'GO:1902947': 1, 'GO:1902991': 2, 'GO:1902999': 1, 'GO:1903001': 1, 'GO:1903002': 1, 'GO:1905855': 1, 'GO:1905860': 1, 'GO:1905890': 1, 'GO:2000822': 2, 'GO:0034365': 1, 'GO:0071947': 3, 'GO:0021503': 1, 'GO:0000120': 4, 'GO:0005668': 5, 'GO:0015884': 3, 'GO:0008517': 3, 'GO:0015886': 3, 'GO:0001113': 1, 'GO:0005673': 2, 'GO:0032838': 2, 'GO:1900227': 5, 'GO:0034157': 2, 'GO:0034161': 2, 'GO:0036493': 3, 'GO:1902523': 3, 'GO:0008276': 10, 'GO:1900029': 9, 'GO:0005220': 2, 'GO:0070679': 4, 'GO:0048016': 2, 'GO:0015278': 2, 'GO:0099566': 2, 'GO:0098695': 1, 'GO:0042045': 2, 'GO:0050849': 1, 'GO:0031094': 2, 'GO:0030868': 2, 'GO:1904716': 1, 'GO:0046602': 5, 'GO:0008420': 6, 'GO:0070940': 5, 'GO:1990264': 2, 'GO:0033549': 2, 'GO:0140517': 1, 'GO:0010565': 1, 'GO:1901725': 1, 'GO:0072341': 3, 'GO:0004494': 1, 'GO:0016866': 2, 'GO:0046906': 1, 'GO:0050688': 4, 'GO:0016554': 2, 'GO:0080111': 7, 'GO:1903900': 1, 'GO:0016206': 1, 'GO:0102084': 1, 'GO:0102938': 1, 'GO:0006584': 5, 'GO:0042135': 3, 'GO:0042424': 1, 'GO:0035814': 2, 'GO:0048265': 4, 'GO:0045963': 1, 'GO:0042420': 2, 'GO:0048609': 2, 'GO:0050668': 1, 'GO:0016972': 5, 'GO:0010260': 1, 'GO:0090280': 3, 'GO:0046928': 3, 'GO:0042043': 2, 'GO:0090288': 2, 'GO:0098846': 1, 'GO:0032994': 2, 'GO:0016557': 3, 'GO:0097655': 1, 'GO:0039654': 1, 'GO:0016807': 2, 'GO:0034230': 1, 'GO:0034698': 3, 'GO:0043373': 1, 'GO:0048002': 1, 'GO:0060309': 1, 'GO:0030124': 2, 'GO:0030662': 1, 'GO:0031312': 2, 'GO:0072577': 2, 'GO:0060059': 2, 'GO:0060235': 3, 'GO:0008251': 3, 'GO:0052717': 1, 'GO:0002100': 1, 'GO:0070987': 3, 'GO:1904531': 2, 'GO:1990874': 1, 'GO:0039706': 3, 'GO:0032348': 2, 'GO:2000065': 2, 'GO:0060285': 1, 'GO:0048499': 4, 'GO:0008194': 8, 'GO:0015020': 5, 'GO:0035269': 8, 'GO:0016758': 11, 'GO:0042285': 2, 'GO:0101004': 2, 'GO:0090117': 2, 'GO:0002505': 1, 'GO:0002747': 1, 'GO:0046754': 1, 'GO:1990927': 1, 'GO:0060632': 2, 'GO:0046755': 7, 'GO:0032696': 1, 'GO:0097252': 2, 'GO:0048713': 2, 'GO:0032693': 1, 'GO:0032714': 1, 'GO:0061797': 1, 'GO:1990712': 3, 'GO:0071281': 4, 'GO:0004998': 1, 'GO:1904380': 4, 'GO:0097466': 3, 'GO:0036510': 1, 'GO:0008131': 1, 'GO:0051378': 1, 'GO:0042428': 2, 'GO:0097621': 1, 'GO:0042443': 1, 'GO:1903589': 2, 'GO:1904036': 3, 'GO:0043305': 2, 'GO:0034395': 1, 'GO:0072719': 5, 'GO:0002246': 1, 'GO:0032764': 1, 'GO:0002046': 1, 'GO:0044292': 3, 'GO:1902636': 1, 'GO:0045898': 1, 'GO:0016005': 2, 'GO:0032430': 2, 'GO:1900045': 2, 'GO:1903423': 1, 'GO:0090219': 1, 'GO:0070310': 2, 'GO:0007269': 5, 'GO:0045199': 5, 'GO:0003334': 6, 'GO:0004018': 1, 'GO:0070626': 1, 'GO:0042781': 1, 'GO:0072684': 1, 'GO:0004549': 1, 'GO:0034414': 1, 'GO:1902260': 2, 'GO:0045759': 1, 'GO:0030578': 3, 'GO:0010621': 1, 'GO:1901896': 2, 'GO:0019884': 3, 'GO:0008537': 3, 'GO:0005261': 6, 'GO:0070678': 3, 'GO:2000677': 2, 'GO:0003358': 1, 'GO:0042501': 2, 'GO:0042825': 1, 'GO:1903334': 3, 'GO:0061779': 2, 'GO:0050878': 3, 'GO:0051963': 7, 'GO:0099557': 2, 'GO:0021934': 1, 'GO:0031915': 4, 'GO:0097104': 2, 'GO:0106028': 1, 'GO:1904783': 3, 'GO:1903292': 1, 'GO:0002934': 5, 'GO:0097186': 2, 'GO:1902953': 4, 'GO:1902117': 1, 'GO:0000729': 7, 'GO:0005229': 5, 'GO:1901341': 1, 'GO:0002043': 3, 'GO:0003337': 2, 'GO:0072125': 1, 'GO:0010159': 2, 'GO:0001823': 1, 'GO:0061036': 4, 'GO:0045603': 5, 'GO:0021978': 1, 'GO:0042487': 1, 'GO:0003130': 1, 'GO:0072138': 2, 'GO:0007500': 1, 'GO:0060113': 1, 'GO:0060433': 1, 'GO:0060438': 1, 'GO:0060440': 6, 'GO:0060442': 2, 'GO:0060502': 3, 'GO:0060503': 1, 'GO:0060512': 1, 'GO:0060592': 1, 'GO:0060684': 1, 'GO:0060688': 1, 'GO:0090191': 1, 'GO:0001936': 2, 'GO:0033085': 2, 'GO:0033088': 3, 'GO:0035990': 1, 'GO:0035993': 1, 'GO:0042305': 1, 'GO:0048392': 1, 'GO:0055020': 1, 'GO:0060197': 1, 'GO:0060393': 2, 'GO:0061047': 2, 'GO:0061149': 1, 'GO:0061151': 1, 'GO:0061155': 1, 'GO:0070368': 1, 'GO:0071893': 1, 'GO:0072097': 1, 'GO:0072101': 1, 'GO:0072161': 2, 'GO:0072192': 1, 'GO:0072193': 2, 'GO:0072198': 1, 'GO:0072200': 1, 'GO:0090184': 1, 'GO:0090194': 1, 'GO:1901964': 1, 'GO:1902462': 4, 'GO:1905312': 1, 'GO:2000005': 1, 'GO:2000007': 1, 'GO:2000137': 2, 'GO:2001012': 1, 'GO:0005053': 1, 'GO:0008611': 6, 'GO:0015228': 1, 'GO:0015230': 2, 'GO:0044610': 1, 'GO:0051724': 2, 'GO:0080122': 2, 'GO:0035349': 1, 'GO:0035350': 1, 'GO:0035352': 1, 'GO:0043132': 1, 'GO:0080121': 2, 'GO:0061084': 3, 'GO:0048254': 5, 'GO:0033689': 5, 'GO:1900225': 1, 'GO:1901532': 2, 'GO:1902033': 2, 'GO:0048014': 1, 'GO:0000064': 4, 'GO:0015189': 4, 'GO:1903352': 3, 'GO:0015819': 3, 'GO:0015822': 3, 'GO:0097639': 1, 'GO:0097640': 1, 'GO:0031466': 7, 'GO:0031467': 4, 'GO:1903595': 1, 'GO:1990460': 3, 'GO:0051891': 1, 'GO:1903843': 2, 'GO:1901534': 1, 'GO:0006359': 2, 'GO:1902064': 1, 'GO:0005055': 2, 'GO:0031084': 1, 'GO:1905172': 3, 'GO:0097433': 4, 'GO:0009395': 8, 'GO:0047499': 4, 'GO:0046469': 2, 'GO:0034440': 1, 'GO:0034441': 1, 'GO:0051835': 1, 'GO:0036336': 3, 'GO:0034191': 2, 'GO:0032488': 2, 'GO:0099563': 5, 'GO:0038189': 2, 'GO:0048664': 1, 'GO:0003253': 2, 'GO:0086101': 1, 'GO:0035088': 3, 'GO:0032427': 1, 'GO:0060501': 3, 'GO:0060661': 1, 'GO:2001014': 3, 'GO:1901612': 5, 'GO:0150094': 6, 'GO:0046449': 1, 'GO:0061837': 1, 'GO:0097505': 1, 'GO:0036149': 3, 'GO:0004839': 2, 'GO:0051299': 2, 'GO:1903126': 1, 'GO:0003994': 3, 'GO:0047780': 2, 'GO:0051538': 3, 'GO:0003746': 13, 'GO:0006414': 24, 'GO:0045027': 2, 'GO:0097680': 4, 'GO:0043564': 2, 'GO:0033597': 4, 'GO:1990728': 2, 'GO:0000210': 1, 'GO:0009166': 2, 'GO:0004551': 3, 'GO:0047710': 1, 'GO:0046130': 1, 'GO:0005078': 8, 'GO:0089700': 1, 'GO:0008260': 1, 'GO:0008410': 1, 'GO:0046952': 2, 'GO:0042182': 1, 'GO:0046950': 1, 'GO:0030252': 2, 'GO:0098519': 2, 'GO:0004651': 2, 'GO:0098507': 2, 'GO:0140454': 1, 'GO:0051232': 1, 'GO:1903538': 2, 'GO:0016423': 3, 'GO:0000353': 1, 'GO:0003938': 2, 'GO:0006183': 7, 'GO:0120157': 2, 'GO:0033269': 1, 'GO:0004450': 2, 'GO:0006097': 2, 'GO:1903976': 2, 'GO:1904465': 1, 'GO:0042462': 4, 'GO:0009644': 1, 'GO:0045293': 2, 'GO:1904580': 1, 'GO:0051640': 1, 'GO:1902685': 2, 'GO:0070820': 2, 'GO:0017183': 6, 'GO:0090560': 2, 'GO:2001044': 2, 'GO:0051045': 3, 'GO:1905049': 1, 'GO:0006957': 1, 'GO:0006956': 2, 'GO:0070695': 5, 'GO:1905198': 2, 'GO:0008663': 1, 'GO:0047734': 1, 'GO:0050867': 1, 'GO:0060401': 1, 'GO:0070278': 3, 'GO:0055062': 2, 'GO:0070667': 1, 'GO:0006220': 4, 'GO:0009143': 3, 'GO:0035529': 2, 'GO:0036218': 2, 'GO:0047429': 4, 'GO:0004528': 1, 'GO:0002276': 2, 'GO:1904568': 1, 'GO:0005918': 1, 'GO:0097454': 3, 'GO:0086080': 2, 'GO:0017146': 2, 'GO:0030832': 1, 'GO:0032426': 2, 'GO:0047760': 2, 'GO:0030729': 1, 'GO:0022618': 3, 'GO:0030277': 1, 'GO:1990447': 2, 'GO:0038163': 2, 'GO:0008427': 1, 'GO:2000256': 1, 'GO:0004813': 2, 'GO:0006419': 2, 'GO:0070143': 1, 'GO:0004139': 1, 'GO:0009264': 3, 'GO:0046386': 2, 'GO:0046121': 1, 'GO:0060203': 2, 'GO:0099558': 2, 'GO:0070625': 1, 'GO:0050577': 1, 'GO:0009226': 1, 'GO:0042351': 1, 'GO:0047918': 1, 'GO:1904906': 2, 'GO:0051382': 11, 'GO:0051455': 1, 'GO:0006360': 8, 'GO:0070897': 2, 'GO:1904798': 3, 'GO:0001174': 1, 'GO:0019083': 1, 'GO:1990114': 1, 'GO:0003400': 2, 'GO:0070863': 5, 'GO:0099147': 3, 'GO:0060561': 4, 'GO:0035089': 4, 'GO:0098968': 1, 'GO:0034750': 2, 'GO:1904031': 2, 'GO:1990913': 1, 'GO:1990917': 1, 'GO:0051248': 3, 'GO:1903660': 2, 'GO:0019062': 3, 'GO:1901389': 1, 'GO:0099512': 4, 'GO:0031673': 1, 'GO:0005290': 3, 'GO:0015647': 1, 'GO:0015835': 1, 'GO:0070434': 1, 'GO:0015817': 1, 'GO:0033023': 1, 'GO:0070424': 1, 'GO:0070430': 1, 'GO:0089708': 1, 'GO:0051393': 8, 'GO:0098639': 2, 'GO:0034680': 1, 'GO:0019960': 3, 'GO:0099699': 3, 'GO:0007161': 2, 'GO:0051951': 1, 'GO:1901979': 1, 'GO:0150103': 2, 'GO:0010710': 1, 'GO:0032594': 1, 'GO:0045445': 7, 'GO:0034665': 2, 'GO:0034666': 1, 'GO:0034667': 2, 'GO:0034677': 1, 'GO:0034679': 3, 'GO:0034681': 1, 'GO:0051057': 4, 'GO:0003209': 4, 'GO:0002260': 4, 'GO:0003344': 2, 'GO:0042129': 6, 'GO:2000973': 3, 'GO:1905360': 2, 'GO:0061384': 3, 'GO:1904693': 1, 'GO:0004348': 2, 'GO:0030259': 4, 'GO:0032268': 3, 'GO:0005124': 1, 'GO:0061744': 7, 'GO:0014004': 1, 'GO:0021694': 1, 'GO:0021859': 1, 'GO:0072676': 1, 'GO:0008422': 2, 'GO:0050295': 2, 'GO:0006680': 2, 'GO:0033561': 3, 'GO:0071548': 5, 'GO:1901805': 1, 'GO:1903061': 3, 'GO:1904457': 2, 'GO:1905037': 4, 'GO:0032574': 1, 'GO:0035194': 2, 'GO:0010526': 3, 'GO:0035279': 2, 'GO:0150011': 2, 'GO:0004035': 1, 'GO:0033883': 2, 'GO:0050187': 1, 'GO:0052732': 1, 'GO:0034516': 1, 'GO:0042822': 1, 'GO:0071529': 2, 'GO:1904383': 3, 'GO:0065010': 1, 'GO:0051026': 3, 'GO:0070076': 1, 'GO:0070193': 2, 'GO:0015744': 2, 'GO:0015291': 1, 'GO:0015743': 1, 'GO:0014044': 6, 'GO:0045124': 2, 'GO:0045762': 3, 'GO:0045545': 2, 'GO:0048485': 3, 'GO:0048712': 4, 'GO:0046929': 3, 'GO:0043535': 3, 'GO:0021764': 2, 'GO:0045685': 1, 'GO:0061534': 1, 'GO:0061535': 1, 'GO:0098597': 1, 'GO:2000145': 7, 'GO:0010631': 3, 'GO:0002522': 1, 'GO:0014866': 1, 'GO:2000689': 1, 'GO:2000983': 1, 'GO:0008349': 4, 'GO:0048145': 5, 'GO:0010698': 3, 'GO:0043972': 1, 'GO:0018205': 3, 'GO:0071004': 12, 'GO:0030627': 2, 'GO:0008534': 1, 'GO:0140078': 4, 'GO:1901291': 1, 'GO:0000702': 2, 'GO:0006285': 3, 'GO:0030389': 1, 'GO:0030162': 8, 'GO:1904356': 1, 'GO:0010370': 1, 'GO:0071001': 2, 'GO:0005691': 1, 'GO:0030624': 1, 'GO:1903586': 1, 'GO:1901187': 1, 'GO:0006929': 1, 'GO:1904234': 2, 'GO:1904439': 1, 'GO:0000472': 3, 'GO:1902661': 3, 'GO:0090240': 3, 'GO:1900110': 2, 'GO:1905669': 1, 'GO:0102338': 1, 'GO:0102337': 1, 'GO:0002446': 3, 'GO:0030043': 4, 'GO:0030834': 1, 'GO:0042247': 1, 'GO:1990266': 2, 'GO:1905786': 2, 'GO:0017087': 1, 'GO:0045186': 2, 'GO:0070309': 3, 'GO:0002819': 2, 'GO:0032649': 2, 'GO:0097528': 1, 'GO:0001914': 1, 'GO:0046006': 1, 'GO:0070235': 1, 'GO:2000452': 1, 'GO:0010314': 10, 'GO:0005094': 1, 'GO:0062153': 3, 'GO:0097750': 2, 'GO:1900027': 4, 'GO:0000147': 1, 'GO:0008521': 1, 'GO:0015876': 1, 'GO:0004306': 1, 'GO:0006450': 4, 'GO:0051083': 1, 'GO:0003921': 1, 'GO:0003922': 1, 'GO:0030431': 1, 'GO:0030684': 2, 'GO:0036055': 1, 'GO:0061697': 1, 'GO:0061699': 1, 'GO:0097372': 1, 'GO:0007072': 1, 'GO:0036049': 1, 'GO:0061698': 1, 'GO:1901836': 1, 'GO:0005731': 1, 'GO:0061860': 2, 'GO:0090618': 2, 'GO:0046587': 1, 'GO:1990075': 3, 'GO:1905809': 1, 'GO:0070004': 2, 'GO:0032020': 1, 'GO:0042296': 1, 'GO:1901526': 5, 'GO:0005471': 2, 'GO:0140021': 2, 'GO:1990544': 2, 'GO:1990845': 6, 'GO:0017077': 3, 'GO:0005757': 6, 'GO:0000295': 1, 'GO:0051503': 1, 'GO:0042947': 1, 'GO:0051119': 1, 'GO:0042946': 1, 'GO:2000431': 1, 'GO:0016671': 3, 'GO:0033745': 2, 'GO:0030091': 2, 'GO:0060244': 1, 'GO:0004315': 2, 'GO:0051790': 1, 'GO:1903231': 2, 'GO:0035332': 2, 'GO:0031698': 3, 'GO:0031952': 4, 'GO:0150104': 2, 'GO:0098708': 1, 'GO:1904016': 2, 'GO:0035871': 4, 'GO:0044313': 1, 'GO:0030538': 1, 'GO:0048619': 1, 'GO:0045586': 2, 'GO:1903215': 2, 'GO:0017171': 2, 'GO:0046485': 2, 'GO:0006042': 1, 'GO:1904395': 2, 'GO:0005253': 1, 'GO:0004013': 3, 'GO:0033353': 3, 'GO:0061015': 2, 'GO:0042565': 2, 'GO:0097116': 1, 'GO:0061643': 2, 'GO:0004844': 3, 'GO:0097510': 1, 'GO:1900086': 2, 'GO:1905278': 2, 'GO:0061042': 3, 'GO:0043184': 6, 'GO:0032793': 4, 'GO:0038191': 4, 'GO:0038091': 1, 'GO:0038033': 2, 'GO:1903392': 2, 'GO:0042088': 4, 'GO:0038190': 1, 'GO:0048842': 3, 'GO:0090259': 1, 'GO:0097475': 1, 'GO:1901492': 2, 'GO:0010749': 2, 'GO:0031077': 3, 'GO:0045601': 3, 'GO:0061430': 2, 'GO:0002575': 1, 'GO:0097533': 2, 'GO:1901727': 2, 'GO:1903141': 1, 'GO:1903572': 1, 'GO:0003169': 2, 'GO:0036303': 1, 'GO:0060948': 4, 'GO:0140552': 3, 'GO:0008015': 2, 'GO:0002064': 5, 'GO:1903251': 1, 'GO:0044458': 7, 'GO:1905048': 1, 'GO:0097298': 1, 'GO:0034640': 1, 'GO:0051716': 2, 'GO:0010887': 3, 'GO:0045923': 1, 'GO:0008366': 2, 'GO:0051546': 1, 'GO:0016501': 1, 'GO:0070539': 1, 'GO:0006776': 2, 'GO:0043415': 1, 'GO:0034235': 4, 'GO:0042765': 5, 'GO:0016255': 5, 'GO:0003923': 2, 'GO:0008121': 3, 'GO:0006290': 3, 'GO:0031424': 5, 'GO:0030262': 3, 'GO:2000348': 3, 'GO:0033181': 1, 'GO:0007216': 3, 'GO:0035256': 1, 'GO:0098962': 6, 'GO:0021935': 1, 'GO:0000994': 1, 'GO:0005332': 1, 'GO:0032229': 1, 'GO:0015378': 1, 'GO:0098658': 1, 'GO:0015812': 1, 'GO:0001165': 1, 'GO:0019797': 1, 'GO:0018126': 4, 'GO:1901874': 3, 'GO:0004536': 2, 'GO:0032043': 1, 'GO:0036475': 2, 'GO:0090297': 3, 'GO:0010607': 1, 'GO:0070773': 1, 'GO:0090170': 4, 'GO:0030878': 8, 'GO:0034111': 2, 'GO:0021697': 3, 'GO:0048313': 1, 'GO:1905437': 1, 'GO:0070937': 6, 'GO:0051031': 1, 'GO:0047179': 2, 'GO:0008247': 3, 'GO:0008140': 5, 'GO:0002418': 1, 'GO:0006862': 2, 'GO:1904947': 1, 'GO:1990548': 1, 'GO:0046370': 2, 'GO:0006060': 1, 'GO:0003939': 1, 'GO:0046526': 1, 'GO:0006062': 1, 'GO:0051160': 1, 'GO:0051164': 1, 'GO:0006228': 6, 'GO:0004512': 1, 'GO:0070257': 4, 'GO:0021680': 6, 'GO:0080144': 3, 'GO:0019778': 1, 'GO:0019779': 1, 'GO:0039521': 1, 'GO:0060284': 1, 'GO:0090298': 2, 'GO:0005890': 5, 'GO:0030007': 5, 'GO:0086009': 4, 'GO:1901018': 5, 'GO:1903278': 3, 'GO:1903288': 4, 'GO:1903408': 2, 'GO:0021649': 1, 'GO:0021828': 1, 'GO:0036486': 1, 'GO:0048846': 3, 'GO:0061549': 2, 'GO:0061551': 3, 'GO:0097374': 1, 'GO:0097490': 1, 'GO:0097491': 1, 'GO:1901166': 2, 'GO:1902285': 1, 'GO:1903375': 1, 'GO:1904835': 1, 'GO:2000124': 1, 'GO:0099178': 1, 'GO:0033157': 4, 'GO:0035542': 1, 'GO:0097224': 2, 'GO:0033150': 1, 'GO:0010848': 1, 'GO:0050135': 1, 'GO:0061809': 1, 'GO:0014824': 2, 'GO:0016849': 2, 'GO:0071821': 4, 'GO:0002430': 2, 'GO:0001851': 2, 'GO:0001855': 1, 'GO:0001861': 1, 'GO:0004877': 1, 'GO:1903401': 3, 'GO:0004033': 1, 'GO:0019119': 1, 'GO:0009000': 1, 'GO:0070279': 1, 'GO:0016261': 1, 'GO:0017177': 2, 'GO:0014041': 2, 'GO:0021894': 2, 'GO:0080019': 1, 'GO:0102965': 1, 'GO:0010025': 1, 'GO:1901568': 1, 'GO:2000309': 1, 'GO:0060591': 3, 'GO:0002041': 1, 'GO:0003278': 1, 'GO:1902686': 2, 'GO:0010849': 1, 'GO:0010939': 1, 'GO:2000276': 1, 'GO:0036334': 1, 'GO:1905128': 1, 'GO:2000771': 1, 'GO:0017014': 1, 'GO:0009620': 3, 'GO:0050700': 2, 'GO:0061760': 2, 'GO:0032449': 1, 'GO:0002096': 1, 'GO:0055003': 3, 'GO:0070650': 1, 'GO:0140199': 2, 'GO:0010751': 1, 'GO:0051599': 1, 'GO:0036487': 1, 'GO:0014832': 2, 'GO:0098736': 1, 'GO:1900082': 1, 'GO:1902548': 1, 'GO:1903249': 1, 'GO:1905145': 1, 'GO:1900825': 1, 'GO:1905150': 1, 'GO:0004632': 1, 'GO:0035773': 3, 'GO:0071550': 1, 'GO:0033829': 1, 'GO:1990047': 1, 'GO:0060947': 3, 'GO:0003257': 1, 'GO:0060532': 1, 'GO:0061145': 1, 'GO:0022028': 2, 'GO:0010735': 3, 'GO:0030038': 1, 'GO:0010736': 1, 'GO:0046016': 1, 'GO:0003401': 1, 'GO:0060026': 1, 'GO:0034112': 3, 'GO:0038110': 1, 'GO:0004631': 1, 'GO:0019287': 3, 'GO:0033262': 2, 'GO:0008263': 2, 'GO:0001635': 1, 'GO:0009360': 1, 'GO:0010796': 1, 'GO:0060627': 3, 'GO:0051081': 5, 'GO:0001833': 15, 'GO:0021799': 4, 'GO:0060053': 1, 'GO:0140141': 1, 'GO:0062157': 1, 'GO:0004017': 5, 'GO:0046033': 4, 'GO:0016776': 3, 'GO:0046899': 1, 'GO:0006172': 3, 'GO:2001169': 2, 'GO:0010960': 4, 'GO:0032412': 1, 'GO:0002686': 2, 'GO:0048261': 3, 'GO:0060368': 3, 'GO:0033004': 1, 'GO:1900235': 1, 'GO:0061711': 1, 'GO:0002949': 3, 'GO:0008061': 2, 'GO:0006032': 1, 'GO:0004568': 1, 'GO:0045956': 3, 'GO:0099635': 2, 'GO:0099703': 2, 'GO:0031914': 1, 'GO:0099533': 2, 'GO:0016533': 1, 'GO:0045950': 2, 'GO:0000405': 4, 'GO:0061749': 1, 'GO:0090329': 1, 'GO:0030595': 2, 'GO:0032816': 2, 'GO:0050942': 1, 'GO:0050965': 4, 'GO:0007631': 2, 'GO:0045776': 5, 'GO:0032730': 3, 'GO:0002031': 3, 'GO:0045986': 1, 'GO:0097647': 2, 'GO:0001976': 1, 'GO:0001984': 1, 'GO:0031716': 1, 'GO:1990408': 1, 'GO:0003726': 1, 'GO:0006382': 1, 'GO:0044530': 3, 'GO:0016553': 1, 'GO:0002566': 1, 'GO:1900369': 1, 'GO:0003692': 1, 'GO:0071208': 3, 'GO:0071209': 3, 'GO:0004642': 1, 'GO:0036374': 1, 'GO:0006751': 1, 'GO:0000048': 1, 'GO:0002951': 1, 'GO:0016755': 1, 'GO:0102953': 1, 'GO:0103068': 1, 'GO:0031179': 1, 'GO:0061017': 1, 'GO:0097733': 2, 'GO:0004137': 1, 'GO:0032546': 1, 'GO:0032548': 1, 'GO:0046092': 1, 'GO:0106384': 1, 'GO:0010832': 2, 'GO:0048742': 3, 'GO:0051153': 1, 'GO:0014894': 3, 'GO:0036057': 5, 'GO:0033634': 3, 'GO:0072175': 1, 'GO:0042438': 4, 'GO:0005126': 2, 'GO:0033981': 1, 'GO:0050178': 2, 'GO:0060219': 1, 'GO:0072139': 2, 'GO:2000768': 2, 'GO:0045590': 3, 'GO:0032825': 3, 'GO:0034124': 1, 'GO:0060333': 2, 'GO:2000564': 2, 'GO:0018916': 1, 'GO:0070458': 2, 'GO:0039692': 1, 'GO:0005594': 1, 'GO:0048341': 1, 'GO:0055108': 2, 'GO:0097003': 3, 'GO:0055100': 2, 'GO:0007188': 7, 'GO:0098976': 1, 'GO:0031905': 1, 'GO:0034777': 1, 'GO:0070557': 2, 'GO:0019912': 1, 'GO:0072331': 2, 'GO:2001136': 1, 'GO:0097443': 3, 'GO:0140585': 1, 'GO:0098599': 1, 'GO:0032429': 1, 'GO:0030854': 1, 'GO:0019966': 2, 'GO:0004312': 2, 'GO:0004313': 1, 'GO:0004314': 2, 'GO:0004316': 1, 'GO:0004317': 1, 'GO:0004320': 1, 'GO:0008659': 1, 'GO:0008693': 1, 'GO:0016295': 1, 'GO:0016296': 1, 'GO:0016297': 1, 'GO:0016418': 1, 'GO:0016419': 2, 'GO:0019171': 1, 'GO:0031177': 1, 'GO:0047117': 1, 'GO:0047451': 1, 'GO:0045550': 1, 'GO:0047718': 1, 'GO:0045761': 1, 'GO:0009841': 1, 'GO:0004373': 1, 'GO:0061547': 1, 'GO:0004085': 2, 'GO:0046359': 1, 'GO:0071467': 4, 'GO:0097682': 3, 'GO:0072345': 3, 'GO:0099604': 2, 'GO:0006940': 3, 'GO:0102545': 5, 'GO:0046061': 2, 'GO:0004540': 8, 'GO:0008832': 1, 'GO:0016793': 1, 'GO:0032567': 1, 'GO:0106375': 1, 'GO:0006203': 1, 'GO:0099573': 1, 'GO:0010651': 1, 'GO:1905539': 1, 'GO:0044280': 1, 'GO:0008028': 4, 'GO:0015718': 4, 'GO:0015129': 2, 'GO:0035873': 2, 'GO:0090482': 3, 'GO:0035461': 3, 'GO:0051180': 2, 'GO:0008518': 1, 'GO:0015350': 1, 'GO:0051958': 1, 'GO:0061507': 1, 'GO:0140360': 1, 'GO:0140361': 1, 'GO:0035174': 3, 'GO:1905116': 1, 'GO:0000010': 2, 'GO:0050347': 2, 'GO:0097269': 2, 'GO:0052381': 1, 'GO:0022898': 3, 'GO:0070561': 1, 'GO:1905062': 1, 'GO:1990748': 1, 'GO:1904491': 4, 'GO:0003127': 2, 'GO:0070404': 2, 'GO:0004155': 1, 'GO:1902775': 3, 'GO:0000155': 1, 'GO:0000160': 1, 'GO:0043550': 1, 'GO:1905426': 1, 'GO:0046922': 2, 'GO:0036066': 4, 'GO:0051046': 2, 'GO:0036065': 4, 'GO:0008417': 4, 'GO:0030348': 1, 'GO:0001909': 1, 'GO:0043312': 1, 'GO:0043969': 3, 'GO:1902742': 5, 'GO:1902110': 3, 'GO:1990144': 3, 'GO:0072740': 1, 'GO:0044013': 1, 'GO:0003419': 1, 'GO:0021742': 1, 'GO:0021743': 1, 'GO:0021754': 1, 'GO:0060245': 1, 'GO:0097049': 2, 'GO:0110024': 1, 'GO:1902562': 1, 'GO:0045273': 1, 'GO:0003876': 1, 'GO:0006188': 1, 'GO:0052652': 1, 'GO:0060430': 3, 'GO:0060251': 1, 'GO:0046887': 2, 'GO:0032916': 2, 'GO:0034670': 1, 'GO:0048597': 3, 'GO:0015267': 4, 'GO:0060011': 2, 'GO:0002352': 2, 'GO:1900103': 4, 'GO:0097145': 2, 'GO:1902263': 3, 'GO:0033599': 4, 'GO:0006808': 1, 'GO:0048087': 1, 'GO:0045136': 2, 'GO:0002358': 1, 'GO:0046666': 1, 'GO:0060058': 2, 'GO:0001777': 1, 'GO:0001844': 1, 'GO:0097296': 2, 'GO:0007008': 1, 'GO:0032976': 1, 'GO:1990117': 1, 'GO:0097144': 1, 'GO:0061515': 1, 'GO:0008187': 1, 'GO:0097167': 2, 'GO:1900744': 3, 'GO:0034703': 3, 'GO:0022834': 2, 'GO:0031821': 2, 'GO:0007212': 3, 'GO:0030910': 3, 'GO:0004462': 1, 'GO:0009438': 1, 'GO:0005415': 1, 'GO:0015389': 1, 'GO:0005350': 1, 'GO:0015212': 1, 'GO:1901474': 1, 'GO:0015855': 1, 'GO:0015861': 1, 'GO:0045117': 1, 'GO:1904823': 1, 'GO:0010557': 1, 'GO:0021707': 2, 'GO:2000812': 2, 'GO:0047874': 1, 'GO:0071788': 1, 'GO:2000058': 2, 'GO:0034056': 1, 'GO:0017040': 4, 'GO:0102121': 4, 'GO:0046514': 3, 'GO:0071633': 2, 'GO:0070774': 1, 'GO:0071602': 1, 'GO:2000074': 2, 'GO:0003909': 3, 'GO:0003910': 3, 'GO:0006288': 1, 'GO:0050691': 2, 'GO:0050847': 8, 'GO:2000588': 3, 'GO:0086098': 1, 'GO:2001286': 1, 'GO:0010641': 1, 'GO:0051385': 1, 'GO:0050995': 5, 'GO:0051435': 1, 'GO:0006379': 7, 'GO:0001193': 1, 'GO:1905642': 1, 'GO:0034041': 1, 'GO:0010872': 3, 'GO:0071403': 2, 'GO:0060696': 1, 'GO:0002232': 1, 'GO:0071673': 2, 'GO:1904399': 3, 'GO:0021681': 1, 'GO:0030421': 1, 'GO:0046850': 3, 'GO:0050795': 1, 'GO:0106016': 3, 'GO:0106091': 2, 'GO:1905555': 3, 'GO:2000391': 2, 'GO:0062078': 1, 'GO:0014028': 1, 'GO:0048320': 2, 'GO:1903348': 1, 'GO:0048570': 4, 'GO:0060035': 1, 'GO:1901491': 1, 'GO:1904238': 1, 'GO:0046058': 1, 'GO:0015760': 2, 'GO:0061513': 1, 'GO:0033623': 1, 'GO:0000285': 1, 'GO:0052810': 1, 'GO:1903100': 1, 'GO:1904562': 2, 'GO:0035594': 1, 'GO:0098840': 2, 'GO:0070092': 1, 'GO:0043576': 2, 'GO:0016445': 2, 'GO:0045334': 8, 'GO:1903533': 1, 'GO:0098547': 1, 'GO:0033063': 3, 'GO:0042148': 3, 'GO:0009295': 1, 'GO:0035239': 3, 'GO:0070252': 1, 'GO:0090091': 3, 'GO:0060838': 1, 'GO:1904328': 1, 'GO:2000392': 1, 'GO:0099738': 4, 'GO:0097575': 2, 'GO:0031291': 2, 'GO:0050779': 2, 'GO:0010499': 3, 'GO:0046223': 1, 'GO:1903788': 1, 'GO:0045730': 2, 'GO:0043020': 1, 'GO:0016175': 1, 'GO:0003106': 1, 'GO:0014895': 1, 'GO:0017004': 2, 'GO:1900426': 3, 'GO:0004163': 1, 'GO:0051648': 1, 'GO:0034993': 4, 'GO:0031309': 1, 'GO:0006535': 1, 'GO:0043506': 2, 'GO:0021587': 4, 'GO:0042262': 4, 'GO:0019448': 2, 'GO:0070026': 2, 'GO:0004122': 1, 'GO:0070025': 1, 'GO:0006480': 1, 'GO:0071885': 1, 'GO:0018011': 1, 'GO:0018012': 1, 'GO:0018013': 1, 'GO:0018016': 1, 'GO:0035568': 1, 'GO:0035570': 1, 'GO:0035572': 1, 'GO:0035573': 1, 'GO:0006623': 9, 'GO:0019206': 1, 'GO:0044211': 2, 'GO:0004849': 2, 'GO:0044206': 3, 'GO:0034245': 1, 'GO:0033625': 4, 'GO:0005031': 2, 'GO:0043196': 3, 'GO:0003176': 3, 'GO:0003177': 3, 'GO:0043120': 4, 'GO:0003332': 2, 'GO:1902339': 2, 'GO:0002718': 2, 'GO:0002724': 2, 'GO:0150077': 1, 'GO:0150098': 1, 'GO:0072708': 2, 'GO:1902426': 3, 'GO:1905341': 1, 'GO:2000105': 1, 'GO:0002055': 1, 'GO:0003999': 1, 'GO:0006168': 1, 'GO:0043890': 1, 'GO:0071557': 3, 'GO:0071558': 3, 'GO:0010830': 3, 'GO:0010868': 1, 'GO:0032792': 2, 'GO:1990918': 3, 'GO:0047045': 1, 'GO:0006706': 2, 'GO:0090409': 1, 'GO:0090410': 1, 'GO:0051584': 1, 'GO:0140662': 1, 'GO:0099122': 4, 'GO:0034211': 1, 'GO:2001255': 2, 'GO:0106140': 4, 'GO:0033127': 2, 'GO:0044839': 2, 'GO:0006549': 1, 'GO:0006551': 1, 'GO:0004464': 1, 'GO:0032358': 1, 'GO:0045738': 1, 'GO:0061481': 1, 'GO:1902546': 1, 'GO:1905053': 2, 'GO:2001272': 1, 'GO:0070984': 1, 'GO:0036060': 1, 'GO:0008453': 1, 'GO:0046487': 2, 'GO:0008454': 2, 'GO:0009190': 1, 'GO:0001653': 1, 'GO:0004383': 1, 'GO:0016941': 1, 'GO:0006182': 1, 'GO:0007168': 1, 'GO:0010753': 1, 'GO:1990620': 1, 'GO:1990613': 1, 'GO:0098799': 1, 'GO:1901953': 1, 'GO:1903744': 1, 'GO:1904527': 1, 'GO:0097442': 1, 'GO:0150002': 1, 'GO:0150014': 1, 'GO:1990769': 1, 'GO:2000815': 2, 'GO:0055029': 1, 'GO:0016188': 3, 'GO:0072553': 2, 'GO:0051645': 5, 'GO:1902554': 3, 'GO:0140535': 2, 'GO:1901610': 1, 'GO:0005148': 1, 'GO:0006703': 2, 'GO:0047024': 1, 'GO:0102176': 1, 'GO:0042473': 4, 'GO:0000416': 1, 'GO:0060717': 3, 'GO:1902749': 4, 'GO:0009312': 4, 'GO:0062029': 2, 'GO:0015990': 5, 'GO:1902723': 1, 'GO:1902725': 2, 'GO:0005007': 2, 'GO:0071495': 2, 'GO:0030626': 1, 'GO:1990131': 3, 'GO:1903241': 3, 'GO:0045834': 1, 'GO:0051005': 3, 'GO:0043335': 1, 'GO:0043530': 2, 'GO:0009154': 1, 'GO:0030547': 1, 'GO:0006226': 2, 'GO:0004170': 1, 'GO:0032556': 2, 'GO:0046081': 1, 'GO:0035425': 2, 'GO:0002605': 1, 'GO:1990079': 1, 'GO:0008988': 2, 'GO:0035582': 1, 'GO:0048050': 1, 'GO:0051051': 3, 'GO:0061710': 1, 'GO:0006570': 2, 'GO:0062213': 1, 'GO:0042126': 2, 'GO:0031296': 1, 'GO:0030656': 1, 'GO:0016857': 2, 'GO:0004750': 1, 'GO:0019323': 1, 'GO:0044262': 3, 'GO:1902480': 1, 'GO:0032252': 2, 'GO:0048211': 1, 'GO:0070569': 5, 'GO:0030242': 4, 'GO:0004970': 2, 'GO:0015276': 3, 'GO:0001640': 1, 'GO:0008066': 1, 'GO:0015277': 1, 'GO:0099507': 2, 'GO:0007196': 1, 'GO:0007215': 2, 'GO:0099505': 2, 'GO:0032983': 1, 'GO:0019786': 1, 'GO:0032387': 2, 'GO:1903748': 2, 'GO:1904428': 4, 'GO:0004798': 1, 'GO:0006233': 1, 'GO:0006235': 2, 'GO:0006227': 1, 'GO:0001112': 1, 'GO:0009750': 1, 'GO:0061871': 1, 'GO:0017064': 2, 'GO:0070292': 4, 'GO:0070291': 4, 'GO:0047412': 1, 'GO:0098831': 4, 'GO:0098882': 2, 'GO:0048788': 1, 'GO:0048790': 2, 'GO:0002803': 1, 'GO:0007586': 1, 'GO:0001055': 2, 'GO:0071453': 3, 'GO:0017125': 1, 'GO:0032515': 9, 'GO:0042605': 5, 'GO:0002476': 3, 'GO:0030881': 3, 'GO:0046978': 4, 'GO:0046979': 4, 'GO:0032398': 3, 'GO:0042612': 4, 'GO:1903893': 1, 'GO:1903203': 2, 'GO:0035004': 3, 'GO:0035005': 2, 'GO:0120211': 1, 'GO:0099031': 2, 'GO:0099033': 2, 'GO:1905668': 3, 'GO:1901575': 2, 'GO:0072126': 1, 'GO:0002687': 4, 'GO:0061097': 2, 'GO:1903053': 3, 'GO:1905598': 3, 'GO:0032369': 3, 'GO:0050748': 2, 'GO:0051611': 1, 'GO:1900731': 1, 'GO:0034683': 2, 'GO:0035866': 1, 'GO:0035868': 3, 'GO:0071133': 1, 'GO:0006793': 2, 'GO:0033858': 1, 'GO:1903003': 3, 'GO:0098963': 5, 'GO:0035254': 4, 'GO:1901339': 2, 'GO:0050429': 1, 'GO:0098943': 2, 'GO:0098830': 1, 'GO:0016183': 2, 'GO:0060715': 2, 'GO:1901726': 2, 'GO:0017128': 8, 'GO:0032791': 2, 'GO:0017121': 6, 'GO:0090199': 1, 'GO:0030368': 2, 'GO:0032747': 2, 'GO:0072537': 1, 'GO:2000340': 1, 'GO:0016427': 1, 'GO:0033178': 1, 'GO:0034263': 2, 'GO:0032581': 1, 'GO:0106101': 1, 'GO:0140037': 2, 'GO:0062061': 3, 'GO:0002398': 1, 'GO:0002479': 1, 'GO:0002397': 1, 'GO:0050823': 1, 'GO:0015917': 3, 'GO:0043471': 1, 'GO:1905123': 2, 'GO:0097356': 3, 'GO:1903645': 2, 'GO:0098850': 3, 'GO:1904288': 3, 'GO:1903070': 2, 'GO:0072380': 1, 'GO:0051283': 1, 'GO:0016741': 1, 'GO:0004799': 1, 'GO:0046683': 2, 'GO:0044302': 1, 'GO:0004614': 3, 'GO:0032099': 2, 'GO:0070093': 1, 'GO:1901142': 3, 'GO:0016509': 2, 'GO:0016507': 2, 'GO:0010668': 1, 'GO:0048611': 1, 'GO:0060887': 1, 'GO:1902174': 1, 'GO:2000342': 2, 'GO:1904998': 1, 'GO:0048730': 3, 'GO:0035014': 4, 'GO:0014740': 1, 'GO:0048388': 1, 'GO:0070070': 2, 'GO:0019959': 1, 'GO:0001869': 1, 'GO:0002438': 2, 'GO:0010037': 1, 'GO:0034695': 2, 'GO:0015816': 1, 'GO:0015187': 2, 'GO:0015193': 2, 'GO:0015808': 3, 'GO:0005280': 1, 'GO:0035524': 2, 'GO:0010795': 1, 'GO:0004395': 1, 'GO:0008425': 2, 'GO:0008689': 1, 'GO:0010420': 1, 'GO:0061542': 1, 'GO:0003989': 3, 'GO:2001295': 2, 'GO:0009374': 3, 'GO:0010701': 1, 'GO:0032962': 1, 'GO:1900274': 1, 'GO:0004057': 1, 'GO:0016598': 1, 'GO:0004573': 1, 'GO:1903371': 2, 'GO:0031092': 1, 'GO:0070039': 2, 'GO:0000451': 2, 'GO:0016531': 1, 'GO:0033677': 2, 'GO:0001672': 2, 'GO:0015245': 2, 'GO:0047747': 1, 'GO:0002111': 1, 'GO:0098892': 3, 'GO:0010257': 1, 'GO:0032050': 6, 'GO:0043625': 3, 'GO:0008973': 1, 'GO:0009116': 5, 'GO:0003937': 1, 'GO:0004643': 1, 'GO:0071731': 2, 'GO:2000170': 1, 'GO:0035360': 4, 'GO:0050859': 1, 'GO:0051723': 1, 'GO:0051722': 1, 'GO:1902443': 2, 'GO:0016651': 5, 'GO:0042537': 1, 'GO:0033797': 1, 'GO:0050137': 1, 'GO:0016259': 1, 'GO:0036337': 1, 'GO:0047186': 1, 'GO:0030540': 2, 'GO:0060923': 2, 'GO:0048332': 2, 'GO:0060596': 1, 'GO:0046884': 1, 'GO:1905222': 2, 'GO:0003167': 1, 'GO:0021761': 1, 'GO:0060931': 1, 'GO:0072105': 1, 'GO:1905072': 1, 'GO:0008682': 1, 'GO:0046322': 3, 'GO:0002024': 3, 'GO:0009631': 2, 'GO:0034143': 3, 'GO:1905303': 2, 'GO:1905451': 3, 'GO:0036186': 1, 'GO:0061113': 1, 'GO:0140575': 2, 'GO:0140576': 2, 'GO:0022027': 5, 'GO:0032027': 2, 'GO:0034642': 1, 'GO:0036132': 2, 'GO:0047522': 2, 'GO:0032440': 1, 'GO:0035798': 1, 'GO:0036185': 1, 'GO:0097257': 1, 'GO:0036102': 1, 'GO:0097327': 2, 'GO:2001302': 1, 'GO:0031207': 1, 'GO:0043505': 3, 'GO:0061644': 2, 'GO:0016266': 3, 'GO:0008120': 1, 'GO:0102769': 1, 'GO:0006679': 1, 'GO:0098856': 1, 'GO:0044378': 2, 'GO:0071164': 1, 'GO:0009452': 1, 'GO:0036261': 1, 'GO:0004066': 1, 'GO:0006529': 1, 'GO:0032354': 1, 'GO:0070981': 1, 'GO:0090279': 2, 'GO:0060492': 1, 'GO:0036520': 1, 'GO:0044338': 1, 'GO:0044339': 1, 'GO:0045743': 3, 'GO:0070602': 2, 'GO:0097091': 2, 'GO:1904954': 1, 'GO:0060439': 1, 'GO:0060769': 1, 'GO:0007403': 2, 'GO:0072033': 1, 'GO:0072079': 1, 'GO:0072182': 1, 'GO:0000578': 3, 'GO:0030856': 1, 'GO:0030858': 1, 'GO:0035112': 1, 'GO:0003340': 1, 'GO:0001840': 1, 'GO:0060066': 1, 'GO:0060479': 1, 'GO:0060916': 1, 'GO:0010909': 2, 'GO:0030997': 2, 'GO:0036023': 1, 'GO:0044334': 1, 'GO:0045976': 1, 'GO:0051884': 1, 'GO:0060983': 1, 'GO:0061324': 1, 'GO:0061550': 1, 'GO:0072132': 1, 'GO:0072497': 1, 'GO:1904796': 1, 'GO:1990791': 2, 'GO:0070369': 2, 'GO:1901798': 8, 'GO:0106289': 1, 'GO:0097187': 2, 'GO:2000096': 2, 'GO:0050798': 1, 'GO:1903055': 1, 'GO:0002322': 1, 'GO:0002333': 1, 'GO:1900275': 1, 'GO:0035791': 2, 'GO:0071103': 1, 'GO:0071871': 1, 'GO:1903210': 1, 'GO:0006666': 1, 'GO:0047560': 1, 'GO:1903542': 3, 'GO:0051261': 1, 'GO:1903724': 5, 'GO:1904903': 1, 'GO:0061764': 2, 'GO:0071864': 3, 'GO:1903775': 1, 'GO:0001960': 4, 'GO:0010933': 1, 'GO:0032494': 2, 'GO:0043244': 1, 'GO:0004484': 1, 'GO:0008192': 1, 'GO:0050355': 1, 'GO:0001099': 1, 'GO:0009792': 8, 'GO:0005137': 1, 'GO:0099054': 3, 'GO:0005895': 1, 'GO:0055078': 2, 'GO:0030210': 5, 'GO:0060350': 4, 'GO:0050891': 2, 'GO:0042044': 3, 'GO:0042328': 1, 'GO:0050508': 2, 'GO:0050509': 2, 'GO:0015014': 3, 'GO:0033692': 3, 'GO:0043541': 2, 'GO:0018125': 1, 'GO:0008650': 2, 'GO:0016435': 2, 'GO:0062105': 1, 'GO:0000453': 1, 'GO:0006196': 2, 'GO:0046059': 2, 'GO:0033089': 2, 'GO:0001821': 1, 'GO:0002636': 1, 'GO:0006157': 2, 'GO:0046111': 1, 'GO:0060407': 1, 'GO:0070256': 1, 'GO:0001883': 2, 'GO:0046936': 1, 'GO:0032261': 1, 'GO:0033632': 3, 'GO:0042323': 1, 'GO:0060169': 1, 'GO:0060205': 1, 'GO:0016814': 1, 'GO:0071595': 2, 'GO:0016340': 2, 'GO:0072507': 1, 'GO:0031531': 1, 'GO:0032527': 3, 'GO:1902524': 2, 'GO:0005456': 1, 'GO:0015782': 1, 'GO:0016992': 1, 'GO:0009107': 1, 'GO:0016783': 4, 'GO:0102552': 1, 'GO:0102553': 1, 'GO:0009249': 3, 'GO:0005577': 1, 'GO:0071288': 1, 'GO:0150102': 1, 'GO:0003979': 1, 'GO:0006065': 1, 'GO:0030206': 6, 'GO:0061303': 1, 'GO:0005462': 1, 'GO:0005464': 1, 'GO:0015790': 1, 'GO:1990569': 1, 'GO:1990876': 1, 'GO:0071475': 2, 'GO:0036130': 1, 'GO:1901360': 1, 'GO:0035809': 1, 'GO:0018505': 1, 'GO:0043795': 1, 'GO:0005996': 1, 'GO:0006061': 1, 'GO:0097238': 1, 'GO:0003853': 1, 'GO:0016937': 1, 'GO:0047119': 1, 'GO:0102035': 1, 'GO:0030350': 2, 'GO:0010994': 5, 'GO:0062101': 1, 'GO:0042264': 2, 'GO:0033198': 3, 'GO:0031585': 2, 'GO:1901879': 1, 'GO:0003680': 6, 'GO:1901355': 1, 'GO:1990828': 1, 'GO:0022007': 3, 'GO:0060029': 2, 'GO:0044340': 1, 'GO:0150012': 1, 'GO:0080164': 2, 'GO:0140312': 4, 'GO:0008523': 1, 'GO:0015225': 2, 'GO:0015233': 1, 'GO:0015878': 2, 'GO:0015887': 1, 'GO:1904200': 1, 'GO:1905135': 2, 'GO:1990604': 2, 'GO:1990597': 2, 'GO:0036498': 3, 'GO:0070054': 1, 'GO:0098787': 1, 'GO:1990579': 1, 'GO:0050062': 1, 'GO:0102339': 1, 'GO:0102340': 1, 'GO:0102341': 1, 'GO:0102342': 1, 'GO:0009923': 2, 'GO:1904430': 3, 'GO:0000725': 4, 'GO:0043715': 1, 'GO:0043716': 1, 'GO:0043874': 1, 'GO:0004074': 2, 'GO:0106276': 2, 'GO:0106277': 2, 'GO:0072703': 1, 'GO:0060046': 1, 'GO:0060055': 5, 'GO:0005989': 1, 'GO:0003945': 3, 'GO:0004461': 1, 'GO:0035250': 2, 'GO:0048633': 2, 'GO:0014732': 1, 'GO:0014878': 1, 'GO:0043201': 2, 'GO:0001919': 3, 'GO:0044873': 1, 'GO:0072672': 1, 'GO:0002693': 4, 'GO:0030485': 1, 'GO:0035696': 1, 'GO:0150107': 1, 'GO:0072011': 1, 'GO:0070053': 2, 'GO:0045347': 2, 'GO:0000388': 1, 'GO:1902235': 3, 'GO:0004070': 1, 'GO:0004088': 1, 'GO:0004151': 2, 'GO:0016743': 1, 'GO:0016812': 1, 'GO:0061723': 1, 'GO:0004587': 1, 'GO:0050155': 1, 'GO:0010121': 1, 'GO:0019544': 1, 'GO:0006833': 2, 'GO:0015793': 1, 'GO:0015204': 1, 'GO:0015250': 1, 'GO:0015254': 1, 'GO:0015840': 1, 'GO:0071918': 1, 'GO:0015166': 1, 'GO:1901098': 4, 'GO:0006409': 3, 'GO:0034593': 2, 'GO:0003150': 2, 'GO:0060119': 2, 'GO:0090651': 2, 'GO:0003402': 1, 'GO:0003347': 2, 'GO:0036514': 2, 'GO:0036515': 2, 'GO:0060187': 1, 'GO:0061346': 1, 'GO:0090177': 1, 'GO:0035787': 1, 'GO:1901988': 1, 'GO:0030337': 3, 'GO:0005760': 3, 'GO:0035500': 2, 'GO:0022010': 5, 'GO:0042983': 1, 'GO:0042986': 4, 'GO:1990926': 1, 'GO:0000813': 7, 'GO:0099612': 3, 'GO:0030157': 1, 'GO:0007340': 3, 'GO:0008796': 1, 'GO:0052547': 2, 'GO:0036105': 1, 'GO:0072663': 1, 'GO:1900131': 1, 'GO:0002637': 3, 'GO:0035631': 5, 'GO:0032813': 1, 'GO:0007412': 1, 'GO:0031694': 1, 'GO:0008242': 3, 'GO:1901647': 1, 'GO:0030579': 4, 'GO:0106335': 1, 'GO:0008957': 1, 'GO:0018547': 1, 'GO:0006117': 1, 'GO:1903179': 1, 'GO:1905627': 1, 'GO:0035523': 1, 'GO:1990168': 1, 'GO:0034597': 2, 'GO:0008897': 1, 'GO:0018215': 1, 'GO:0009258': 1, 'GO:0019878': 1, 'GO:0008670': 2, 'GO:1904354': 4, 'GO:0031860': 2, 'GO:0090737': 1, 'GO:0098687': 2, 'GO:0007066': 2, 'GO:0000707': 1, 'GO:0033065': 1, 'GO:0043063': 1, 'GO:0038128': 1, 'GO:0034455': 3, 'GO:2000814': 2, 'GO:0090725': 2, 'GO:0061826': 1, 'GO:0061834': 1, 'GO:0061835': 1, 'GO:0004778': 1, 'GO:0033882': 1, 'GO:0044466': 1, 'GO:0047603': 1, 'GO:0047994': 1, 'GO:0052815': 1, 'GO:0043649': 1, 'GO:0045225': 1, 'GO:0002520': 2, 'GO:0034336': 1, 'GO:0042053': 1, 'GO:0106300': 4, 'GO:1905634': 3, 'GO:0019985': 5, 'GO:0035800': 1, 'GO:0072389': 1, 'GO:1903006': 2, 'GO:1903007': 1, 'GO:2000158': 1, 'GO:1990730': 2, 'GO:1902045': 1, 'GO:0035710': 1, 'GO:0061685': 1, 'GO:1903577': 1, 'GO:0061101': 1, 'GO:0004185': 3, 'GO:1904715': 1, 'GO:0030169': 7, 'GO:0120014': 1, 'GO:0140338': 2, 'GO:0010189': 1, 'GO:0034189': 1, 'GO:0140337': 1, 'GO:0140339': 1, 'GO:0140340': 1, 'GO:1901611': 2, 'GO:0030950': 3, 'GO:0008078': 1, 'GO:0010172': 4, 'GO:0045175': 1, 'GO:0044613': 6, 'GO:0043462': 3, 'GO:0005862': 2, 'GO:0099053': 3, 'GO:0060304': 4, 'GO:0006990': 3, 'GO:0046620': 1, 'GO:0048563': 1, 'GO:0060139': 1, 'GO:0097140': 1, 'GO:0097141': 1, 'GO:0060856': 1, 'GO:0006404': 3, 'GO:0010965': 1, 'GO:0070849': 3, 'GO:0001955': 3, 'GO:1904684': 1, 'GO:0090210': 1, 'GO:1904928': 1, 'GO:0032183': 8, 'GO:0030130': 4, 'GO:0001846': 1, 'GO:1990430': 1, 'GO:0032490': 1, 'GO:0035262': 1, 'GO:0071604': 1, 'GO:2000536': 1, 'GO:0034686': 1, 'GO:0034685': 1, 'GO:0005981': 2, 'GO:0017018': 1, 'GO:0050115': 1, 'GO:0070649': 1, 'GO:0051758': 1, 'GO:0046790': 3, 'GO:0006858': 2, 'GO:1903774': 3, 'GO:2000397': 2, 'GO:2000107': 1, 'GO:0016028': 1, 'GO:0061181': 1, 'GO:0032423': 1, 'GO:2000054': 2, 'GO:0070476': 2, 'GO:0004333': 1, 'GO:0006106': 1, 'GO:0045239': 1, 'GO:0000415': 2, 'GO:0001179': 1, 'GO:0098858': 3, 'GO:0035363': 4, 'GO:0070245': 3, 'GO:1990164': 3, 'GO:1905213': 2, 'GO:0090535': 2, 'GO:0032549': 3, 'GO:0045006': 3, 'GO:0010181': 7, 'GO:0003958': 3, 'GO:0060192': 1, 'GO:0008941': 1, 'GO:0047726': 1, 'GO:0003420': 2, 'GO:0009812': 1, 'GO:0032770': 1, 'GO:0043602': 1, 'GO:0046210': 1, 'GO:0071371': 1, 'GO:0090346': 1, 'GO:1905216': 1, 'GO:0031752': 1, 'GO:0016615': 2, 'GO:0030060': 2, 'GO:0046554': 1, 'GO:0016430': 1, 'GO:0089715': 1, 'GO:0097512': 2, 'GO:0008426': 1, 'GO:0047444': 1, 'GO:0005315': 3, 'GO:0005316': 1, 'GO:0046570': 1, 'GO:0045110': 2, 'GO:0099184': 2, 'GO:0033693': 1, 'GO:0099185': 2, 'GO:1903935': 1, 'GO:0099160': 2, 'GO:0001552': 1, 'GO:0150017': 1, 'GO:0031475': 1, 'GO:0015786': 2, 'GO:1905007': 3, 'GO:0005024': 3, 'GO:1905075': 1, 'GO:1905223': 1, 'GO:0001885': 5, 'GO:0110010': 3, 'GO:1904692': 1, 'GO:1990502': 2, 'GO:0009642': 2, 'GO:0010193': 1, 'GO:0014854': 1, 'GO:0061692': 1, 'GO:0080184': 1, 'GO:0062151': 1, 'GO:0030552': 3, 'GO:0004862': 2, 'GO:0008603': 2, 'GO:0030156': 1, 'GO:0014009': 2, 'GO:1903060': 1, 'GO:0035242': 3, 'GO:0019919': 3, 'GO:0035241': 4, 'GO:1900053': 1, 'GO:0002790': 1, 'GO:0034188': 2, 'GO:0046623': 1, 'GO:0023061': 1, 'GO:0090108': 2, 'GO:0010923': 3, 'GO:1990276': 1, 'GO:0016073': 1, 'GO:0040031': 1, 'GO:0043605': 2, 'GO:0050406': 1, 'GO:0110050': 1, 'GO:0106162': 1, 'GO:1990883': 1, 'GO:0016072': 1, 'GO:0051391': 1, 'GO:1904812': 1, 'GO:0043412': 3, 'GO:0060049': 2, 'GO:0071313': 3, 'GO:0014808': 2, 'GO:0010881': 4, 'GO:0061033': 1, 'GO:1903514': 1, 'GO:0000432': 2, 'GO:0097199': 2, 'GO:0034349': 2, 'GO:0071887': 2, 'GO:2000311': 3, 'GO:1904680': 1, 'GO:0007225': 1, 'GO:0010512': 1, 'GO:0035793': 1, 'GO:1990265': 1, 'GO:1990393': 3, 'GO:0036159': 1, 'GO:0036158': 3, 'GO:0060691': 1, 'GO:0060096': 1, 'GO:1900100': 1, 'GO:1900102': 1, 'GO:1903489': 1, 'GO:0015742': 2, 'GO:0015139': 1, 'GO:0050434': 3, 'GO:0044087': 1, 'GO:0110053': 1, 'GO:0032232': 2, 'GO:0031304': 2, 'GO:0033132': 2, 'GO:0055065': 2, 'GO:1903064': 1, 'GO:0010742': 3, 'GO:0004772': 1, 'GO:0034736': 1, 'GO:0034435': 2, 'GO:0010878': 1, 'GO:0043515': 6, 'GO:1990706': 1, 'GO:0022602': 1, 'GO:0060830': 2, 'GO:0036134': 2, 'GO:0050220': 2, 'GO:0071800': 3, 'GO:0061714': 1, 'GO:0003147': 1, 'GO:0071231': 1, 'GO:0016232': 1, 'GO:0106370': 1, 'GO:0060620': 1, 'GO:0002762': 2, 'GO:0004673': 1, 'GO:0018106': 1, 'GO:0045682': 2, 'GO:0033185': 2, 'GO:0097502': 12, 'GO:0004582': 1, 'GO:0098973': 4, 'GO:0051621': 1, 'GO:0072749': 1, 'GO:0150111': 2, 'GO:0042575': 1, 'GO:0044393': 2, 'GO:0030046': 1, 'GO:0042773': 5, 'GO:0006903': 3, 'GO:0005853': 2, 'GO:1905069': 2, 'GO:2000638': 2, 'GO:0050561': 1, 'GO:0070127': 1, 'GO:0042756': 1, 'GO:0000035': 1, 'GO:0000036': 1, 'GO:0036424': 1, 'GO:1990048': 2, 'GO:0004566': 1, 'GO:0019391': 2, 'GO:0003084': 2, 'GO:0003273': 2, 'GO:0055009': 1, 'GO:0031960': 2, 'GO:0070483': 1, 'GO:0004056': 1, 'GO:0000050': 2, 'GO:0042450': 1, 'GO:0006526': 2, 'GO:0000053': 2, 'GO:0004326': 1, 'GO:0009396': 1, 'GO:0046901': 1, 'GO:1903839': 1, 'GO:0070194': 1, 'GO:0016321': 3, 'GO:1904776': 1, 'GO:0002083': 1, 'GO:0008412': 1, 'GO:0047293': 1, 'GO:0004972': 1, 'GO:0022849': 1, 'GO:0097553': 1, 'GO:1905429': 1, 'GO:0008355': 2, 'GO:0042165': 2, 'GO:0022843': 3, 'GO:1903539': 1, 'GO:0001661': 1, 'GO:0021586': 1, 'GO:0018964': 1, 'GO:1904062': 2, 'GO:1903422': 1, 'GO:0070293': 2, 'GO:0034767': 2, 'GO:0060158': 3, 'GO:0032782': 2, 'GO:0007191': 1, 'GO:0032416': 1, 'GO:0003096': 1, 'GO:0090660': 1, 'GO:1903402': 1, 'GO:0031799': 1, 'GO:0034635': 1, 'GO:0097291': 1, 'GO:0015039': 2, 'GO:1903860': 1, 'GO:0003977': 1, 'GO:0014886': 1, 'GO:0098725': 1, 'GO:1904777': 1, 'GO:0005412': 2, 'GO:0032409': 1, 'GO:0021794': 3, 'GO:0034602': 1, 'GO:0061034': 2, 'GO:0034587': 2, 'GO:1990923': 1, 'GO:0015279': 3, 'GO:0032274': 1, 'GO:0004045': 2, 'GO:0016150': 1, 'GO:0001849': 1, 'GO:0031690': 1, 'GO:0061135': 1, 'GO:0032384': 1, 'GO:0071072': 2, 'GO:0150110': 1, 'GO:1901873': 1, 'GO:1905601': 1, 'GO:0061731': 1, 'GO:0006690': 3, 'GO:0106256': 2, 'GO:0008116': 1, 'GO:0033971': 1, 'GO:0019628': 1, 'GO:0006147': 1, 'GO:0006148': 1, 'GO:0006149': 1, 'GO:0006161': 1, 'GO:0009114': 1, 'GO:0009115': 1, 'GO:0070324': 2, 'GO:0009223': 1, 'GO:0008252': 1, 'GO:0010706': 2, 'GO:0030311': 3, 'GO:0008489': 2, 'GO:0042551': 3, 'GO:0070586': 1, 'GO:0005353': 1, 'GO:0015755': 1, 'GO:0015757': 1, 'GO:0005354': 1, 'GO:0015284': 1, 'GO:1903109': 3, 'GO:1902553': 1, 'GO:1903638': 1, 'GO:0060837': 1, 'GO:1903579': 2, 'GO:2000192': 1, 'GO:0016071': 4, 'GO:0090615': 1, 'GO:0050211': 2, 'GO:0033823': 1, 'GO:0046947': 2, 'GO:0110032': 3, 'GO:0006842': 1, 'GO:0015746': 1, 'GO:0005343': 1, 'GO:0015137': 1, 'GO:0015142': 1, 'GO:0017153': 1, 'GO:0015741': 1, 'GO:0035674': 1, 'GO:0006481': 2, 'GO:0003880': 2, 'GO:0018423': 1, 'GO:0042567': 1, 'GO:0008160': 2, 'GO:2000844': 1, 'GO:0042568': 1, 'GO:0060294': 1, 'GO:0005149': 1, 'GO:2000525': 1, 'GO:0035037': 1, 'GO:1905528': 1, 'GO:0097057': 3, 'GO:0005174': 1, 'GO:0002947': 1, 'GO:1903898': 3, 'GO:0098554': 1, 'GO:0061673': 3, 'GO:0070463': 1, 'GO:0044778': 1, 'GO:0004850': 1, 'GO:0009164': 1, 'GO:0046108': 1, 'GO:0009032': 1, 'GO:0047847': 1, 'GO:0006218': 1, 'GO:0001025': 1, 'GO:0042416': 1, 'GO:0004058': 1, 'GO:0036467': 1, 'GO:0036468': 1, 'GO:0015842': 1, 'GO:0042423': 1, 'GO:0042427': 1, 'GO:0033076': 1, 'GO:0046684': 1, 'GO:0052314': 1, 'GO:0030899': 1, 'GO:1904635': 1, 'GO:0002227': 3, 'GO:0032052': 2, 'GO:0003882': 1, 'GO:1990423': 3, 'GO:1903394': 1, 'GO:0042832': 2, 'GO:0032051': 3, 'GO:0055123': 3, 'GO:0060453': 1, 'GO:1905445': 2, 'GO:0021831': 1, 'GO:0051668': 1, 'GO:0045428': 2, 'GO:0048532': 1, 'GO:0032707': 1, 'GO:0060263': 1, 'GO:0061344': 3, 'GO:1902622': 1, 'GO:0060091': 1, 'GO:0060379': 1, 'GO:2000706': 1, 'GO:2000798': 1, 'GO:0004801': 1, 'GO:0034474': 1, 'GO:0005150': 1, 'GO:0001757': 1, 'GO:0050650': 3, 'GO:0030158': 1, 'GO:0033162': 6, 'GO:0015811': 2, 'GO:0015184': 2, 'GO:0048021': 2, 'GO:0070001': 1, 'GO:0005849': 6, 'GO:0051733': 1, 'GO:0051734': 1, 'GO:0051736': 1, 'GO:0032077': 1, 'GO:1902990': 3, 'GO:0043626': 1, 'GO:0047166': 1, 'GO:2001135': 3, 'GO:0097205': 1, 'GO:0043076': 1, 'GO:0098718': 1, 'GO:0015195': 1, 'GO:0034590': 1, 'GO:0015826': 1, 'GO:0034589': 1, 'GO:1903812': 1, 'GO:0021540': 3, 'GO:0051012': 2, 'GO:0051130': 1, 'GO:0060117': 3, 'GO:0090176': 1, 'GO:0000235': 3, 'GO:0001554': 2, 'GO:0021589': 1, 'GO:0035437': 3, 'GO:0097501': 1, 'GO:1904313': 1, 'GO:0060721': 2, 'GO:0070873': 1, 'GO:1903547': 1, 'GO:0004817': 2, 'GO:0006423': 2, 'GO:0035101': 4, 'GO:0030629': 2, 'GO:0120048': 1, 'GO:0006556': 3, 'GO:0120049': 2, 'GO:1905869': 1, 'GO:0052907': 1, 'GO:0005460': 1, 'GO:0008063': 2, 'GO:0008592': 1, 'GO:0050871': 3, 'GO:0043331': 1, 'GO:0035404': 2, 'GO:0042585': 2, 'GO:0016048': 1, 'GO:0032224': 1, 'GO:0042488': 1, 'GO:0043121': 1, 'GO:0051799': 1, 'GO:0035907': 1, 'GO:0005035': 2, 'GO:0005848': 1, 'GO:0002182': 1, 'GO:0010898': 3, 'GO:0050253': 1, 'GO:0003983': 1, 'GO:0006011': 2, 'GO:0032557': 1, 'GO:0019255': 2, 'GO:0022013': 1, 'GO:0010610': 1, 'GO:0070492': 1, 'GO:0097752': 2, 'GO:1902979': 1, 'GO:0000814': 2, 'GO:0016247': 2, 'GO:1903772': 1, 'GO:0032406': 2, 'GO:0032408': 2, 'GO:0036298': 2, 'GO:0097362': 2, 'GO:0048232': 2, 'GO:0060598': 1, 'GO:0021877': 1, 'GO:0150034': 2, 'GO:0008808': 1, 'GO:0043337': 1, 'GO:1905711': 1, 'GO:0043956': 1, 'GO:0120092': 2, 'GO:0010921': 1, 'GO:0060318': 2, 'GO:0042823': 2, 'GO:0004733': 1, 'GO:0016638': 1, 'GO:0008615': 1, 'GO:0007079': 3, 'GO:0040001': 3, 'GO:1901536': 2, 'GO:0019788': 2, 'GO:0019107': 1, 'GO:1900740': 2, 'GO:0007589': 2, 'GO:0090387': 1, 'GO:0042491': 1, 'GO:0045639': 2, 'GO:0061314': 2, 'GO:0062043': 2, 'GO:0072017': 2, 'GO:0072070': 1, 'GO:0061444': 1, 'GO:0048524': 2, 'GO:1901585': 1, 'GO:0030961': 1, 'GO:0043000': 1, 'GO:0035815': 2, 'GO:0031748': 6, 'GO:0007174': 2, 'GO:0070685': 1, 'GO:0003192': 1, 'GO:0007386': 1, 'GO:0014807': 1, 'GO:0003252': 2, 'GO:0055008': 2, 'GO:0045607': 2, 'GO:0007221': 4, 'GO:0003160': 2, 'GO:0003256': 2, 'GO:1901189': 2, 'GO:0002193': 3, 'GO:0003162': 1, 'GO:0046533': 1, 'GO:0003213': 1, 'GO:0003241': 1, 'GO:0003219': 1, 'GO:0003270': 1, 'GO:0007440': 1, 'GO:0060768': 1, 'GO:0003182': 1, 'GO:0003207': 1, 'GO:0003264': 1, 'GO:0014031': 1, 'GO:0021515': 1, 'GO:0060842': 1, 'GO:0060843': 1, 'GO:0060979': 4, 'GO:0072144': 1, 'GO:1901201': 1, 'GO:2001027': 1, 'GO:0008297': 1, 'GO:0036312': 4, 'GO:0044300': 2, 'GO:0021814': 1, 'GO:0070317': 3, 'GO:0044301': 1, 'GO:1990032': 1, 'GO:0005173': 2, 'GO:0090311': 3, 'GO:0009624': 1, 'GO:0031416': 2, 'GO:1902605': 1, 'GO:0036492': 2, 'GO:0019081': 1, 'GO:0001147': 2, 'GO:0000738': 2, 'GO:0007638': 1, 'GO:0019427': 1, 'GO:0032200': 1, 'GO:0000150': 1, 'GO:0000730': 1, 'GO:0051106': 2, 'GO:1904631': 1, 'GO:1990426': 2, 'GO:0000811': 4, 'GO:1902983': 1, 'GO:0032417': 1, 'GO:0022406': 1, 'GO:0060050': 1, 'GO:0034190': 1, 'GO:0098964': 1, 'GO:0004368': 1, 'GO:0052590': 1, 'GO:0052591': 1, 'GO:0009331': 2, 'GO:0004367': 2, 'GO:0003274': 1, 'GO:0003289': 3, 'GO:0061445': 1, 'GO:0070724': 1, 'GO:0002643': 2, 'GO:1905524': 1, 'GO:0042835': 1, 'GO:1903506': 2, 'GO:0008470': 1, 'GO:0007063': 2, 'GO:0031071': 1, 'GO:0018283': 2, 'GO:0030533': 9, 'GO:0015453': 1, 'GO:0019646': 2, 'GO:0033590': 1, 'GO:0045275': 1, 'GO:1904951': 4, 'GO:0019285': 1, 'GO:0004043': 1, 'GO:0008802': 1, 'GO:0071387': 1, 'GO:0003165': 1, 'GO:0001572': 1, 'GO:0031545': 2, 'GO:1905762': 3, 'GO:0019230': 1, 'GO:0034986': 2, 'GO:0010722': 1, 'GO:0051349': 1, 'GO:1990221': 2, 'GO:0016590': 2, 'GO:0008623': 3, 'GO:0010470': 6, 'GO:0017065': 1, 'GO:0000703': 2, 'GO:0030029': 3, 'GO:0031331': 3, 'GO:0047322': 1, 'GO:0050405': 1, 'GO:0061762': 2, 'GO:0038183': 1, 'GO:0062028': 1, 'GO:0071417': 2, 'GO:0120188': 1, 'GO:1901563': 1, 'GO:1904486': 1, 'GO:0070072': 5, 'GO:1900028': 1, 'GO:0060816': 2, 'GO:0033629': 5, 'GO:0099518': 1, 'GO:0061752': 2, 'GO:0051170': 3, 'GO:1904577': 2, 'GO:1990826': 2, 'GO:0062237': 1, 'GO:0140450': 1, 'GO:0051415': 1, 'GO:0140462': 1, 'GO:2001107': 1, 'GO:0000481': 1, 'GO:0008271': 2, 'GO:0019531': 1, 'GO:0019532': 1, 'GO:0060381': 1, 'GO:0019863': 1, 'GO:0048245': 1, 'GO:0070232': 1, 'GO:0071674': 1, 'GO:0062098': 1, 'GO:0032119': 1, 'GO:0055120': 1, 'GO:0035247': 3, 'GO:0001842': 4, 'GO:0010593': 2, 'GO:0051511': 1, 'GO:1905873': 1, 'GO:1905875': 1, 'GO:2000784': 1, 'GO:0090732': 1, 'GO:0036092': 8, 'GO:0016303': 3, 'GO:0052742': 3, 'GO:0035032': 5, 'GO:0034271': 3, 'GO:0034272': 3, 'GO:0070202': 1, 'GO:0051086': 1, 'GO:0086002': 1, 'GO:0086019': 1, 'GO:0008296': 6, 'GO:1905833': 1, 'GO:0110104': 5, 'GO:1990448': 1, 'GO:1990120': 3, 'GO:0003412': 1, 'GO:1905710': 1, 'GO:0033624': 2, 'GO:0098636': 2, 'GO:0097241': 4, 'GO:0090138': 1, 'GO:0097530': 1, 'GO:0010041': 2, 'GO:0032773': 2, 'GO:0034760': 1, 'GO:0071279': 3, 'GO:1903036': 1, 'GO:0048251': 2, 'GO:0042093': 1, 'GO:0042414': 1, 'GO:0045914': 1, 'GO:0051542': 1, 'GO:0008499': 2, 'GO:0047273': 1, 'GO:0016076': 1, 'GO:0015125': 3, 'GO:0047931': 1, 'GO:0010359': 1, 'GO:0031639': 2, 'GO:0004618': 1, 'GO:0016723': 1, 'GO:0030586': 1, 'GO:1904042': 1, 'GO:0099629': 2, 'GO:0097151': 1, 'GO:0098641': 2, 'GO:0002455': 3, 'GO:0035312': 1, 'GO:0051908': 1, 'GO:0048040': 1, 'GO:0033320': 1, 'GO:0042732': 2, 'GO:1902667': 3, 'GO:1990111': 3, 'GO:0030382': 3, 'GO:0071076': 4, 'GO:1905870': 2, 'GO:0060212': 2, 'GO:0070568': 1, 'GO:0098770': 2, 'GO:0097132': 1, 'GO:0016429': 2, 'GO:0031515': 2, 'GO:0061953': 2, 'GO:0090083': 1, 'GO:0000246': 1, 'GO:0050614': 1, 'GO:0033489': 1, 'GO:0035811': 1, 'GO:0035812': 1, 'GO:2001161': 1, 'GO:0034388': 5, 'GO:0000973': 2, 'GO:0004133': 1, 'GO:0004134': 1, 'GO:0004135': 1, 'GO:0030247': 1, 'GO:0102500': 1, 'GO:1903093': 1, 'GO:2000660': 1, 'GO:0001576': 1, 'GO:0050512': 1, 'GO:0003870': 1, 'GO:0140293': 1, 'GO:0042278': 1, 'GO:0140291': 1, 'GO:0061463': 2, 'GO:2000301': 2, 'GO:0021700': 1, 'GO:0051915': 1, 'GO:1902682': 1, 'GO:0031061': 1, 'GO:0061092': 2, 'GO:0102264': 1, 'GO:0099626': 2, 'GO:0031213': 2, 'GO:0031010': 2, 'GO:0090536': 1, 'GO:0032324': 1, 'GO:0061798': 1, 'GO:0061799': 1, 'GO:0090668': 1, 'GO:0070286': 2, 'GO:2000490': 1, 'GO:0016879': 1, 'GO:0072590': 1, 'GO:0072591': 1, 'GO:0014059': 1, 'GO:0060159': 1, 'GO:0001956': 1, 'GO:0061646': 2, 'GO:0032787': 1, 'GO:0097447': 1, 'GO:0046338': 3, 'GO:0016411': 1, 'GO:2000853': 1, 'GO:0008503': 1, 'GO:0005497': 1, 'GO:0060242': 2, 'GO:0010823': 2, 'GO:0071476': 3, 'GO:1903147': 1, 'GO:0016277': 1, 'GO:0034969': 2, 'GO:1905450': 2, 'GO:0070898': 1, 'GO:0000126': 2, 'GO:0042631': 1, 'GO:0032912': 1, 'GO:0051796': 1, 'GO:0060901': 1, 'GO:1902910': 1, 'GO:1901143': 2, 'GO:0005130': 1, 'GO:0002859': 1, 'GO:0032692': 3, 'GO:0038016': 2, 'GO:0038158': 2, 'GO:0043318': 1, 'GO:1903385': 1, 'GO:1903387': 2, 'GO:2000346': 1, 'GO:2001214': 3, 'GO:0071575': 1, 'GO:0061308': 3, 'GO:0019858': 2, 'GO:0070436': 1, 'GO:0006516': 4, 'GO:0044726': 1, 'GO:0061724': 2, 'GO:0032419': 1, 'GO:0070579': 3, 'GO:0006211': 2, 'GO:0090310': 1, 'GO:0070989': 4, 'GO:0060809': 1, 'GO:0097355': 1, 'GO:1905215': 1, 'GO:0102390': 1, 'GO:0009007': 1, 'GO:0106347': 1, 'GO:0032775': 1, 'GO:0090296': 1, 'GO:0050908': 4, 'GO:1903564': 1, 'GO:0072319': 1, 'GO:0097159': 6, 'GO:0016890': 2, 'GO:0071932': 3, 'GO:0033567': 1, 'GO:0031627': 1, 'GO:0032208': 1, 'GO:0099087': 1, 'GO:1903770': 1, 'GO:0016667': 2, 'GO:0060231': 3, 'GO:0102758': 1, 'GO:0046543': 1, 'GO:2000744': 1, 'GO:0021501': 1, 'GO:0021547': 1, 'GO:0106333': 2, 'GO:0003863': 2, 'GO:0036031': 1, 'GO:0031547': 2, 'GO:0038180': 5, 'GO:0071321': 1, 'GO:2000670': 1, 'GO:0071880': 1, 'GO:0021884': 2, 'GO:0048022': 2, 'GO:0008448': 1, 'GO:0047419': 1, 'GO:0006040': 1, 'GO:0002439': 1, 'GO:0019510': 1, 'GO:0030554': 1, 'GO:0042745': 1, 'GO:0010820': 4, 'GO:0035624': 1, 'GO:0140448': 2, 'GO:0033025': 1, 'GO:2000373': 3, 'GO:0001097': 2, 'GO:0017130': 1, 'GO:1902889': 1, 'GO:1990280': 1, 'GO:0098577': 1, 'GO:1900022': 1, 'GO:0048731': 3, 'GO:0048871': 1, 'GO:0015136': 1, 'GO:0015739': 1, 'GO:2001247': 1, 'GO:0031956': 2, 'GO:0042371': 2, 'GO:0009234': 1, 'GO:0032194': 1, 'GO:0051171': 3, 'GO:0080090': 6, 'GO:0032055': 1, 'GO:0044803': 1, 'GO:0046786': 1, 'GO:0016263': 1, 'GO:0016267': 1, 'GO:0071504': 3, 'GO:0071506': 1, 'GO:0072110': 1, 'GO:0072303': 1, 'GO:0098759': 1, 'GO:2000182': 1, 'GO:2001045': 2, 'GO:0016264': 2, 'GO:0060358': 1, 'GO:0035575': 1, 'GO:0140683': 2, 'GO:0035574': 1, 'GO:0061188': 1, 'GO:0045728': 2, 'GO:0015432': 1, 'GO:0032310': 1, 'GO:0015132': 1, 'GO:0015143': 1, 'GO:0015732': 1, 'GO:0004169': 4, 'GO:0000030': 14, 'GO:1904100': 2, 'GO:0140682': 2, 'GO:0070860': 1, 'GO:0007194': 2, 'GO:0034705': 2, 'GO:0055106': 1, 'GO:0014904': 2, 'GO:0060760': 4, 'GO:0003330': 1, 'GO:0034066': 1, 'GO:0006307': 5, 'GO:0035515': 4, 'GO:0035516': 3, 'GO:1990984': 2, 'GO:0002101': 1, 'GO:0006448': 1, 'GO:0035513': 2, 'GO:0035552': 2, 'GO:0042245': 2, 'GO:1990983': 1, 'GO:0052918': 1, 'GO:0052926': 1, 'GO:0000026': 2, 'GO:0003976': 3, 'GO:0016256': 1, 'GO:0032138': 1, 'GO:0032422': 2, 'GO:0009353': 1, 'GO:0047757': 1, 'GO:0030204': 3, 'GO:0030205': 1, 'GO:0030208': 2, 'GO:0008395': 1, 'GO:0006082': 2, 'GO:0008392': 1, 'GO:0019373': 1, 'GO:0042573': 2, 'GO:0004796': 1, 'GO:0070330': 1, 'GO:0010463': 1, 'GO:2000544': 1, 'GO:0000309': 1, 'GO:0004515': 1, 'GO:0015247': 1, 'GO:0032026': 3, 'GO:0032056': 1, 'GO:0036245': 1, 'GO:0060623': 3, 'GO:0071567': 1, 'GO:1990244': 1, 'GO:0035212': 1, 'GO:1990245': 1, 'GO:0071765': 1, 'GO:0035402': 2, 'GO:0002634': 2, 'GO:0035407': 2, 'GO:0070853': 1, 'GO:0043136': 2, 'GO:0008967': 1, 'GO:0000121': 1, 'GO:0005785': 3, 'GO:0006617': 2, 'GO:0090241': 2, 'GO:0099526': 1, 'GO:1905897': 3, 'GO:0036317': 1, 'GO:0070260': 1, 'GO:0007290': 1, 'GO:0036123': 1, 'GO:0046293': 1, 'GO:0047020': 1, 'GO:0047021': 1, 'GO:0050221': 1, 'GO:0033679': 1, 'GO:0045142': 2, 'GO:0039695': 1, 'GO:0070922': 1, 'GO:1904973': 3, 'GO:1905698': 1, 'GO:0009404': 1, 'GO:0032653': 1, 'GO:0008228': 1, 'GO:0070487': 1, 'GO:0071349': 1, 'GO:2000439': 1, 'GO:0098727': 1, 'GO:0036098': 1, 'GO:1990636': 2, 'GO:0008747': 1, 'GO:0033033': 2, 'GO:0097212': 1, 'GO:1990583': 1, 'GO:0070142': 1, 'GO:1902307': 1, 'GO:1902824': 1, 'GO:1903725': 1, 'GO:1990386': 1, 'GO:0099025': 2, 'GO:0099571': 1, 'GO:0004777': 2, 'GO:0009013': 1, 'GO:0009450': 1, 'GO:0009448': 2, 'GO:0002143': 2, 'GO:0034227': 3, 'GO:0032447': 3, 'GO:0002144': 1, 'GO:0016702': 2, 'GO:0047800': 1, 'GO:1901342': 2, 'GO:0043323': 2, 'GO:0045954': 6, 'GO:0140507': 2, 'GO:0061474': 1, 'GO:1902311': 1, 'GO:0002504': 1, 'GO:0052917': 1, 'GO:0000009': 2, 'GO:0045905': 2, 'GO:0033749': 2, 'GO:0106156': 1, 'GO:0070079': 2, 'GO:0010256': 2, 'GO:0090284': 2, 'GO:0030576': 4, 'GO:0004152': 1, 'GO:0072527': 1, 'GO:0009220': 1, 'GO:0004077': 1, 'GO:0004078': 1, 'GO:0004079': 1, 'GO:0004080': 1, 'GO:0018271': 1, 'GO:0009305': 1, 'GO:0070781': 1, 'GO:0071110': 1, 'GO:1990400': 1, 'GO:0070902': 1, 'GO:1902109': 3, 'GO:0102559': 1, 'GO:0032182': 4, 'GO:2000436': 4, 'GO:0042446': 1, 'GO:0140647': 1, 'GO:0008386': 1, 'GO:0097180': 4, 'GO:1904811': 1, 'GO:1905281': 1, 'GO:0039532': 1, 'GO:0072423': 2, 'GO:0097525': 1, 'GO:0051601': 2, 'GO:0060123': 2, 'GO:0090402': 4, 'GO:0035985': 3, 'GO:0090276': 1, 'GO:0035501': 1, 'GO:0003131': 1, 'GO:0031052': 2, 'GO:0035978': 1, 'GO:2000685': 1, 'GO:0010604': 3, 'GO:0051173': 3, 'GO:0071500': 2, 'GO:0002331': 1, 'GO:0097694': 2, 'GO:1903626': 1, 'GO:1903978': 1, 'GO:1904884': 2, 'GO:1905843': 1, 'GO:0061750': 1, 'GO:0035754': 1, 'GO:2000669': 1, 'GO:1900142': 1, 'GO:0046813': 3, 'GO:0071307': 1, 'GO:0097028': 2, 'GO:2000533': 1, 'GO:0022832': 2, 'GO:0015280': 2, 'GO:0075509': 2, 'GO:0090153': 1, 'GO:1904221': 1, 'GO:0008455': 1, 'GO:0072660': 2, 'GO:0044065': 3, 'GO:0046745': 1, 'GO:0042340': 1, 'GO:0010767': 1, 'GO:2000615': 1, 'GO:0016453': 1, 'GO:0046356': 1, 'GO:0072229': 1, 'GO:1902860': 1, 'GO:0071528': 1, 'GO:0003211': 1, 'GO:0003357': 1, 'GO:0021782': 2, 'GO:2000761': 1, 'GO:0004493': 1, 'GO:0046491': 1, 'GO:0042445': 3, 'GO:1990778': 2, 'GO:0031543': 2, 'GO:0005248': 2, 'GO:0048763': 1, 'GO:0198738': 1, 'GO:0002133': 1, 'GO:0015271': 1, 'GO:0035502': 1, 'GO:0061333': 2, 'GO:0061441': 1, 'GO:0071910': 2, 'GO:0072075': 3, 'GO:0072164': 1, 'GO:0072177': 1, 'GO:0072208': 1, 'GO:0072214': 1, 'GO:0072218': 1, 'GO:0072219': 1, 'GO:0072235': 1, 'GO:0072284': 1, 'GO:0045180': 2, 'GO:0044284': 1, 'GO:0004576': 2, 'GO:0004579': 2, 'GO:0043686': 2, 'GO:0035000': 1, 'GO:0034439': 1, 'GO:0090077': 1, 'GO:0090308': 2, 'GO:0008627': 1, 'GO:0120053': 1, 'GO:0070407': 1, 'GO:1901877': 1, 'GO:1901895': 1, 'GO:0045344': 1, 'GO:0031134': 1, 'GO:1900363': 2, 'GO:0090646': 1, 'GO:0043813': 1, 'GO:0001054': 2, 'GO:1904750': 1, 'GO:0043849': 1, 'GO:0031228': 1, 'GO:0002178': 1, 'GO:0004658': 2, 'GO:0032561': 1, 'GO:0032814': 1, 'GO:0000350': 1, 'GO:0071021': 1, 'GO:1904021': 1, 'GO:1905553': 1, 'GO:0060399': 1, 'GO:1904694': 3, 'GO:0019840': 1, 'GO:1905584': 1, 'GO:0034772': 2, 'GO:0034770': 2, 'GO:0016891': 3, 'GO:0090624': 1, 'GO:0070551': 1, 'GO:0045975': 1, 'GO:0090625': 1, 'GO:1990108': 3, 'GO:1905381': 1, 'GO:0001691': 1, 'GO:0034702': 1, 'GO:0005225': 1, 'GO:0033316': 1, 'GO:1903096': 1, 'GO:0061736': 1, 'GO:0061753': 1, 'GO:0071211': 1, 'GO:0001652': 5, 'GO:1904571': 1, 'GO:0000461': 1, 'GO:0039535': 1, 'GO:0019254': 1, 'GO:0045329': 1, 'GO:0051793': 2, 'GO:0016971': 3, 'GO:0140537': 3, 'GO:0006597': 1, 'GO:0016768': 1, 'GO:0008215': 1, 'GO:0034203': 1, 'GO:1903999': 2, 'GO:0035859': 1, 'GO:0110155': 1, 'GO:1990547': 1, 'GO:0015347': 2, 'GO:0042403': 1, 'GO:0055087': 3, 'GO:0070478': 1, 'GO:0070977': 1, 'GO:0048534': 1, 'GO:0035359': 1, 'GO:0035564': 1, 'GO:0140625': 1, 'GO:0003948': 1, 'GO:0060232': 1, 'GO:0060234': 1, 'GO:0048213': 1, 'GO:2000657': 1, 'GO:0043185': 1, 'GO:0030947': 1, 'GO:0071622': 1, 'GO:0035755': 1, 'GO:0030719': 1, 'GO:0048219': 1, 'GO:0060817': 1, 'GO:0001827': 1, 'GO:0034972': 1, 'GO:1902093': 1, 'GO:1904261': 2, 'GO:0031592': 1, 'GO:1901723': 1, 'GO:1901859': 1, 'GO:1901862': 1, 'GO:1903444': 1, 'GO:2000003': 1, 'GO:0016918': 2, 'GO:0019841': 2, 'GO:0005501': 2, 'GO:0034653': 1, 'GO:0006041': 3, 'GO:0051099': 5, 'GO:0030852': 2, 'GO:0060010': 1, 'GO:0006113': 1, 'GO:0003008': 1, 'GO:0014051': 1, 'GO:0021750': 1, 'GO:0001505': 2, 'GO:0050883': 1, 'GO:0048791': 1, 'GO:0017158': 1, 'GO:0014056': 1, 'GO:0021590': 1, 'GO:0021679': 1, 'GO:0031335': 1, 'GO:0032353': 1, 'GO:0140571': 1, 'GO:0071283': 2, 'GO:0072705': 1, 'GO:0002865': 1, 'GO:2000110': 1, 'GO:0030293': 1, 'GO:0001547': 1, 'GO:0001544': 1, 'GO:0014737': 1, 'GO:0006639': 1, 'GO:0050265': 3, 'GO:1990074': 2, 'GO:0002196': 1, 'GO:0140018': 1, 'GO:0071442': 1, 'GO:0015770': 1, 'GO:0008506': 1, 'GO:0070782': 3, 'GO:0097237': 1, 'GO:0030473': 1, 'GO:0106073': 1, 'GO:0016661': 2, 'GO:0001512': 1, 'GO:1904408': 1, 'GO:1905594': 1, 'GO:1901662': 1, 'GO:0047341': 1, 'GO:0051786': 1, 'GO:0036124': 3, 'GO:1903580': 1, 'GO:0031295': 4, 'GO:0002863': 3, 'GO:0034107': 1, 'GO:0034119': 1, 'GO:0042103': 1, 'GO:0046014': 1, 'GO:0001959': 1, 'GO:0032597': 1, 'GO:0032600': 1, 'GO:0032913': 1, 'GO:0099631': 1, 'GO:0004610': 1, 'GO:1902669': 1, 'GO:0051729': 1, 'GO:0004634': 3, 'GO:0000015': 3, 'GO:0018206': 1, 'GO:0031365': 1, 'GO:0070191': 1, 'GO:0048755': 1, 'GO:0021942': 3, 'GO:0021691': 2, 'GO:0003290': 1, 'GO:0051084': 2, 'GO:0017172': 1, 'GO:0099536': 2, 'GO:0048840': 1, 'GO:0019883': 1, 'GO:1902617': 2, 'GO:0002577': 1, 'GO:0032823': 1, 'GO:0033082': 1, 'GO:0051136': 1, 'GO:1990654': 1, 'GO:0048869': 1, 'GO:0032075': 1, 'GO:0035093': 1, 'GO:0070346': 1, 'GO:0060513': 1, 'GO:0021965': 1, 'GO:0046882': 1, 'GO:0043513': 1, 'GO:0060279': 1, 'GO:0032686': 1, 'GO:0004825': 2, 'GO:0006431': 2, 'GO:0050805': 3, 'GO:0007213': 2, 'GO:0001973': 1, 'GO:1903614': 2, 'GO:0004377': 1, 'GO:0006490': 4, 'GO:1990172': 1, 'GO:2000209': 1, 'GO:0045244': 2, 'GO:0009361': 1, 'GO:0030905': 2, 'GO:0005863': 1, 'GO:0007014': 1, 'GO:1903883': 1, 'GO:1903886': 1, 'GO:1902173': 1, 'GO:0065004': 1, 'GO:0030397': 1, 'GO:1904177': 1, 'GO:2000312': 1, 'GO:0031640': 4, 'GO:0051798': 2, 'GO:0042602': 1, 'GO:0072572': 1, 'GO:0019948': 2, 'GO:0031510': 2, 'GO:0016653': 2, 'GO:0060566': 1, 'GO:2000144': 2, 'GO:2000806': 1, 'GO:0031699': 1, 'GO:0031651': 1, 'GO:0071878': 1, 'GO:0090327': 1, 'GO:1905369': 1, 'GO:0080154': 1, 'GO:0040034': 1, 'GO:0031058': 1, 'GO:0031372': 1, 'GO:0035370': 1, 'GO:0050851': 1, 'GO:0150020': 1, 'GO:0099179': 2, 'GO:0150019': 1, 'GO:0044308': 2, 'GO:0005969': 1, 'GO:0048371': 1, 'GO:0036285': 1, 'GO:1990575': 1, 'GO:0043175': 2, 'GO:0060422': 1, 'GO:2000050': 1, 'GO:0010171': 1, 'GO:0072111': 1, 'GO:0072180': 1, 'GO:0070267': 1, 'GO:0060544': 3, 'GO:0007284': 2, 'GO:0098508': 1, 'GO:0043461': 1, 'GO:0140563': 1, 'GO:0010650': 1, 'GO:0043266': 1, 'GO:1900827': 1, 'GO:0035853': 1, 'GO:0034085': 1, 'GO:1904976': 2, 'GO:1990700': 1, 'GO:0051595': 1, 'GO:1901675': 2, 'GO:0120094': 1, 'GO:0004824': 1, 'GO:0006430': 1, 'GO:0003877': 1, 'GO:0035976': 1, 'GO:0014853': 1, 'GO:0061725': 1, 'GO:1905693': 1, 'GO:0010739': 4, 'GO:0002141': 1, 'GO:1990696': 1, 'GO:0002142': 1, 'GO:0010855': 1, 'GO:0005163': 1, 'GO:0001674': 2, 'GO:0061026': 1, 'GO:1904293': 1, 'GO:0071796': 1, 'GO:1904855': 1, 'GO:0032376': 1, 'GO:0048550': 1, 'GO:0090187': 1, 'GO:0090340': 1, 'GO:0038100': 1, 'GO:1900108': 2, 'GO:1900124': 1, 'GO:0016176': 2, 'GO:0060378': 1, 'GO:0004365': 1, 'GO:0051873': 1, 'GO:0035605': 1, 'GO:0035606': 1, 'GO:0005608': 2, 'GO:0033961': 1, 'GO:0034312': 1, 'GO:0033919': 1, 'GO:0015926': 1, 'GO:0061588': 2, 'GO:0002407': 2, 'GO:0061590': 2, 'GO:0061591': 2, 'GO:0061589': 2, 'GO:0002543': 1, 'GO:0035590': 1, 'GO:0097045': 1, 'GO:1903766': 1, 'GO:0061386': 1, 'GO:0042978': 1, 'GO:1902269': 1, 'GO:0015018': 1, 'GO:0050651': 1, 'GO:0047325': 1, 'GO:0052725': 1, 'GO:0052726': 1, 'GO:0000825': 2, 'GO:0034138': 4, 'GO:0034162': 3, 'GO:0006323': 2, 'GO:0034477': 2, 'GO:0097026': 1, 'GO:0052925': 1, 'GO:0000033': 3, 'GO:0060693': 1, 'GO:0061138': 1, 'GO:0097493': 2, 'GO:1905686': 3, 'GO:0051882': 1, 'GO:2000645': 1, 'GO:1905017': 1, 'GO:1905020': 1, 'GO:1905023': 1, 'GO:2000435': 4, 'GO:0004047': 2, 'GO:0008612': 2, 'GO:0034038': 1, 'GO:0008216': 1, 'GO:0046203': 1, 'GO:0003860': 1, 'GO:0090367': 2, 'GO:0003415': 2, 'GO:0007567': 2, 'GO:0002485': 2, 'GO:0008582': 2, 'GO:0072107': 2, 'GO:0072513': 2, 'GO:1905243': 1, 'GO:0061055': 3, 'GO:0061197': 2, 'GO:0072095': 2, 'GO:0007382': 1, 'GO:0021610': 1, 'GO:2000729': 1, 'GO:0014857': 1, 'GO:0072172': 1, 'GO:0098528': 1, 'GO:0001562': 1, 'GO:0001808': 1, 'GO:0032609': 1, 'GO:0051386': 2, 'GO:0045123': 2, 'GO:2000403': 1, 'GO:0098907': 1, 'GO:0098910': 1, 'GO:0086015': 1, 'GO:2001257': 1, 'GO:0036309': 1, 'GO:0036371': 1, 'GO:0086066': 1, 'GO:0086070': 1, 'GO:1901019': 1, 'GO:1901021': 1, 'GO:0052906': 1, 'GO:0048250': 1, 'GO:1904019': 1, 'GO:0035553': 2, 'GO:1990931': 2, 'GO:0140112': 1, 'GO:0070069': 2, 'GO:0006784': 2, 'GO:0060161': 1, 'GO:0099074': 1, 'GO:0099639': 1, 'GO:1902823': 1, 'GO:2000331': 2, 'GO:0061357': 2, 'GO:0032463': 1, 'GO:0090326': 1, 'GO:1903828': 2, 'GO:0034998': 1, 'GO:0150078': 1, 'GO:0002316': 1, 'GO:0030119': 1, 'GO:0044599': 2, 'GO:0034464': 3, 'GO:0097017': 1, 'GO:0002385': 1, 'GO:0004476': 1, 'GO:0061611': 1, 'GO:0061619': 1, 'GO:0043654': 2, 'GO:0033746': 1, 'GO:0070815': 1, 'GO:0018395': 1, 'GO:0070078': 1, 'GO:0004021': 1, 'GO:0042851': 1, 'GO:0042853': 1, 'GO:0000254': 1, 'GO:0048495': 3, 'GO:0051414': 2, 'GO:0061364': 2, 'GO:0016964': 1, 'GO:1905167': 2, 'GO:0047840': 1, 'GO:0006253': 1, 'GO:0070716': 1, 'GO:0034434': 1, 'GO:1903699': 1, 'GO:0016215': 1, 'GO:0016053': 1, 'GO:0016074': 1, 'GO:1990259': 1, 'GO:0004671': 1, 'GO:0046498': 1, 'GO:0046499': 1, 'GO:0000706': 1, 'GO:0033557': 1, 'GO:0036139': 1, 'GO:0036140': 1, 'GO:0102113': 1, 'GO:0036138': 1, 'GO:0042265': 1, 'GO:0007181': 1, 'GO:1990166': 1, 'GO:0048269': 2, 'GO:0048270': 1, 'GO:1905537': 1, 'GO:1905612': 1, 'GO:1905696': 1, 'GO:0004371': 1, 'GO:0034012': 1, 'GO:0061624': 1, 'GO:0061625': 1, 'GO:0050354': 1, 'GO:0042997': 2, 'GO:1901480': 2, 'GO:1990379': 2, 'GO:0001579': 2, 'GO:0044381': 2, 'GO:0090433': 1, 'GO:0062003': 1, 'GO:0060819': 1, 'GO:0003349': 1, 'GO:0016262': 2, 'GO:0097363': 2, 'GO:0097370': 1, 'GO:0097163': 1, 'GO:0032473': 1, 'GO:0010724': 2, 'GO:0060575': 1, 'GO:0030692': 2, 'GO:0093001': 1, 'GO:0008443': 1, 'GO:0120161': 2, 'GO:0000140': 1, 'GO:0004475': 1, 'GO:0072197': 1, 'GO:0051255': 1, 'GO:0060682': 1, 'GO:0046934': 2, 'GO:0052812': 2, 'GO:0000823': 1, 'GO:0000824': 1, 'GO:0047326': 1, 'GO:0051765': 1, 'GO:0097243': 2, 'GO:0102732': 1, 'GO:0050185': 1, 'GO:0006505': 2, 'GO:0140444': 3, 'GO:0021817': 3, 'GO:0031022': 2, 'GO:0030144': 1, 'GO:0005922': 5, 'GO:0060371': 1, 'GO:0010649': 1, 'GO:0005243': 6, 'GO:2000987': 1, 'GO:0010644': 1, 'GO:0003294': 1, 'GO:0010643': 1, 'GO:0060156': 1, 'GO:0055077': 1, 'GO:0086075': 1, 'GO:1903763': 1, 'GO:0002544': 1, 'GO:0010232': 1, 'GO:0010652': 1, 'GO:0086064': 1, 'GO:0099111': 1, 'GO:0032277': 1, 'GO:1905332': 2, 'GO:1905772': 1, 'GO:1990174': 1, 'GO:0042284': 1, 'GO:0050251': 1, 'GO:0042923': 2, 'GO:0010897': 1, 'GO:0038020': 1, 'GO:1900168': 1, 'GO:1902771': 1, 'GO:1902948': 1, 'GO:1902955': 1, 'GO:1902963': 2, 'GO:1902997': 1, 'GO:0000248': 1, 'GO:0050046': 1, 'GO:0033490': 1, 'GO:0042138': 1, 'GO:0097552': 1, 'GO:0140569': 1, 'GO:0001696': 1, 'GO:2000138': 2, 'GO:1901228': 1, 'GO:0003231': 2, 'GO:1901227': 1, 'GO:0070915': 2, 'GO:0051580': 2, 'GO:0002037': 1, 'GO:1905224': 2, 'GO:0004331': 1, 'GO:0006003': 1, 'GO:0004083': 1, 'GO:0043456': 1, 'GO:1902153': 1, 'GO:1903301': 1, 'GO:0042596': 1, 'GO:0030202': 2, 'GO:0062094': 1, 'GO:0002067': 1, 'GO:0002524': 1, 'GO:0003128': 1, 'GO:0036339': 1, 'GO:0060506': 1, 'GO:0060792': 1, 'GO:0061974': 1, 'GO:0071503': 1, 'GO:0072498': 1, 'GO:0097021': 2, 'GO:0098868': 1, 'GO:1901706': 1, 'GO:1990823': 1, 'GO:0022829': 1, 'GO:0022840': 1, 'GO:0007023': 5, 'GO:0021506': 1, 'GO:0071045': 1, 'GO:0015803': 3, 'GO:0034499': 1, 'GO:0070861': 1, 'GO:0055082': 1, 'GO:0002711': 1, 'GO:2000176': 1, 'GO:0070336': 1, 'GO:0000406': 1, 'GO:0042048': 4, 'GO:0071907': 2, 'GO:0035469': 1, 'GO:0035545': 1, 'GO:0006294': 1, 'GO:0060708': 3, 'GO:0043369': 1, 'GO:2000493': 1, 'GO:0010482': 1, 'GO:0033003': 1, 'GO:0001555': 1, 'GO:0055069': 3, 'GO:0050544': 1, 'GO:0004376': 3, 'GO:0031501': 1, 'GO:0090038': 4, 'GO:0071875': 2, 'GO:1900169': 1, 'GO:0060297': 1, 'GO:0086023': 1, 'GO:0120325': 1, 'GO:2000616': 2, 'GO:0032483': 5, 'GO:2000257': 1, 'GO:0019060': 1, 'GO:0016596': 1, 'GO:0046549': 1, 'GO:2000298': 1, 'GO:0007632': 1, 'GO:2000384': 1, 'GO:0036292': 1, 'GO:0001951': 2, 'GO:1902896': 2, 'GO:0098592': 2, 'GO:0004745': 1, 'GO:0102354': 1, 'GO:0016062': 1, 'GO:0033721': 1, 'GO:0098703': 1, 'GO:0050966': 4, 'GO:0060450': 1, 'GO:1901082': 1, 'GO:0098970': 1, 'GO:0099590': 2, 'GO:0016011': 1, 'GO:0016203': 1, 'GO:0021682': 1, 'GO:0018064': 2, 'GO:0018021': 1, 'GO:0030047': 1, 'GO:0070472': 1, 'GO:0060631': 1, 'GO:0004578': 1, 'GO:0008852': 1, 'GO:0043111': 2, 'GO:0016185': 1, 'GO:1902803': 1, 'GO:1902959': 1, 'GO:0098894': 1, 'GO:0070481': 1, 'GO:0070651': 1, 'GO:0071025': 1, 'GO:0099013': 1, 'GO:0051450': 1, 'GO:0019372': 2, 'GO:0047066': 2, 'GO:0009609': 1, 'GO:0045127': 1, 'GO:0009384': 1, 'GO:0004950': 1, 'GO:0019957': 2, 'GO:0038147': 1, 'GO:0008038': 1, 'GO:0022029': 2, 'GO:0038160': 2, 'GO:0050792': 1, 'GO:1990478': 1, 'GO:0102524': 1, 'GO:0031591': 2, 'GO:1903754': 1, 'GO:0002071': 1, 'GO:1903810': 1, 'GO:0008174': 1, 'GO:0070721': 1, 'GO:0015942': 1, 'GO:0046851': 1, 'GO:0014034': 1, 'GO:0090246': 1, 'GO:0044345': 1, 'GO:2000080': 1, 'GO:0031685': 1, 'GO:0030151': 2, 'GO:0043546': 2, 'GO:0008940': 1, 'GO:0098809': 1, 'GO:0010522': 1, 'GO:0032938': 1, 'GO:0090036': 1, 'GO:0061870': 1, 'GO:1900143': 1, 'GO:0033925': 1, 'GO:0046920': 2, 'GO:0008983': 1, 'GO:0051998': 1, 'GO:0097023': 1, 'GO:0103026': 1, 'GO:0032093': 1, 'GO:0048584': 1, 'GO:0019958': 2, 'GO:2001200': 1, 'GO:0017055': 1, 'GO:0045819': 1, 'GO:0000401': 1, 'GO:0000402': 1, 'GO:0010858': 1, 'GO:0002270': 1, 'GO:0002840': 1, 'GO:0032072': 1, 'GO:0032425': 1, 'GO:0043371': 2, 'GO:0045063': 2, 'GO:2000426': 1, 'GO:0006566': 1, 'GO:0004617': 1, 'GO:0060121': 1, 'GO:0070566': 1, 'GO:0034062': 1, 'GO:2000626': 1, 'GO:1990603': 1, 'GO:0048677': 1, 'GO:0072249': 1, 'GO:0072274': 1, 'GO:0004828': 2, 'GO:0006434': 2, 'GO:0097056': 3, 'GO:0070158': 1, 'GO:0032487': 2, 'GO:0010968': 1, 'GO:0001765': 3, 'GO:0032226': 2, 'GO:0033227': 1, 'GO:0044854': 1, 'GO:1901890': 1, 'GO:1903044': 1, 'GO:0098691': 1, 'GO:0072675': 3, 'GO:1902683': 1, 'GO:0019857': 1, 'GO:0035511': 2, 'GO:0034224': 1, 'GO:0045686': 1, 'GO:1901724': 1, 'GO:1990827': 1, 'GO:0043734': 2, 'GO:0070350': 1, 'GO:0015658': 1, 'GO:0035054': 1, 'GO:0099606': 1, 'GO:0099607': 1, 'GO:0034241': 1, 'GO:0031233': 1, 'GO:0004581': 1, 'GO:0004421': 1, 'GO:0010142': 1, 'GO:0043177': 1, 'GO:1904766': 1, 'GO:2001206': 1, 'GO:0010348': 1, 'GO:0030055': 3, 'GO:0008065': 1, 'GO:0021629': 1, 'GO:0060857': 1, 'GO:0014809': 1, 'GO:0014819': 1, 'GO:0086001': 1, 'GO:0090257': 1, 'GO:0090287': 1, 'GO:0071275': 1, 'GO:1905672': 1, 'GO:0033045': 1, 'GO:0043007': 2, 'GO:0048698': 1, 'GO:1990462': 1, 'GO:0030049': 3, 'GO:0016461': 3, 'GO:1905795': 1, 'GO:0031439': 1, 'GO:2000975': 1, 'GO:0031544': 1, 'GO:0016859': 1, 'GO:0060296': 2, 'GO:0038108': 1, 'GO:0097450': 2, 'GO:0055073': 1, 'GO:2000296': 1, 'GO:2000376': 1, 'GO:0071247': 1, 'GO:1905273': 1, 'GO:1905706': 1, 'GO:1903069': 1, 'GO:0034342': 1, 'GO:0075523': 1, 'GO:2001125': 1, 'GO:0003975': 1, 'GO:0008963': 1, 'GO:1904290': 1, 'GO:0033878': 1, 'GO:0034338': 1, 'GO:0008126': 1, 'GO:0031943': 1, 'GO:0090035': 1, 'GO:0031371': 1, 'GO:0000213': 2, 'GO:0032808': 1, 'GO:0004418': 1, 'GO:0018160': 1, 'GO:0004852': 1, 'GO:0043176': 1, 'GO:0008556': 2, 'GO:0045823': 2, 'GO:0031402': 3, 'GO:1990239': 1, 'GO:0031947': 1, 'GO:0045989': 1, 'GO:0008376': 4, 'GO:0036509': 2, 'GO:0003105': 1, 'GO:0007529': 1, 'GO:0099553': 1, 'GO:1900134': 1, 'GO:0014889': 1, 'GO:0051750': 1, 'GO:0004001': 1, 'GO:0006175': 1, 'GO:0035612': 5, 'GO:0072665': 1, 'GO:0047057': 2, 'GO:0017187': 3, 'GO:0047058': 1, 'GO:0016900': 2, 'GO:0045623': 1, 'GO:0002635': 1, 'GO:1900151': 1, 'GO:1903382': 1, 'GO:0033141': 1, 'GO:0004577': 1, 'GO:0008482': 1, 'GO:0015019': 1, 'GO:0004792': 2, 'GO:0051029': 1, 'GO:0019200': 1, 'GO:0016784': 1, 'GO:0031619': 1, 'GO:0033593': 1, 'GO:0097010': 2, 'GO:0034057': 2, 'GO:0060746': 1, 'GO:0140560': 1, 'GO:1903259': 1, 'GO:0004743': 1, 'GO:0042866': 1, 'GO:1902912': 1, 'GO:0016287': 1, 'GO:0120323': 1, 'GO:0031687': 1, 'GO:0032361': 1, 'GO:0030395': 1, 'GO:0034120': 1, 'GO:1990724': 1, 'GO:0044053': 1, 'GO:2000109': 1, 'GO:0099029': 1, 'GO:0044860': 1, 'GO:0098937': 1, 'GO:1903905': 1, 'GO:0004727': 1, 'GO:0009789': 1, 'GO:0015098': 1, 'GO:0015689': 1, 'GO:0120044': 1, 'GO:0038036': 2, 'GO:0008528': 1, 'GO:0036364': 1, 'GO:0001882': 1, 'GO:0052403': 1, 'GO:0021800': 1, 'GO:0021960': 2, 'GO:0060386': 1, 'GO:0034154': 1, 'GO:0031013': 1, 'GO:0060590': 1, 'GO:0008352': 1, 'GO:0042268': 1, 'GO:0120114': 1, 'GO:1904841': 1, 'GO:1990972': 1, 'GO:0051307': 1, 'GO:0000280': 1, 'GO:0098813': 1, 'GO:0035731': 2, 'GO:0051122': 4, 'GO:1901687': 3, 'GO:0035730': 2, 'GO:0002674': 1, 'GO:0009890': 2, 'GO:0070664': 1, 'GO:0071460': 1, 'GO:2000429': 1, 'GO:2000469': 1, 'GO:0070319': 1, 'GO:0044406': 3, 'GO:0002291': 1, 'GO:0002457': 1, 'GO:0072683': 1, 'GO:0070164': 2, 'GO:0031552': 1, 'GO:0071140': 1, 'GO:0070304': 1, 'GO:0032807': 1, 'GO:0051102': 1, 'GO:2001252': 1, 'GO:1904768': 1, 'GO:0002138': 1, 'GO:0003017': 1, 'GO:0055017': 1, 'GO:0090271': 1, 'GO:1905709': 1, 'GO:0045875': 1, 'GO:0005272': 2, 'GO:0005242': 1, 'GO:1902937': 1, 'GO:0042774': 1, 'GO:1902616': 1, 'GO:0015227': 1, 'GO:1902603': 1, 'GO:0015450': 1, 'GO:1905242': 1, 'GO:0016031': 1, 'GO:0045218': 3, 'GO:0097402': 1, 'GO:0005175': 1, 'GO:0043604': 1, 'GO:2000275': 1, 'GO:0061885': 1, 'GO:0000732': 1, 'GO:0090657': 1, 'GO:1904506': 1, 'GO:1904535': 1, 'GO:0097227': 2, 'GO:0031702': 3, 'GO:0032819': 1, 'GO:0051142': 1, 'GO:2000318': 1, 'GO:0042022': 1, 'GO:0072536': 1, 'GO:0102158': 2, 'GO:0102343': 2, 'GO:0102344': 2, 'GO:0102345': 2, 'GO:0080023': 1, 'GO:0061614': 1, 'GO:0002192': 1, 'GO:0005943': 2, 'GO:0140289': 2, 'GO:1902216': 1, 'GO:1904713': 1, 'GO:0008170': 1, 'GO:0016275': 1, 'GO:0030519': 1, 'GO:0003868': 1, 'GO:0016701': 1, 'GO:0060147': 1, 'GO:0035780': 1, 'GO:0035781': 1, 'GO:1904407': 1, 'GO:0005587': 2, 'GO:0090730': 1, 'GO:0120199': 1, 'GO:1990838': 1, 'GO:0070443': 1, 'GO:0065001': 1, 'GO:0070171': 1, 'GO:0140261': 1, 'GO:2000253': 1, 'GO:1905793': 2, 'GO:0042827': 1, 'GO:0034247': 1, 'GO:0018364': 1, 'GO:0008419': 1, 'GO:0036404': 1, 'GO:1904899': 1, 'GO:1905818': 1, 'GO:0017061': 1, 'GO:0043949': 1, 'GO:0090292': 2, 'GO:0032375': 1, 'GO:0010900': 1, 'GO:0034369': 1, 'GO:0045833': 1, 'GO:0060137': 2, 'GO:0070698': 2, 'GO:1900164': 2, 'GO:0002085': 1, 'GO:0010085': 1, 'GO:0010721': 1, 'GO:0033505': 1, 'GO:0048327': 1, 'GO:0060460': 1, 'GO:0060802': 1, 'GO:0090010': 1, 'GO:1901383': 1, 'GO:0052751': 1, 'GO:0047453': 1, 'GO:0052855': 1, 'GO:0004757': 1, 'GO:0015269': 1, 'GO:0042447': 2, 'GO:0008495': 1, 'GO:0098918': 1, 'GO:0099189': 1, 'GO:1990953': 1, 'GO:0120212': 1, 'GO:0060973': 1, 'GO:0030849': 1, 'GO:0004611': 1, 'GO:0004613': 1, 'GO:0019543': 1, 'GO:0046327': 1, 'GO:1903676': 1, 'GO:0033184': 1, 'GO:0010725': 1, 'GO:0046098': 1, 'GO:2000208': 1, 'GO:0004343': 1, 'GO:1990617': 1, 'GO:0043267': 2, 'GO:2000120': 1, 'GO:0070982': 1, 'GO:0035505': 1, 'GO:0021602': 1, 'GO:0061371': 3, 'GO:0003156': 1, 'GO:0035802': 1, 'GO:0060971': 2, 'GO:0042666': 1, 'GO:0002353': 1, 'GO:0033005': 1, 'GO:0042271': 3, 'GO:0002860': 2, 'GO:0032990': 1, 'GO:0051654': 1, 'GO:0002891': 1, 'GO:0046814': 1, 'GO:0060370': 2, 'GO:0010046': 2, 'GO:0009317': 1, 'GO:0006867': 1, 'GO:0015182': 1, 'GO:0015191': 1, 'GO:0015821': 1, 'GO:0089709': 1, 'GO:0046548': 1, 'GO:0016212': 2, 'GO:0097052': 2, 'GO:0071846': 1, 'GO:0061920': 1, 'GO:0106226': 1, 'GO:0120300': 1, 'GO:0120301': 1, 'GO:0140068': 1, 'GO:0140069': 1, 'GO:0002209': 1, 'GO:0006475': 1, 'GO:0036268': 1, 'GO:0061921': 1, 'GO:0140066': 1, 'GO:0140067': 1, 'GO:1905636': 3, 'GO:0050913': 1, 'GO:0050917': 1, 'GO:0050916': 1, 'GO:0043533': 1, 'GO:0060402': 1, 'GO:0060836': 2, 'GO:0060841': 2, 'GO:1905314': 1, 'GO:0002023': 1, 'GO:0021853': 1, 'GO:0031133': 1, 'GO:0010769': 1, 'GO:0060168': 1, 'GO:0045163': 1, 'GO:0071206': 1, 'GO:0097090': 1, 'GO:0071585': 1, 'GO:0010312': 1, 'GO:0071584': 1, 'GO:0004346': 1, 'GO:0090245': 1, 'GO:0008545': 1, 'GO:0045064': 1, 'GO:0019730': 1, 'GO:0032996': 1, 'GO:0120220': 1, 'GO:0099143': 1, 'GO:0099106': 1, 'GO:0043269': 1, 'GO:0003365': 1, 'GO:0099504': 1, 'GO:0060912': 1, 'GO:0019371': 1, 'GO:0034381': 2, 'GO:0010899': 2, 'GO:0001875': 1, 'GO:0015920': 1, 'GO:0032497': 1, 'GO:0097198': 2, 'GO:1901194': 1, 'GO:0030527': 2, 'GO:0080048': 1, 'GO:0047220': 1, 'GO:0010640': 1, 'GO:0051780': 1, 'GO:0032374': 1, 'GO:0036137': 1, 'GO:0047315': 1, 'GO:0047804': 1, 'GO:0070189': 1, 'GO:0097053': 1, 'GO:0036518': 1, 'GO:1904953': 1, 'GO:0033278': 1, 'GO:0046964': 1, 'GO:0046963': 1, 'GO:1902559': 1, 'GO:0042283': 1, 'GO:0140681': 1, 'GO:0047464': 1, 'GO:0050379': 1, 'GO:0017122': 1, 'GO:0034756': 2, 'GO:0030120': 2, 'GO:0010814': 1, 'GO:0010816': 1, 'GO:0034959': 1, 'GO:0033093': 2, 'GO:0060385': 1, 'GO:0097492': 1, 'GO:0035373': 1, 'GO:0004875': 1, 'GO:0097004': 1, 'GO:0019780': 1, 'GO:0060400': 2, 'GO:0060743': 1, 'GO:0051438': 1, 'GO:1905114': 1, 'GO:1990439': 1, 'GO:0001573': 1, 'GO:1902856': 2, 'GO:1904743': 1, 'GO:0040010': 1, 'GO:1901668': 1, 'GO:0048874': 1, 'GO:0070290': 1, 'GO:0102200': 1, 'GO:0004741': 1, 'GO:1904184': 1, 'GO:0048483': 1, 'GO:0030917': 1, 'GO:0021568': 1, 'GO:1901622': 1, 'GO:0033691': 1, 'GO:1903277': 1, 'GO:1903407': 1, 'GO:2000541': 1, 'GO:0015015': 2, 'GO:0060676': 1, 'GO:0004394': 1, 'GO:0035092': 1, 'GO:0048160': 1, 'GO:0070098': 1, 'GO:0016493': 1, 'GO:0016494': 1, 'GO:0061511': 2, 'GO:0030954': 1, 'GO:0034763': 1, 'GO:0042509': 1, 'GO:0032401': 1, 'GO:0008057': 1, 'GO:0043482': 1, 'GO:0042543': 1, 'GO:1903778': 1, 'GO:0032173': 1, 'GO:0045026': 1, 'GO:0032982': 1, 'GO:0043378': 1, 'GO:0016513': 1, 'GO:0071566': 1, 'GO:1901203': 1, 'GO:0010694': 1, 'GO:0031962': 1, 'GO:0061767': 1, 'GO:0006392': 1, 'GO:0042310': 2, 'GO:0060977': 2, 'GO:1990699': 1, 'GO:1990697': 1, 'GO:1990444': 1, 'GO:0051747': 1, 'GO:0042038': 1, 'GO:0030072': 1, 'GO:0021539': 1, 'GO:0021548': 1, 'GO:0032197': 1, 'GO:1902954': 1, 'GO:0034596': 1, 'GO:0017095': 1, 'GO:0015888': 1, 'GO:0071934': 1, 'GO:0051033': 2, 'GO:0035650': 1, 'GO:0051032': 1, 'GO:0060421': 1, 'GO:0090389': 1, 'GO:0003980': 1, 'GO:0097359': 1, 'GO:0071650': 1, 'GO:1901028': 1, 'GO:0044357': 1, 'GO:0035281': 1, 'GO:1900370': 1, 'GO:0000294': 2, 'GO:0032201': 1, 'GO:1990513': 1, 'GO:0090403': 2, 'GO:2001016': 2, 'GO:0001056': 1, 'GO:0002503': 1, 'GO:0002481': 1, 'GO:1904434': 1, 'GO:1904437': 1, 'GO:0016920': 1, 'GO:0043271': 1, 'GO:0018025': 1, 'GO:0061654': 1, 'GO:2000380': 1, 'GO:0099550': 1, 'GO:0004307': 2, 'GO:0004142': 1, 'GO:0047359': 1, 'GO:0044214': 1, 'GO:0034706': 1, 'GO:0086048': 1, 'GO:0086047': 1, 'GO:0086045': 1, 'GO:1903949': 1, 'GO:1904199': 1, 'GO:0089717': 1, 'GO:0003919': 1, 'GO:0006747': 1, 'GO:0042281': 1, 'GO:0004496': 1, 'GO:0050038': 1, 'GO:0005997': 1, 'GO:0042023': 1, 'GO:1990261': 1, 'GO:1990839': 1, 'GO:0048408': 2, 'GO:0090322': 1, 'GO:0070435': 1, 'GO:0070694': 1, 'GO:0009159': 1, 'GO:0051341': 1, 'GO:0061863': 1, 'GO:0070274': 1, 'GO:1901253': 1, 'GO:0002737': 1, 'GO:0019075': 1, 'GO:0031652': 1, 'GO:0035034': 1, 'GO:0051525': 1, 'GO:1904028': 1, 'GO:1901148': 1, 'GO:2001106': 1, 'GO:0070670': 1, 'GO:1902167': 1, 'GO:1904803': 1, 'GO:0031106': 1, 'GO:1904172': 1, 'GO:0062062': 1, 'GO:0008309': 1, 'GO:0052720': 1, 'GO:0090580': 1, 'GO:0140431': 1, 'GO:0097698': 1, 'GO:0036032': 1, 'GO:0097676': 1, 'GO:1902850': 1, 'GO:0004731': 1, 'GO:0047975': 1, 'GO:0031680': 1, 'GO:0005166': 1, 'GO:0044298': 2, 'GO:0008037': 1, 'GO:0051606': 1, 'GO:1905667': 1, 'GO:0030377': 1, 'GO:0038195': 1, 'GO:1905370': 2, 'GO:0010755': 1, 'GO:0051917': 1, 'GO:0102521': 1, 'GO:0070640': 1, 'GO:0090080': 1, 'GO:2000830': 1, 'GO:0060665': 1, 'GO:2000546': 1, 'GO:0090722': 1, 'GO:0010966': 1, 'GO:0051174': 1, 'GO:0090272': 2, 'GO:1903465': 1, 'GO:2001239': 1, 'GO:0021769': 1, 'GO:0021837': 1, 'GO:0021847': 1, 'GO:0035607': 1, 'GO:0004168': 1, 'GO:0043048': 1, 'GO:0140613': 1, 'GO:0030026': 1, 'GO:0098629': 1, 'GO:0010760': 1, 'GO:0004167': 1, 'GO:0061078': 1, 'GO:0061081': 1, 'GO:0090144': 1, 'GO:0006925': 1, 'GO:0032350': 1, 'GO:0043979': 1, 'GO:0044029': 1, 'GO:0070302': 1, 'GO:1903463': 1, 'GO:1903522': 1, 'GO:2000618': 1, 'GO:2000730': 1, 'GO:0002282': 1, 'GO:0060266': 2, 'GO:1902564': 1, 'GO:1905247': 1, 'GO:1905673': 1, 'GO:0030200': 1, 'GO:0070052': 1, 'GO:0032356': 1, 'GO:1904877': 1, 'GO:0050313': 1, 'GO:0070813': 1, 'GO:0042779': 1, 'GO:0006386': 1, 'GO:2001145': 1, 'GO:0042590': 2, 'GO:0071561': 1, 'GO:0000250': 1, 'GO:0016104': 1, 'GO:0060729': 1, 'GO:0001546': 1, 'GO:0007199': 1, 'GO:0007223': 1, 'GO:0072356': 1, 'GO:0034506': 1, 'GO:0060763': 2, 'GO:2000864': 1, 'GO:0004479': 1, 'GO:0071951': 1, 'GO:0033043': 2, 'GO:0018406': 3, 'GO:0071888': 1, 'GO:1903362': 1, 'GO:1990070': 1, 'GO:0086077': 1, 'GO:0086053': 1, 'GO:0034584': 1, 'GO:0060720': 1, 'GO:0060722': 1, 'GO:0033678': 1, 'GO:1901382': 1, 'GO:0060061': 1, 'GO:1905165': 1, 'GO:0015417': 1, 'GO:0097734': 1, 'GO:1902047': 1, 'GO:1903710': 1, 'GO:1990938': 1, 'GO:2000152': 1, 'GO:0008073': 2, 'GO:1902268': 2, 'GO:0004132': 1, 'GO:0043333': 1, 'GO:0060265': 1, 'GO:0098888': 2, 'GO:1904544': 1, 'GO:0051656': 2, 'GO:0120219': 1, 'GO:1903850': 1, 'GO:1900245': 1, 'GO:0032389': 1, 'GO:0007060': 1, 'GO:0043060': 1, 'GO:0005715': 1, 'GO:0102193': 1, 'GO:0008478': 1, 'GO:0009443': 1, 'GO:1902410': 1, 'GO:0003984': 1, 'GO:0009097': 1, 'GO:0005948': 1, 'GO:1904401': 1, 'GO:0015196': 1, 'GO:1904556': 1, 'GO:0090024': 2, 'GO:0002689': 1, 'GO:0033563': 1, 'GO:0021972': 1, 'GO:0050929': 1, 'GO:0071676': 1, 'GO:0090260': 1, 'GO:0031400': 1, 'GO:0045936': 1, 'GO:0036496': 1, 'GO:0060734': 1, 'GO:1902310': 1, 'GO:1903917': 1, 'GO:0000323': 1, 'GO:0008609': 1, 'GO:0071629': 1, 'GO:0003433': 1, 'GO:0031871': 2, 'GO:0005656': 2, 'GO:0097344': 1, 'GO:1901076': 1, 'GO:0003065': 1, 'GO:0032203': 1, 'GO:0034337': 1, 'GO:0090671': 1, 'GO:1904867': 1, 'GO:2001233': 3, 'GO:0034103': 1, 'GO:1902253': 1, 'GO:0016032': 1, 'GO:0062100': 1, 'GO:1903451': 1, 'GO:1905856': 1, 'GO:1990248': 1, 'GO:1990890': 1, 'GO:0110076': 1, 'GO:0072674': 1, 'GO:0071348': 1, 'GO:0021944': 1, 'GO:0098984': 2, 'GO:0014718': 1, 'GO:0001727': 1, 'GO:0008481': 1, 'GO:0017050': 1, 'GO:0006669': 1, 'GO:0031064': 1, 'GO:0043980': 1, 'GO:0033008': 1, 'GO:0036315': 1, 'GO:0070862': 1, 'GO:1901303': 1, 'GO:1905477': 1, 'GO:0018400': 1, 'GO:0004565': 1, 'GO:0051413': 1, 'GO:0002337': 2, 'GO:0046168': 1, 'GO:0044317': 1, 'GO:0032386': 1, 'GO:0070161': 1, 'GO:1990665': 2, 'GO:0002757': 1, 'GO:0071254': 1, 'GO:0030213': 1, 'GO:1905090': 1, 'GO:0051990': 1, 'GO:1904037': 3, 'GO:0010465': 1, 'GO:0030379': 1, 'GO:0071451': 1, 'GO:0140292': 1, 'GO:0140290': 1, 'GO:0044730': 1, 'GO:0032804': 1, 'GO:1905581': 1, 'GO:1905597': 1, 'GO:1905602': 1, 'GO:1990667': 1, 'GO:0033326': 2, 'GO:0021999': 1, 'GO:1904046': 1, 'GO:0097022': 1, 'GO:0090188': 1, 'GO:0038116': 2, 'GO:0055080': 1, 'GO:0060409': 1, 'GO:0004164': 1, 'GO:0033842': 2, 'GO:0034729': 1, 'GO:0031151': 1, 'GO:1990349': 1, 'GO:0090537': 1, 'GO:0060486': 1, 'GO:1901297': 1, 'GO:0035481': 1, 'GO:0060844': 1, 'GO:0060853': 1, 'GO:0072554': 1, 'GO:0097101': 1, 'GO:1901186': 1, 'GO:0043914': 1, 'GO:0038004': 1, 'GO:0051089': 1, 'GO:0000829': 1, 'GO:0000827': 1, 'GO:0000832': 2, 'GO:0033857': 1, 'GO:0052723': 1, 'GO:0052724': 1, 'GO:0102092': 1, 'GO:0051685': 1, 'GO:0019742': 1, 'GO:1904924': 1, 'GO:0045281': 1, 'GO:0086037': 1, 'GO:0099520': 1, 'GO:0038146': 1, 'GO:1904398': 1, 'GO:0008775': 1, 'GO:0010124': 1, 'GO:0005457': 1, 'GO:0036085': 1, 'GO:0098902': 1, 'GO:0033229': 1, 'GO:1903712': 1, 'GO:0043474': 1, 'GO:0061666': 1, 'GO:0071568': 2, 'GO:0019135': 1, 'GO:0017083': 1, 'GO:1903037': 1, 'GO:1903236': 1, 'GO:0004569': 1, 'GO:2000640': 1, 'GO:0008488': 1, 'GO:0004478': 1, 'GO:0051291': 2, 'GO:0045634': 1, 'GO:0004055': 1, 'GO:0007494': 1, 'GO:0071242': 1, 'GO:0071377': 1, 'GO:0071400': 1, 'GO:0071418': 1, 'GO:0060419': 1, 'GO:0005865': 2, 'GO:0035995': 1, 'GO:0043056': 1, 'GO:0031433': 1, 'GO:0030240': 1, 'GO:0030241': 1, 'GO:0048769': 1, 'GO:1990733': 1, 'GO:0005859': 1, 'GO:0003956': 1, 'GO:0003247': 1, 'GO:1904566': 1, 'GO:1902525': 1, 'GO:0021685': 1, 'GO:0021693': 1, 'GO:1903429': 1, 'GO:0032216': 1, 'GO:1904983': 1, 'GO:0051049': 1, 'GO:0002667': 1, 'GO:0030730': 1, 'GO:0106399': 2, 'GO:0010945': 1, 'GO:0010866': 1, 'GO:0036115': 1, 'GO:0005432': 1, 'GO:0086038': 1, 'GO:1901623': 1, 'GO:0008254': 1, 'GO:0097657': 1, 'GO:0010768': 1, 'GO:0044111': 1, 'GO:0046824': 1, 'GO:0000700': 1, 'GO:0043739': 1, 'GO:1902544': 1, 'GO:0008889': 1, 'GO:0047395': 1, 'GO:0034718': 1, 'GO:0036313': 1, 'GO:1903723': 2, 'GO:0006582': 2, 'GO:0003310': 1, 'GO:0048877': 1, 'GO:1902072': 2, 'GO:0042069': 1, 'GO:0097278': 1, 'GO:0043320': 1, 'GO:1903307': 1, 'GO:0051875': 1, 'GO:0051904': 1, 'GO:0036257': 1, 'GO:1903435': 1, 'GO:0043316': 1, 'GO:0003226': 1, 'GO:0021553': 1, 'GO:0043915': 1, 'GO:0060700': 1, 'GO:0071659': 1, 'GO:0001730': 1, 'GO:0048525': 1, 'GO:0033602': 1, 'GO:0051643': 1, 'GO:0099089': 1, 'GO:0099640': 1, 'GO:0042642': 1, 'GO:1990298': 1, 'GO:0051428': 1, 'GO:0046888': 1, 'GO:0032528': 1, 'GO:0051463': 1, 'GO:0061582': 1, 'GO:0072385': 1, 'GO:0031300': 1, 'GO:0032254': 1, 'GO:0010705': 1, 'GO:0071295': 1, 'GO:0035934': 1, 'GO:0032156': 1, 'GO:0051694': 1, 'GO:2000467': 1, 'GO:0071879': 1, 'GO:0106071': 1, 'GO:1904227': 1, 'GO:0042669': 1, 'GO:0021873': 1, 'GO:0045769': 1, 'GO:0051445': 1, 'GO:0043647': 1, 'GO:1905396': 1, 'GO:1990511': 1, 'GO:0055113': 1, 'GO:1903896': 1, 'GO:0034722': 1, 'GO:0046900': 1, 'GO:0070500': 1, 'GO:0034974': 1, 'GO:0051751': 1, 'GO:1990529': 1, 'GO:0031749': 2, 'GO:0071245': 1, 'GO:0030171': 1, 'GO:0021956': 1, 'GO:0050671': 1, 'GO:0034970': 1, 'GO:0035642': 1, 'GO:0034971': 1, 'GO:0044546': 1, 'GO:1904270': 1, 'GO:0048562': 1, 'GO:0035887': 1, 'GO:0030229': 1, 'GO:0090118': 1, 'GO:1990666': 1, 'GO:0019661': 1, 'GO:0070563': 1, 'GO:0072073': 1, 'GO:1905050': 2, 'GO:0031691': 1, 'GO:0031692': 1, 'GO:0031701': 1, 'GO:0031762': 1, 'GO:0031826': 1, 'GO:0031859': 1, 'GO:0002032': 1, 'GO:0008465': 1, 'GO:0016618': 1, 'GO:0030267': 1, 'GO:0051270': 1, 'GO:1990549': 1, 'GO:0070739': 1, 'GO:0018200': 1, 'GO:0003271': 1, 'GO:2000095': 2, 'GO:0033301': 1, 'GO:0004378': 1, 'GO:0033577': 1, 'GO:0102704': 1, 'GO:0003908': 1, 'GO:0005614': 1, 'GO:0003025': 1, 'GO:0021563': 1, 'GO:0021564': 1, 'GO:0006682': 1, 'GO:0004729': 1, 'GO:0061657': 1, 'GO:0002673': 1, 'GO:0032243': 1, 'GO:0035683': 1, 'GO:0007065': 1, 'GO:0000802': 1, 'GO:0038003': 1, 'GO:0004985': 1, 'GO:0036474': 1, 'GO:0008108': 1, 'GO:0006258': 1, 'GO:0038018': 1, 'GO:0047238': 1, 'GO:0050510': 1, 'GO:0070197': 1, 'GO:0004686': 1, 'GO:0071454': 1, 'GO:1990637': 1, 'GO:0043569': 1, 'GO:0008413': 1, 'GO:0008828': 1, 'GO:0035539': 1, 'GO:0047693': 1, 'GO:0106377': 1, 'GO:0106378': 1, 'GO:0006152': 1, 'GO:0047756': 1, 'GO:0021529': 1, 'GO:0018146': 1, 'GO:0001971': 1, 'GO:0001848': 1, 'GO:0043218': 1, 'GO:0004994': 1, 'GO:0038170': 1, 'GO:0007610': 1, 'GO:0032648': 1, 'GO:0099546': 1, 'GO:0098843': 1, 'GO:0055048': 1, 'GO:1902365': 1, 'GO:1902846': 1, 'GO:0055028': 1, 'GO:1905720': 1, 'GO:0004347': 1, 'GO:0061620': 1, 'GO:0034463': 1, 'GO:0033291': 1, 'GO:0009204': 1, 'GO:0034404': 1, 'GO:1901292': 1, 'GO:0035870': 1, 'GO:0006193': 1, 'GO:0005372': 1, 'GO:0015252': 1, 'GO:0046715': 1, 'GO:0030003': 1, 'GO:0035445': 1, 'GO:0046713': 1, 'GO:2000739': 1, 'GO:0002030': 1, 'GO:0060466': 1, 'GO:0102009': 1, 'GO:0044377': 1, 'GO:0001067': 1, 'GO:0017117': 1, 'GO:0100026': 1, 'GO:0036508': 1, 'GO:0099010': 1, 'GO:0015938': 1, 'GO:0044580': 1, 'GO:1901289': 1, 'GO:1902858': 1, 'GO:2001294': 1, 'GO:0031380': 1, 'GO:0045069': 1, 'GO:0061944': 1, 'GO:1903901': 1, 'GO:0035544': 1, 'GO:0003696': 1, 'GO:0042720': 1, 'GO:0035491': 1, 'GO:0051918': 1, 'GO:0061044': 1, 'GO:1901331': 1, 'GO:1990410': 1, 'GO:0097643': 1, 'GO:0038041': 1, 'GO:0150058': 1, 'GO:0001605': 1, 'GO:1903143': 1, 'GO:0086103': 1, 'GO:0033484': 1, 'GO:0047402': 1, 'GO:0061659': 1, 'GO:0016500': 1, 'GO:2001013': 1, 'GO:0061290': 1, 'GO:0072202': 1, 'GO:0072224': 1, 'GO:1902939': 1, 'GO:0042791': 1, 'GO:0008428': 1, 'GO:0032311': 1, 'GO:0042136': 1, 'GO:0071926': 1, 'GO:0098921': 1, 'GO:0097631': 1, 'GO:0062208': 1, 'GO:1905171': 1, 'GO:0071261': 1, 'GO:0031802': 1, 'GO:1900449': 1, 'GO:1902938': 1, 'GO:1905664': 1, 'GO:0071315': 1, 'GO:2000474': 1, 'GO:0097338': 1, 'GO:1903119': 1, 'GO:1904372': 1, 'GO:1904373': 1, 'GO:1904386': 1, 'GO:1990780': 1, 'GO:2001190': 1, 'GO:0034238': 1, 'GO:0035783': 1, 'GO:0043128': 1, 'GO:1904352': 1, 'GO:1905676': 1, 'GO:0072710': 1, 'GO:0072716': 1, 'GO:0072720': 1, 'GO:0072739': 1, 'GO:0009918': 1, 'GO:0047598': 1, 'GO:0016132': 1, 'GO:0098891': 1, 'GO:0001850': 1, 'GO:0045917': 1, 'GO:0008457': 1, 'GO:0008532': 1, 'GO:1905751': 1, 'GO:0021781': 1, 'GO:1901329': 1, 'GO:0042883': 1, 'GO:1903353': 1, 'GO:0045837': 1, 'GO:0090649': 1, 'GO:0042478': 1, 'GO:0060699': 1, 'GO:0060735': 1, 'GO:1902629': 1, 'GO:0048132': 1, 'GO:0090619': 1, 'GO:0047276': 1, 'GO:0033580': 1, 'GO:0003345': 1, 'GO:0017178': 1, 'GO:0016844': 1, 'GO:0008894': 1, 'GO:0036384': 1, 'GO:1990003': 1, 'GO:0004645': 1, 'GO:0008184': 1, 'GO:0102250': 1, 'GO:0102499': 1, 'GO:1990425': 1, 'GO:0098562': 1, 'GO:0043618': 1, 'GO:0034673': 1, 'GO:0050999': 1, 'GO:0042713': 1, 'GO:0043084': 1, 'GO:0140445': 1, 'GO:0036343': 1, 'GO:0002709': 1, 'GO:0002717': 1, 'GO:0010716': 1, 'GO:0051234': 1, 'GO:0008962': 1, 'GO:0071651': 1, 'GO:0071660': 1, 'GO:0051284': 1, 'GO:0051838': 1}\n"
          ]
        }
      ]
    },
    {
      "cell_type": "code",
      "source": [
        "# 내림차순 정렬\n",
        "sorted_count = sorted(count.items(), key = lambda item: item[1],reverse=True)"
      ],
      "metadata": {
        "id": "jU2LBFQv1T68"
      },
      "execution_count": 87,
      "outputs": []
    },
    {
      "cell_type": "markdown",
      "source": [
        "- ensembl, logC, logR : cnts_noinf\n",
        "- ensembl, GO ID : mapped_nodup\n",
        "- GO ID sorted : sorted_count"
      ],
      "metadata": {
        "id": "q9SJE0lcbgBX"
      }
    },
    {
      "cell_type": "code",
      "source": [
        "!pip install tqdm\n",
        "from tqdm import tqdm"
      ],
      "metadata": {
        "colab": {
          "base_uri": "https://localhost:8080/"
        },
        "id": "uKRhqPIBnPa6",
        "outputId": "102e2f0c-599b-41c1-8704-313b032b00b0"
      },
      "execution_count": 84,
      "outputs": [
        {
          "output_type": "stream",
          "name": "stdout",
          "text": [
            "Looking in indexes: https://pypi.org/simple, https://us-python.pkg.dev/colab-wheels/public/simple/\n",
            "Requirement already satisfied: tqdm in /usr/local/lib/python3.7/dist-packages (4.64.0)\n"
          ]
        }
      ]
    },
    {
      "cell_type": "markdown",
      "source": [
        "## Statistical test"
      ],
      "metadata": {
        "id": "_IYKxbZH6M8z"
      }
    },
    {
      "cell_type": "code",
      "source": [
        "# GO term count 높은 것부터 순서대로,\n",
        "# 각 GO term의 member와 member 제외 전체 gene들의 log2 C, R 가져오기\n",
        "from scipy import stats\n",
        "\n",
        "stat_result = pd.DataFrame(columns=['GO-term','count','CLIP_mean','Rden_mean','Clip_p-value','Rden_p-value'])\n",
        "for i,j in tqdm(sorted_count[1:]): #index 0은 nan이라 무시함.\n",
        "  temp_genelist = mapped_nodup[mapped_nodup['go_id']==i]['ensembl_gene_id'].tolist()\n",
        "  gomember = cnts_noinf[cnts_noinf.index.isin(temp_genelist)]\n",
        "  others =  cnts_noinf[~cnts_noinf.index.isin(temp_genelist)]\n",
        "\n",
        "  logC_avg = np.mean(gomember['log2_clip_enrichment'])\n",
        "  logR_avg = np.mean(gomember['log2_rden_change'])\n",
        "\n",
        "\n",
        "  Clip_pvalue = list(stats.mannwhitneyu(gomember['log2_clip_enrichment'],others['log2_clip_enrichment']))[1]\n",
        "  Rden_pvalue = list(stats.mannwhitneyu(gomember['log2_rden_change'],others['log2_rden_change']))[1]\n",
        "\n",
        "  row = [i,j,logC_avg, logR_avg, Clip_pvalue, Rden_pvalue ]\n",
        "  stat_result = stat_result.append(pd.Series(row, index=stat_result.columns), ignore_index=True)"
      ],
      "metadata": {
        "colab": {
          "base_uri": "https://localhost:8080/"
        },
        "id": "qd3zYee09Jq4",
        "outputId": "ff1be0f9-446f-4882-8451-02bd5a7f11a8"
      },
      "execution_count": 91,
      "outputs": [
        {
          "output_type": "stream",
          "name": "stderr",
          "text": [
            "100%|██████████| 14593/14593 [07:24<00:00, 32.84it/s]\n"
          ]
        }
      ]
    },
    {
      "cell_type": "code",
      "source": [
        "# Clip enrichment p-value -> FDR  위해, 오름차순 정렬\n",
        "stat_result_clipp_sorted = stat_result.sort_values('Clip_p-value')"
      ],
      "metadata": {
        "id": "JP2AyjIAnH_K"
      },
      "execution_count": 96,
      "outputs": []
    },
    {
      "cell_type": "code",
      "source": [
        "# p-value 같은 값 있어도, 다음 rank는 1만 증가시키는 방법(dense) 이용?\n",
        "# https://stats.stackexchange.com/questions/18872/how-to-deal-with-identical-p-values-with-the-benjamini-hochberg-method-for-corre\n",
        "stat_result_clipp_sorted['Clip_p-value_rank'] = stat_result_clipp_sorted['Clip_p-value'].rank(method='dense')"
      ],
      "metadata": {
        "id": "s7xvWETBpAGE"
      },
      "execution_count": 97,
      "outputs": []
    },
    {
      "cell_type": "code",
      "source": [
        "# 대안) FDR 계산 R package 이용해서 한 번에 진행하는 방법\n",
        "# https://stackoverflow.com/questions/7450957/how-to-implement-rs-p-adjust-in-python\n",
        "# https://m.blog.naver.com/PostView.naver?isHttpsRedirect=true&blogId=ossiriand&logNo=220860705917\n",
        "from rpy2.robjects.packages import importr\n",
        "from rpy2.robjects.vectors import FloatVector\n",
        "\n",
        "stats = importr('stats')\n",
        "\n",
        "p_adjust = stats.p_adjust(FloatVector(stat_result_clipp_sorted['Clip_p-value']), method = 'BH')"
      ],
      "metadata": {
        "id": "DP_jACsExFDp"
      },
      "execution_count": 98,
      "outputs": []
    },
    {
      "cell_type": "code",
      "source": [
        "stat_result_clipp_sorted['Clip_FDR']=list(p_adjust)"
      ],
      "metadata": {
        "id": "ebN35mGH15aj"
      },
      "execution_count": 99,
      "outputs": []
    },
    {
      "cell_type": "code",
      "source": [
        "# 오래걸리니까 일단 저장\n",
        "stat_result_clipp_sorted.to_csv('./total_result_clipfdr.csv')"
      ],
      "metadata": {
        "id": "v28aIcj0lc24"
      },
      "execution_count": 100,
      "outputs": []
    },
    {
      "cell_type": "code",
      "source": [
        "# FDR 0.05 cutoff\n",
        "stat_result_fdr = stat_result_clipp_sorted[stat_result_clipp_sorted['Clip_FDR']<0.05]\n",
        "stat_result_fdr.head()"
      ],
      "metadata": {
        "id": "4EWZs_8n2Ovh",
        "colab": {
          "base_uri": "https://localhost:8080/",
          "height": 374
        },
        "outputId": "96f86fa5-b14d-4af7-cf16-2d4de2d5dc66"
      },
      "execution_count": 122,
      "outputs": [
        {
          "output_type": "execute_result",
          "data": {
            "text/plain": [
              "       GO-term count  CLIP_mean  Rden_mean   Clip_p-value   Rden_p-value  \\\n",
              "6   GO:0016021  1680   0.116223   0.315096  1.033685e-146   0.000000e+00   \n",
              "3   GO:0016020  2762  -0.212355   0.043605   4.822372e-83  1.897114e-240   \n",
              "13  GO:0005783   867   0.052653   0.185614   6.683996e-56  3.370508e-121   \n",
              "27  GO:0005789   511   0.198027   0.280129   1.521795e-45  1.523852e-100   \n",
              "85  GO:0005887   220   0.365967   0.440608   1.853590e-29   1.091285e-67   \n",
              "\n",
              "    Clip_p-value_rank       Clip_FDR  \n",
              "6                 1.0  1.508456e-142  \n",
              "3                 2.0   3.518643e-79  \n",
              "13                3.0   3.251318e-52  \n",
              "27                4.0   5.551888e-42  \n",
              "85                5.0   5.409888e-26  "
            ],
            "text/html": [
              "\n",
              "  <div id=\"df-61470d31-da24-4aa7-abf7-a3cff7d18fe1\">\n",
              "    <div class=\"colab-df-container\">\n",
              "      <div>\n",
              "<style scoped>\n",
              "    .dataframe tbody tr th:only-of-type {\n",
              "        vertical-align: middle;\n",
              "    }\n",
              "\n",
              "    .dataframe tbody tr th {\n",
              "        vertical-align: top;\n",
              "    }\n",
              "\n",
              "    .dataframe thead th {\n",
              "        text-align: right;\n",
              "    }\n",
              "</style>\n",
              "<table border=\"1\" class=\"dataframe\">\n",
              "  <thead>\n",
              "    <tr style=\"text-align: right;\">\n",
              "      <th></th>\n",
              "      <th>GO-term</th>\n",
              "      <th>count</th>\n",
              "      <th>CLIP_mean</th>\n",
              "      <th>Rden_mean</th>\n",
              "      <th>Clip_p-value</th>\n",
              "      <th>Rden_p-value</th>\n",
              "      <th>Clip_p-value_rank</th>\n",
              "      <th>Clip_FDR</th>\n",
              "    </tr>\n",
              "  </thead>\n",
              "  <tbody>\n",
              "    <tr>\n",
              "      <th>6</th>\n",
              "      <td>GO:0016021</td>\n",
              "      <td>1680</td>\n",
              "      <td>0.116223</td>\n",
              "      <td>0.315096</td>\n",
              "      <td>1.033685e-146</td>\n",
              "      <td>0.000000e+00</td>\n",
              "      <td>1.0</td>\n",
              "      <td>1.508456e-142</td>\n",
              "    </tr>\n",
              "    <tr>\n",
              "      <th>3</th>\n",
              "      <td>GO:0016020</td>\n",
              "      <td>2762</td>\n",
              "      <td>-0.212355</td>\n",
              "      <td>0.043605</td>\n",
              "      <td>4.822372e-83</td>\n",
              "      <td>1.897114e-240</td>\n",
              "      <td>2.0</td>\n",
              "      <td>3.518643e-79</td>\n",
              "    </tr>\n",
              "    <tr>\n",
              "      <th>13</th>\n",
              "      <td>GO:0005783</td>\n",
              "      <td>867</td>\n",
              "      <td>0.052653</td>\n",
              "      <td>0.185614</td>\n",
              "      <td>6.683996e-56</td>\n",
              "      <td>3.370508e-121</td>\n",
              "      <td>3.0</td>\n",
              "      <td>3.251318e-52</td>\n",
              "    </tr>\n",
              "    <tr>\n",
              "      <th>27</th>\n",
              "      <td>GO:0005789</td>\n",
              "      <td>511</td>\n",
              "      <td>0.198027</td>\n",
              "      <td>0.280129</td>\n",
              "      <td>1.521795e-45</td>\n",
              "      <td>1.523852e-100</td>\n",
              "      <td>4.0</td>\n",
              "      <td>5.551888e-42</td>\n",
              "    </tr>\n",
              "    <tr>\n",
              "      <th>85</th>\n",
              "      <td>GO:0005887</td>\n",
              "      <td>220</td>\n",
              "      <td>0.365967</td>\n",
              "      <td>0.440608</td>\n",
              "      <td>1.853590e-29</td>\n",
              "      <td>1.091285e-67</td>\n",
              "      <td>5.0</td>\n",
              "      <td>5.409888e-26</td>\n",
              "    </tr>\n",
              "  </tbody>\n",
              "</table>\n",
              "</div>\n",
              "      <button class=\"colab-df-convert\" onclick=\"convertToInteractive('df-61470d31-da24-4aa7-abf7-a3cff7d18fe1')\"\n",
              "              title=\"Convert this dataframe to an interactive table.\"\n",
              "              style=\"display:none;\">\n",
              "        \n",
              "  <svg xmlns=\"http://www.w3.org/2000/svg\" height=\"24px\"viewBox=\"0 0 24 24\"\n",
              "       width=\"24px\">\n",
              "    <path d=\"M0 0h24v24H0V0z\" fill=\"none\"/>\n",
              "    <path d=\"M18.56 5.44l.94 2.06.94-2.06 2.06-.94-2.06-.94-.94-2.06-.94 2.06-2.06.94zm-11 1L8.5 8.5l.94-2.06 2.06-.94-2.06-.94L8.5 2.5l-.94 2.06-2.06.94zm10 10l.94 2.06.94-2.06 2.06-.94-2.06-.94-.94-2.06-.94 2.06-2.06.94z\"/><path d=\"M17.41 7.96l-1.37-1.37c-.4-.4-.92-.59-1.43-.59-.52 0-1.04.2-1.43.59L10.3 9.45l-7.72 7.72c-.78.78-.78 2.05 0 2.83L4 21.41c.39.39.9.59 1.41.59.51 0 1.02-.2 1.41-.59l7.78-7.78 2.81-2.81c.8-.78.8-2.07 0-2.86zM5.41 20L4 18.59l7.72-7.72 1.47 1.35L5.41 20z\"/>\n",
              "  </svg>\n",
              "      </button>\n",
              "      \n",
              "  <style>\n",
              "    .colab-df-container {\n",
              "      display:flex;\n",
              "      flex-wrap:wrap;\n",
              "      gap: 12px;\n",
              "    }\n",
              "\n",
              "    .colab-df-convert {\n",
              "      background-color: #E8F0FE;\n",
              "      border: none;\n",
              "      border-radius: 50%;\n",
              "      cursor: pointer;\n",
              "      display: none;\n",
              "      fill: #1967D2;\n",
              "      height: 32px;\n",
              "      padding: 0 0 0 0;\n",
              "      width: 32px;\n",
              "    }\n",
              "\n",
              "    .colab-df-convert:hover {\n",
              "      background-color: #E2EBFA;\n",
              "      box-shadow: 0px 1px 2px rgba(60, 64, 67, 0.3), 0px 1px 3px 1px rgba(60, 64, 67, 0.15);\n",
              "      fill: #174EA6;\n",
              "    }\n",
              "\n",
              "    [theme=dark] .colab-df-convert {\n",
              "      background-color: #3B4455;\n",
              "      fill: #D2E3FC;\n",
              "    }\n",
              "\n",
              "    [theme=dark] .colab-df-convert:hover {\n",
              "      background-color: #434B5C;\n",
              "      box-shadow: 0px 1px 3px 1px rgba(0, 0, 0, 0.15);\n",
              "      filter: drop-shadow(0px 1px 2px rgba(0, 0, 0, 0.3));\n",
              "      fill: #FFFFFF;\n",
              "    }\n",
              "  </style>\n",
              "\n",
              "      <script>\n",
              "        const buttonEl =\n",
              "          document.querySelector('#df-61470d31-da24-4aa7-abf7-a3cff7d18fe1 button.colab-df-convert');\n",
              "        buttonEl.style.display =\n",
              "          google.colab.kernel.accessAllowed ? 'block' : 'none';\n",
              "\n",
              "        async function convertToInteractive(key) {\n",
              "          const element = document.querySelector('#df-61470d31-da24-4aa7-abf7-a3cff7d18fe1');\n",
              "          const dataTable =\n",
              "            await google.colab.kernel.invokeFunction('convertToInteractive',\n",
              "                                                     [key], {});\n",
              "          if (!dataTable) return;\n",
              "\n",
              "          const docLinkHtml = 'Like what you see? Visit the ' +\n",
              "            '<a target=\"_blank\" href=https://colab.research.google.com/notebooks/data_table.ipynb>data table notebook</a>'\n",
              "            + ' to learn more about interactive tables.';\n",
              "          element.innerHTML = '';\n",
              "          dataTable['output_type'] = 'display_data';\n",
              "          await google.colab.output.renderOutput(dataTable, element);\n",
              "          const docLink = document.createElement('div');\n",
              "          docLink.innerHTML = docLinkHtml;\n",
              "          element.appendChild(docLink);\n",
              "        }\n",
              "      </script>\n",
              "    </div>\n",
              "  </div>\n",
              "  "
            ]
          },
          "metadata": {},
          "execution_count": 122
        }
      ]
    },
    {
      "cell_type": "code",
      "source": [
        "# GO domain 및 term name mapping\n",
        "godomain_term = mapped_nodup.drop_duplicates(['go_id'])\n",
        "\n",
        "finaltable = stat_result_fdr.join(godomain_term.set_index('go_id')[['namespace_1003','name_1006']], on='GO-term')"
      ],
      "metadata": {
        "id": "TP4tjzy1AmZu"
      },
      "execution_count": 126,
      "outputs": []
    },
    {
      "cell_type": "markdown",
      "source": [
        "## enrichr (일단 사용 안함)\n"
      ],
      "metadata": {
        "id": "c4gbp3feeIFB"
      }
    },
    {
      "cell_type": "code",
      "source": [
        "# enrichr\n",
        "# GO database 가져오기\n",
        "mouselib = gp.get_library_name(organism='Mouse')\n",
        "mousegolib = [s for s in mouselib if \"GO\" in s] \n",
        "mousegolib2021 = [s for s in mousegolib if \"2021\" in s]\n",
        "mousegolib2021"
      ],
      "metadata": {
        "colab": {
          "base_uri": "https://localhost:8080/"
        },
        "id": "nxEC_0216QCn",
        "outputId": "6495bbf0-c56b-4f8e-cbfd-d811780b9ae9"
      },
      "execution_count": null,
      "outputs": [
        {
          "output_type": "execute_result",
          "data": {
            "text/plain": [
              "['GO_Biological_Process_2021',\n",
              " 'GO_Cellular_Component_2021',\n",
              " 'GO_Molecular_Function_2021']"
            ]
          },
          "metadata": {},
          "execution_count": 38
        }
      ]
    },
    {
      "cell_type": "code",
      "source": [
        "# enrichr\n",
        "# gene_sets 리스트로 넣어주면 왜 한 종류만 나올까. 지난 번 수업 시간에 KEGG 했을때도 다시보니 한종류 geneset만 결과 나왔었더라.\n",
        "# 따로따로 testing해서 테이블 이어 붙혀도 상관 없나.\n",
        "enrcc= gp.enrichr(gene_list = upreg_genenames, gene_sets=mousegolib2021[1],organism='Mouse',description='',outdir='test/enrichr_go2021',cutoff=0.05)\n",
        "enrmf= gp.enrichr(gene_list = upreg_genenames, gene_sets=mousegolib2021[2],organism='Mouse',description='',outdir='test/enrichr_go2021',cutoff=0.05)\n",
        "enrbp= gp.enrichr(gene_list = upreg_genenames, gene_sets=mousegolib2021[0],organism='Mouse',description='',outdir='test/enrichr_go2021',cutoff=0.05)"
      ],
      "metadata": {
        "id": "6Y-B60hI6D5X"
      },
      "execution_count": null,
      "outputs": []
    },
    {
      "cell_type": "code",
      "source": [
        "# enrichr\n",
        "enrconcat = pd.concat([enrbp.res2d,enrcc.res2d,enrmf.res2d])\n",
        "enrconcat"
      ],
      "metadata": {
        "colab": {
          "base_uri": "https://localhost:8080/"
        },
        "id": "RsFEH8VNL3LW",
        "outputId": "9838a06e-776f-4704-ca2e-1f090bc50433"
      },
      "execution_count": null,
      "outputs": [
        {
          "output_type": "execute_result",
          "data": {
            "text/plain": [
              "                        Gene_set  \\\n",
              "0     GO_Biological_Process_2021   \n",
              "1     GO_Biological_Process_2021   \n",
              "2     GO_Biological_Process_2021   \n",
              "3     GO_Biological_Process_2021   \n",
              "4     GO_Biological_Process_2021   \n",
              "...                          ...   \n",
              "1163  GO_Molecular_Function_2021   \n",
              "1164  GO_Molecular_Function_2021   \n",
              "1165  GO_Molecular_Function_2021   \n",
              "1166  GO_Molecular_Function_2021   \n",
              "1167  GO_Molecular_Function_2021   \n",
              "\n",
              "                                                   Term  Overlap  \\\n",
              "0                          mRNA processing (GO:0006397)  267/300   \n",
              "1           mRNA splicing, via spliceosome (GO:0000398)  245/274   \n",
              "2     RNA splicing, via transesterification reaction...  227/251   \n",
              "3                          rRNA processing (GO:0006364)  170/173   \n",
              "4                      ribosome biogenesis (GO:0042254)  184/192   \n",
              "...                                                 ...      ...   \n",
              "1163            chemokine receptor binding (GO:0042379)     1/50   \n",
              "1164        CCR chemokine receptor binding (GO:0048020)     1/42   \n",
              "1165          steroid hydroxylase activity (GO:0008395)     1/36   \n",
              "1166        neuropeptide receptor activity (GO:0008188)     1/30   \n",
              "1167  transmitter-gated ion channel activity (GO:002...     1/34   \n",
              "\n",
              "           P-value  Adjusted P-value  Old P-value  Old Adjusted P-value  \\\n",
              "0     2.928254e-70      1.707172e-66            0                     0   \n",
              "1     1.773668e-65      5.170242e-62            0                     0   \n",
              "2     6.157058e-63      9.679117e-60            0                     0   \n",
              "3     6.640904e-63      9.679117e-60            0                     0   \n",
              "4     6.307342e-62      7.354361e-59            0                     0   \n",
              "...            ...               ...          ...                   ...   \n",
              "1163  9.999964e-01      9.999968e-01            0                     0   \n",
              "1164  9.999966e-01      9.999968e-01            0                     0   \n",
              "1165  9.999968e-01      9.999968e-01            0                     0   \n",
              "1166  9.999968e-01      9.999968e-01            0                     0   \n",
              "1167  9.999968e-01      9.999968e-01            0                     0   \n",
              "\n",
              "      Odds Ratio  Combined Score  \\\n",
              "0      12.328116    1.973812e+03   \n",
              "1      12.840775    1.914495e+03   \n",
              "2      14.349037    2.055432e+03   \n",
              "3      85.498334    1.224076e+04   \n",
              "4      34.749271    4.896817e+03   \n",
              "...          ...             ...   \n",
              "1163    0.030031    1.084362e-07   \n",
              "1164    0.035915    1.218540e-07   \n",
              "1165    0.042093    1.352583e-07   \n",
              "1166    0.050827    1.612278e-07   \n",
              "1167    0.044651    1.410998e-07   \n",
              "\n",
              "                                                  Genes  \n",
              "0     TCERG1;RAMAC;CCNH;EIF4A3;GPATCH1;HNRNPU;HNRNPR...  \n",
              "1     EIF4A3;GPATCH1;HNRNPU;HNRNPR;WDR83;CCAR1;PNN;S...  \n",
              "2     EIF4A3;GPATCH1;HNRNPU;HNRNPR;WDR83;CCAR1;PNN;S...  \n",
              "3     RPL4;POP5;RPL5;RPL30;RPL3;RPL32;RPL31;POP4;RPL...  \n",
              "4     LTV1;RPL4;POP5;RPL5;RPL30;RPL3;RPL32;RPL31;POP...  \n",
              "...                                                 ...  \n",
              "1163                                               ITCH  \n",
              "1164                                              CNIH4  \n",
              "1165                                             CYP2S1  \n",
              "1166                                              SSTR2  \n",
              "1167                                              GRIK3  \n",
              "\n",
              "[7492 rows x 10 columns]"
            ],
            "text/html": [
              "\n",
              "  <div id=\"df-e8735c7e-71f9-4121-abe6-bfe00af41076\">\n",
              "    <div class=\"colab-df-container\">\n",
              "      <div>\n",
              "<style scoped>\n",
              "    .dataframe tbody tr th:only-of-type {\n",
              "        vertical-align: middle;\n",
              "    }\n",
              "\n",
              "    .dataframe tbody tr th {\n",
              "        vertical-align: top;\n",
              "    }\n",
              "\n",
              "    .dataframe thead th {\n",
              "        text-align: right;\n",
              "    }\n",
              "</style>\n",
              "<table border=\"1\" class=\"dataframe\">\n",
              "  <thead>\n",
              "    <tr style=\"text-align: right;\">\n",
              "      <th></th>\n",
              "      <th>Gene_set</th>\n",
              "      <th>Term</th>\n",
              "      <th>Overlap</th>\n",
              "      <th>P-value</th>\n",
              "      <th>Adjusted P-value</th>\n",
              "      <th>Old P-value</th>\n",
              "      <th>Old Adjusted P-value</th>\n",
              "      <th>Odds Ratio</th>\n",
              "      <th>Combined Score</th>\n",
              "      <th>Genes</th>\n",
              "    </tr>\n",
              "  </thead>\n",
              "  <tbody>\n",
              "    <tr>\n",
              "      <th>0</th>\n",
              "      <td>GO_Biological_Process_2021</td>\n",
              "      <td>mRNA processing (GO:0006397)</td>\n",
              "      <td>267/300</td>\n",
              "      <td>2.928254e-70</td>\n",
              "      <td>1.707172e-66</td>\n",
              "      <td>0</td>\n",
              "      <td>0</td>\n",
              "      <td>12.328116</td>\n",
              "      <td>1.973812e+03</td>\n",
              "      <td>TCERG1;RAMAC;CCNH;EIF4A3;GPATCH1;HNRNPU;HNRNPR...</td>\n",
              "    </tr>\n",
              "    <tr>\n",
              "      <th>1</th>\n",
              "      <td>GO_Biological_Process_2021</td>\n",
              "      <td>mRNA splicing, via spliceosome (GO:0000398)</td>\n",
              "      <td>245/274</td>\n",
              "      <td>1.773668e-65</td>\n",
              "      <td>5.170242e-62</td>\n",
              "      <td>0</td>\n",
              "      <td>0</td>\n",
              "      <td>12.840775</td>\n",
              "      <td>1.914495e+03</td>\n",
              "      <td>EIF4A3;GPATCH1;HNRNPU;HNRNPR;WDR83;CCAR1;PNN;S...</td>\n",
              "    </tr>\n",
              "    <tr>\n",
              "      <th>2</th>\n",
              "      <td>GO_Biological_Process_2021</td>\n",
              "      <td>RNA splicing, via transesterification reaction...</td>\n",
              "      <td>227/251</td>\n",
              "      <td>6.157058e-63</td>\n",
              "      <td>9.679117e-60</td>\n",
              "      <td>0</td>\n",
              "      <td>0</td>\n",
              "      <td>14.349037</td>\n",
              "      <td>2.055432e+03</td>\n",
              "      <td>EIF4A3;GPATCH1;HNRNPU;HNRNPR;WDR83;CCAR1;PNN;S...</td>\n",
              "    </tr>\n",
              "    <tr>\n",
              "      <th>3</th>\n",
              "      <td>GO_Biological_Process_2021</td>\n",
              "      <td>rRNA processing (GO:0006364)</td>\n",
              "      <td>170/173</td>\n",
              "      <td>6.640904e-63</td>\n",
              "      <td>9.679117e-60</td>\n",
              "      <td>0</td>\n",
              "      <td>0</td>\n",
              "      <td>85.498334</td>\n",
              "      <td>1.224076e+04</td>\n",
              "      <td>RPL4;POP5;RPL5;RPL30;RPL3;RPL32;RPL31;POP4;RPL...</td>\n",
              "    </tr>\n",
              "    <tr>\n",
              "      <th>4</th>\n",
              "      <td>GO_Biological_Process_2021</td>\n",
              "      <td>ribosome biogenesis (GO:0042254)</td>\n",
              "      <td>184/192</td>\n",
              "      <td>6.307342e-62</td>\n",
              "      <td>7.354361e-59</td>\n",
              "      <td>0</td>\n",
              "      <td>0</td>\n",
              "      <td>34.749271</td>\n",
              "      <td>4.896817e+03</td>\n",
              "      <td>LTV1;RPL4;POP5;RPL5;RPL30;RPL3;RPL32;RPL31;POP...</td>\n",
              "    </tr>\n",
              "    <tr>\n",
              "      <th>...</th>\n",
              "      <td>...</td>\n",
              "      <td>...</td>\n",
              "      <td>...</td>\n",
              "      <td>...</td>\n",
              "      <td>...</td>\n",
              "      <td>...</td>\n",
              "      <td>...</td>\n",
              "      <td>...</td>\n",
              "      <td>...</td>\n",
              "      <td>...</td>\n",
              "    </tr>\n",
              "    <tr>\n",
              "      <th>1163</th>\n",
              "      <td>GO_Molecular_Function_2021</td>\n",
              "      <td>chemokine receptor binding (GO:0042379)</td>\n",
              "      <td>1/50</td>\n",
              "      <td>9.999964e-01</td>\n",
              "      <td>9.999968e-01</td>\n",
              "      <td>0</td>\n",
              "      <td>0</td>\n",
              "      <td>0.030031</td>\n",
              "      <td>1.084362e-07</td>\n",
              "      <td>ITCH</td>\n",
              "    </tr>\n",
              "    <tr>\n",
              "      <th>1164</th>\n",
              "      <td>GO_Molecular_Function_2021</td>\n",
              "      <td>CCR chemokine receptor binding (GO:0048020)</td>\n",
              "      <td>1/42</td>\n",
              "      <td>9.999966e-01</td>\n",
              "      <td>9.999968e-01</td>\n",
              "      <td>0</td>\n",
              "      <td>0</td>\n",
              "      <td>0.035915</td>\n",
              "      <td>1.218540e-07</td>\n",
              "      <td>CNIH4</td>\n",
              "    </tr>\n",
              "    <tr>\n",
              "      <th>1165</th>\n",
              "      <td>GO_Molecular_Function_2021</td>\n",
              "      <td>steroid hydroxylase activity (GO:0008395)</td>\n",
              "      <td>1/36</td>\n",
              "      <td>9.999968e-01</td>\n",
              "      <td>9.999968e-01</td>\n",
              "      <td>0</td>\n",
              "      <td>0</td>\n",
              "      <td>0.042093</td>\n",
              "      <td>1.352583e-07</td>\n",
              "      <td>CYP2S1</td>\n",
              "    </tr>\n",
              "    <tr>\n",
              "      <th>1166</th>\n",
              "      <td>GO_Molecular_Function_2021</td>\n",
              "      <td>neuropeptide receptor activity (GO:0008188)</td>\n",
              "      <td>1/30</td>\n",
              "      <td>9.999968e-01</td>\n",
              "      <td>9.999968e-01</td>\n",
              "      <td>0</td>\n",
              "      <td>0</td>\n",
              "      <td>0.050827</td>\n",
              "      <td>1.612278e-07</td>\n",
              "      <td>SSTR2</td>\n",
              "    </tr>\n",
              "    <tr>\n",
              "      <th>1167</th>\n",
              "      <td>GO_Molecular_Function_2021</td>\n",
              "      <td>transmitter-gated ion channel activity (GO:002...</td>\n",
              "      <td>1/34</td>\n",
              "      <td>9.999968e-01</td>\n",
              "      <td>9.999968e-01</td>\n",
              "      <td>0</td>\n",
              "      <td>0</td>\n",
              "      <td>0.044651</td>\n",
              "      <td>1.410998e-07</td>\n",
              "      <td>GRIK3</td>\n",
              "    </tr>\n",
              "  </tbody>\n",
              "</table>\n",
              "<p>7492 rows × 10 columns</p>\n",
              "</div>\n",
              "      <button class=\"colab-df-convert\" onclick=\"convertToInteractive('df-e8735c7e-71f9-4121-abe6-bfe00af41076')\"\n",
              "              title=\"Convert this dataframe to an interactive table.\"\n",
              "              style=\"display:none;\">\n",
              "        \n",
              "  <svg xmlns=\"http://www.w3.org/2000/svg\" height=\"24px\"viewBox=\"0 0 24 24\"\n",
              "       width=\"24px\">\n",
              "    <path d=\"M0 0h24v24H0V0z\" fill=\"none\"/>\n",
              "    <path d=\"M18.56 5.44l.94 2.06.94-2.06 2.06-.94-2.06-.94-.94-2.06-.94 2.06-2.06.94zm-11 1L8.5 8.5l.94-2.06 2.06-.94-2.06-.94L8.5 2.5l-.94 2.06-2.06.94zm10 10l.94 2.06.94-2.06 2.06-.94-2.06-.94-.94-2.06-.94 2.06-2.06.94z\"/><path d=\"M17.41 7.96l-1.37-1.37c-.4-.4-.92-.59-1.43-.59-.52 0-1.04.2-1.43.59L10.3 9.45l-7.72 7.72c-.78.78-.78 2.05 0 2.83L4 21.41c.39.39.9.59 1.41.59.51 0 1.02-.2 1.41-.59l7.78-7.78 2.81-2.81c.8-.78.8-2.07 0-2.86zM5.41 20L4 18.59l7.72-7.72 1.47 1.35L5.41 20z\"/>\n",
              "  </svg>\n",
              "      </button>\n",
              "      \n",
              "  <style>\n",
              "    .colab-df-container {\n",
              "      display:flex;\n",
              "      flex-wrap:wrap;\n",
              "      gap: 12px;\n",
              "    }\n",
              "\n",
              "    .colab-df-convert {\n",
              "      background-color: #E8F0FE;\n",
              "      border: none;\n",
              "      border-radius: 50%;\n",
              "      cursor: pointer;\n",
              "      display: none;\n",
              "      fill: #1967D2;\n",
              "      height: 32px;\n",
              "      padding: 0 0 0 0;\n",
              "      width: 32px;\n",
              "    }\n",
              "\n",
              "    .colab-df-convert:hover {\n",
              "      background-color: #E2EBFA;\n",
              "      box-shadow: 0px 1px 2px rgba(60, 64, 67, 0.3), 0px 1px 3px 1px rgba(60, 64, 67, 0.15);\n",
              "      fill: #174EA6;\n",
              "    }\n",
              "\n",
              "    [theme=dark] .colab-df-convert {\n",
              "      background-color: #3B4455;\n",
              "      fill: #D2E3FC;\n",
              "    }\n",
              "\n",
              "    [theme=dark] .colab-df-convert:hover {\n",
              "      background-color: #434B5C;\n",
              "      box-shadow: 0px 1px 3px 1px rgba(0, 0, 0, 0.15);\n",
              "      filter: drop-shadow(0px 1px 2px rgba(0, 0, 0, 0.3));\n",
              "      fill: #FFFFFF;\n",
              "    }\n",
              "  </style>\n",
              "\n",
              "      <script>\n",
              "        const buttonEl =\n",
              "          document.querySelector('#df-e8735c7e-71f9-4121-abe6-bfe00af41076 button.colab-df-convert');\n",
              "        buttonEl.style.display =\n",
              "          google.colab.kernel.accessAllowed ? 'block' : 'none';\n",
              "\n",
              "        async function convertToInteractive(key) {\n",
              "          const element = document.querySelector('#df-e8735c7e-71f9-4121-abe6-bfe00af41076');\n",
              "          const dataTable =\n",
              "            await google.colab.kernel.invokeFunction('convertToInteractive',\n",
              "                                                     [key], {});\n",
              "          if (!dataTable) return;\n",
              "\n",
              "          const docLinkHtml = 'Like what you see? Visit the ' +\n",
              "            '<a target=\"_blank\" href=https://colab.research.google.com/notebooks/data_table.ipynb>data table notebook</a>'\n",
              "            + ' to learn more about interactive tables.';\n",
              "          element.innerHTML = '';\n",
              "          dataTable['output_type'] = 'display_data';\n",
              "          await google.colab.output.renderOutput(dataTable, element);\n",
              "          const docLink = document.createElement('div');\n",
              "          docLink.innerHTML = docLinkHtml;\n",
              "          element.appendChild(docLink);\n",
              "        }\n",
              "      </script>\n",
              "    </div>\n",
              "  </div>\n",
              "  "
            ]
          },
          "metadata": {},
          "execution_count": 68
        }
      ]
    },
    {
      "cell_type": "markdown",
      "source": [
        "## visualize\n",
        "- bubble size는 overlap ratio 아닌 count로.\n",
        "- GO term 내 transcript들의 FDR이 0.05 미만인 것으로 cutoff 정한 후,\n",
        "- 하위 subset terms were omitted. (지금은 x)\n",
        "\n"
      ],
      "metadata": {
        "id": "6Ox-JvmlPjed"
      }
    },
    {
      "cell_type": "code",
      "source": [
        "finaltable.sort_values('count')[-20:]"
      ],
      "metadata": {
        "colab": {
          "base_uri": "https://localhost:8080/",
          "height": 1000
        },
        "id": "jZwHJe0XBwI7",
        "outputId": "d6f37ee3-2e0e-4950-9d99-68114a1605e5"
      },
      "execution_count": 150,
      "outputs": [
        {
          "output_type": "execute_result",
          "data": {
            "text/plain": [
              "       GO-term count  CLIP_mean  Rden_mean   Clip_p-value   Rden_p-value  \\\n",
              "64  GO:0005576   286   0.054802   0.264872   1.031876e-19   6.157749e-51   \n",
              "44  GO:0030054   364  -0.331819  -0.232428   3.777033e-05   3.437345e-01   \n",
              "39  GO:0005743   373  -0.858004  -0.104303   2.187599e-05   9.886767e-10   \n",
              "27  GO:0005789   511   0.198027   0.280129   1.521795e-45  1.523852e-100   \n",
              "22  GO:0043231   598  -0.397214  -0.173574   2.016062e-04   2.433157e-04   \n",
              "20  GO:0003723   669  -0.741461  -0.563381   4.020453e-04   1.385347e-45   \n",
              "19  GO:0005794   712  -0.179972  -0.018478   1.424003e-19   2.088116e-29   \n",
              "18  GO:0005856   732  -0.733063  -0.484213   4.935699e-04   9.142376e-27   \n",
              "16  GO:0003677   805  -0.773198  -0.513746   2.626590e-06   4.388508e-39   \n",
              "13  GO:0005783   867   0.052653   0.185614   6.683996e-56  3.370508e-121   \n",
              "12  GO:0042802   936  -0.698954  -0.344571   5.623498e-04   8.334366e-07   \n",
              "10  GO:0000166   995  -0.697362  -0.423852   5.000437e-04   7.032833e-21   \n",
              "9   GO:0005739  1193  -0.715741  -0.206784   1.547725e-06   1.210991e-05   \n",
              "8   GO:0005886  1461  -0.289496  -0.097220   1.160209e-24   1.639025e-29   \n",
              "6   GO:0016021  1680   0.116223   0.315096  1.033685e-146   0.000000e+00   \n",
              "5   GO:0005654  2106  -0.764808  -0.471997   2.300982e-14   9.225878e-85   \n",
              "4   GO:0005829  2349  -0.778539  -0.435191   8.061087e-19   7.687858e-66   \n",
              "3   GO:0016020  2762  -0.212355   0.043605   4.822372e-83  1.897114e-240   \n",
              "1   GO:0005634  3461  -0.724884  -0.444662   1.080217e-16  2.078486e-133   \n",
              "0   GO:0005737  3605  -0.747412  -0.409588   9.191898e-27   2.074356e-96   \n",
              "\n",
              "    Clip_p-value_rank       Clip_FDR      namespace_1003  \\\n",
              "64                9.0   1.673130e-16  cellular_component   \n",
              "44               87.0   6.335430e-03  cellular_component   \n",
              "39               74.0   4.314003e-03  cellular_component   \n",
              "27                4.0   5.551888e-42  cellular_component   \n",
              "22              120.0   2.431437e-02  cellular_component   \n",
              "20              150.0   3.853740e-02  molecular_function   \n",
              "19               10.0   2.078048e-16  cellular_component   \n",
              "18              163.0   4.391870e-02  cellular_component   \n",
              "16               53.0   7.232044e-04  molecular_function   \n",
              "13                3.0   3.251318e-52  cellular_component   \n",
              "12              168.0   4.855840e-02  molecular_function   \n",
              "10              164.0   4.422508e-02  molecular_function   \n",
              "9                47.0   4.805522e-04  cellular_component   \n",
              "8                 8.0   2.116366e-21  cellular_component   \n",
              "6                 1.0  1.508456e-142  cellular_component   \n",
              "5                18.0   1.865457e-11  cellular_component   \n",
              "4                11.0   1.069413e-15  cellular_component   \n",
              "3                 2.0   3.518643e-79  cellular_component   \n",
              "1                14.0   1.125972e-13  cellular_component   \n",
              "0                 6.0   2.235623e-23  cellular_component   \n",
              "\n",
              "                                   name_1006  \n",
              "64                      extracellular region  \n",
              "44                             cell junction  \n",
              "39              mitochondrial inner membrane  \n",
              "27            endoplasmic reticulum membrane  \n",
              "22  intracellular membrane-bounded organelle  \n",
              "20                               RNA binding  \n",
              "19                           Golgi apparatus  \n",
              "18                              cytoskeleton  \n",
              "16                               DNA binding  \n",
              "13                     endoplasmic reticulum  \n",
              "12                 identical protein binding  \n",
              "10                        nucleotide binding  \n",
              "9                              mitochondrion  \n",
              "8                            plasma membrane  \n",
              "6             integral component of membrane  \n",
              "5                                nucleoplasm  \n",
              "4                                    cytosol  \n",
              "3                                   membrane  \n",
              "1                                    nucleus  \n",
              "0                                  cytoplasm  "
            ],
            "text/html": [
              "\n",
              "  <div id=\"df-a2bf5eba-246f-49a8-9196-eeb6c17fc462\">\n",
              "    <div class=\"colab-df-container\">\n",
              "      <div>\n",
              "<style scoped>\n",
              "    .dataframe tbody tr th:only-of-type {\n",
              "        vertical-align: middle;\n",
              "    }\n",
              "\n",
              "    .dataframe tbody tr th {\n",
              "        vertical-align: top;\n",
              "    }\n",
              "\n",
              "    .dataframe thead th {\n",
              "        text-align: right;\n",
              "    }\n",
              "</style>\n",
              "<table border=\"1\" class=\"dataframe\">\n",
              "  <thead>\n",
              "    <tr style=\"text-align: right;\">\n",
              "      <th></th>\n",
              "      <th>GO-term</th>\n",
              "      <th>count</th>\n",
              "      <th>CLIP_mean</th>\n",
              "      <th>Rden_mean</th>\n",
              "      <th>Clip_p-value</th>\n",
              "      <th>Rden_p-value</th>\n",
              "      <th>Clip_p-value_rank</th>\n",
              "      <th>Clip_FDR</th>\n",
              "      <th>namespace_1003</th>\n",
              "      <th>name_1006</th>\n",
              "    </tr>\n",
              "  </thead>\n",
              "  <tbody>\n",
              "    <tr>\n",
              "      <th>64</th>\n",
              "      <td>GO:0005576</td>\n",
              "      <td>286</td>\n",
              "      <td>0.054802</td>\n",
              "      <td>0.264872</td>\n",
              "      <td>1.031876e-19</td>\n",
              "      <td>6.157749e-51</td>\n",
              "      <td>9.0</td>\n",
              "      <td>1.673130e-16</td>\n",
              "      <td>cellular_component</td>\n",
              "      <td>extracellular region</td>\n",
              "    </tr>\n",
              "    <tr>\n",
              "      <th>44</th>\n",
              "      <td>GO:0030054</td>\n",
              "      <td>364</td>\n",
              "      <td>-0.331819</td>\n",
              "      <td>-0.232428</td>\n",
              "      <td>3.777033e-05</td>\n",
              "      <td>3.437345e-01</td>\n",
              "      <td>87.0</td>\n",
              "      <td>6.335430e-03</td>\n",
              "      <td>cellular_component</td>\n",
              "      <td>cell junction</td>\n",
              "    </tr>\n",
              "    <tr>\n",
              "      <th>39</th>\n",
              "      <td>GO:0005743</td>\n",
              "      <td>373</td>\n",
              "      <td>-0.858004</td>\n",
              "      <td>-0.104303</td>\n",
              "      <td>2.187599e-05</td>\n",
              "      <td>9.886767e-10</td>\n",
              "      <td>74.0</td>\n",
              "      <td>4.314003e-03</td>\n",
              "      <td>cellular_component</td>\n",
              "      <td>mitochondrial inner membrane</td>\n",
              "    </tr>\n",
              "    <tr>\n",
              "      <th>27</th>\n",
              "      <td>GO:0005789</td>\n",
              "      <td>511</td>\n",
              "      <td>0.198027</td>\n",
              "      <td>0.280129</td>\n",
              "      <td>1.521795e-45</td>\n",
              "      <td>1.523852e-100</td>\n",
              "      <td>4.0</td>\n",
              "      <td>5.551888e-42</td>\n",
              "      <td>cellular_component</td>\n",
              "      <td>endoplasmic reticulum membrane</td>\n",
              "    </tr>\n",
              "    <tr>\n",
              "      <th>22</th>\n",
              "      <td>GO:0043231</td>\n",
              "      <td>598</td>\n",
              "      <td>-0.397214</td>\n",
              "      <td>-0.173574</td>\n",
              "      <td>2.016062e-04</td>\n",
              "      <td>2.433157e-04</td>\n",
              "      <td>120.0</td>\n",
              "      <td>2.431437e-02</td>\n",
              "      <td>cellular_component</td>\n",
              "      <td>intracellular membrane-bounded organelle</td>\n",
              "    </tr>\n",
              "    <tr>\n",
              "      <th>20</th>\n",
              "      <td>GO:0003723</td>\n",
              "      <td>669</td>\n",
              "      <td>-0.741461</td>\n",
              "      <td>-0.563381</td>\n",
              "      <td>4.020453e-04</td>\n",
              "      <td>1.385347e-45</td>\n",
              "      <td>150.0</td>\n",
              "      <td>3.853740e-02</td>\n",
              "      <td>molecular_function</td>\n",
              "      <td>RNA binding</td>\n",
              "    </tr>\n",
              "    <tr>\n",
              "      <th>19</th>\n",
              "      <td>GO:0005794</td>\n",
              "      <td>712</td>\n",
              "      <td>-0.179972</td>\n",
              "      <td>-0.018478</td>\n",
              "      <td>1.424003e-19</td>\n",
              "      <td>2.088116e-29</td>\n",
              "      <td>10.0</td>\n",
              "      <td>2.078048e-16</td>\n",
              "      <td>cellular_component</td>\n",
              "      <td>Golgi apparatus</td>\n",
              "    </tr>\n",
              "    <tr>\n",
              "      <th>18</th>\n",
              "      <td>GO:0005856</td>\n",
              "      <td>732</td>\n",
              "      <td>-0.733063</td>\n",
              "      <td>-0.484213</td>\n",
              "      <td>4.935699e-04</td>\n",
              "      <td>9.142376e-27</td>\n",
              "      <td>163.0</td>\n",
              "      <td>4.391870e-02</td>\n",
              "      <td>cellular_component</td>\n",
              "      <td>cytoskeleton</td>\n",
              "    </tr>\n",
              "    <tr>\n",
              "      <th>16</th>\n",
              "      <td>GO:0003677</td>\n",
              "      <td>805</td>\n",
              "      <td>-0.773198</td>\n",
              "      <td>-0.513746</td>\n",
              "      <td>2.626590e-06</td>\n",
              "      <td>4.388508e-39</td>\n",
              "      <td>53.0</td>\n",
              "      <td>7.232044e-04</td>\n",
              "      <td>molecular_function</td>\n",
              "      <td>DNA binding</td>\n",
              "    </tr>\n",
              "    <tr>\n",
              "      <th>13</th>\n",
              "      <td>GO:0005783</td>\n",
              "      <td>867</td>\n",
              "      <td>0.052653</td>\n",
              "      <td>0.185614</td>\n",
              "      <td>6.683996e-56</td>\n",
              "      <td>3.370508e-121</td>\n",
              "      <td>3.0</td>\n",
              "      <td>3.251318e-52</td>\n",
              "      <td>cellular_component</td>\n",
              "      <td>endoplasmic reticulum</td>\n",
              "    </tr>\n",
              "    <tr>\n",
              "      <th>12</th>\n",
              "      <td>GO:0042802</td>\n",
              "      <td>936</td>\n",
              "      <td>-0.698954</td>\n",
              "      <td>-0.344571</td>\n",
              "      <td>5.623498e-04</td>\n",
              "      <td>8.334366e-07</td>\n",
              "      <td>168.0</td>\n",
              "      <td>4.855840e-02</td>\n",
              "      <td>molecular_function</td>\n",
              "      <td>identical protein binding</td>\n",
              "    </tr>\n",
              "    <tr>\n",
              "      <th>10</th>\n",
              "      <td>GO:0000166</td>\n",
              "      <td>995</td>\n",
              "      <td>-0.697362</td>\n",
              "      <td>-0.423852</td>\n",
              "      <td>5.000437e-04</td>\n",
              "      <td>7.032833e-21</td>\n",
              "      <td>164.0</td>\n",
              "      <td>4.422508e-02</td>\n",
              "      <td>molecular_function</td>\n",
              "      <td>nucleotide binding</td>\n",
              "    </tr>\n",
              "    <tr>\n",
              "      <th>9</th>\n",
              "      <td>GO:0005739</td>\n",
              "      <td>1193</td>\n",
              "      <td>-0.715741</td>\n",
              "      <td>-0.206784</td>\n",
              "      <td>1.547725e-06</td>\n",
              "      <td>1.210991e-05</td>\n",
              "      <td>47.0</td>\n",
              "      <td>4.805522e-04</td>\n",
              "      <td>cellular_component</td>\n",
              "      <td>mitochondrion</td>\n",
              "    </tr>\n",
              "    <tr>\n",
              "      <th>8</th>\n",
              "      <td>GO:0005886</td>\n",
              "      <td>1461</td>\n",
              "      <td>-0.289496</td>\n",
              "      <td>-0.097220</td>\n",
              "      <td>1.160209e-24</td>\n",
              "      <td>1.639025e-29</td>\n",
              "      <td>8.0</td>\n",
              "      <td>2.116366e-21</td>\n",
              "      <td>cellular_component</td>\n",
              "      <td>plasma membrane</td>\n",
              "    </tr>\n",
              "    <tr>\n",
              "      <th>6</th>\n",
              "      <td>GO:0016021</td>\n",
              "      <td>1680</td>\n",
              "      <td>0.116223</td>\n",
              "      <td>0.315096</td>\n",
              "      <td>1.033685e-146</td>\n",
              "      <td>0.000000e+00</td>\n",
              "      <td>1.0</td>\n",
              "      <td>1.508456e-142</td>\n",
              "      <td>cellular_component</td>\n",
              "      <td>integral component of membrane</td>\n",
              "    </tr>\n",
              "    <tr>\n",
              "      <th>5</th>\n",
              "      <td>GO:0005654</td>\n",
              "      <td>2106</td>\n",
              "      <td>-0.764808</td>\n",
              "      <td>-0.471997</td>\n",
              "      <td>2.300982e-14</td>\n",
              "      <td>9.225878e-85</td>\n",
              "      <td>18.0</td>\n",
              "      <td>1.865457e-11</td>\n",
              "      <td>cellular_component</td>\n",
              "      <td>nucleoplasm</td>\n",
              "    </tr>\n",
              "    <tr>\n",
              "      <th>4</th>\n",
              "      <td>GO:0005829</td>\n",
              "      <td>2349</td>\n",
              "      <td>-0.778539</td>\n",
              "      <td>-0.435191</td>\n",
              "      <td>8.061087e-19</td>\n",
              "      <td>7.687858e-66</td>\n",
              "      <td>11.0</td>\n",
              "      <td>1.069413e-15</td>\n",
              "      <td>cellular_component</td>\n",
              "      <td>cytosol</td>\n",
              "    </tr>\n",
              "    <tr>\n",
              "      <th>3</th>\n",
              "      <td>GO:0016020</td>\n",
              "      <td>2762</td>\n",
              "      <td>-0.212355</td>\n",
              "      <td>0.043605</td>\n",
              "      <td>4.822372e-83</td>\n",
              "      <td>1.897114e-240</td>\n",
              "      <td>2.0</td>\n",
              "      <td>3.518643e-79</td>\n",
              "      <td>cellular_component</td>\n",
              "      <td>membrane</td>\n",
              "    </tr>\n",
              "    <tr>\n",
              "      <th>1</th>\n",
              "      <td>GO:0005634</td>\n",
              "      <td>3461</td>\n",
              "      <td>-0.724884</td>\n",
              "      <td>-0.444662</td>\n",
              "      <td>1.080217e-16</td>\n",
              "      <td>2.078486e-133</td>\n",
              "      <td>14.0</td>\n",
              "      <td>1.125972e-13</td>\n",
              "      <td>cellular_component</td>\n",
              "      <td>nucleus</td>\n",
              "    </tr>\n",
              "    <tr>\n",
              "      <th>0</th>\n",
              "      <td>GO:0005737</td>\n",
              "      <td>3605</td>\n",
              "      <td>-0.747412</td>\n",
              "      <td>-0.409588</td>\n",
              "      <td>9.191898e-27</td>\n",
              "      <td>2.074356e-96</td>\n",
              "      <td>6.0</td>\n",
              "      <td>2.235623e-23</td>\n",
              "      <td>cellular_component</td>\n",
              "      <td>cytoplasm</td>\n",
              "    </tr>\n",
              "  </tbody>\n",
              "</table>\n",
              "</div>\n",
              "      <button class=\"colab-df-convert\" onclick=\"convertToInteractive('df-a2bf5eba-246f-49a8-9196-eeb6c17fc462')\"\n",
              "              title=\"Convert this dataframe to an interactive table.\"\n",
              "              style=\"display:none;\">\n",
              "        \n",
              "  <svg xmlns=\"http://www.w3.org/2000/svg\" height=\"24px\"viewBox=\"0 0 24 24\"\n",
              "       width=\"24px\">\n",
              "    <path d=\"M0 0h24v24H0V0z\" fill=\"none\"/>\n",
              "    <path d=\"M18.56 5.44l.94 2.06.94-2.06 2.06-.94-2.06-.94-.94-2.06-.94 2.06-2.06.94zm-11 1L8.5 8.5l.94-2.06 2.06-.94-2.06-.94L8.5 2.5l-.94 2.06-2.06.94zm10 10l.94 2.06.94-2.06 2.06-.94-2.06-.94-.94-2.06-.94 2.06-2.06.94z\"/><path d=\"M17.41 7.96l-1.37-1.37c-.4-.4-.92-.59-1.43-.59-.52 0-1.04.2-1.43.59L10.3 9.45l-7.72 7.72c-.78.78-.78 2.05 0 2.83L4 21.41c.39.39.9.59 1.41.59.51 0 1.02-.2 1.41-.59l7.78-7.78 2.81-2.81c.8-.78.8-2.07 0-2.86zM5.41 20L4 18.59l7.72-7.72 1.47 1.35L5.41 20z\"/>\n",
              "  </svg>\n",
              "      </button>\n",
              "      \n",
              "  <style>\n",
              "    .colab-df-container {\n",
              "      display:flex;\n",
              "      flex-wrap:wrap;\n",
              "      gap: 12px;\n",
              "    }\n",
              "\n",
              "    .colab-df-convert {\n",
              "      background-color: #E8F0FE;\n",
              "      border: none;\n",
              "      border-radius: 50%;\n",
              "      cursor: pointer;\n",
              "      display: none;\n",
              "      fill: #1967D2;\n",
              "      height: 32px;\n",
              "      padding: 0 0 0 0;\n",
              "      width: 32px;\n",
              "    }\n",
              "\n",
              "    .colab-df-convert:hover {\n",
              "      background-color: #E2EBFA;\n",
              "      box-shadow: 0px 1px 2px rgba(60, 64, 67, 0.3), 0px 1px 3px 1px rgba(60, 64, 67, 0.15);\n",
              "      fill: #174EA6;\n",
              "    }\n",
              "\n",
              "    [theme=dark] .colab-df-convert {\n",
              "      background-color: #3B4455;\n",
              "      fill: #D2E3FC;\n",
              "    }\n",
              "\n",
              "    [theme=dark] .colab-df-convert:hover {\n",
              "      background-color: #434B5C;\n",
              "      box-shadow: 0px 1px 3px 1px rgba(0, 0, 0, 0.15);\n",
              "      filter: drop-shadow(0px 1px 2px rgba(0, 0, 0, 0.3));\n",
              "      fill: #FFFFFF;\n",
              "    }\n",
              "  </style>\n",
              "\n",
              "      <script>\n",
              "        const buttonEl =\n",
              "          document.querySelector('#df-a2bf5eba-246f-49a8-9196-eeb6c17fc462 button.colab-df-convert');\n",
              "        buttonEl.style.display =\n",
              "          google.colab.kernel.accessAllowed ? 'block' : 'none';\n",
              "\n",
              "        async function convertToInteractive(key) {\n",
              "          const element = document.querySelector('#df-a2bf5eba-246f-49a8-9196-eeb6c17fc462');\n",
              "          const dataTable =\n",
              "            await google.colab.kernel.invokeFunction('convertToInteractive',\n",
              "                                                     [key], {});\n",
              "          if (!dataTable) return;\n",
              "\n",
              "          const docLinkHtml = 'Like what you see? Visit the ' +\n",
              "            '<a target=\"_blank\" href=https://colab.research.google.com/notebooks/data_table.ipynb>data table notebook</a>'\n",
              "            + ' to learn more about interactive tables.';\n",
              "          element.innerHTML = '';\n",
              "          dataTable['output_type'] = 'display_data';\n",
              "          await google.colab.output.renderOutput(dataTable, element);\n",
              "          const docLink = document.createElement('div');\n",
              "          docLink.innerHTML = docLinkHtml;\n",
              "          element.appendChild(docLink);\n",
              "        }\n",
              "      </script>\n",
              "    </div>\n",
              "  </div>\n",
              "  "
            ]
          },
          "metadata": {},
          "execution_count": 150
        }
      ]
    },
    {
      "cell_type": "code",
      "source": [
        "# membrane, integral component of membrane 등 크게 의미 없는 term들\n",
        "# manually 제외 필요?\n",
        "\n",
        "excllist = ['membrane','nucleoplasm','integral component of membrane','identical protein binding','nucleotide binding','DNA binding','cytosol']\n",
        "pltinput = finaltable[~finaltable['name_1006'].isin(excllist)]"
      ],
      "metadata": {
        "id": "tgTbyGpoDQq4"
      },
      "execution_count": 186,
      "outputs": []
    },
    {
      "cell_type": "code",
      "source": [
        "# visulaize\n",
        "# 우선 최대한 파이썬의 scatter(bubble plot) 등으로 표현해보기\n",
        "# 각 bubble 주변에 label(말풍선 및 화살표) 적절히 놓을 수 있는 방법? \n",
        "# plt fig ax, subplot 사용?\n",
        "from matplotlib import pyplot as plt\n",
        "plt.figure(figsize=(14,5))\n",
        "plt.xlabel('Enrichment level ofLIN28A-bound CLIP tags ($\\log_2$)')\n",
        "plt.ylabel('Ribosome density change upon Lin28a knockdown ($\\log_2$)')\n",
        "plt.xlim(-2,5)\n",
        "plt.ylim(-1,1.5)\n",
        "plt.xticks(np.arange(-2, 5.01, step=0.5))\n",
        "plt.yticks(np.arange(-1, 1.51, step=0.5))\n",
        "plt.grid(True, color='black', linestyle='--',linewidth=0.8)\n",
        "plt.scatter(pltinput['CLIP_mean'],  pltinput['Rden_mean'],  s=pltinput['count'].tolist(),  c=pltinput['Clip_FDR'].tolist(),  cmap='YlOrRd_r', zorder=3)\n",
        "plt.colorbar()\n",
        "b.ax.set_ylabel('Term-specific enrichment confidence (false discovery rate)', rotation=90, labelpad = -60)\n",
        "b.ax.set_yticklabels([10**-20,10**-18,10**-16,10**-14,10**-12,10**-10,10**-8,10**-6,10**-4,10**-2,10**-0])\n",
        "None"
      ],
      "metadata": {
        "colab": {
          "base_uri": "https://localhost:8080/",
          "height": 618
        },
        "id": "xjo8WuRgv6-F",
        "outputId": "153dad53-457c-4f27-d993-2267526846ec"
      },
      "execution_count": 161,
      "outputs": [
        {
          "output_type": "error",
          "ename": "NameError",
          "evalue": "ignored",
          "traceback": [
            "\u001b[0;31m---------------------------------------------------------------------------\u001b[0m",
            "\u001b[0;31mNameError\u001b[0m                                 Traceback (most recent call last)",
            "\u001b[0;32m<ipython-input-161-f3b9cfa45157>\u001b[0m in \u001b[0;36m<module>\u001b[0;34m()\u001b[0m\n\u001b[1;32m     14\u001b[0m \u001b[0mplt\u001b[0m\u001b[0;34m.\u001b[0m\u001b[0mscatter\u001b[0m\u001b[0;34m(\u001b[0m\u001b[0mpltinput\u001b[0m\u001b[0;34m[\u001b[0m\u001b[0;34m'CLIP_mean'\u001b[0m\u001b[0;34m]\u001b[0m\u001b[0;34m,\u001b[0m  \u001b[0mpltinput\u001b[0m\u001b[0;34m[\u001b[0m\u001b[0;34m'Rden_mean'\u001b[0m\u001b[0;34m]\u001b[0m\u001b[0;34m,\u001b[0m  \u001b[0ms\u001b[0m\u001b[0;34m=\u001b[0m\u001b[0mpltinput\u001b[0m\u001b[0;34m[\u001b[0m\u001b[0;34m'count'\u001b[0m\u001b[0;34m]\u001b[0m\u001b[0;34m.\u001b[0m\u001b[0mtolist\u001b[0m\u001b[0;34m(\u001b[0m\u001b[0;34m)\u001b[0m\u001b[0;34m,\u001b[0m  \u001b[0mc\u001b[0m\u001b[0;34m=\u001b[0m\u001b[0mpltinput\u001b[0m\u001b[0;34m[\u001b[0m\u001b[0;34m'Clip_FDR'\u001b[0m\u001b[0;34m]\u001b[0m\u001b[0;34m.\u001b[0m\u001b[0mtolist\u001b[0m\u001b[0;34m(\u001b[0m\u001b[0;34m)\u001b[0m\u001b[0;34m,\u001b[0m  \u001b[0mcmap\u001b[0m\u001b[0;34m=\u001b[0m\u001b[0;34m'YlOrRd_r'\u001b[0m\u001b[0;34m,\u001b[0m \u001b[0mzorder\u001b[0m\u001b[0;34m=\u001b[0m\u001b[0;36m3\u001b[0m\u001b[0;34m)\u001b[0m\u001b[0;34m\u001b[0m\u001b[0;34m\u001b[0m\u001b[0m\n\u001b[1;32m     15\u001b[0m \u001b[0mplt\u001b[0m\u001b[0;34m.\u001b[0m\u001b[0mcolorbar\u001b[0m\u001b[0;34m(\u001b[0m\u001b[0;34m)\u001b[0m\u001b[0;34m\u001b[0m\u001b[0;34m\u001b[0m\u001b[0m\n\u001b[0;32m---> 16\u001b[0;31m \u001b[0mb\u001b[0m\u001b[0;34m.\u001b[0m\u001b[0max\u001b[0m\u001b[0;34m.\u001b[0m\u001b[0mset_ylabel\u001b[0m\u001b[0;34m(\u001b[0m\u001b[0;34m'Term-specific enrichment confidence (false discovery rate)'\u001b[0m\u001b[0;34m,\u001b[0m \u001b[0mrotation\u001b[0m\u001b[0;34m=\u001b[0m\u001b[0;36m90\u001b[0m\u001b[0;34m,\u001b[0m \u001b[0mlabelpad\u001b[0m \u001b[0;34m=\u001b[0m \u001b[0;34m-\u001b[0m\u001b[0;36m60\u001b[0m\u001b[0;34m)\u001b[0m\u001b[0;34m\u001b[0m\u001b[0;34m\u001b[0m\u001b[0m\n\u001b[0m\u001b[1;32m     17\u001b[0m \u001b[0mb\u001b[0m\u001b[0;34m.\u001b[0m\u001b[0max\u001b[0m\u001b[0;34m.\u001b[0m\u001b[0mset_yticklabels\u001b[0m\u001b[0;34m(\u001b[0m\u001b[0;34m[\u001b[0m\u001b[0;36m10\u001b[0m\u001b[0;34m**\u001b[0m\u001b[0;34m-\u001b[0m\u001b[0;36m20\u001b[0m\u001b[0;34m,\u001b[0m\u001b[0;36m10\u001b[0m\u001b[0;34m**\u001b[0m\u001b[0;34m-\u001b[0m\u001b[0;36m18\u001b[0m\u001b[0;34m,\u001b[0m\u001b[0;36m10\u001b[0m\u001b[0;34m**\u001b[0m\u001b[0;34m-\u001b[0m\u001b[0;36m16\u001b[0m\u001b[0;34m,\u001b[0m\u001b[0;36m10\u001b[0m\u001b[0;34m**\u001b[0m\u001b[0;34m-\u001b[0m\u001b[0;36m14\u001b[0m\u001b[0;34m,\u001b[0m\u001b[0;36m10\u001b[0m\u001b[0;34m**\u001b[0m\u001b[0;34m-\u001b[0m\u001b[0;36m12\u001b[0m\u001b[0;34m,\u001b[0m\u001b[0;36m10\u001b[0m\u001b[0;34m**\u001b[0m\u001b[0;34m-\u001b[0m\u001b[0;36m10\u001b[0m\u001b[0;34m,\u001b[0m\u001b[0;36m10\u001b[0m\u001b[0;34m**\u001b[0m\u001b[0;34m-\u001b[0m\u001b[0;36m8\u001b[0m\u001b[0;34m,\u001b[0m\u001b[0;36m10\u001b[0m\u001b[0;34m**\u001b[0m\u001b[0;34m-\u001b[0m\u001b[0;36m6\u001b[0m\u001b[0;34m,\u001b[0m\u001b[0;36m10\u001b[0m\u001b[0;34m**\u001b[0m\u001b[0;34m-\u001b[0m\u001b[0;36m4\u001b[0m\u001b[0;34m,\u001b[0m\u001b[0;36m10\u001b[0m\u001b[0;34m**\u001b[0m\u001b[0;34m-\u001b[0m\u001b[0;36m2\u001b[0m\u001b[0;34m,\u001b[0m\u001b[0;36m10\u001b[0m\u001b[0;34m**\u001b[0m\u001b[0;34m-\u001b[0m\u001b[0;36m0\u001b[0m\u001b[0;34m]\u001b[0m\u001b[0;34m)\u001b[0m\u001b[0;34m\u001b[0m\u001b[0;34m\u001b[0m\u001b[0m\n\u001b[1;32m     18\u001b[0m \u001b[0;32mNone\u001b[0m\u001b[0;34m\u001b[0m\u001b[0;34m\u001b[0m\u001b[0m\n",
            "\u001b[0;31mNameError\u001b[0m: name 'b' is not defined"
          ]
        },
        {
          "output_type": "display_data",
          "data": {
            "text/plain": [
              "<Figure size 1008x360 with 2 Axes>"
            ],
            "image/png": "[encoded data removed]"
          },
          "metadata": {
            "needs_background": "light"
          }
        }
      ]
    },
    {
      "cell_type": "code",
      "source": [
        "# 연습\n",
        "pltinput = pltinput.sort_values('Clip_FDR',ascending=False)"
      ],
      "metadata": {
        "id": "Ayp7JRxZL6BA"
      },
      "execution_count": 187,
      "outputs": []
    },
    {
      "cell_type": "code",
      "source": [
        "pltinput.sort_values('count',ascending=False)[:20]"
      ],
      "metadata": {
        "colab": {
          "base_uri": "https://localhost:8080/",
          "height": 1000
        },
        "id": "5Gt_4VqwMYJ5",
        "outputId": "b5317377-85ad-448a-ac29-2ed8cd175360"
      },
      "execution_count": 188,
      "outputs": [
        {
          "output_type": "execute_result",
          "data": {
            "text/plain": [
              "       GO-term count  CLIP_mean  Rden_mean  Clip_p-value   Rden_p-value  \\\n",
              "0   GO:0005737  3605  -0.747412  -0.409588  9.191898e-27   2.074356e-96   \n",
              "1   GO:0005634  3461  -0.724884  -0.444662  1.080217e-16  2.078486e-133   \n",
              "8   GO:0005886  1461  -0.289496  -0.097220  1.160209e-24   1.639025e-29   \n",
              "9   GO:0005739  1193  -0.715741  -0.206784  1.547725e-06   1.210991e-05   \n",
              "13  GO:0005783   867   0.052653   0.185614  6.683996e-56  3.370508e-121   \n",
              "18  GO:0005856   732  -0.733063  -0.484213  4.935699e-04   9.142376e-27   \n",
              "19  GO:0005794   712  -0.179972  -0.018478  1.424003e-19   2.088116e-29   \n",
              "20  GO:0003723   669  -0.741461  -0.563381  4.020453e-04   1.385347e-45   \n",
              "22  GO:0043231   598  -0.397214  -0.173574  2.016062e-04   2.433157e-04   \n",
              "27  GO:0005789   511   0.198027   0.280129  1.521795e-45  1.523852e-100   \n",
              "39  GO:0005743   373  -0.858004  -0.104303  2.187599e-05   9.886767e-10   \n",
              "44  GO:0030054   364  -0.331819  -0.232428  3.777033e-05   3.437345e-01   \n",
              "64  GO:0005576   286   0.054802   0.264872  1.031876e-19   6.157749e-51   \n",
              "65  GO:0000139   284  -0.019717   0.131638  8.001561e-17   1.193149e-29   \n",
              "66  GO:0006281   283  -0.795557  -0.522766  4.119418e-04   1.905596e-14   \n",
              "69  GO:0005615   269  -0.048255   0.249916  5.307523e-14   5.815158e-47   \n",
              "70  GO:0005764   260  -0.318929   0.115519  1.514656e-04   2.210084e-22   \n",
              "77  GO:0006412   249  -0.987772  -0.288474  7.720037e-07   3.259476e-01   \n",
              "79  GO:0003824   238  -0.827174  -0.374238  4.089812e-04   3.888135e-04   \n",
              "84  GO:0009986   225   0.260921   0.250715  7.315776e-26   1.512574e-38   \n",
              "\n",
              "    Clip_p-value_rank      Clip_FDR      namespace_1003  \\\n",
              "0                 6.0  2.235623e-23  cellular_component   \n",
              "1                14.0  1.125972e-13  cellular_component   \n",
              "8                 8.0  2.116366e-21  cellular_component   \n",
              "9                47.0  4.805522e-04  cellular_component   \n",
              "13                3.0  3.251318e-52  cellular_component   \n",
              "18              163.0  4.391870e-02  cellular_component   \n",
              "19               10.0  2.078048e-16  cellular_component   \n",
              "20              150.0  3.853740e-02  molecular_function   \n",
              "22              120.0  2.431437e-02  cellular_component   \n",
              "27                4.0  5.551888e-42  cellular_component   \n",
              "39               74.0  4.314003e-03  cellular_component   \n",
              "44               87.0  6.335430e-03  cellular_component   \n",
              "64                9.0  1.673130e-16  cellular_component   \n",
              "65               12.0  9.730565e-14  cellular_component   \n",
              "66              154.0  3.853740e-02  biological_process   \n",
              "69               19.0  4.076457e-11  cellular_component   \n",
              "70              113.0  1.956051e-02  cellular_component   \n",
              "77               40.0  2.816462e-04  biological_process   \n",
              "79              153.0  3.853740e-02  molecular_function   \n",
              "84                7.0  1.525130e-22  cellular_component   \n",
              "\n",
              "                                   name_1006  \n",
              "0                                  cytoplasm  \n",
              "1                                    nucleus  \n",
              "8                            plasma membrane  \n",
              "9                              mitochondrion  \n",
              "13                     endoplasmic reticulum  \n",
              "18                              cytoskeleton  \n",
              "19                           Golgi apparatus  \n",
              "20                               RNA binding  \n",
              "22  intracellular membrane-bounded organelle  \n",
              "27            endoplasmic reticulum membrane  \n",
              "39              mitochondrial inner membrane  \n",
              "44                             cell junction  \n",
              "64                      extracellular region  \n",
              "65                            Golgi membrane  \n",
              "66                                DNA repair  \n",
              "69                       extracellular space  \n",
              "70                                  lysosome  \n",
              "77                               translation  \n",
              "79                        catalytic activity  \n",
              "84                              cell surface  "
            ],
            "text/html": [
              "\n",
              "  <div id=\"df-41121705-8ec7-403b-8a20-7d58bf0dece6\">\n",
              "    <div class=\"colab-df-container\">\n",
              "      <div>\n",
              "<style scoped>\n",
              "    .dataframe tbody tr th:only-of-type {\n",
              "        vertical-align: middle;\n",
              "    }\n",
              "\n",
              "    .dataframe tbody tr th {\n",
              "        vertical-align: top;\n",
              "    }\n",
              "\n",
              "    .dataframe thead th {\n",
              "        text-align: right;\n",
              "    }\n",
              "</style>\n",
              "<table border=\"1\" class=\"dataframe\">\n",
              "  <thead>\n",
              "    <tr style=\"text-align: right;\">\n",
              "      <th></th>\n",
              "      <th>GO-term</th>\n",
              "      <th>count</th>\n",
              "      <th>CLIP_mean</th>\n",
              "      <th>Rden_mean</th>\n",
              "      <th>Clip_p-value</th>\n",
              "      <th>Rden_p-value</th>\n",
              "      <th>Clip_p-value_rank</th>\n",
              "      <th>Clip_FDR</th>\n",
              "      <th>namespace_1003</th>\n",
              "      <th>name_1006</th>\n",
              "    </tr>\n",
              "  </thead>\n",
              "  <tbody>\n",
              "    <tr>\n",
              "      <th>0</th>\n",
              "      <td>GO:0005737</td>\n",
              "      <td>3605</td>\n",
              "      <td>-0.747412</td>\n",
              "      <td>-0.409588</td>\n",
              "      <td>9.191898e-27</td>\n",
              "      <td>2.074356e-96</td>\n",
              "      <td>6.0</td>\n",
              "      <td>2.235623e-23</td>\n",
              "      <td>cellular_component</td>\n",
              "      <td>cytoplasm</td>\n",
              "    </tr>\n",
              "    <tr>\n",
              "      <th>1</th>\n",
              "      <td>GO:0005634</td>\n",
              "      <td>3461</td>\n",
              "      <td>-0.724884</td>\n",
              "      <td>-0.444662</td>\n",
              "      <td>1.080217e-16</td>\n",
              "      <td>2.078486e-133</td>\n",
              "      <td>14.0</td>\n",
              "      <td>1.125972e-13</td>\n",
              "      <td>cellular_component</td>\n",
              "      <td>nucleus</td>\n",
              "    </tr>\n",
              "    <tr>\n",
              "      <th>8</th>\n",
              "      <td>GO:0005886</td>\n",
              "      <td>1461</td>\n",
              "      <td>-0.289496</td>\n",
              "      <td>-0.097220</td>\n",
              "      <td>1.160209e-24</td>\n",
              "      <td>1.639025e-29</td>\n",
              "      <td>8.0</td>\n",
              "      <td>2.116366e-21</td>\n",
              "      <td>cellular_component</td>\n",
              "      <td>plasma membrane</td>\n",
              "    </tr>\n",
              "    <tr>\n",
              "      <th>9</th>\n",
              "      <td>GO:0005739</td>\n",
              "      <td>1193</td>\n",
              "      <td>-0.715741</td>\n",
              "      <td>-0.206784</td>\n",
              "      <td>1.547725e-06</td>\n",
              "      <td>1.210991e-05</td>\n",
              "      <td>47.0</td>\n",
              "      <td>4.805522e-04</td>\n",
              "      <td>cellular_component</td>\n",
              "      <td>mitochondrion</td>\n",
              "    </tr>\n",
              "    <tr>\n",
              "      <th>13</th>\n",
              "      <td>GO:0005783</td>\n",
              "      <td>867</td>\n",
              "      <td>0.052653</td>\n",
              "      <td>0.185614</td>\n",
              "      <td>6.683996e-56</td>\n",
              "      <td>3.370508e-121</td>\n",
              "      <td>3.0</td>\n",
              "      <td>3.251318e-52</td>\n",
              "      <td>cellular_component</td>\n",
              "      <td>endoplasmic reticulum</td>\n",
              "    </tr>\n",
              "    <tr>\n",
              "      <th>18</th>\n",
              "      <td>GO:0005856</td>\n",
              "      <td>732</td>\n",
              "      <td>-0.733063</td>\n",
              "      <td>-0.484213</td>\n",
              "      <td>4.935699e-04</td>\n",
              "      <td>9.142376e-27</td>\n",
              "      <td>163.0</td>\n",
              "      <td>4.391870e-02</td>\n",
              "      <td>cellular_component</td>\n",
              "      <td>cytoskeleton</td>\n",
              "    </tr>\n",
              "    <tr>\n",
              "      <th>19</th>\n",
              "      <td>GO:0005794</td>\n",
              "      <td>712</td>\n",
              "      <td>-0.179972</td>\n",
              "      <td>-0.018478</td>\n",
              "      <td>1.424003e-19</td>\n",
              "      <td>2.088116e-29</td>\n",
              "      <td>10.0</td>\n",
              "      <td>2.078048e-16</td>\n",
              "      <td>cellular_component</td>\n",
              "      <td>Golgi apparatus</td>\n",
              "    </tr>\n",
              "    <tr>\n",
              "      <th>20</th>\n",
              "      <td>GO:0003723</td>\n",
              "      <td>669</td>\n",
              "      <td>-0.741461</td>\n",
              "      <td>-0.563381</td>\n",
              "      <td>4.020453e-04</td>\n",
              "      <td>1.385347e-45</td>\n",
              "      <td>150.0</td>\n",
              "      <td>3.853740e-02</td>\n",
              "      <td>molecular_function</td>\n",
              "      <td>RNA binding</td>\n",
              "    </tr>\n",
              "    <tr>\n",
              "      <th>22</th>\n",
              "      <td>GO:0043231</td>\n",
              "      <td>598</td>\n",
              "      <td>-0.397214</td>\n",
              "      <td>-0.173574</td>\n",
              "      <td>2.016062e-04</td>\n",
              "      <td>2.433157e-04</td>\n",
              "      <td>120.0</td>\n",
              "      <td>2.431437e-02</td>\n",
              "      <td>cellular_component</td>\n",
              "      <td>intracellular membrane-bounded organelle</td>\n",
              "    </tr>\n",
              "    <tr>\n",
              "      <th>27</th>\n",
              "      <td>GO:0005789</td>\n",
              "      <td>511</td>\n",
              "      <td>0.198027</td>\n",
              "      <td>0.280129</td>\n",
              "      <td>1.521795e-45</td>\n",
              "      <td>1.523852e-100</td>\n",
              "      <td>4.0</td>\n",
              "      <td>5.551888e-42</td>\n",
              "      <td>cellular_component</td>\n",
              "      <td>endoplasmic reticulum membrane</td>\n",
              "    </tr>\n",
              "    <tr>\n",
              "      <th>39</th>\n",
              "      <td>GO:0005743</td>\n",
              "      <td>373</td>\n",
              "      <td>-0.858004</td>\n",
              "      <td>-0.104303</td>\n",
              "      <td>2.187599e-05</td>\n",
              "      <td>9.886767e-10</td>\n",
              "      <td>74.0</td>\n",
              "      <td>4.314003e-03</td>\n",
              "      <td>cellular_component</td>\n",
              "      <td>mitochondrial inner membrane</td>\n",
              "    </tr>\n",
              "    <tr>\n",
              "      <th>44</th>\n",
              "      <td>GO:0030054</td>\n",
              "      <td>364</td>\n",
              "      <td>-0.331819</td>\n",
              "      <td>-0.232428</td>\n",
              "      <td>3.777033e-05</td>\n",
              "      <td>3.437345e-01</td>\n",
              "      <td>87.0</td>\n",
              "      <td>6.335430e-03</td>\n",
              "      <td>cellular_component</td>\n",
              "      <td>cell junction</td>\n",
              "    </tr>\n",
              "    <tr>\n",
              "      <th>64</th>\n",
              "      <td>GO:0005576</td>\n",
              "      <td>286</td>\n",
              "      <td>0.054802</td>\n",
              "      <td>0.264872</td>\n",
              "      <td>1.031876e-19</td>\n",
              "      <td>6.157749e-51</td>\n",
              "      <td>9.0</td>\n",
              "      <td>1.673130e-16</td>\n",
              "      <td>cellular_component</td>\n",
              "      <td>extracellular region</td>\n",
              "    </tr>\n",
              "    <tr>\n",
              "      <th>65</th>\n",
              "      <td>GO:0000139</td>\n",
              "      <td>284</td>\n",
              "      <td>-0.019717</td>\n",
              "      <td>0.131638</td>\n",
              "      <td>8.001561e-17</td>\n",
              "      <td>1.193149e-29</td>\n",
              "      <td>12.0</td>\n",
              "      <td>9.730565e-14</td>\n",
              "      <td>cellular_component</td>\n",
              "      <td>Golgi membrane</td>\n",
              "    </tr>\n",
              "    <tr>\n",
              "      <th>66</th>\n",
              "      <td>GO:0006281</td>\n",
              "      <td>283</td>\n",
              "      <td>-0.795557</td>\n",
              "      <td>-0.522766</td>\n",
              "      <td>4.119418e-04</td>\n",
              "      <td>1.905596e-14</td>\n",
              "      <td>154.0</td>\n",
              "      <td>3.853740e-02</td>\n",
              "      <td>biological_process</td>\n",
              "      <td>DNA repair</td>\n",
              "    </tr>\n",
              "    <tr>\n",
              "      <th>69</th>\n",
              "      <td>GO:0005615</td>\n",
              "      <td>269</td>\n",
              "      <td>-0.048255</td>\n",
              "      <td>0.249916</td>\n",
              "      <td>5.307523e-14</td>\n",
              "      <td>5.815158e-47</td>\n",
              "      <td>19.0</td>\n",
              "      <td>4.076457e-11</td>\n",
              "      <td>cellular_component</td>\n",
              "      <td>extracellular space</td>\n",
              "    </tr>\n",
              "    <tr>\n",
              "      <th>70</th>\n",
              "      <td>GO:0005764</td>\n",
              "      <td>260</td>\n",
              "      <td>-0.318929</td>\n",
              "      <td>0.115519</td>\n",
              "      <td>1.514656e-04</td>\n",
              "      <td>2.210084e-22</td>\n",
              "      <td>113.0</td>\n",
              "      <td>1.956051e-02</td>\n",
              "      <td>cellular_component</td>\n",
              "      <td>lysosome</td>\n",
              "    </tr>\n",
              "    <tr>\n",
              "      <th>77</th>\n",
              "      <td>GO:0006412</td>\n",
              "      <td>249</td>\n",
              "      <td>-0.987772</td>\n",
              "      <td>-0.288474</td>\n",
              "      <td>7.720037e-07</td>\n",
              "      <td>3.259476e-01</td>\n",
              "      <td>40.0</td>\n",
              "      <td>2.816462e-04</td>\n",
              "      <td>biological_process</td>\n",
              "      <td>translation</td>\n",
              "    </tr>\n",
              "    <tr>\n",
              "      <th>79</th>\n",
              "      <td>GO:0003824</td>\n",
              "      <td>238</td>\n",
              "      <td>-0.827174</td>\n",
              "      <td>-0.374238</td>\n",
              "      <td>4.089812e-04</td>\n",
              "      <td>3.888135e-04</td>\n",
              "      <td>153.0</td>\n",
              "      <td>3.853740e-02</td>\n",
              "      <td>molecular_function</td>\n",
              "      <td>catalytic activity</td>\n",
              "    </tr>\n",
              "    <tr>\n",
              "      <th>84</th>\n",
              "      <td>GO:0009986</td>\n",
              "      <td>225</td>\n",
              "      <td>0.260921</td>\n",
              "      <td>0.250715</td>\n",
              "      <td>7.315776e-26</td>\n",
              "      <td>1.512574e-38</td>\n",
              "      <td>7.0</td>\n",
              "      <td>1.525130e-22</td>\n",
              "      <td>cellular_component</td>\n",
              "      <td>cell surface</td>\n",
              "    </tr>\n",
              "  </tbody>\n",
              "</table>\n",
              "</div>\n",
              "      <button class=\"colab-df-convert\" onclick=\"convertToInteractive('df-41121705-8ec7-403b-8a20-7d58bf0dece6')\"\n",
              "              title=\"Convert this dataframe to an interactive table.\"\n",
              "              style=\"display:none;\">\n",
              "        \n",
              "  <svg xmlns=\"http://www.w3.org/2000/svg\" height=\"24px\"viewBox=\"0 0 24 24\"\n",
              "       width=\"24px\">\n",
              "    <path d=\"M0 0h24v24H0V0z\" fill=\"none\"/>\n",
              "    <path d=\"M18.56 5.44l.94 2.06.94-2.06 2.06-.94-2.06-.94-.94-2.06-.94 2.06-2.06.94zm-11 1L8.5 8.5l.94-2.06 2.06-.94-2.06-.94L8.5 2.5l-.94 2.06-2.06.94zm10 10l.94 2.06.94-2.06 2.06-.94-2.06-.94-.94-2.06-.94 2.06-2.06.94z\"/><path d=\"M17.41 7.96l-1.37-1.37c-.4-.4-.92-.59-1.43-.59-.52 0-1.04.2-1.43.59L10.3 9.45l-7.72 7.72c-.78.78-.78 2.05 0 2.83L4 21.41c.39.39.9.59 1.41.59.51 0 1.02-.2 1.41-.59l7.78-7.78 2.81-2.81c.8-.78.8-2.07 0-2.86zM5.41 20L4 18.59l7.72-7.72 1.47 1.35L5.41 20z\"/>\n",
              "  </svg>\n",
              "      </button>\n",
              "      \n",
              "  <style>\n",
              "    .colab-df-container {\n",
              "      display:flex;\n",
              "      flex-wrap:wrap;\n",
              "      gap: 12px;\n",
              "    }\n",
              "\n",
              "    .colab-df-convert {\n",
              "      background-color: #E8F0FE;\n",
              "      border: none;\n",
              "      border-radius: 50%;\n",
              "      cursor: pointer;\n",
              "      display: none;\n",
              "      fill: #1967D2;\n",
              "      height: 32px;\n",
              "      padding: 0 0 0 0;\n",
              "      width: 32px;\n",
              "    }\n",
              "\n",
              "    .colab-df-convert:hover {\n",
              "      background-color: #E2EBFA;\n",
              "      box-shadow: 0px 1px 2px rgba(60, 64, 67, 0.3), 0px 1px 3px 1px rgba(60, 64, 67, 0.15);\n",
              "      fill: #174EA6;\n",
              "    }\n",
              "\n",
              "    [theme=dark] .colab-df-convert {\n",
              "      background-color: #3B4455;\n",
              "      fill: #D2E3FC;\n",
              "    }\n",
              "\n",
              "    [theme=dark] .colab-df-convert:hover {\n",
              "      background-color: #434B5C;\n",
              "      box-shadow: 0px 1px 3px 1px rgba(0, 0, 0, 0.15);\n",
              "      filter: drop-shadow(0px 1px 2px rgba(0, 0, 0, 0.3));\n",
              "      fill: #FFFFFF;\n",
              "    }\n",
              "  </style>\n",
              "\n",
              "      <script>\n",
              "        const buttonEl =\n",
              "          document.querySelector('#df-41121705-8ec7-403b-8a20-7d58bf0dece6 button.colab-df-convert');\n",
              "        buttonEl.style.display =\n",
              "          google.colab.kernel.accessAllowed ? 'block' : 'none';\n",
              "\n",
              "        async function convertToInteractive(key) {\n",
              "          const element = document.querySelector('#df-41121705-8ec7-403b-8a20-7d58bf0dece6');\n",
              "          const dataTable =\n",
              "            await google.colab.kernel.invokeFunction('convertToInteractive',\n",
              "                                                     [key], {});\n",
              "          if (!dataTable) return;\n",
              "\n",
              "          const docLinkHtml = 'Like what you see? Visit the ' +\n",
              "            '<a target=\"_blank\" href=https://colab.research.google.com/notebooks/data_table.ipynb>data table notebook</a>'\n",
              "            + ' to learn more about interactive tables.';\n",
              "          element.innerHTML = '';\n",
              "          dataTable['output_type'] = 'display_data';\n",
              "          await google.colab.output.renderOutput(dataTable, element);\n",
              "          const docLink = document.createElement('div');\n",
              "          docLink.innerHTML = docLinkHtml;\n",
              "          element.appendChild(docLink);\n",
              "        }\n",
              "      </script>\n",
              "    </div>\n",
              "  </div>\n",
              "  "
            ]
          },
          "metadata": {},
          "execution_count": 188
        }
      ]
    },
    {
      "cell_type": "code",
      "source": [
        "# 연습\n",
        "# 진한, 중요한 bubble이 앞에 오도록 문제 해결 필요. : pltinput 색 진하기(fdr) 역순으로 정렬 후 scatter? -> 맞다.\n",
        "# cytoplam, nucleus 비슷한 위치인데 크기도 너무 큼 : mito membrane 제거해도 크게 도움될 것 같지는 않다.\n",
        "# dual localization 갖는 protein 많아서 ?\n",
        "from matplotlib import pyplot as plt\n",
        "import matplotlib.colors as colors\n",
        "\n",
        "plt.figure(figsize=(17,5))\n",
        "plt.xlabel('Enrichment level ofLIN28A-bound CLIP tags ($\\log_2$)')\n",
        "plt.ylabel('Ribosome density change upon Lin28a knockdown ($\\log_2$)')\n",
        "plt.xlim(-2,5)\n",
        "plt.ylim(-1,1.5)\n",
        "plt.xticks(np.arange(-2, 5.01, step=0.5))\n",
        "plt.yticks(np.arange(-1, 1.51, step=0.5))\n",
        "plt.grid(True, color='black', linestyle='--',linewidth=0.8)\n",
        "plt.scatter(pltinput['CLIP_mean'],  pltinput['Rden_mean'],  s=pltinput['count'].tolist(),  c=pltinput['Clip_FDR'].tolist(), norm=colors.LogNorm(vmin=10**-20, vmax=1), cmap='YlOrRd_r', alpha=0.6,zorder=3)\n",
        "b = plt.colorbar()\n",
        "b.ax.set_ylabel('Term-specific enrichment confidence (false discovery rate)', rotation=90, labelpad = -70)\n",
        "b.set_ticks([10**-0, 10**-2,10**-4,10**-6,10**-8,10**-10,10**-12,10**-14,10**-16,10**-18,10**-20])\n",
        "None"
      ],
      "metadata": {
        "colab": {
          "base_uri": "https://localhost:8080/",
          "height": 264
        },
        "id": "BKzuXoGjHOUy",
        "outputId": "ecddfae7-ade3-469e-8a92-180117bc6acb"
      },
      "execution_count": 192,
      "outputs": [
        {
          "output_type": "display_data",
          "data": {
            "text/plain": [
              "<Figure size 1224x360 with 2 Axes>"
            ],
            "image/png": "[encoded data removed]"
          },
          "metadata": {
            "needs_background": "light"
          }
        }
      ]
    }
  ]
}