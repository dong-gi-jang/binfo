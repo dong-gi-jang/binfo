{
  "nbformat": 4,
  "nbformat_minor": 0,
  "metadata": {
    "colab": {
      "name": "Free2_Fig5A.ipynb",
      "provenance": [],
      "collapsed_sections": [
        "c4gbp3feeIFB"
      ],
      "authorship_tag": "ABX9TyPR1Ih0epKoxbLiBryWucFv",
      "include_colab_link": true
    },
    "kernelspec": {
      "name": "python3",
      "display_name": "Python 3"
    },
    "language_info": {
      "name": "python"
    }
  },
  "cells": [
    {
      "cell_type": "markdown",
      "metadata": {
        "id": "view-in-github",
        "colab_type": "text"
      },
      "source": [
        "<a href=\"https://colab.research.google.com/github/dong-gi-jang/binfo/blob/main/Free%202/Free2_Fig5A.ipynb\" target=\"_parent\"><img src=\"https://colab.research.google.com/assets/colab-badge.svg\" alt=\"Open In Colab\"/></a>"
      ]
    },
    {
      "cell_type": "markdown",
      "source": [
        "# Free 2\n",
        "## LIN28A is a suppressor of ER-associated translation in embryonic stem cells\n",
        "[위 논문](https://doi.org/10.1016/j.cell.2012.10.019)의 Fig.5A (GO enrichment analysis) 재현하기"
      ],
      "metadata": {
        "id": "JBOpusi9mQ3B"
      }
    },
    {
      "cell_type": "code",
      "execution_count": 1,
      "metadata": {
        "colab": {
          "base_uri": "https://localhost:8080/"
        },
        "id": "vFU2ssx2mMJJ",
        "outputId": "93a6a52d-b7db-4461-b5f4-8adf0ed6e4a5"
      },
      "outputs": [
        {
          "output_type": "stream",
          "name": "stdout",
          "text": [
            "Mounted at /content/drive\n"
          ]
        }
      ],
      "source": [
        "# Google Drive 마운트\n",
        "from google.colab import drive\n",
        "drive.mount('/content/drive')"
      ]
    },
    {
      "cell_type": "markdown",
      "source": [
        "## installation"
      ],
      "metadata": {
        "id": "8j31irwsVQfe"
      }
    },
    {
      "cell_type": "code",
      "source": [
        "!git clone https://github.com/hyeshik/colab-biolab.git\n",
        "!cd colab-biolab && bash tools/setup.sh\n",
        "exec(open('colab-biolab/tools/activate_conda.py').read())\n",
        "\n",
        "!conda install -y subread"
      ],
      "metadata": {
        "id": "w5GSfLFNnbEl"
      },
      "execution_count": null,
      "outputs": []
    },
    {
      "cell_type": "markdown",
      "source": [
        "## import dataset"
      ],
      "metadata": {
        "id": "ZkWtZqOsVTxd"
      }
    },
    {
      "cell_type": "markdown",
      "source": [
        "Subread featurecounts이용한 transcript별 read count 계산.\n",
        "\n",
        "multi-mapping도 고려해야 하는가?\n",
        " - ignore all : transcript level에서는 이건 안됨? complete exons would be ignored.[[1]](https://www.sciencedirect.com/science/article/pii/S2001037020303032)\n",
        "   - 그런데 기존 week1 read-counts.txt 파일은 gene level에서, 이렇게?\n",
        " - count once per alignment (-M)\n",
        " - equally split (-M --fraction)\n",
        "   - 그러나 truly expressed gene을 underestimate할 가능성"
      ],
      "metadata": {
        "id": "_llcrCkTr3x5"
      }
    },
    {
      "cell_type": "code",
      "source": [
        "%cd /content/drive/MyDrive/binfo1-datapack1/\n",
        "\n",
        "# run subread\n",
        "# to equally split,\n",
        "# !featureCounts -a gencode.gtf -o read-counts_es.txt -M --fraction *.bam \n",
        "\n",
        "# to ignore,\n",
        "# !featureCounts -a gencode.gtf -o read-counts.txt *.bam "
      ],
      "metadata": {
        "colab": {
          "base_uri": "https://localhost:8080/"
        },
        "id": "zT8j10yHrAkH",
        "outputId": "e1827ec7-adb6-4d36-bea1-407fb6c871d1"
      },
      "execution_count": 2,
      "outputs": [
        {
          "output_type": "stream",
          "name": "stdout",
          "text": [
            "/content/drive/MyDrive/binfo1-datapack1\n"
          ]
        }
      ]
    },
    {
      "cell_type": "code",
      "source": [
        "# 그런데 우선은 ignore 결과인 기존 week1 read-counts.txt 파일 가져와서 진행.\n",
        "import pandas as pd\n",
        "import numpy as np\n",
        "cnts = pd.read_csv('read-counts.txt', sep='\\t', comment='#', index_col=0)"
      ],
      "metadata": {
        "id": "nVKGI6jUs5qq"
      },
      "execution_count": 4,
      "outputs": []
    },
    {
      "cell_type": "markdown",
      "source": [
        "## read-counts matrix processing"
      ],
      "metadata": {
        "id": "xXV7hev-Dwi5"
      }
    },
    {
      "cell_type": "code",
      "source": [
        "# 각 컬럼의 sum (total assigned read count)으로 normalize?\n",
        "# 전체 bam파일 수준에서의 align reads 수로 normalize?\n",
        "\n",
        "# 일단은 featurecounts 결과에서의 각 column의 total sum으로 normalize 시도\n",
        "cnts['log2_clip_enrichment'] = np.log2(   (cnts['CLIP-35L33G.bam']/cnts['CLIP-35L33G.bam'].sum() ) / (cnts['RNA-control.bam']/cnts['RNA-control.bam'].sum() ) )\n",
        "cnts['log2_rden_change'] = np.log2( (   (cnts['RPF-siLin28a.bam']/cnts['RPF-siLin28a.bam'].sum()) / (cnts['RNA-siLin28a.bam']/cnts['RNA-siLin28a.bam'].sum() ) / ( (cnts['RPF-siLuc.bam']/cnts['RPF-siLin28a.bam'].sum() )/ (cnts['RNA-siLuc.bam']/cnts['RNA-siLuc.bam'].sum()))))"
      ],
      "metadata": {
        "colab": {
          "base_uri": "https://localhost:8080/"
        },
        "id": "oxUueJb3kHPv",
        "outputId": "b119f381-11b2-474c-9478-3cd800c976fd"
      },
      "execution_count": 5,
      "outputs": [
        {
          "output_type": "stream",
          "name": "stderr",
          "text": [
            "/usr/local/lib/python3.7/dist-packages/pandas/core/arraylike.py:364: RuntimeWarning: divide by zero encountered in log2\n",
            "  result = getattr(ufunc, method)(*inputs, **kwargs)\n"
          ]
        }
      ]
    },
    {
      "cell_type": "code",
      "source": [
        "# Geneid(index) 마다 있는 점 뒤쪽 제거하여 우선은 gene level에서 보기\n",
        "import copy\n",
        "\n",
        "cnts_rmdot = copy.deepcopy(cnts)\n",
        "cnts_rmdot.index = cnts_rmdot.index.map(lambda p : p.split('.')[0])"
      ],
      "metadata": {
        "id": "ncIoLedEpTYc"
      },
      "execution_count": 7,
      "outputs": []
    },
    {
      "cell_type": "code",
      "source": [
        "# cutoff 정해, low abundant 제거하기\n",
        "# 논문 따라하려면 어떻게?\n",
        "# exclude transcripts with low ribosome occupancy(<80 raw reads in siLuc) 즉, RPF-siLuc >80\n",
        "rna_cutoff = 30\n",
        "ribo_cutoff = 80\n",
        "\n",
        "ribobool = cnts_rmdot['RPF-siLuc.bam'] > ribo_cutoff\n",
        "rnabool = cnts_rmdot['RNA-siLuc.bam'] > rna_cutoff\n",
        "lin28abool = cnts_rmdot['RNA-siLin28a.bam'] > rna_cutoff\n",
        "\n",
        "# clipbool = cnts_rmdot['RNA-control.bam'] > rna_cutoff\n",
        "\n",
        "cnts_cutoff = cnts_rmdot[ribobool & rnabool & lin28abool]"
      ],
      "metadata": {
        "id": "v8gO0t9NpWLh"
      },
      "execution_count": 9,
      "outputs": []
    },
    {
      "cell_type": "code",
      "source": [
        "# log2 처리 시 nan값, -inf값 포함 여부 확인\n",
        "print('nan # : ',len(cnts_cutoff[cnts_cutoff['log2_clip_enrichment'].isnull() | cnts_cutoff['log2_rden_change'].isnull()]))\n",
        "print('-inf # : ', len(cnts_cutoff[(cnts_cutoff['log2_clip_enrichment']==-np.inf) | (cnts_cutoff['log2_rden_change']==-np.inf) ]))"
      ],
      "metadata": {
        "colab": {
          "base_uri": "https://localhost:8080/"
        },
        "id": "NceqlnVrC8W2",
        "outputId": "4c6c522a-0804-4b07-df19-08b819d35230"
      },
      "execution_count": 19,
      "outputs": [
        {
          "output_type": "stream",
          "name": "stdout",
          "text": [
            "nan # :  0\n",
            "-inf # :  4\n"
          ]
        }
      ]
    },
    {
      "cell_type": "code",
      "source": [
        "# -inf값 4개 있어서, 제거된 df 이용\n",
        "cnts_noinf = cnts_cutoff[cnts_cutoff['log2_clip_enrichment']!=-np.inf]"
      ],
      "metadata": {
        "id": "o9pQN-MdC8S_"
      },
      "execution_count": 20,
      "outputs": []
    },
    {
      "cell_type": "code",
      "source": [
        "# matrix에 포함된 gene 목록 추출\n",
        "raw_genelist= cnts_noinf.index.tolist()\n",
        "# 중복된 gene 여부 확인\n",
        "print(len(raw_genelist),len(set(raw_genelist)))"
      ],
      "metadata": {
        "colab": {
          "base_uri": "https://localhost:8080/"
        },
        "id": "BymCczpID2Ky",
        "outputId": "4b3c53b5-fc8c-43f6-b688-486cfe2a5035"
      },
      "execution_count": 21,
      "outputs": [
        {
          "output_type": "stream",
          "name": "stdout",
          "text": [
            "8070 8070\n"
          ]
        }
      ]
    },
    {
      "cell_type": "markdown",
      "source": [
        "## Identifier mapping"
      ],
      "metadata": {
        "id": "8hyDsOGyXc7I"
      }
    },
    {
      "cell_type": "code",
      "source": [
        "# EnsEMBL Gene ID를 gene symbol, uniprot accession으로 mapping 위해,\n",
        "!pip install gseapy"
      ],
      "metadata": {
        "id": "1QrL58yNstPO"
      },
      "execution_count": null,
      "outputs": []
    },
    {
      "cell_type": "code",
      "source": [
        "import gseapy as gp\n",
        "bm = gp.parser.Biomart()"
      ],
      "metadata": {
        "id": "Cnu1axiz5e2Z",
        "colab": {
          "base_uri": "https://localhost:8080/"
        },
        "outputId": "68cb7180-c6d5-4cf7-85a2-57b3819b5f0d"
      },
      "execution_count": 24,
      "outputs": [
        {
          "output_type": "stream",
          "name": "stdout",
          "text": [
            "Creating directory /root/.cache/bioservices \n",
            "Welcome to Bioservices\n",
            "======================\n",
            "It looks like you do not have a configuration file.\n",
            "We are creating one with default values in /root/.config/bioservices/bioservices.cfg .\n",
            "Done\n"
          ]
        }
      ]
    },
    {
      "cell_type": "code",
      "source": [
        "a = bm.get_attributes('mmusculus_gene_ensembl')"
      ],
      "metadata": {
        "id": "q6Kb34nvCLLN"
      },
      "execution_count": 209,
      "outputs": []
    },
    {
      "cell_type": "code",
      "source": [
        "a"
      ],
      "metadata": {
        "colab": {
          "base_uri": "https://localhost:8080/",
          "height": 423
        },
        "id": "7YlcpGrLEYsj",
        "outputId": "df1c961f-d0b4-4fe8-b0d8-e692c2f2933b"
      },
      "execution_count": 211,
      "outputs": [
        {
          "output_type": "execute_result",
          "data": {
            "text/plain": [
              "                          Attribute                   Description\n",
              "0                   ensembl_gene_id                Gene stable ID\n",
              "1           ensembl_gene_id_version        Gene stable ID version\n",
              "2             ensembl_transcript_id          Transcript stable ID\n",
              "3     ensembl_transcript_id_version  Transcript stable ID version\n",
              "4                ensembl_peptide_id             Protein stable ID\n",
              "...                             ...                           ...\n",
              "2875                           cdna                cDNA sequences\n",
              "2876                         coding               Coding sequence\n",
              "2877                        peptide                       Peptide\n",
              "2878                 upstream_flank                upstream_flank\n",
              "2879               downstream_flank              downstream_flank\n",
              "\n",
              "[2880 rows x 2 columns]"
            ],
            "text/html": [
              "\n",
              "  <div id=\"df-91c263c9-d46a-44a8-a880-b105c682cafa\">\n",
              "    <div class=\"colab-df-container\">\n",
              "      <div>\n",
              "<style scoped>\n",
              "    .dataframe tbody tr th:only-of-type {\n",
              "        vertical-align: middle;\n",
              "    }\n",
              "\n",
              "    .dataframe tbody tr th {\n",
              "        vertical-align: top;\n",
              "    }\n",
              "\n",
              "    .dataframe thead th {\n",
              "        text-align: right;\n",
              "    }\n",
              "</style>\n",
              "<table border=\"1\" class=\"dataframe\">\n",
              "  <thead>\n",
              "    <tr style=\"text-align: right;\">\n",
              "      <th></th>\n",
              "      <th>Attribute</th>\n",
              "      <th>Description</th>\n",
              "    </tr>\n",
              "  </thead>\n",
              "  <tbody>\n",
              "    <tr>\n",
              "      <th>0</th>\n",
              "      <td>ensembl_gene_id</td>\n",
              "      <td>Gene stable ID</td>\n",
              "    </tr>\n",
              "    <tr>\n",
              "      <th>1</th>\n",
              "      <td>ensembl_gene_id_version</td>\n",
              "      <td>Gene stable ID version</td>\n",
              "    </tr>\n",
              "    <tr>\n",
              "      <th>2</th>\n",
              "      <td>ensembl_transcript_id</td>\n",
              "      <td>Transcript stable ID</td>\n",
              "    </tr>\n",
              "    <tr>\n",
              "      <th>3</th>\n",
              "      <td>ensembl_transcript_id_version</td>\n",
              "      <td>Transcript stable ID version</td>\n",
              "    </tr>\n",
              "    <tr>\n",
              "      <th>4</th>\n",
              "      <td>ensembl_peptide_id</td>\n",
              "      <td>Protein stable ID</td>\n",
              "    </tr>\n",
              "    <tr>\n",
              "      <th>...</th>\n",
              "      <td>...</td>\n",
              "      <td>...</td>\n",
              "    </tr>\n",
              "    <tr>\n",
              "      <th>2875</th>\n",
              "      <td>cdna</td>\n",
              "      <td>cDNA sequences</td>\n",
              "    </tr>\n",
              "    <tr>\n",
              "      <th>2876</th>\n",
              "      <td>coding</td>\n",
              "      <td>Coding sequence</td>\n",
              "    </tr>\n",
              "    <tr>\n",
              "      <th>2877</th>\n",
              "      <td>peptide</td>\n",
              "      <td>Peptide</td>\n",
              "    </tr>\n",
              "    <tr>\n",
              "      <th>2878</th>\n",
              "      <td>upstream_flank</td>\n",
              "      <td>upstream_flank</td>\n",
              "    </tr>\n",
              "    <tr>\n",
              "      <th>2879</th>\n",
              "      <td>downstream_flank</td>\n",
              "      <td>downstream_flank</td>\n",
              "    </tr>\n",
              "  </tbody>\n",
              "</table>\n",
              "<p>2880 rows × 2 columns</p>\n",
              "</div>\n",
              "      <button class=\"colab-df-convert\" onclick=\"convertToInteractive('df-91c263c9-d46a-44a8-a880-b105c682cafa')\"\n",
              "              title=\"Convert this dataframe to an interactive table.\"\n",
              "              style=\"display:none;\">\n",
              "        \n",
              "  <svg xmlns=\"http://www.w3.org/2000/svg\" height=\"24px\"viewBox=\"0 0 24 24\"\n",
              "       width=\"24px\">\n",
              "    <path d=\"M0 0h24v24H0V0z\" fill=\"none\"/>\n",
              "    <path d=\"M18.56 5.44l.94 2.06.94-2.06 2.06-.94-2.06-.94-.94-2.06-.94 2.06-2.06.94zm-11 1L8.5 8.5l.94-2.06 2.06-.94-2.06-.94L8.5 2.5l-.94 2.06-2.06.94zm10 10l.94 2.06.94-2.06 2.06-.94-2.06-.94-.94-2.06-.94 2.06-2.06.94z\"/><path d=\"M17.41 7.96l-1.37-1.37c-.4-.4-.92-.59-1.43-.59-.52 0-1.04.2-1.43.59L10.3 9.45l-7.72 7.72c-.78.78-.78 2.05 0 2.83L4 21.41c.39.39.9.59 1.41.59.51 0 1.02-.2 1.41-.59l7.78-7.78 2.81-2.81c.8-.78.8-2.07 0-2.86zM5.41 20L4 18.59l7.72-7.72 1.47 1.35L5.41 20z\"/>\n",
              "  </svg>\n",
              "      </button>\n",
              "      \n",
              "  <style>\n",
              "    .colab-df-container {\n",
              "      display:flex;\n",
              "      flex-wrap:wrap;\n",
              "      gap: 12px;\n",
              "    }\n",
              "\n",
              "    .colab-df-convert {\n",
              "      background-color: #E8F0FE;\n",
              "      border: none;\n",
              "      border-radius: 50%;\n",
              "      cursor: pointer;\n",
              "      display: none;\n",
              "      fill: #1967D2;\n",
              "      height: 32px;\n",
              "      padding: 0 0 0 0;\n",
              "      width: 32px;\n",
              "    }\n",
              "\n",
              "    .colab-df-convert:hover {\n",
              "      background-color: #E2EBFA;\n",
              "      box-shadow: 0px 1px 2px rgba(60, 64, 67, 0.3), 0px 1px 3px 1px rgba(60, 64, 67, 0.15);\n",
              "      fill: #174EA6;\n",
              "    }\n",
              "\n",
              "    [theme=dark] .colab-df-convert {\n",
              "      background-color: #3B4455;\n",
              "      fill: #D2E3FC;\n",
              "    }\n",
              "\n",
              "    [theme=dark] .colab-df-convert:hover {\n",
              "      background-color: #434B5C;\n",
              "      box-shadow: 0px 1px 3px 1px rgba(0, 0, 0, 0.15);\n",
              "      filter: drop-shadow(0px 1px 2px rgba(0, 0, 0, 0.3));\n",
              "      fill: #FFFFFF;\n",
              "    }\n",
              "  </style>\n",
              "\n",
              "      <script>\n",
              "        const buttonEl =\n",
              "          document.querySelector('#df-91c263c9-d46a-44a8-a880-b105c682cafa button.colab-df-convert');\n",
              "        buttonEl.style.display =\n",
              "          google.colab.kernel.accessAllowed ? 'block' : 'none';\n",
              "\n",
              "        async function convertToInteractive(key) {\n",
              "          const element = document.querySelector('#df-91c263c9-d46a-44a8-a880-b105c682cafa');\n",
              "          const dataTable =\n",
              "            await google.colab.kernel.invokeFunction('convertToInteractive',\n",
              "                                                     [key], {});\n",
              "          if (!dataTable) return;\n",
              "\n",
              "          const docLinkHtml = 'Like what you see? Visit the ' +\n",
              "            '<a target=\"_blank\" href=https://colab.research.google.com/notebooks/data_table.ipynb>data table notebook</a>'\n",
              "            + ' to learn more about interactive tables.';\n",
              "          element.innerHTML = '';\n",
              "          dataTable['output_type'] = 'display_data';\n",
              "          await google.colab.output.renderOutput(dataTable, element);\n",
              "          const docLink = document.createElement('div');\n",
              "          docLink.innerHTML = docLinkHtml;\n",
              "          element.appendChild(docLink);\n",
              "        }\n",
              "      </script>\n",
              "    </div>\n",
              "  </div>\n",
              "  "
            ]
          },
          "metadata": {},
          "execution_count": 211
        }
      ]
    },
    {
      "cell_type": "code",
      "source": [
        "a[a['Attribute'].str.contains('go_id')]"
      ],
      "metadata": {
        "colab": {
          "base_uri": "https://localhost:8080/",
          "height": 81
        },
        "id": "XlK3BerIEWAv",
        "outputId": "c8f659ae-34c4-48f3-caec-550d3bd8d1b2"
      },
      "execution_count": 222,
      "outputs": [
        {
          "output_type": "execute_result",
          "data": {
            "text/plain": [
              "   Attribute        Description\n",
              "41     go_id  GO term accession"
            ],
            "text/html": [
              "\n",
              "  <div id=\"df-a007bc33-b276-4fb2-9d96-3c4f0acf5993\">\n",
              "    <div class=\"colab-df-container\">\n",
              "      <div>\n",
              "<style scoped>\n",
              "    .dataframe tbody tr th:only-of-type {\n",
              "        vertical-align: middle;\n",
              "    }\n",
              "\n",
              "    .dataframe tbody tr th {\n",
              "        vertical-align: top;\n",
              "    }\n",
              "\n",
              "    .dataframe thead th {\n",
              "        text-align: right;\n",
              "    }\n",
              "</style>\n",
              "<table border=\"1\" class=\"dataframe\">\n",
              "  <thead>\n",
              "    <tr style=\"text-align: right;\">\n",
              "      <th></th>\n",
              "      <th>Attribute</th>\n",
              "      <th>Description</th>\n",
              "    </tr>\n",
              "  </thead>\n",
              "  <tbody>\n",
              "    <tr>\n",
              "      <th>41</th>\n",
              "      <td>go_id</td>\n",
              "      <td>GO term accession</td>\n",
              "    </tr>\n",
              "  </tbody>\n",
              "</table>\n",
              "</div>\n",
              "      <button class=\"colab-df-convert\" onclick=\"convertToInteractive('df-a007bc33-b276-4fb2-9d96-3c4f0acf5993')\"\n",
              "              title=\"Convert this dataframe to an interactive table.\"\n",
              "              style=\"display:none;\">\n",
              "        \n",
              "  <svg xmlns=\"http://www.w3.org/2000/svg\" height=\"24px\"viewBox=\"0 0 24 24\"\n",
              "       width=\"24px\">\n",
              "    <path d=\"M0 0h24v24H0V0z\" fill=\"none\"/>\n",
              "    <path d=\"M18.56 5.44l.94 2.06.94-2.06 2.06-.94-2.06-.94-.94-2.06-.94 2.06-2.06.94zm-11 1L8.5 8.5l.94-2.06 2.06-.94-2.06-.94L8.5 2.5l-.94 2.06-2.06.94zm10 10l.94 2.06.94-2.06 2.06-.94-2.06-.94-.94-2.06-.94 2.06-2.06.94z\"/><path d=\"M17.41 7.96l-1.37-1.37c-.4-.4-.92-.59-1.43-.59-.52 0-1.04.2-1.43.59L10.3 9.45l-7.72 7.72c-.78.78-.78 2.05 0 2.83L4 21.41c.39.39.9.59 1.41.59.51 0 1.02-.2 1.41-.59l7.78-7.78 2.81-2.81c.8-.78.8-2.07 0-2.86zM5.41 20L4 18.59l7.72-7.72 1.47 1.35L5.41 20z\"/>\n",
              "  </svg>\n",
              "      </button>\n",
              "      \n",
              "  <style>\n",
              "    .colab-df-container {\n",
              "      display:flex;\n",
              "      flex-wrap:wrap;\n",
              "      gap: 12px;\n",
              "    }\n",
              "\n",
              "    .colab-df-convert {\n",
              "      background-color: #E8F0FE;\n",
              "      border: none;\n",
              "      border-radius: 50%;\n",
              "      cursor: pointer;\n",
              "      display: none;\n",
              "      fill: #1967D2;\n",
              "      height: 32px;\n",
              "      padding: 0 0 0 0;\n",
              "      width: 32px;\n",
              "    }\n",
              "\n",
              "    .colab-df-convert:hover {\n",
              "      background-color: #E2EBFA;\n",
              "      box-shadow: 0px 1px 2px rgba(60, 64, 67, 0.3), 0px 1px 3px 1px rgba(60, 64, 67, 0.15);\n",
              "      fill: #174EA6;\n",
              "    }\n",
              "\n",
              "    [theme=dark] .colab-df-convert {\n",
              "      background-color: #3B4455;\n",
              "      fill: #D2E3FC;\n",
              "    }\n",
              "\n",
              "    [theme=dark] .colab-df-convert:hover {\n",
              "      background-color: #434B5C;\n",
              "      box-shadow: 0px 1px 3px 1px rgba(0, 0, 0, 0.15);\n",
              "      filter: drop-shadow(0px 1px 2px rgba(0, 0, 0, 0.3));\n",
              "      fill: #FFFFFF;\n",
              "    }\n",
              "  </style>\n",
              "\n",
              "      <script>\n",
              "        const buttonEl =\n",
              "          document.querySelector('#df-a007bc33-b276-4fb2-9d96-3c4f0acf5993 button.colab-df-convert');\n",
              "        buttonEl.style.display =\n",
              "          google.colab.kernel.accessAllowed ? 'block' : 'none';\n",
              "\n",
              "        async function convertToInteractive(key) {\n",
              "          const element = document.querySelector('#df-a007bc33-b276-4fb2-9d96-3c4f0acf5993');\n",
              "          const dataTable =\n",
              "            await google.colab.kernel.invokeFunction('convertToInteractive',\n",
              "                                                     [key], {});\n",
              "          if (!dataTable) return;\n",
              "\n",
              "          const docLinkHtml = 'Like what you see? Visit the ' +\n",
              "            '<a target=\"_blank\" href=https://colab.research.google.com/notebooks/data_table.ipynb>data table notebook</a>'\n",
              "            + ' to learn more about interactive tables.';\n",
              "          element.innerHTML = '';\n",
              "          dataTable['output_type'] = 'display_data';\n",
              "          await google.colab.output.renderOutput(dataTable, element);\n",
              "          const docLink = document.createElement('div');\n",
              "          docLink.innerHTML = docLinkHtml;\n",
              "          element.appendChild(docLink);\n",
              "        }\n",
              "      </script>\n",
              "    </div>\n",
              "  </div>\n",
              "  "
            ]
          },
          "metadata": {},
          "execution_count": 222
        }
      ]
    },
    {
      "cell_type": "code",
      "source": [
        "a[a['Description'].str.contains('GO')]"
      ],
      "metadata": {
        "colab": {
          "base_uri": "https://localhost:8080/",
          "height": 269
        },
        "id": "sLaDaTZ0EuB3",
        "outputId": "200d3abb-6de7-4f69-e890-31082e6d266a"
      },
      "execution_count": 226,
      "outputs": [
        {
          "output_type": "execute_result",
          "data": {
            "text/plain": [
              "                 Attribute              Description\n",
              "41                   go_id        GO term accession\n",
              "42               name_1006             GO term name\n",
              "43         definition_1006       GO term definition\n",
              "44         go_linkage_type    GO term evidence code\n",
              "45          namespace_1003                GO domain\n",
              "46    goslim_goa_accession  GOSlim GOA Accession(s)\n",
              "47  goslim_goa_description   GOSlim GOA Description"
            ],
            "text/html": [
              "\n",
              "  <div id=\"df-67ea66be-3dbf-4fc6-a2a5-11d291b5edf7\">\n",
              "    <div class=\"colab-df-container\">\n",
              "      <div>\n",
              "<style scoped>\n",
              "    .dataframe tbody tr th:only-of-type {\n",
              "        vertical-align: middle;\n",
              "    }\n",
              "\n",
              "    .dataframe tbody tr th {\n",
              "        vertical-align: top;\n",
              "    }\n",
              "\n",
              "    .dataframe thead th {\n",
              "        text-align: right;\n",
              "    }\n",
              "</style>\n",
              "<table border=\"1\" class=\"dataframe\">\n",
              "  <thead>\n",
              "    <tr style=\"text-align: right;\">\n",
              "      <th></th>\n",
              "      <th>Attribute</th>\n",
              "      <th>Description</th>\n",
              "    </tr>\n",
              "  </thead>\n",
              "  <tbody>\n",
              "    <tr>\n",
              "      <th>41</th>\n",
              "      <td>go_id</td>\n",
              "      <td>GO term accession</td>\n",
              "    </tr>\n",
              "    <tr>\n",
              "      <th>42</th>\n",
              "      <td>name_1006</td>\n",
              "      <td>GO term name</td>\n",
              "    </tr>\n",
              "    <tr>\n",
              "      <th>43</th>\n",
              "      <td>definition_1006</td>\n",
              "      <td>GO term definition</td>\n",
              "    </tr>\n",
              "    <tr>\n",
              "      <th>44</th>\n",
              "      <td>go_linkage_type</td>\n",
              "      <td>GO term evidence code</td>\n",
              "    </tr>\n",
              "    <tr>\n",
              "      <th>45</th>\n",
              "      <td>namespace_1003</td>\n",
              "      <td>GO domain</td>\n",
              "    </tr>\n",
              "    <tr>\n",
              "      <th>46</th>\n",
              "      <td>goslim_goa_accession</td>\n",
              "      <td>GOSlim GOA Accession(s)</td>\n",
              "    </tr>\n",
              "    <tr>\n",
              "      <th>47</th>\n",
              "      <td>goslim_goa_description</td>\n",
              "      <td>GOSlim GOA Description</td>\n",
              "    </tr>\n",
              "  </tbody>\n",
              "</table>\n",
              "</div>\n",
              "      <button class=\"colab-df-convert\" onclick=\"convertToInteractive('df-67ea66be-3dbf-4fc6-a2a5-11d291b5edf7')\"\n",
              "              title=\"Convert this dataframe to an interactive table.\"\n",
              "              style=\"display:none;\">\n",
              "        \n",
              "  <svg xmlns=\"http://www.w3.org/2000/svg\" height=\"24px\"viewBox=\"0 0 24 24\"\n",
              "       width=\"24px\">\n",
              "    <path d=\"M0 0h24v24H0V0z\" fill=\"none\"/>\n",
              "    <path d=\"M18.56 5.44l.94 2.06.94-2.06 2.06-.94-2.06-.94-.94-2.06-.94 2.06-2.06.94zm-11 1L8.5 8.5l.94-2.06 2.06-.94-2.06-.94L8.5 2.5l-.94 2.06-2.06.94zm10 10l.94 2.06.94-2.06 2.06-.94-2.06-.94-.94-2.06-.94 2.06-2.06.94z\"/><path d=\"M17.41 7.96l-1.37-1.37c-.4-.4-.92-.59-1.43-.59-.52 0-1.04.2-1.43.59L10.3 9.45l-7.72 7.72c-.78.78-.78 2.05 0 2.83L4 21.41c.39.39.9.59 1.41.59.51 0 1.02-.2 1.41-.59l7.78-7.78 2.81-2.81c.8-.78.8-2.07 0-2.86zM5.41 20L4 18.59l7.72-7.72 1.47 1.35L5.41 20z\"/>\n",
              "  </svg>\n",
              "      </button>\n",
              "      \n",
              "  <style>\n",
              "    .colab-df-container {\n",
              "      display:flex;\n",
              "      flex-wrap:wrap;\n",
              "      gap: 12px;\n",
              "    }\n",
              "\n",
              "    .colab-df-convert {\n",
              "      background-color: #E8F0FE;\n",
              "      border: none;\n",
              "      border-radius: 50%;\n",
              "      cursor: pointer;\n",
              "      display: none;\n",
              "      fill: #1967D2;\n",
              "      height: 32px;\n",
              "      padding: 0 0 0 0;\n",
              "      width: 32px;\n",
              "    }\n",
              "\n",
              "    .colab-df-convert:hover {\n",
              "      background-color: #E2EBFA;\n",
              "      box-shadow: 0px 1px 2px rgba(60, 64, 67, 0.3), 0px 1px 3px 1px rgba(60, 64, 67, 0.15);\n",
              "      fill: #174EA6;\n",
              "    }\n",
              "\n",
              "    [theme=dark] .colab-df-convert {\n",
              "      background-color: #3B4455;\n",
              "      fill: #D2E3FC;\n",
              "    }\n",
              "\n",
              "    [theme=dark] .colab-df-convert:hover {\n",
              "      background-color: #434B5C;\n",
              "      box-shadow: 0px 1px 3px 1px rgba(0, 0, 0, 0.15);\n",
              "      filter: drop-shadow(0px 1px 2px rgba(0, 0, 0, 0.3));\n",
              "      fill: #FFFFFF;\n",
              "    }\n",
              "  </style>\n",
              "\n",
              "      <script>\n",
              "        const buttonEl =\n",
              "          document.querySelector('#df-67ea66be-3dbf-4fc6-a2a5-11d291b5edf7 button.colab-df-convert');\n",
              "        buttonEl.style.display =\n",
              "          google.colab.kernel.accessAllowed ? 'block' : 'none';\n",
              "\n",
              "        async function convertToInteractive(key) {\n",
              "          const element = document.querySelector('#df-67ea66be-3dbf-4fc6-a2a5-11d291b5edf7');\n",
              "          const dataTable =\n",
              "            await google.colab.kernel.invokeFunction('convertToInteractive',\n",
              "                                                     [key], {});\n",
              "          if (!dataTable) return;\n",
              "\n",
              "          const docLinkHtml = 'Like what you see? Visit the ' +\n",
              "            '<a target=\"_blank\" href=https://colab.research.google.com/notebooks/data_table.ipynb>data table notebook</a>'\n",
              "            + ' to learn more about interactive tables.';\n",
              "          element.innerHTML = '';\n",
              "          dataTable['output_type'] = 'display_data';\n",
              "          await google.colab.output.renderOutput(dataTable, element);\n",
              "          const docLink = document.createElement('div');\n",
              "          docLink.innerHTML = docLinkHtml;\n",
              "          element.appendChild(docLink);\n",
              "        }\n",
              "      </script>\n",
              "    </div>\n",
              "  </div>\n",
              "  "
            ]
          },
          "metadata": {},
          "execution_count": 226
        }
      ]
    },
    {
      "cell_type": "code",
      "source": [
        "# biomart에서도 go_id 가져올 수 있음.\n",
        "result = bm.query(dataset='mmusculus_gene_ensembl',attributes=['ensembl_gene_id','external_gene_name','go_id'],filters={'ensembl_gene_id':raw_genelist})"
      ],
      "metadata": {
        "id": "6RYf3x585xDr"
      },
      "execution_count": 25,
      "outputs": []
    },
    {
      "cell_type": "code",
      "source": [
        "# GO domain, GO tern name도 가져올 수 있었음. 이것 이용하여 GOCC 처리하자.\n",
        "result3 =  bm.query(dataset='mmusculus_gene_ensembl',attributes=['ensembl_gene_id','external_gene_name','namespace_1003','name_1006'],filters={'ensembl_gene_id':raw_genelist})"
      ],
      "metadata": {
        "id": "LlDuILG0FoC2"
      },
      "execution_count": 232,
      "outputs": []
    },
    {
      "cell_type": "code",
      "source": [
        "result3"
      ],
      "metadata": {
        "colab": {
          "base_uri": "https://localhost:8080/",
          "height": 624
        },
        "id": "sNd0sYSSF8hy",
        "outputId": "c22a9981-a303-4c25-8d78-86cf34cc305b"
      },
      "execution_count": 233,
      "outputs": [
        {
          "output_type": "execute_result",
          "data": {
            "text/plain": [
              "           ensembl_gene_id external_gene_name      namespace_1003  \\\n",
              "0       ENSMUSG00000024304               Cdh2  molecular_function   \n",
              "1       ENSMUSG00000024304               Cdh2  cellular_component   \n",
              "2       ENSMUSG00000024304               Cdh2  cellular_component   \n",
              "3       ENSMUSG00000024304               Cdh2  molecular_function   \n",
              "4       ENSMUSG00000024304               Cdh2  biological_process   \n",
              "...                    ...                ...                 ...   \n",
              "488641  ENSMUSG00000067847              Romo1  biological_process   \n",
              "488642  ENSMUSG00000067847              Romo1  biological_process   \n",
              "488643  ENSMUSG00000067847              Romo1  biological_process   \n",
              "488644  ENSMUSG00000067847              Romo1  biological_process   \n",
              "488645  ENSMUSG00000067847              Romo1  cellular_component   \n",
              "\n",
              "                                                name_1006  \n",
              "0                                         protein binding  \n",
              "1                                                 synapse  \n",
              "2                                                 synapse  \n",
              "3                      protein-containing complex binding  \n",
              "4                          homeostasis of number of cells  \n",
              "...                                                   ...  \n",
              "488641       cellular response to reactive oxygen species  \n",
              "488642                cytolysis by host of symbiont cells  \n",
              "488643  protein insertion into mitochondrial inner mem...  \n",
              "488644                             replicative senescence  \n",
              "488645  TIM23 mitochondrial import inner membrane tran...  \n",
              "\n",
              "[488646 rows x 4 columns]"
            ],
            "text/html": [
              "\n",
              "  <div id=\"df-fbc80fac-f710-402e-b922-b47b7edd42e9\">\n",
              "    <div class=\"colab-df-container\">\n",
              "      <div>\n",
              "<style scoped>\n",
              "    .dataframe tbody tr th:only-of-type {\n",
              "        vertical-align: middle;\n",
              "    }\n",
              "\n",
              "    .dataframe tbody tr th {\n",
              "        vertical-align: top;\n",
              "    }\n",
              "\n",
              "    .dataframe thead th {\n",
              "        text-align: right;\n",
              "    }\n",
              "</style>\n",
              "<table border=\"1\" class=\"dataframe\">\n",
              "  <thead>\n",
              "    <tr style=\"text-align: right;\">\n",
              "      <th></th>\n",
              "      <th>ensembl_gene_id</th>\n",
              "      <th>external_gene_name</th>\n",
              "      <th>namespace_1003</th>\n",
              "      <th>name_1006</th>\n",
              "    </tr>\n",
              "  </thead>\n",
              "  <tbody>\n",
              "    <tr>\n",
              "      <th>0</th>\n",
              "      <td>ENSMUSG00000024304</td>\n",
              "      <td>Cdh2</td>\n",
              "      <td>molecular_function</td>\n",
              "      <td>protein binding</td>\n",
              "    </tr>\n",
              "    <tr>\n",
              "      <th>1</th>\n",
              "      <td>ENSMUSG00000024304</td>\n",
              "      <td>Cdh2</td>\n",
              "      <td>cellular_component</td>\n",
              "      <td>synapse</td>\n",
              "    </tr>\n",
              "    <tr>\n",
              "      <th>2</th>\n",
              "      <td>ENSMUSG00000024304</td>\n",
              "      <td>Cdh2</td>\n",
              "      <td>cellular_component</td>\n",
              "      <td>synapse</td>\n",
              "    </tr>\n",
              "    <tr>\n",
              "      <th>3</th>\n",
              "      <td>ENSMUSG00000024304</td>\n",
              "      <td>Cdh2</td>\n",
              "      <td>molecular_function</td>\n",
              "      <td>protein-containing complex binding</td>\n",
              "    </tr>\n",
              "    <tr>\n",
              "      <th>4</th>\n",
              "      <td>ENSMUSG00000024304</td>\n",
              "      <td>Cdh2</td>\n",
              "      <td>biological_process</td>\n",
              "      <td>homeostasis of number of cells</td>\n",
              "    </tr>\n",
              "    <tr>\n",
              "      <th>...</th>\n",
              "      <td>...</td>\n",
              "      <td>...</td>\n",
              "      <td>...</td>\n",
              "      <td>...</td>\n",
              "    </tr>\n",
              "    <tr>\n",
              "      <th>488641</th>\n",
              "      <td>ENSMUSG00000067847</td>\n",
              "      <td>Romo1</td>\n",
              "      <td>biological_process</td>\n",
              "      <td>cellular response to reactive oxygen species</td>\n",
              "    </tr>\n",
              "    <tr>\n",
              "      <th>488642</th>\n",
              "      <td>ENSMUSG00000067847</td>\n",
              "      <td>Romo1</td>\n",
              "      <td>biological_process</td>\n",
              "      <td>cytolysis by host of symbiont cells</td>\n",
              "    </tr>\n",
              "    <tr>\n",
              "      <th>488643</th>\n",
              "      <td>ENSMUSG00000067847</td>\n",
              "      <td>Romo1</td>\n",
              "      <td>biological_process</td>\n",
              "      <td>protein insertion into mitochondrial inner mem...</td>\n",
              "    </tr>\n",
              "    <tr>\n",
              "      <th>488644</th>\n",
              "      <td>ENSMUSG00000067847</td>\n",
              "      <td>Romo1</td>\n",
              "      <td>biological_process</td>\n",
              "      <td>replicative senescence</td>\n",
              "    </tr>\n",
              "    <tr>\n",
              "      <th>488645</th>\n",
              "      <td>ENSMUSG00000067847</td>\n",
              "      <td>Romo1</td>\n",
              "      <td>cellular_component</td>\n",
              "      <td>TIM23 mitochondrial import inner membrane tran...</td>\n",
              "    </tr>\n",
              "  </tbody>\n",
              "</table>\n",
              "<p>488646 rows × 4 columns</p>\n",
              "</div>\n",
              "      <button class=\"colab-df-convert\" onclick=\"convertToInteractive('df-fbc80fac-f710-402e-b922-b47b7edd42e9')\"\n",
              "              title=\"Convert this dataframe to an interactive table.\"\n",
              "              style=\"display:none;\">\n",
              "        \n",
              "  <svg xmlns=\"http://www.w3.org/2000/svg\" height=\"24px\"viewBox=\"0 0 24 24\"\n",
              "       width=\"24px\">\n",
              "    <path d=\"M0 0h24v24H0V0z\" fill=\"none\"/>\n",
              "    <path d=\"M18.56 5.44l.94 2.06.94-2.06 2.06-.94-2.06-.94-.94-2.06-.94 2.06-2.06.94zm-11 1L8.5 8.5l.94-2.06 2.06-.94-2.06-.94L8.5 2.5l-.94 2.06-2.06.94zm10 10l.94 2.06.94-2.06 2.06-.94-2.06-.94-.94-2.06-.94 2.06-2.06.94z\"/><path d=\"M17.41 7.96l-1.37-1.37c-.4-.4-.92-.59-1.43-.59-.52 0-1.04.2-1.43.59L10.3 9.45l-7.72 7.72c-.78.78-.78 2.05 0 2.83L4 21.41c.39.39.9.59 1.41.59.51 0 1.02-.2 1.41-.59l7.78-7.78 2.81-2.81c.8-.78.8-2.07 0-2.86zM5.41 20L4 18.59l7.72-7.72 1.47 1.35L5.41 20z\"/>\n",
              "  </svg>\n",
              "      </button>\n",
              "      \n",
              "  <style>\n",
              "    .colab-df-container {\n",
              "      display:flex;\n",
              "      flex-wrap:wrap;\n",
              "      gap: 12px;\n",
              "    }\n",
              "\n",
              "    .colab-df-convert {\n",
              "      background-color: #E8F0FE;\n",
              "      border: none;\n",
              "      border-radius: 50%;\n",
              "      cursor: pointer;\n",
              "      display: none;\n",
              "      fill: #1967D2;\n",
              "      height: 32px;\n",
              "      padding: 0 0 0 0;\n",
              "      width: 32px;\n",
              "    }\n",
              "\n",
              "    .colab-df-convert:hover {\n",
              "      background-color: #E2EBFA;\n",
              "      box-shadow: 0px 1px 2px rgba(60, 64, 67, 0.3), 0px 1px 3px 1px rgba(60, 64, 67, 0.15);\n",
              "      fill: #174EA6;\n",
              "    }\n",
              "\n",
              "    [theme=dark] .colab-df-convert {\n",
              "      background-color: #3B4455;\n",
              "      fill: #D2E3FC;\n",
              "    }\n",
              "\n",
              "    [theme=dark] .colab-df-convert:hover {\n",
              "      background-color: #434B5C;\n",
              "      box-shadow: 0px 1px 3px 1px rgba(0, 0, 0, 0.15);\n",
              "      filter: drop-shadow(0px 1px 2px rgba(0, 0, 0, 0.3));\n",
              "      fill: #FFFFFF;\n",
              "    }\n",
              "  </style>\n",
              "\n",
              "      <script>\n",
              "        const buttonEl =\n",
              "          document.querySelector('#df-fbc80fac-f710-402e-b922-b47b7edd42e9 button.colab-df-convert');\n",
              "        buttonEl.style.display =\n",
              "          google.colab.kernel.accessAllowed ? 'block' : 'none';\n",
              "\n",
              "        async function convertToInteractive(key) {\n",
              "          const element = document.querySelector('#df-fbc80fac-f710-402e-b922-b47b7edd42e9');\n",
              "          const dataTable =\n",
              "            await google.colab.kernel.invokeFunction('convertToInteractive',\n",
              "                                                     [key], {});\n",
              "          if (!dataTable) return;\n",
              "\n",
              "          const docLinkHtml = 'Like what you see? Visit the ' +\n",
              "            '<a target=\"_blank\" href=https://colab.research.google.com/notebooks/data_table.ipynb>data table notebook</a>'\n",
              "            + ' to learn more about interactive tables.';\n",
              "          element.innerHTML = '';\n",
              "          dataTable['output_type'] = 'display_data';\n",
              "          await google.colab.output.renderOutput(dataTable, element);\n",
              "          const docLink = document.createElement('div');\n",
              "          docLink.innerHTML = docLinkHtml;\n",
              "          element.appendChild(docLink);\n",
              "        }\n",
              "      </script>\n",
              "    </div>\n",
              "  </div>\n",
              "  "
            ]
          },
          "metadata": {},
          "execution_count": 233
        }
      ]
    },
    {
      "cell_type": "code",
      "source": [
        "# 생각보다 행 내 값 전체가 중복되는 행들 많음. 제거.\n",
        "result_nodup = result.drop_duplicates(['ensembl_gene_id','external_gene_name','go_id'])\n",
        "result_nodup"
      ],
      "metadata": {
        "colab": {
          "base_uri": "https://localhost:8080/",
          "height": 423
        },
        "id": "sbZFfdsp6lCX",
        "outputId": "c4ea0ef9-2446-4e15-98c0-938d6b32881f"
      },
      "execution_count": 26,
      "outputs": [
        {
          "output_type": "execute_result",
          "data": {
            "text/plain": [
              "           ensembl_gene_id external_gene_name       go_id\n",
              "0       ENSMUSG00000024304               Cdh2  GO:0005515\n",
              "1       ENSMUSG00000024304               Cdh2  GO:0045202\n",
              "3       ENSMUSG00000024304               Cdh2  GO:0044877\n",
              "4       ENSMUSG00000024304               Cdh2  GO:0048872\n",
              "5       ENSMUSG00000024304               Cdh2  GO:0048854\n",
              "...                    ...                ...         ...\n",
              "488551  ENSMUSG00000067847              Romo1  GO:0034614\n",
              "488552  ENSMUSG00000067847              Romo1  GO:2000379\n",
              "488555  ENSMUSG00000067847              Romo1  GO:0051838\n",
              "488559  ENSMUSG00000067847              Romo1  GO:0045039\n",
              "488567  ENSMUSG00000067847              Romo1  GO:0005744\n",
              "\n",
              "[165389 rows x 3 columns]"
            ],
            "text/html": [
              "\n",
              "  <div id=\"df-0a411883-24a2-4066-8739-de9a2d94d71f\">\n",
              "    <div class=\"colab-df-container\">\n",
              "      <div>\n",
              "<style scoped>\n",
              "    .dataframe tbody tr th:only-of-type {\n",
              "        vertical-align: middle;\n",
              "    }\n",
              "\n",
              "    .dataframe tbody tr th {\n",
              "        vertical-align: top;\n",
              "    }\n",
              "\n",
              "    .dataframe thead th {\n",
              "        text-align: right;\n",
              "    }\n",
              "</style>\n",
              "<table border=\"1\" class=\"dataframe\">\n",
              "  <thead>\n",
              "    <tr style=\"text-align: right;\">\n",
              "      <th></th>\n",
              "      <th>ensembl_gene_id</th>\n",
              "      <th>external_gene_name</th>\n",
              "      <th>go_id</th>\n",
              "    </tr>\n",
              "  </thead>\n",
              "  <tbody>\n",
              "    <tr>\n",
              "      <th>0</th>\n",
              "      <td>ENSMUSG00000024304</td>\n",
              "      <td>Cdh2</td>\n",
              "      <td>GO:0005515</td>\n",
              "    </tr>\n",
              "    <tr>\n",
              "      <th>1</th>\n",
              "      <td>ENSMUSG00000024304</td>\n",
              "      <td>Cdh2</td>\n",
              "      <td>GO:0045202</td>\n",
              "    </tr>\n",
              "    <tr>\n",
              "      <th>3</th>\n",
              "      <td>ENSMUSG00000024304</td>\n",
              "      <td>Cdh2</td>\n",
              "      <td>GO:0044877</td>\n",
              "    </tr>\n",
              "    <tr>\n",
              "      <th>4</th>\n",
              "      <td>ENSMUSG00000024304</td>\n",
              "      <td>Cdh2</td>\n",
              "      <td>GO:0048872</td>\n",
              "    </tr>\n",
              "    <tr>\n",
              "      <th>5</th>\n",
              "      <td>ENSMUSG00000024304</td>\n",
              "      <td>Cdh2</td>\n",
              "      <td>GO:0048854</td>\n",
              "    </tr>\n",
              "    <tr>\n",
              "      <th>...</th>\n",
              "      <td>...</td>\n",
              "      <td>...</td>\n",
              "      <td>...</td>\n",
              "    </tr>\n",
              "    <tr>\n",
              "      <th>488551</th>\n",
              "      <td>ENSMUSG00000067847</td>\n",
              "      <td>Romo1</td>\n",
              "      <td>GO:0034614</td>\n",
              "    </tr>\n",
              "    <tr>\n",
              "      <th>488552</th>\n",
              "      <td>ENSMUSG00000067847</td>\n",
              "      <td>Romo1</td>\n",
              "      <td>GO:2000379</td>\n",
              "    </tr>\n",
              "    <tr>\n",
              "      <th>488555</th>\n",
              "      <td>ENSMUSG00000067847</td>\n",
              "      <td>Romo1</td>\n",
              "      <td>GO:0051838</td>\n",
              "    </tr>\n",
              "    <tr>\n",
              "      <th>488559</th>\n",
              "      <td>ENSMUSG00000067847</td>\n",
              "      <td>Romo1</td>\n",
              "      <td>GO:0045039</td>\n",
              "    </tr>\n",
              "    <tr>\n",
              "      <th>488567</th>\n",
              "      <td>ENSMUSG00000067847</td>\n",
              "      <td>Romo1</td>\n",
              "      <td>GO:0005744</td>\n",
              "    </tr>\n",
              "  </tbody>\n",
              "</table>\n",
              "<p>165389 rows × 3 columns</p>\n",
              "</div>\n",
              "      <button class=\"colab-df-convert\" onclick=\"convertToInteractive('df-0a411883-24a2-4066-8739-de9a2d94d71f')\"\n",
              "              title=\"Convert this dataframe to an interactive table.\"\n",
              "              style=\"display:none;\">\n",
              "        \n",
              "  <svg xmlns=\"http://www.w3.org/2000/svg\" height=\"24px\"viewBox=\"0 0 24 24\"\n",
              "       width=\"24px\">\n",
              "    <path d=\"M0 0h24v24H0V0z\" fill=\"none\"/>\n",
              "    <path d=\"M18.56 5.44l.94 2.06.94-2.06 2.06-.94-2.06-.94-.94-2.06-.94 2.06-2.06.94zm-11 1L8.5 8.5l.94-2.06 2.06-.94-2.06-.94L8.5 2.5l-.94 2.06-2.06.94zm10 10l.94 2.06.94-2.06 2.06-.94-2.06-.94-.94-2.06-.94 2.06-2.06.94z\"/><path d=\"M17.41 7.96l-1.37-1.37c-.4-.4-.92-.59-1.43-.59-.52 0-1.04.2-1.43.59L10.3 9.45l-7.72 7.72c-.78.78-.78 2.05 0 2.83L4 21.41c.39.39.9.59 1.41.59.51 0 1.02-.2 1.41-.59l7.78-7.78 2.81-2.81c.8-.78.8-2.07 0-2.86zM5.41 20L4 18.59l7.72-7.72 1.47 1.35L5.41 20z\"/>\n",
              "  </svg>\n",
              "      </button>\n",
              "      \n",
              "  <style>\n",
              "    .colab-df-container {\n",
              "      display:flex;\n",
              "      flex-wrap:wrap;\n",
              "      gap: 12px;\n",
              "    }\n",
              "\n",
              "    .colab-df-convert {\n",
              "      background-color: #E8F0FE;\n",
              "      border: none;\n",
              "      border-radius: 50%;\n",
              "      cursor: pointer;\n",
              "      display: none;\n",
              "      fill: #1967D2;\n",
              "      height: 32px;\n",
              "      padding: 0 0 0 0;\n",
              "      width: 32px;\n",
              "    }\n",
              "\n",
              "    .colab-df-convert:hover {\n",
              "      background-color: #E2EBFA;\n",
              "      box-shadow: 0px 1px 2px rgba(60, 64, 67, 0.3), 0px 1px 3px 1px rgba(60, 64, 67, 0.15);\n",
              "      fill: #174EA6;\n",
              "    }\n",
              "\n",
              "    [theme=dark] .colab-df-convert {\n",
              "      background-color: #3B4455;\n",
              "      fill: #D2E3FC;\n",
              "    }\n",
              "\n",
              "    [theme=dark] .colab-df-convert:hover {\n",
              "      background-color: #434B5C;\n",
              "      box-shadow: 0px 1px 3px 1px rgba(0, 0, 0, 0.15);\n",
              "      filter: drop-shadow(0px 1px 2px rgba(0, 0, 0, 0.3));\n",
              "      fill: #FFFFFF;\n",
              "    }\n",
              "  </style>\n",
              "\n",
              "      <script>\n",
              "        const buttonEl =\n",
              "          document.querySelector('#df-0a411883-24a2-4066-8739-de9a2d94d71f button.colab-df-convert');\n",
              "        buttonEl.style.display =\n",
              "          google.colab.kernel.accessAllowed ? 'block' : 'none';\n",
              "\n",
              "        async function convertToInteractive(key) {\n",
              "          const element = document.querySelector('#df-0a411883-24a2-4066-8739-de9a2d94d71f');\n",
              "          const dataTable =\n",
              "            await google.colab.kernel.invokeFunction('convertToInteractive',\n",
              "                                                     [key], {});\n",
              "          if (!dataTable) return;\n",
              "\n",
              "          const docLinkHtml = 'Like what you see? Visit the ' +\n",
              "            '<a target=\"_blank\" href=https://colab.research.google.com/notebooks/data_table.ipynb>data table notebook</a>'\n",
              "            + ' to learn more about interactive tables.';\n",
              "          element.innerHTML = '';\n",
              "          dataTable['output_type'] = 'display_data';\n",
              "          await google.colab.output.renderOutput(dataTable, element);\n",
              "          const docLink = document.createElement('div');\n",
              "          docLink.innerHTML = docLinkHtml;\n",
              "          element.appendChild(docLink);\n",
              "        }\n",
              "      </script>\n",
              "    </div>\n",
              "  </div>\n",
              "  "
            ]
          },
          "metadata": {},
          "execution_count": 26
        }
      ]
    },
    {
      "cell_type": "code",
      "source": [
        "# 개수 한 번 확인\n",
        "totalgenelist = set(result_nodup['ensembl_gene_id'].tolist())\n",
        "len(totalgenelist)"
      ],
      "metadata": {
        "colab": {
          "base_uri": "https://localhost:8080/"
        },
        "id": "ES9QDHC97DAo",
        "outputId": "aacab2a3-7c51-4c04-990c-d286d7bf3733"
      },
      "execution_count": 27,
      "outputs": [
        {
          "output_type": "execute_result",
          "data": {
            "text/plain": [
              "8070"
            ]
          },
          "metadata": {},
          "execution_count": 27
        }
      ]
    },
    {
      "cell_type": "markdown",
      "source": [
        "## Define categorial terms"
      ],
      "metadata": {
        "id": "tYxa530i59RH"
      }
    },
    {
      "cell_type": "markdown",
      "source": [
        "- 그런데 GO CC는 상위 term만 이용했었으니까, 위 방법에서 추려진 GO term 전체 이용하지 말고, 각 customized categorial term만 이용 및,\n",
        "CC 하위 term들은 다 빼고 보기?\n",
        "- GO term 분류 위해서는 GO term이 CC BP MF 중 무엇인지 알려주는 데이터셋 찾아서 가져와야 할 듯.\n",
        "- 차후 말풍선에도 넣기 위해서는 GO-id, CCBPMF, term 설명해주는 데이터셋 찾기."
      ],
      "metadata": {
        "id": "nL-o7-Lm2s24"
      }
    },
    {
      "cell_type": "code",
      "source": [
        "# gene_id는 달라도 gene_name은 같은 경우도 고려 필요\n",
        "# -> 일단 gene_id 이용.\n",
        "# figure엔 mitochondrion 있지만, method엔 mitochondrion 안 써있음. 이유?\n",
        "\n",
        "# 논문 method 참고, categorial term 설정. 전부 GO:CC 관련 term들. \n",
        "ccdict = {'mitochondrial_membrane':'GO:0031966',  \n",
        "          'nucleus':'GO:0005634', \n",
        "          'integral_component_of_membrane':'GO:0016021',\n",
        "          'cytoplasm':'GO:0005737',\n",
        "          'extracellular_region':'GO:0005576',\n",
        "          'cell_surface':'GO:0009986',\n",
        "          'Golgi_apparatus':'GO:0005794',\n",
        "          'endoplasmic_reticulum':'GO:0005783',\n",
        "          'mitochondrion':'GO:0005739'\n",
        "          }\n",
        "for i,j in ccdict.items():\n",
        "  globals()['gocc_{}'.format(i)] = result_nodup[result_nodup['go_id']==j]\n",
        "  globals()['gocc_{}_unique'.format(i)] = set(globals()['gocc_{}'.format(i)]['ensembl_gene_id'].tolist())"
      ],
      "metadata": {
        "id": "Y9QK6MMEaaOq"
      },
      "execution_count": 28,
      "outputs": []
    },
    {
      "cell_type": "code",
      "source": [
        "# 논문에서는 GO:0031966(mitochondrial membrane)에 대한 각각의 차집합을 이용함. 이유는?\n",
        "# 우선 얼마나 겹치는 게 많은지부터 보자.\n",
        "cclist = list(ccdict)\n",
        "\n",
        "print('mitochondrial_membrane : ', len(gocc_mitochondrial_membrane_unique))\n",
        "\n",
        "for i in cclist:\n",
        "  if i!='mitochondrial_membrane':\n",
        "    print()\n",
        "    print(i,':', len(globals()['gocc_{}_unique'.format(i)]))\n",
        "    print('intersection :',len(globals()['gocc_{}_unique'.format(i)] & gocc_mitochondrial_membrane_unique))"
      ],
      "metadata": {
        "colab": {
          "base_uri": "https://localhost:8080/"
        },
        "id": "N9xxaU7lkVMI",
        "outputId": "1e000e02-4cb1-43d6-b6a8-af23e14a93b8"
      },
      "execution_count": 29,
      "outputs": [
        {
          "output_type": "stream",
          "name": "stdout",
          "text": [
            "mitochondrial_membrane :  116\n",
            "\n",
            "nucleus : 3461\n",
            "intersection : 26\n",
            "\n",
            "integral_component_of_membrane : 1680\n",
            "intersection : 76\n",
            "\n",
            "cytoplasm : 3605\n",
            "intersection : 29\n",
            "\n",
            "extracellular_region : 286\n",
            "intersection : 4\n",
            "\n",
            "cell_surface : 225\n",
            "intersection : 3\n",
            "\n",
            "Golgi_apparatus : 712\n",
            "intersection : 3\n",
            "\n",
            "endoplasmic_reticulum : 867\n",
            "intersection : 21\n",
            "\n",
            "mitochondrion : 1193\n",
            "intersection : 107\n"
          ]
        }
      ]
    },
    {
      "cell_type": "code",
      "source": [
        "# nucleus - mito mem\n",
        "# integral mem - mito mem\n",
        "# cytoplasm - mito mem\n",
        "# ER associated : integral mem + extracell + surface + golgi + er - mito mem\n",
        "# non ER : total - ER associated - mito mem\n",
        "\n",
        "gocc_final_unique_nucleus = gocc_nucleus_unique - gocc_mitochondrial_membrane_unique\n",
        "gocc_final_unique_integral_component_of_membrane = gocc_integral_component_of_membrane_unique - gocc_mitochondrial_membrane_unique\n",
        "gocc_final_unique_cytoplasm = gocc_cytoplasm_unique - gocc_mitochondrial_membrane_unique\n",
        "gocc_final_unique_ER =  (gocc_integral_component_of_membrane_unique | gocc_extracellular_region_unique | gocc_cell_surface_unique | gocc_Golgi_apparatus_unique | gocc_endoplasmic_reticulum_unique) - gocc_mitochondrial_membrane_unique\n",
        "gocc_final_unique_nonER = (totalgenelist - gocc_final_unique_ER) - gocc_mitochondrial_membrane_unique"
      ],
      "metadata": {
        "id": "XhVumaRNsIOJ"
      },
      "execution_count": 30,
      "outputs": []
    },
    {
      "cell_type": "code",
      "source": [
        "# 각 GO term별, match된 input dataset 내 gene 수 \n",
        "# 각 GO term을 구성하는 gene 정보를 가져오지 않았기 때문에, overlap은 계산할 수 없음. 단지 count만.\n",
        "# GO term 자체의 hierarchy 높을수록 구성 gene 수 많을 텐데.\n",
        "\n",
        "count={}\n",
        "lists = result_nodup['go_id'].tolist()\n",
        "for i in lists:\n",
        "    try: count[i] += 1\n",
        "    except: count[i]=1\n",
        "print(count)"
      ],
      "metadata": {
        "id": "CDziFXdk01zq"
      },
      "execution_count": null,
      "outputs": []
    },
    {
      "cell_type": "code",
      "source": [
        "# 내림차순 정렬\n",
        "sorted_count = sorted(count.items(), key = lambda item: item[1],reverse=True)"
      ],
      "metadata": {
        "id": "jU2LBFQv1T68"
      },
      "execution_count": 36,
      "outputs": []
    },
    {
      "cell_type": "markdown",
      "source": [
        "- ensembl, logC, logR : cnts_noinf\n",
        "- ensembl, GO ID : result_nodup\n",
        "- GO ID sorted : sorted_count"
      ],
      "metadata": {
        "id": "q9SJE0lcbgBX"
      }
    },
    {
      "cell_type": "code",
      "source": [
        "!pip install tqdm\n",
        "from tqdm import tqdm"
      ],
      "metadata": {
        "colab": {
          "base_uri": "https://localhost:8080/"
        },
        "id": "uKRhqPIBnPa6",
        "outputId": "8d45a027-4d8e-4b59-9b3b-2f21d7e2a621"
      },
      "execution_count": 84,
      "outputs": [
        {
          "output_type": "stream",
          "name": "stdout",
          "text": [
            "Looking in indexes: https://pypi.org/simple, https://us-python.pkg.dev/colab-wheels/public/simple/\n",
            "Requirement already satisfied: tqdm in /usr/local/lib/python3.7/dist-packages (4.64.0)\n"
          ]
        }
      ]
    },
    {
      "cell_type": "markdown",
      "source": [
        "## Statistical test"
      ],
      "metadata": {
        "id": "_IYKxbZH6M8z"
      }
    },
    {
      "cell_type": "code",
      "source": [
        "# GO term count 높은 것부터 순서대로,\n",
        "# 각 GO term의 member와 member 제외 전체 gene들의 log2 C, R 가져오기\n",
        "from scipy import stats\n",
        "\n",
        "stat_result = pd.DataFrame(columns=['GO-term','count','CLIP_mean','Rden_mean','Clip_p-value','Rden_p-value'])\n",
        "for i,j in tqdm(sorted_count[1:]): #index 0은 nan이라 무시함.\n",
        "  temp_genelist = result_nodup[result_nodup['go_id']==i]['ensembl_gene_id'].tolist()\n",
        "  gomember = cnts_noinf[cnts_noinf.index.isin(temp_genelist)]\n",
        "  others =  cnts_noinf[~cnts_noinf.index.isin(temp_genelist)]\n",
        "\n",
        "  logC_avg = np.mean(gomember['log2_clip_enrichment'])\n",
        "  logR_avg = np.mean(gomember['log2_rden_change'])\n",
        "\n",
        "\n",
        "  Clip_pvalue = list(stats.mannwhitneyu(gomember['log2_clip_enrichment'],others['log2_clip_enrichment']))[1]\n",
        "  Rden_pvalue = list(stats.mannwhitneyu(gomember['log2_rden_change'],others['log2_rden_change']))[1]\n",
        "\n",
        "  row = [i,j,logC_avg, logR_avg, Clip_pvalue, Rden_pvalue ]\n",
        "  stat_result = stat_result.append(pd.Series(row, index=stat_result.columns), ignore_index=True)"
      ],
      "metadata": {
        "colab": {
          "base_uri": "https://localhost:8080/"
        },
        "id": "qd3zYee09Jq4",
        "outputId": "fc80c73d-255c-4b98-8a85-3361805e6c27"
      },
      "execution_count": 94,
      "outputs": [
        {
          "output_type": "stream",
          "name": "stderr",
          "text": [
            "100%|██████████| 14593/14593 [06:15<00:00, 38.88it/s]\n"
          ]
        }
      ]
    },
    {
      "cell_type": "code",
      "source": [
        "stat_result_rdenp_sorted = stat_result.sort_values('Rden_p-value')"
      ],
      "metadata": {
        "id": "JP2AyjIAnH_K"
      },
      "execution_count": 122,
      "outputs": []
    },
    {
      "cell_type": "code",
      "source": [
        "# p-value 같은 값 있어도, 다음 rank는 1만 증가시키는 방법(dense) 이용?\n",
        "# https://stats.stackexchange.com/questions/18872/how-to-deal-with-identical-p-values-with-the-benjamini-hochberg-method-for-corre\n",
        "stat_result_rdenp_sorted['Rden_p-value_rank'] = stat_result_rdenp_sorted['Rden_p-value'].rank(method='dense')"
      ],
      "metadata": {
        "id": "s7xvWETBpAGE"
      },
      "execution_count": 123,
      "outputs": []
    },
    {
      "cell_type": "code",
      "source": [
        "# 대안) R package 이용하는 방법\n",
        "# https://stackoverflow.com/questions/7450957/how-to-implement-rs-p-adjust-in-python\n",
        "# https://m.blog.naver.com/PostView.naver?isHttpsRedirect=true&blogId=ossiriand&logNo=220860705917\n",
        "from rpy2.robjects.packages import importr\n",
        "from rpy2.robjects.vectors import FloatVector\n",
        "\n",
        "stats = importr('stats')\n",
        "\n",
        "p_adjust = stats.p_adjust(FloatVector(stat_result_rdenp_sorted['Rden_p-value']), method = 'BH')"
      ],
      "metadata": {
        "id": "DP_jACsExFDp"
      },
      "execution_count": 119,
      "outputs": []
    },
    {
      "cell_type": "code",
      "source": [
        "stat_result_rdenp_sorted['Rden_FDR']=list(p_adjust)"
      ],
      "metadata": {
        "id": "ebN35mGH15aj"
      },
      "execution_count": 127,
      "outputs": []
    },
    {
      "cell_type": "code",
      "source": [
        "# 오래걸리니까 일단 저장\n",
        "stat_result_rdenp_sorted.to_csv('./total_result_fdr.csv')"
      ],
      "metadata": {
        "id": "v28aIcj0lc24"
      },
      "execution_count": 129,
      "outputs": []
    },
    {
      "cell_type": "code",
      "source": [
        "# FDR 0.05 cutoff\n",
        "stat_result_fdr = stat_result_rdenp_sorted[stat_result_rdenp_sorted['Rden_FDR']<0.05]"
      ],
      "metadata": {
        "id": "4EWZs_8n2Ovh"
      },
      "execution_count": 130,
      "outputs": []
    },
    {
      "cell_type": "code",
      "source": [
        "stat_result_fdr.head()"
      ],
      "metadata": {
        "colab": {
          "base_uri": "https://localhost:8080/",
          "height": 374
        },
        "id": "VV4OGGhN2ZKX",
        "outputId": "53680d15-4e0a-4499-e885-cd8e50b96790"
      },
      "execution_count": 133,
      "outputs": [
        {
          "output_type": "execute_result",
          "data": {
            "text/plain": [
              "       GO-term count  CLIP_mean  Rden_mean   Clip_p-value   Rden_p-value  \\\n",
              "6   GO:0016021  1680   0.116223   0.040942  1.033685e-146   0.000000e+00   \n",
              "3   GO:0016020  2762  -0.212355  -0.230549   4.822372e-83  1.897114e-240   \n",
              "1   GO:0005634  3461  -0.724884  -0.718815   1.080217e-16  2.078980e-133   \n",
              "13  GO:0005783   867   0.052653  -0.088539   6.683996e-56  3.370508e-121   \n",
              "27  GO:0005789   511   0.198027   0.005975   1.521795e-45  1.523852e-100   \n",
              "\n",
              "    Rden_p-value_rank       Rden_FDR  \n",
              "6                 1.0   0.000000e+00  \n",
              "3                 2.0  1.384229e-236  \n",
              "1                 3.0  1.011285e-129  \n",
              "13                4.0  1.229646e-117  \n",
              "27                5.0   4.447515e-97  "
            ],
            "text/html": [
              "\n",
              "  <div id=\"df-5d7c7291-b6b5-4bcc-8483-3099b0795b51\">\n",
              "    <div class=\"colab-df-container\">\n",
              "      <div>\n",
              "<style scoped>\n",
              "    .dataframe tbody tr th:only-of-type {\n",
              "        vertical-align: middle;\n",
              "    }\n",
              "\n",
              "    .dataframe tbody tr th {\n",
              "        vertical-align: top;\n",
              "    }\n",
              "\n",
              "    .dataframe thead th {\n",
              "        text-align: right;\n",
              "    }\n",
              "</style>\n",
              "<table border=\"1\" class=\"dataframe\">\n",
              "  <thead>\n",
              "    <tr style=\"text-align: right;\">\n",
              "      <th></th>\n",
              "      <th>GO-term</th>\n",
              "      <th>count</th>\n",
              "      <th>CLIP_mean</th>\n",
              "      <th>Rden_mean</th>\n",
              "      <th>Clip_p-value</th>\n",
              "      <th>Rden_p-value</th>\n",
              "      <th>Rden_p-value_rank</th>\n",
              "      <th>Rden_FDR</th>\n",
              "    </tr>\n",
              "  </thead>\n",
              "  <tbody>\n",
              "    <tr>\n",
              "      <th>6</th>\n",
              "      <td>GO:0016021</td>\n",
              "      <td>1680</td>\n",
              "      <td>0.116223</td>\n",
              "      <td>0.040942</td>\n",
              "      <td>1.033685e-146</td>\n",
              "      <td>0.000000e+00</td>\n",
              "      <td>1.0</td>\n",
              "      <td>0.000000e+00</td>\n",
              "    </tr>\n",
              "    <tr>\n",
              "      <th>3</th>\n",
              "      <td>GO:0016020</td>\n",
              "      <td>2762</td>\n",
              "      <td>-0.212355</td>\n",
              "      <td>-0.230549</td>\n",
              "      <td>4.822372e-83</td>\n",
              "      <td>1.897114e-240</td>\n",
              "      <td>2.0</td>\n",
              "      <td>1.384229e-236</td>\n",
              "    </tr>\n",
              "    <tr>\n",
              "      <th>1</th>\n",
              "      <td>GO:0005634</td>\n",
              "      <td>3461</td>\n",
              "      <td>-0.724884</td>\n",
              "      <td>-0.718815</td>\n",
              "      <td>1.080217e-16</td>\n",
              "      <td>2.078980e-133</td>\n",
              "      <td>3.0</td>\n",
              "      <td>1.011285e-129</td>\n",
              "    </tr>\n",
              "    <tr>\n",
              "      <th>13</th>\n",
              "      <td>GO:0005783</td>\n",
              "      <td>867</td>\n",
              "      <td>0.052653</td>\n",
              "      <td>-0.088539</td>\n",
              "      <td>6.683996e-56</td>\n",
              "      <td>3.370508e-121</td>\n",
              "      <td>4.0</td>\n",
              "      <td>1.229646e-117</td>\n",
              "    </tr>\n",
              "    <tr>\n",
              "      <th>27</th>\n",
              "      <td>GO:0005789</td>\n",
              "      <td>511</td>\n",
              "      <td>0.198027</td>\n",
              "      <td>0.005975</td>\n",
              "      <td>1.521795e-45</td>\n",
              "      <td>1.523852e-100</td>\n",
              "      <td>5.0</td>\n",
              "      <td>4.447515e-97</td>\n",
              "    </tr>\n",
              "  </tbody>\n",
              "</table>\n",
              "</div>\n",
              "      <button class=\"colab-df-convert\" onclick=\"convertToInteractive('df-5d7c7291-b6b5-4bcc-8483-3099b0795b51')\"\n",
              "              title=\"Convert this dataframe to an interactive table.\"\n",
              "              style=\"display:none;\">\n",
              "        \n",
              "  <svg xmlns=\"http://www.w3.org/2000/svg\" height=\"24px\"viewBox=\"0 0 24 24\"\n",
              "       width=\"24px\">\n",
              "    <path d=\"M0 0h24v24H0V0z\" fill=\"none\"/>\n",
              "    <path d=\"M18.56 5.44l.94 2.06.94-2.06 2.06-.94-2.06-.94-.94-2.06-.94 2.06-2.06.94zm-11 1L8.5 8.5l.94-2.06 2.06-.94-2.06-.94L8.5 2.5l-.94 2.06-2.06.94zm10 10l.94 2.06.94-2.06 2.06-.94-2.06-.94-.94-2.06-.94 2.06-2.06.94z\"/><path d=\"M17.41 7.96l-1.37-1.37c-.4-.4-.92-.59-1.43-.59-.52 0-1.04.2-1.43.59L10.3 9.45l-7.72 7.72c-.78.78-.78 2.05 0 2.83L4 21.41c.39.39.9.59 1.41.59.51 0 1.02-.2 1.41-.59l7.78-7.78 2.81-2.81c.8-.78.8-2.07 0-2.86zM5.41 20L4 18.59l7.72-7.72 1.47 1.35L5.41 20z\"/>\n",
              "  </svg>\n",
              "      </button>\n",
              "      \n",
              "  <style>\n",
              "    .colab-df-container {\n",
              "      display:flex;\n",
              "      flex-wrap:wrap;\n",
              "      gap: 12px;\n",
              "    }\n",
              "\n",
              "    .colab-df-convert {\n",
              "      background-color: #E8F0FE;\n",
              "      border: none;\n",
              "      border-radius: 50%;\n",
              "      cursor: pointer;\n",
              "      display: none;\n",
              "      fill: #1967D2;\n",
              "      height: 32px;\n",
              "      padding: 0 0 0 0;\n",
              "      width: 32px;\n",
              "    }\n",
              "\n",
              "    .colab-df-convert:hover {\n",
              "      background-color: #E2EBFA;\n",
              "      box-shadow: 0px 1px 2px rgba(60, 64, 67, 0.3), 0px 1px 3px 1px rgba(60, 64, 67, 0.15);\n",
              "      fill: #174EA6;\n",
              "    }\n",
              "\n",
              "    [theme=dark] .colab-df-convert {\n",
              "      background-color: #3B4455;\n",
              "      fill: #D2E3FC;\n",
              "    }\n",
              "\n",
              "    [theme=dark] .colab-df-convert:hover {\n",
              "      background-color: #434B5C;\n",
              "      box-shadow: 0px 1px 3px 1px rgba(0, 0, 0, 0.15);\n",
              "      filter: drop-shadow(0px 1px 2px rgba(0, 0, 0, 0.3));\n",
              "      fill: #FFFFFF;\n",
              "    }\n",
              "  </style>\n",
              "\n",
              "      <script>\n",
              "        const buttonEl =\n",
              "          document.querySelector('#df-5d7c7291-b6b5-4bcc-8483-3099b0795b51 button.colab-df-convert');\n",
              "        buttonEl.style.display =\n",
              "          google.colab.kernel.accessAllowed ? 'block' : 'none';\n",
              "\n",
              "        async function convertToInteractive(key) {\n",
              "          const element = document.querySelector('#df-5d7c7291-b6b5-4bcc-8483-3099b0795b51');\n",
              "          const dataTable =\n",
              "            await google.colab.kernel.invokeFunction('convertToInteractive',\n",
              "                                                     [key], {});\n",
              "          if (!dataTable) return;\n",
              "\n",
              "          const docLinkHtml = 'Like what you see? Visit the ' +\n",
              "            '<a target=\"_blank\" href=https://colab.research.google.com/notebooks/data_table.ipynb>data table notebook</a>'\n",
              "            + ' to learn more about interactive tables.';\n",
              "          element.innerHTML = '';\n",
              "          dataTable['output_type'] = 'display_data';\n",
              "          await google.colab.output.renderOutput(dataTable, element);\n",
              "          const docLink = document.createElement('div');\n",
              "          docLink.innerHTML = docLinkHtml;\n",
              "          element.appendChild(docLink);\n",
              "        }\n",
              "      </script>\n",
              "    </div>\n",
              "  </div>\n",
              "  "
            ]
          },
          "metadata": {},
          "execution_count": 133
        }
      ]
    },
    {
      "cell_type": "markdown",
      "source": [
        "## enrichr (일단 사용 안함)\n"
      ],
      "metadata": {
        "id": "c4gbp3feeIFB"
      }
    },
    {
      "cell_type": "code",
      "source": [
        "# enrichr\n",
        "# GO database 가져오기\n",
        "mouselib = gp.get_library_name(organism='Mouse')\n",
        "mousegolib = [s for s in mouselib if \"GO\" in s] \n",
        "mousegolib2021 = [s for s in mousegolib if \"2021\" in s]\n",
        "mousegolib2021"
      ],
      "metadata": {
        "colab": {
          "base_uri": "https://localhost:8080/"
        },
        "id": "nxEC_0216QCn",
        "outputId": "6495bbf0-c56b-4f8e-cbfd-d811780b9ae9"
      },
      "execution_count": 38,
      "outputs": [
        {
          "output_type": "execute_result",
          "data": {
            "text/plain": [
              "['GO_Biological_Process_2021',\n",
              " 'GO_Cellular_Component_2021',\n",
              " 'GO_Molecular_Function_2021']"
            ]
          },
          "metadata": {},
          "execution_count": 38
        }
      ]
    },
    {
      "cell_type": "code",
      "source": [
        "# enrichr\n",
        "# gene_sets 리스트로 넣어주면 왜 한 종류만 나올까. 지난 번 수업 시간에 KEGG 했을때도 다시보니 한종류 geneset만 결과 나왔었더라.\n",
        "# 따로따로 testing해서 테이블 이어 붙혀도 상관 없나.\n",
        "enrcc= gp.enrichr(gene_list = upreg_genenames, gene_sets=mousegolib2021[1],organism='Mouse',description='',outdir='test/enrichr_go2021',cutoff=0.05)\n",
        "enrmf= gp.enrichr(gene_list = upreg_genenames, gene_sets=mousegolib2021[2],organism='Mouse',description='',outdir='test/enrichr_go2021',cutoff=0.05)\n",
        "enrbp= gp.enrichr(gene_list = upreg_genenames, gene_sets=mousegolib2021[0],organism='Mouse',description='',outdir='test/enrichr_go2021',cutoff=0.05)"
      ],
      "metadata": {
        "id": "6Y-B60hI6D5X"
      },
      "execution_count": 60,
      "outputs": []
    },
    {
      "cell_type": "code",
      "source": [
        "# enrichr\n",
        "enrconcat = pd.concat([enrbp.res2d,enrcc.res2d,enrmf.res2d])\n",
        "enrconcat"
      ],
      "metadata": {
        "colab": {
          "base_uri": "https://localhost:8080/",
          "height": 0
        },
        "id": "RsFEH8VNL3LW",
        "outputId": "9838a06e-776f-4704-ca2e-1f090bc50433"
      },
      "execution_count": 68,
      "outputs": [
        {
          "output_type": "execute_result",
          "data": {
            "text/plain": [
              "                        Gene_set  \\\n",
              "0     GO_Biological_Process_2021   \n",
              "1     GO_Biological_Process_2021   \n",
              "2     GO_Biological_Process_2021   \n",
              "3     GO_Biological_Process_2021   \n",
              "4     GO_Biological_Process_2021   \n",
              "...                          ...   \n",
              "1163  GO_Molecular_Function_2021   \n",
              "1164  GO_Molecular_Function_2021   \n",
              "1165  GO_Molecular_Function_2021   \n",
              "1166  GO_Molecular_Function_2021   \n",
              "1167  GO_Molecular_Function_2021   \n",
              "\n",
              "                                                   Term  Overlap  \\\n",
              "0                          mRNA processing (GO:0006397)  267/300   \n",
              "1           mRNA splicing, via spliceosome (GO:0000398)  245/274   \n",
              "2     RNA splicing, via transesterification reaction...  227/251   \n",
              "3                          rRNA processing (GO:0006364)  170/173   \n",
              "4                      ribosome biogenesis (GO:0042254)  184/192   \n",
              "...                                                 ...      ...   \n",
              "1163            chemokine receptor binding (GO:0042379)     1/50   \n",
              "1164        CCR chemokine receptor binding (GO:0048020)     1/42   \n",
              "1165          steroid hydroxylase activity (GO:0008395)     1/36   \n",
              "1166        neuropeptide receptor activity (GO:0008188)     1/30   \n",
              "1167  transmitter-gated ion channel activity (GO:002...     1/34   \n",
              "\n",
              "           P-value  Adjusted P-value  Old P-value  Old Adjusted P-value  \\\n",
              "0     2.928254e-70      1.707172e-66            0                     0   \n",
              "1     1.773668e-65      5.170242e-62            0                     0   \n",
              "2     6.157058e-63      9.679117e-60            0                     0   \n",
              "3     6.640904e-63      9.679117e-60            0                     0   \n",
              "4     6.307342e-62      7.354361e-59            0                     0   \n",
              "...            ...               ...          ...                   ...   \n",
              "1163  9.999964e-01      9.999968e-01            0                     0   \n",
              "1164  9.999966e-01      9.999968e-01            0                     0   \n",
              "1165  9.999968e-01      9.999968e-01            0                     0   \n",
              "1166  9.999968e-01      9.999968e-01            0                     0   \n",
              "1167  9.999968e-01      9.999968e-01            0                     0   \n",
              "\n",
              "      Odds Ratio  Combined Score  \\\n",
              "0      12.328116    1.973812e+03   \n",
              "1      12.840775    1.914495e+03   \n",
              "2      14.349037    2.055432e+03   \n",
              "3      85.498334    1.224076e+04   \n",
              "4      34.749271    4.896817e+03   \n",
              "...          ...             ...   \n",
              "1163    0.030031    1.084362e-07   \n",
              "1164    0.035915    1.218540e-07   \n",
              "1165    0.042093    1.352583e-07   \n",
              "1166    0.050827    1.612278e-07   \n",
              "1167    0.044651    1.410998e-07   \n",
              "\n",
              "                                                  Genes  \n",
              "0     TCERG1;RAMAC;CCNH;EIF4A3;GPATCH1;HNRNPU;HNRNPR...  \n",
              "1     EIF4A3;GPATCH1;HNRNPU;HNRNPR;WDR83;CCAR1;PNN;S...  \n",
              "2     EIF4A3;GPATCH1;HNRNPU;HNRNPR;WDR83;CCAR1;PNN;S...  \n",
              "3     RPL4;POP5;RPL5;RPL30;RPL3;RPL32;RPL31;POP4;RPL...  \n",
              "4     LTV1;RPL4;POP5;RPL5;RPL30;RPL3;RPL32;RPL31;POP...  \n",
              "...                                                 ...  \n",
              "1163                                               ITCH  \n",
              "1164                                              CNIH4  \n",
              "1165                                             CYP2S1  \n",
              "1166                                              SSTR2  \n",
              "1167                                              GRIK3  \n",
              "\n",
              "[7492 rows x 10 columns]"
            ],
            "text/html": [
              "\n",
              "  <div id=\"df-e8735c7e-71f9-4121-abe6-bfe00af41076\">\n",
              "    <div class=\"colab-df-container\">\n",
              "      <div>\n",
              "<style scoped>\n",
              "    .dataframe tbody tr th:only-of-type {\n",
              "        vertical-align: middle;\n",
              "    }\n",
              "\n",
              "    .dataframe tbody tr th {\n",
              "        vertical-align: top;\n",
              "    }\n",
              "\n",
              "    .dataframe thead th {\n",
              "        text-align: right;\n",
              "    }\n",
              "</style>\n",
              "<table border=\"1\" class=\"dataframe\">\n",
              "  <thead>\n",
              "    <tr style=\"text-align: right;\">\n",
              "      <th></th>\n",
              "      <th>Gene_set</th>\n",
              "      <th>Term</th>\n",
              "      <th>Overlap</th>\n",
              "      <th>P-value</th>\n",
              "      <th>Adjusted P-value</th>\n",
              "      <th>Old P-value</th>\n",
              "      <th>Old Adjusted P-value</th>\n",
              "      <th>Odds Ratio</th>\n",
              "      <th>Combined Score</th>\n",
              "      <th>Genes</th>\n",
              "    </tr>\n",
              "  </thead>\n",
              "  <tbody>\n",
              "    <tr>\n",
              "      <th>0</th>\n",
              "      <td>GO_Biological_Process_2021</td>\n",
              "      <td>mRNA processing (GO:0006397)</td>\n",
              "      <td>267/300</td>\n",
              "      <td>2.928254e-70</td>\n",
              "      <td>1.707172e-66</td>\n",
              "      <td>0</td>\n",
              "      <td>0</td>\n",
              "      <td>12.328116</td>\n",
              "      <td>1.973812e+03</td>\n",
              "      <td>TCERG1;RAMAC;CCNH;EIF4A3;GPATCH1;HNRNPU;HNRNPR...</td>\n",
              "    </tr>\n",
              "    <tr>\n",
              "      <th>1</th>\n",
              "      <td>GO_Biological_Process_2021</td>\n",
              "      <td>mRNA splicing, via spliceosome (GO:0000398)</td>\n",
              "      <td>245/274</td>\n",
              "      <td>1.773668e-65</td>\n",
              "      <td>5.170242e-62</td>\n",
              "      <td>0</td>\n",
              "      <td>0</td>\n",
              "      <td>12.840775</td>\n",
              "      <td>1.914495e+03</td>\n",
              "      <td>EIF4A3;GPATCH1;HNRNPU;HNRNPR;WDR83;CCAR1;PNN;S...</td>\n",
              "    </tr>\n",
              "    <tr>\n",
              "      <th>2</th>\n",
              "      <td>GO_Biological_Process_2021</td>\n",
              "      <td>RNA splicing, via transesterification reaction...</td>\n",
              "      <td>227/251</td>\n",
              "      <td>6.157058e-63</td>\n",
              "      <td>9.679117e-60</td>\n",
              "      <td>0</td>\n",
              "      <td>0</td>\n",
              "      <td>14.349037</td>\n",
              "      <td>2.055432e+03</td>\n",
              "      <td>EIF4A3;GPATCH1;HNRNPU;HNRNPR;WDR83;CCAR1;PNN;S...</td>\n",
              "    </tr>\n",
              "    <tr>\n",
              "      <th>3</th>\n",
              "      <td>GO_Biological_Process_2021</td>\n",
              "      <td>rRNA processing (GO:0006364)</td>\n",
              "      <td>170/173</td>\n",
              "      <td>6.640904e-63</td>\n",
              "      <td>9.679117e-60</td>\n",
              "      <td>0</td>\n",
              "      <td>0</td>\n",
              "      <td>85.498334</td>\n",
              "      <td>1.224076e+04</td>\n",
              "      <td>RPL4;POP5;RPL5;RPL30;RPL3;RPL32;RPL31;POP4;RPL...</td>\n",
              "    </tr>\n",
              "    <tr>\n",
              "      <th>4</th>\n",
              "      <td>GO_Biological_Process_2021</td>\n",
              "      <td>ribosome biogenesis (GO:0042254)</td>\n",
              "      <td>184/192</td>\n",
              "      <td>6.307342e-62</td>\n",
              "      <td>7.354361e-59</td>\n",
              "      <td>0</td>\n",
              "      <td>0</td>\n",
              "      <td>34.749271</td>\n",
              "      <td>4.896817e+03</td>\n",
              "      <td>LTV1;RPL4;POP5;RPL5;RPL30;RPL3;RPL32;RPL31;POP...</td>\n",
              "    </tr>\n",
              "    <tr>\n",
              "      <th>...</th>\n",
              "      <td>...</td>\n",
              "      <td>...</td>\n",
              "      <td>...</td>\n",
              "      <td>...</td>\n",
              "      <td>...</td>\n",
              "      <td>...</td>\n",
              "      <td>...</td>\n",
              "      <td>...</td>\n",
              "      <td>...</td>\n",
              "      <td>...</td>\n",
              "    </tr>\n",
              "    <tr>\n",
              "      <th>1163</th>\n",
              "      <td>GO_Molecular_Function_2021</td>\n",
              "      <td>chemokine receptor binding (GO:0042379)</td>\n",
              "      <td>1/50</td>\n",
              "      <td>9.999964e-01</td>\n",
              "      <td>9.999968e-01</td>\n",
              "      <td>0</td>\n",
              "      <td>0</td>\n",
              "      <td>0.030031</td>\n",
              "      <td>1.084362e-07</td>\n",
              "      <td>ITCH</td>\n",
              "    </tr>\n",
              "    <tr>\n",
              "      <th>1164</th>\n",
              "      <td>GO_Molecular_Function_2021</td>\n",
              "      <td>CCR chemokine receptor binding (GO:0048020)</td>\n",
              "      <td>1/42</td>\n",
              "      <td>9.999966e-01</td>\n",
              "      <td>9.999968e-01</td>\n",
              "      <td>0</td>\n",
              "      <td>0</td>\n",
              "      <td>0.035915</td>\n",
              "      <td>1.218540e-07</td>\n",
              "      <td>CNIH4</td>\n",
              "    </tr>\n",
              "    <tr>\n",
              "      <th>1165</th>\n",
              "      <td>GO_Molecular_Function_2021</td>\n",
              "      <td>steroid hydroxylase activity (GO:0008395)</td>\n",
              "      <td>1/36</td>\n",
              "      <td>9.999968e-01</td>\n",
              "      <td>9.999968e-01</td>\n",
              "      <td>0</td>\n",
              "      <td>0</td>\n",
              "      <td>0.042093</td>\n",
              "      <td>1.352583e-07</td>\n",
              "      <td>CYP2S1</td>\n",
              "    </tr>\n",
              "    <tr>\n",
              "      <th>1166</th>\n",
              "      <td>GO_Molecular_Function_2021</td>\n",
              "      <td>neuropeptide receptor activity (GO:0008188)</td>\n",
              "      <td>1/30</td>\n",
              "      <td>9.999968e-01</td>\n",
              "      <td>9.999968e-01</td>\n",
              "      <td>0</td>\n",
              "      <td>0</td>\n",
              "      <td>0.050827</td>\n",
              "      <td>1.612278e-07</td>\n",
              "      <td>SSTR2</td>\n",
              "    </tr>\n",
              "    <tr>\n",
              "      <th>1167</th>\n",
              "      <td>GO_Molecular_Function_2021</td>\n",
              "      <td>transmitter-gated ion channel activity (GO:002...</td>\n",
              "      <td>1/34</td>\n",
              "      <td>9.999968e-01</td>\n",
              "      <td>9.999968e-01</td>\n",
              "      <td>0</td>\n",
              "      <td>0</td>\n",
              "      <td>0.044651</td>\n",
              "      <td>1.410998e-07</td>\n",
              "      <td>GRIK3</td>\n",
              "    </tr>\n",
              "  </tbody>\n",
              "</table>\n",
              "<p>7492 rows × 10 columns</p>\n",
              "</div>\n",
              "      <button class=\"colab-df-convert\" onclick=\"convertToInteractive('df-e8735c7e-71f9-4121-abe6-bfe00af41076')\"\n",
              "              title=\"Convert this dataframe to an interactive table.\"\n",
              "              style=\"display:none;\">\n",
              "        \n",
              "  <svg xmlns=\"http://www.w3.org/2000/svg\" height=\"24px\"viewBox=\"0 0 24 24\"\n",
              "       width=\"24px\">\n",
              "    <path d=\"M0 0h24v24H0V0z\" fill=\"none\"/>\n",
              "    <path d=\"M18.56 5.44l.94 2.06.94-2.06 2.06-.94-2.06-.94-.94-2.06-.94 2.06-2.06.94zm-11 1L8.5 8.5l.94-2.06 2.06-.94-2.06-.94L8.5 2.5l-.94 2.06-2.06.94zm10 10l.94 2.06.94-2.06 2.06-.94-2.06-.94-.94-2.06-.94 2.06-2.06.94z\"/><path d=\"M17.41 7.96l-1.37-1.37c-.4-.4-.92-.59-1.43-.59-.52 0-1.04.2-1.43.59L10.3 9.45l-7.72 7.72c-.78.78-.78 2.05 0 2.83L4 21.41c.39.39.9.59 1.41.59.51 0 1.02-.2 1.41-.59l7.78-7.78 2.81-2.81c.8-.78.8-2.07 0-2.86zM5.41 20L4 18.59l7.72-7.72 1.47 1.35L5.41 20z\"/>\n",
              "  </svg>\n",
              "      </button>\n",
              "      \n",
              "  <style>\n",
              "    .colab-df-container {\n",
              "      display:flex;\n",
              "      flex-wrap:wrap;\n",
              "      gap: 12px;\n",
              "    }\n",
              "\n",
              "    .colab-df-convert {\n",
              "      background-color: #E8F0FE;\n",
              "      border: none;\n",
              "      border-radius: 50%;\n",
              "      cursor: pointer;\n",
              "      display: none;\n",
              "      fill: #1967D2;\n",
              "      height: 32px;\n",
              "      padding: 0 0 0 0;\n",
              "      width: 32px;\n",
              "    }\n",
              "\n",
              "    .colab-df-convert:hover {\n",
              "      background-color: #E2EBFA;\n",
              "      box-shadow: 0px 1px 2px rgba(60, 64, 67, 0.3), 0px 1px 3px 1px rgba(60, 64, 67, 0.15);\n",
              "      fill: #174EA6;\n",
              "    }\n",
              "\n",
              "    [theme=dark] .colab-df-convert {\n",
              "      background-color: #3B4455;\n",
              "      fill: #D2E3FC;\n",
              "    }\n",
              "\n",
              "    [theme=dark] .colab-df-convert:hover {\n",
              "      background-color: #434B5C;\n",
              "      box-shadow: 0px 1px 3px 1px rgba(0, 0, 0, 0.15);\n",
              "      filter: drop-shadow(0px 1px 2px rgba(0, 0, 0, 0.3));\n",
              "      fill: #FFFFFF;\n",
              "    }\n",
              "  </style>\n",
              "\n",
              "      <script>\n",
              "        const buttonEl =\n",
              "          document.querySelector('#df-e8735c7e-71f9-4121-abe6-bfe00af41076 button.colab-df-convert');\n",
              "        buttonEl.style.display =\n",
              "          google.colab.kernel.accessAllowed ? 'block' : 'none';\n",
              "\n",
              "        async function convertToInteractive(key) {\n",
              "          const element = document.querySelector('#df-e8735c7e-71f9-4121-abe6-bfe00af41076');\n",
              "          const dataTable =\n",
              "            await google.colab.kernel.invokeFunction('convertToInteractive',\n",
              "                                                     [key], {});\n",
              "          if (!dataTable) return;\n",
              "\n",
              "          const docLinkHtml = 'Like what you see? Visit the ' +\n",
              "            '<a target=\"_blank\" href=https://colab.research.google.com/notebooks/data_table.ipynb>data table notebook</a>'\n",
              "            + ' to learn more about interactive tables.';\n",
              "          element.innerHTML = '';\n",
              "          dataTable['output_type'] = 'display_data';\n",
              "          await google.colab.output.renderOutput(dataTable, element);\n",
              "          const docLink = document.createElement('div');\n",
              "          docLink.innerHTML = docLinkHtml;\n",
              "          element.appendChild(docLink);\n",
              "        }\n",
              "      </script>\n",
              "    </div>\n",
              "  </div>\n",
              "  "
            ]
          },
          "metadata": {},
          "execution_count": 68
        }
      ]
    },
    {
      "cell_type": "markdown",
      "source": [
        "## visualize\n",
        "- 그래프 위 각 balloon에 쓰인 C, R 숫자는 \n",
        "pvalue값이라서 범위가 옆의 colorbar 수치를 넘어가는 것으로 보임.\n",
        " color바 및 bubble color 자체는 adjusted, FDR 값임.\n",
        "- bubble size는 overlap ratio 아닌 count로.\n",
        "- GO term 내 transcript들의 FDR이 0.05 미만인 것으로 cutoff 정한 후,\n",
        "- 하위 subset terms were omitted.\n",
        "\n"
      ],
      "metadata": {
        "id": "6Ox-JvmlPjed"
      }
    },
    {
      "cell_type": "code",
      "source": [
        ""
      ],
      "metadata": {
        "id": "VFKoWNPwAw7x"
      },
      "execution_count": null,
      "outputs": []
    },
    {
      "cell_type": "code",
      "source": [
        "# visulaize\n",
        "\n",
        "# 우선 최대한 파이썬의 scatter(bubble plot) 등으로 표현해보기\n",
        "# 각 bubble 주변에 label(말풍선 및 화살표) 적절히 놓을 수 있는 방법? \n",
        "# plt fig ax, subplot 사용?\n",
        "from matplotlib import pyplot as plt\n",
        "plt.figure(figsize=(14,5))\n",
        "plt.xlabel('Enrichment level ofLIN28A-bound CLIP tags ($\\log_2$)')\n",
        "plt.ylabel('Ribosome density change upon Lin28a knockdown ($\\log_2$)')\n",
        "plt.xlim(-2,5)\n",
        "plt.ylim(-1,1.5)\n",
        "plt.xticks(np.arange(-2, 5.01, step=0.5))\n",
        "plt.yticks(np.arange(-1, 1.51, step=0.5))\n",
        "plt.grid(True, linestyle='--')\n",
        "plt.scatter(stat_result_fdr['CLIP_mean'],stat_result_fdr['Rden_mean'],s=stat_result_fdr['count'].tolist(),c=stat_result_fdr['Rden_FDR'].tolist(),cmap='YlOrRd_r')\n",
        "plt.colorbar()\n",
        "b.ax.set_ylabel('Term-specific enrichment confidence (false discovery rate)', rotation=90, labelpad = -60)\n",
        "b.ax.set_yticklabels([10**-20,10**-18,10**-16,10**-14,10**-12,10**-10,10**-8,10**-6,10**-4,10**-2,10**-0])\n",
        "None"
      ],
      "metadata": {
        "colab": {
          "base_uri": "https://localhost:8080/",
          "height": 308
        },
        "id": "xjo8WuRgv6-F",
        "outputId": "5a6fd4a0-f920-421b-c132-95e89aeb7828"
      },
      "execution_count": 177,
      "outputs": [
        {
          "output_type": "display_data",
          "data": {
            "text/plain": [
              "<Figure size 1008x360 with 2 Axes>"
            ],
            "image/png": "[encoded data removed]"
          },
          "metadata": {
            "needs_background": "light"
          }
        }
      ]
    },
    {
      "cell_type": "code",
      "source": [
        ""
      ],
      "metadata": {
        "id": "FEblo7pcAPPr"
      },
      "execution_count": null,
      "outputs": []
    }
  ]
}